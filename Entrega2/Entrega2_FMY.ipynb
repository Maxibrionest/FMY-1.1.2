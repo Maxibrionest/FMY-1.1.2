{
  "nbformat": 4,
  "nbformat_minor": 0,
  "metadata": {
    "colab": {
      "name": "Entrega1_FMY.ipynb",
      "provenance": [],
      "collapsed_sections": [
        "3_Tlv5x_k9iF"
      ],
      "include_colab_link": true
    },
    "kernelspec": {
      "name": "python3",
      "display_name": "Python 3"
    },
    "language_info": {
      "name": "python"
    }
  },
  "cells": [
    {
      "cell_type": "markdown",
      "metadata": {
        "id": "view-in-github",
        "colab_type": "text"
      },
      "source": [
        "<a href=\"https://colab.research.google.com/github/Maxibrionest/FMY-Fundamentos-Machine-Learning/blob/main/Entrega2/Entrega2_FMY.ipynb\" target=\"_parent\"><img src=\"https://colab.research.google.com/assets/colab-badge.svg\" alt=\"Open In Colab\"/></a>"
      ]
    },
    {
      "cell_type": "markdown",
      "metadata": {
        "id": "_AvHO8BIvhSh"
      },
      "source": [
        "FMY-001V\n",
        "\n",
        "# Entrega 1"
      ]
    },
    {
      "cell_type": "markdown",
      "metadata": {
        "id": "nz7pDKeovzDM"
      },
      "source": [
        "## Parte 1"
      ]
    },
    {
      "cell_type": "code",
      "metadata": {
        "id": "YnXoooy9seat"
      },
      "source": [
        "import pandas as pd\n",
        "import numpy as np \n",
        "import matplotlib.pyplot as plt"
      ],
      "execution_count": 124,
      "outputs": []
    },
    {
      "cell_type": "code",
      "metadata": {
        "id": "tSMI3v_1sZFT"
      },
      "source": [
        "url = 'https://raw.githubusercontent.com/Maxibrionest/FMY-Fundamentos-Machine-Learning/main/Entrega1/boston_housing.csv'\n",
        "df = pd.read_csv(url, sep=\",\")"
      ],
      "execution_count": 125,
      "outputs": []
    },
    {
      "cell_type": "code",
      "metadata": {
        "colab": {
          "base_uri": "https://localhost:8080/",
          "height": 197
        },
        "id": "cUZiKMkIuE4i",
        "outputId": "71276403-3c42-4411-96cb-cdf49b12bd36"
      },
      "source": [
        "df.head(5)"
      ],
      "execution_count": 3,
      "outputs": [
        {
          "output_type": "execute_result",
          "data": {
            "text/html": [
              "<div>\n",
              "<style scoped>\n",
              "    .dataframe tbody tr th:only-of-type {\n",
              "        vertical-align: middle;\n",
              "    }\n",
              "\n",
              "    .dataframe tbody tr th {\n",
              "        vertical-align: top;\n",
              "    }\n",
              "\n",
              "    .dataframe thead th {\n",
              "        text-align: right;\n",
              "    }\n",
              "</style>\n",
              "<table border=\"1\" class=\"dataframe\">\n",
              "  <thead>\n",
              "    <tr style=\"text-align: right;\">\n",
              "      <th></th>\n",
              "      <th>crim</th>\n",
              "      <th>zn</th>\n",
              "      <th>indus</th>\n",
              "      <th>chas</th>\n",
              "      <th>nox</th>\n",
              "      <th>rm</th>\n",
              "      <th>age</th>\n",
              "      <th>dis</th>\n",
              "      <th>rad</th>\n",
              "      <th>tax</th>\n",
              "      <th>ptratio</th>\n",
              "      <th>black</th>\n",
              "      <th>lstat</th>\n",
              "      <th>medv</th>\n",
              "    </tr>\n",
              "  </thead>\n",
              "  <tbody>\n",
              "    <tr>\n",
              "      <th>0</th>\n",
              "      <td>0.00632</td>\n",
              "      <td>18.0</td>\n",
              "      <td>2.31</td>\n",
              "      <td>0</td>\n",
              "      <td>0.538</td>\n",
              "      <td>6.575</td>\n",
              "      <td>65.2</td>\n",
              "      <td>4.0900</td>\n",
              "      <td>1</td>\n",
              "      <td>296.0</td>\n",
              "      <td>15.3</td>\n",
              "      <td>396.90</td>\n",
              "      <td>4.98</td>\n",
              "      <td>24.0</td>\n",
              "    </tr>\n",
              "    <tr>\n",
              "      <th>1</th>\n",
              "      <td>0.02731</td>\n",
              "      <td>0.0</td>\n",
              "      <td>7.07</td>\n",
              "      <td>0</td>\n",
              "      <td>0.469</td>\n",
              "      <td>6.421</td>\n",
              "      <td>78.9</td>\n",
              "      <td>4.9671</td>\n",
              "      <td>2</td>\n",
              "      <td>242.0</td>\n",
              "      <td>17.8</td>\n",
              "      <td>396.90</td>\n",
              "      <td>9.14</td>\n",
              "      <td>21.6</td>\n",
              "    </tr>\n",
              "    <tr>\n",
              "      <th>2</th>\n",
              "      <td>0.02729</td>\n",
              "      <td>0.0</td>\n",
              "      <td>7.07</td>\n",
              "      <td>0</td>\n",
              "      <td>0.469</td>\n",
              "      <td>7.185</td>\n",
              "      <td>61.1</td>\n",
              "      <td>4.9671</td>\n",
              "      <td>2</td>\n",
              "      <td>242.0</td>\n",
              "      <td>17.8</td>\n",
              "      <td>392.83</td>\n",
              "      <td>4.03</td>\n",
              "      <td>34.7</td>\n",
              "    </tr>\n",
              "    <tr>\n",
              "      <th>3</th>\n",
              "      <td>0.03237</td>\n",
              "      <td>0.0</td>\n",
              "      <td>2.18</td>\n",
              "      <td>0</td>\n",
              "      <td>0.458</td>\n",
              "      <td>6.998</td>\n",
              "      <td>45.8</td>\n",
              "      <td>6.0622</td>\n",
              "      <td>3</td>\n",
              "      <td>222.0</td>\n",
              "      <td>18.7</td>\n",
              "      <td>394.63</td>\n",
              "      <td>2.94</td>\n",
              "      <td>33.4</td>\n",
              "    </tr>\n",
              "    <tr>\n",
              "      <th>4</th>\n",
              "      <td>0.06905</td>\n",
              "      <td>0.0</td>\n",
              "      <td>2.18</td>\n",
              "      <td>0</td>\n",
              "      <td>0.458</td>\n",
              "      <td>7.147</td>\n",
              "      <td>54.2</td>\n",
              "      <td>6.0622</td>\n",
              "      <td>3</td>\n",
              "      <td>222.0</td>\n",
              "      <td>18.7</td>\n",
              "      <td>396.90</td>\n",
              "      <td>5.33</td>\n",
              "      <td>36.2</td>\n",
              "    </tr>\n",
              "  </tbody>\n",
              "</table>\n",
              "</div>"
            ],
            "text/plain": [
              "      crim    zn  indus  chas    nox  ...    tax  ptratio   black  lstat  medv\n",
              "0  0.00632  18.0   2.31     0  0.538  ...  296.0     15.3  396.90   4.98  24.0\n",
              "1  0.02731   0.0   7.07     0  0.469  ...  242.0     17.8  396.90   9.14  21.6\n",
              "2  0.02729   0.0   7.07     0  0.469  ...  242.0     17.8  392.83   4.03  34.7\n",
              "3  0.03237   0.0   2.18     0  0.458  ...  222.0     18.7  394.63   2.94  33.4\n",
              "4  0.06905   0.0   2.18     0  0.458  ...  222.0     18.7  396.90   5.33  36.2\n",
              "\n",
              "[5 rows x 14 columns]"
            ]
          },
          "metadata": {
            "tags": []
          },
          "execution_count": 3
        }
      ]
    },
    {
      "cell_type": "code",
      "metadata": {
        "colab": {
          "base_uri": "https://localhost:8080/",
          "height": 257
        },
        "id": "I4Pxvam2DdqY",
        "outputId": "3dded843-9419-48dc-ddc1-37bc83f89bf9"
      },
      "source": [
        "df.sample(7)"
      ],
      "execution_count": 4,
      "outputs": [
        {
          "output_type": "execute_result",
          "data": {
            "text/html": [
              "<div>\n",
              "<style scoped>\n",
              "    .dataframe tbody tr th:only-of-type {\n",
              "        vertical-align: middle;\n",
              "    }\n",
              "\n",
              "    .dataframe tbody tr th {\n",
              "        vertical-align: top;\n",
              "    }\n",
              "\n",
              "    .dataframe thead th {\n",
              "        text-align: right;\n",
              "    }\n",
              "</style>\n",
              "<table border=\"1\" class=\"dataframe\">\n",
              "  <thead>\n",
              "    <tr style=\"text-align: right;\">\n",
              "      <th></th>\n",
              "      <th>crim</th>\n",
              "      <th>zn</th>\n",
              "      <th>indus</th>\n",
              "      <th>chas</th>\n",
              "      <th>nox</th>\n",
              "      <th>rm</th>\n",
              "      <th>age</th>\n",
              "      <th>dis</th>\n",
              "      <th>rad</th>\n",
              "      <th>tax</th>\n",
              "      <th>ptratio</th>\n",
              "      <th>black</th>\n",
              "      <th>lstat</th>\n",
              "      <th>medv</th>\n",
              "    </tr>\n",
              "  </thead>\n",
              "  <tbody>\n",
              "    <tr>\n",
              "      <th>219</th>\n",
              "      <td>0.11425</td>\n",
              "      <td>0.0</td>\n",
              "      <td>13.89</td>\n",
              "      <td>1</td>\n",
              "      <td>0.5500</td>\n",
              "      <td>6.373</td>\n",
              "      <td>92.4</td>\n",
              "      <td>3.3633</td>\n",
              "      <td>5</td>\n",
              "      <td>276.0</td>\n",
              "      <td>16.4</td>\n",
              "      <td>393.74</td>\n",
              "      <td>10.50</td>\n",
              "      <td>23.0</td>\n",
              "    </tr>\n",
              "    <tr>\n",
              "      <th>149</th>\n",
              "      <td>2.73397</td>\n",
              "      <td>0.0</td>\n",
              "      <td>19.58</td>\n",
              "      <td>0</td>\n",
              "      <td>0.8710</td>\n",
              "      <td>5.597</td>\n",
              "      <td>94.9</td>\n",
              "      <td>1.5257</td>\n",
              "      <td>5</td>\n",
              "      <td>403.0</td>\n",
              "      <td>14.7</td>\n",
              "      <td>351.85</td>\n",
              "      <td>21.45</td>\n",
              "      <td>15.4</td>\n",
              "    </tr>\n",
              "    <tr>\n",
              "      <th>453</th>\n",
              "      <td>8.24809</td>\n",
              "      <td>0.0</td>\n",
              "      <td>18.10</td>\n",
              "      <td>0</td>\n",
              "      <td>0.7130</td>\n",
              "      <td>7.393</td>\n",
              "      <td>99.3</td>\n",
              "      <td>2.4527</td>\n",
              "      <td>24</td>\n",
              "      <td>666.0</td>\n",
              "      <td>20.2</td>\n",
              "      <td>375.87</td>\n",
              "      <td>16.74</td>\n",
              "      <td>17.8</td>\n",
              "    </tr>\n",
              "    <tr>\n",
              "      <th>405</th>\n",
              "      <td>67.92080</td>\n",
              "      <td>0.0</td>\n",
              "      <td>18.10</td>\n",
              "      <td>0</td>\n",
              "      <td>0.6930</td>\n",
              "      <td>5.683</td>\n",
              "      <td>100.0</td>\n",
              "      <td>1.4254</td>\n",
              "      <td>24</td>\n",
              "      <td>666.0</td>\n",
              "      <td>20.2</td>\n",
              "      <td>384.97</td>\n",
              "      <td>22.98</td>\n",
              "      <td>5.0</td>\n",
              "    </tr>\n",
              "    <tr>\n",
              "      <th>143</th>\n",
              "      <td>4.09740</td>\n",
              "      <td>0.0</td>\n",
              "      <td>19.58</td>\n",
              "      <td>0</td>\n",
              "      <td>0.8710</td>\n",
              "      <td>5.468</td>\n",
              "      <td>100.0</td>\n",
              "      <td>1.4118</td>\n",
              "      <td>5</td>\n",
              "      <td>403.0</td>\n",
              "      <td>14.7</td>\n",
              "      <td>396.90</td>\n",
              "      <td>26.42</td>\n",
              "      <td>15.6</td>\n",
              "    </tr>\n",
              "    <tr>\n",
              "      <th>64</th>\n",
              "      <td>0.01951</td>\n",
              "      <td>17.5</td>\n",
              "      <td>1.38</td>\n",
              "      <td>0</td>\n",
              "      <td>0.4161</td>\n",
              "      <td>7.104</td>\n",
              "      <td>59.5</td>\n",
              "      <td>9.2229</td>\n",
              "      <td>3</td>\n",
              "      <td>216.0</td>\n",
              "      <td>18.6</td>\n",
              "      <td>393.24</td>\n",
              "      <td>8.05</td>\n",
              "      <td>33.0</td>\n",
              "    </tr>\n",
              "    <tr>\n",
              "      <th>469</th>\n",
              "      <td>13.07510</td>\n",
              "      <td>0.0</td>\n",
              "      <td>18.10</td>\n",
              "      <td>0</td>\n",
              "      <td>0.5800</td>\n",
              "      <td>5.713</td>\n",
              "      <td>56.7</td>\n",
              "      <td>2.8237</td>\n",
              "      <td>24</td>\n",
              "      <td>666.0</td>\n",
              "      <td>20.2</td>\n",
              "      <td>396.90</td>\n",
              "      <td>14.76</td>\n",
              "      <td>20.1</td>\n",
              "    </tr>\n",
              "  </tbody>\n",
              "</table>\n",
              "</div>"
            ],
            "text/plain": [
              "         crim    zn  indus  chas     nox  ...    tax  ptratio   black  lstat  medv\n",
              "219   0.11425   0.0  13.89     1  0.5500  ...  276.0     16.4  393.74  10.50  23.0\n",
              "149   2.73397   0.0  19.58     0  0.8710  ...  403.0     14.7  351.85  21.45  15.4\n",
              "453   8.24809   0.0  18.10     0  0.7130  ...  666.0     20.2  375.87  16.74  17.8\n",
              "405  67.92080   0.0  18.10     0  0.6930  ...  666.0     20.2  384.97  22.98   5.0\n",
              "143   4.09740   0.0  19.58     0  0.8710  ...  403.0     14.7  396.90  26.42  15.6\n",
              "64    0.01951  17.5   1.38     0  0.4161  ...  216.0     18.6  393.24   8.05  33.0\n",
              "469  13.07510   0.0  18.10     0  0.5800  ...  666.0     20.2  396.90  14.76  20.1\n",
              "\n",
              "[7 rows x 14 columns]"
            ]
          },
          "metadata": {
            "tags": []
          },
          "execution_count": 4
        }
      ]
    },
    {
      "cell_type": "code",
      "metadata": {
        "colab": {
          "base_uri": "https://localhost:8080/"
        },
        "id": "KC8ctW7KOfs8",
        "outputId": "7b13efea-ab32-4987-9f6c-5e252b431ed9"
      },
      "source": [
        "#Se describen las columnas con su tipo de dato y señalando que no son nulos. Ademas se puede señalar que son 506 registros.\n",
        "df.info()"
      ],
      "execution_count": 5,
      "outputs": [
        {
          "output_type": "stream",
          "text": [
            "<class 'pandas.core.frame.DataFrame'>\n",
            "RangeIndex: 506 entries, 0 to 505\n",
            "Data columns (total 14 columns):\n",
            " #   Column   Non-Null Count  Dtype  \n",
            "---  ------   --------------  -----  \n",
            " 0   crim     506 non-null    float64\n",
            " 1   zn       506 non-null    float64\n",
            " 2   indus    506 non-null    float64\n",
            " 3   chas     506 non-null    int64  \n",
            " 4   nox      506 non-null    float64\n",
            " 5   rm       506 non-null    float64\n",
            " 6   age      506 non-null    float64\n",
            " 7   dis      506 non-null    float64\n",
            " 8   rad      506 non-null    int64  \n",
            " 9   tax      506 non-null    float64\n",
            " 10  ptratio  506 non-null    float64\n",
            " 11  black    506 non-null    float64\n",
            " 12  lstat    506 non-null    float64\n",
            " 13  medv     506 non-null    float64\n",
            "dtypes: float64(12), int64(2)\n",
            "memory usage: 55.5 KB\n"
          ],
          "name": "stdout"
        }
      ]
    },
    {
      "cell_type": "markdown",
      "metadata": {
        "id": "iWejVGxmY2co"
      },
      "source": [
        "En base a la siguiente información del comando info, podemos deducir que no hay \"Missing Values\""
      ]
    },
    {
      "cell_type": "code",
      "metadata": {
        "colab": {
          "base_uri": "https://localhost:8080/"
        },
        "id": "79WZy-6ePxPm",
        "outputId": "b6feffac-ab9e-4f1f-e717-6b5940daa49a"
      },
      "source": [
        "#El siguiente metodo devuelve una serie que contiene recuentos de filas unicas en el Data frame.\n",
        "df.value_counts()"
      ],
      "execution_count": 6,
      "outputs": [
        {
          "output_type": "execute_result",
          "data": {
            "text/plain": [
              "crim      zn    indus  chas  nox    rm     age    dis      rad  tax    ptratio  black   lstat  medv\n",
              "88.97620  0.0   18.10  0     0.671  6.968  91.9   1.4165   24   666.0  20.2     396.90  17.21  10.4    1\n",
              "0.12083   0.0   2.89   0     0.445  8.069  76.0   3.4952   2    276.0  18.0     396.90  4.21   38.7    1\n",
              "0.10612   30.0  4.93   0     0.428  6.095  65.1   6.3361   6    300.0  16.6     394.62  12.40  20.1    1\n",
              "0.10659   80.0  1.91   0     0.413  5.936  19.5   10.5857  4    334.0  22.0     376.04  5.57   20.6    1\n",
              "0.10793   0.0   8.56   0     0.520  6.195  54.4   2.7778   5    384.0  20.9     393.49  13.00  21.7    1\n",
              "                                                                                                      ..\n",
              "1.25179   0.0   8.14   0     0.538  5.570  98.1   3.7979   4    307.0  21.0     376.57  21.02  13.6    1\n",
              "1.27346   0.0   19.58  1     0.605  6.250  92.6   1.7984   5    403.0  14.7     338.92  5.50   27.0    1\n",
              "1.34284   0.0   19.58  0     0.605  6.066  100.0  1.7573   5    403.0  14.7     353.89  6.43   24.3    1\n",
              "1.35472   0.0   8.14   0     0.538  6.072  100.0  4.1750   4    307.0  21.0     376.73  13.04  14.5    1\n",
              "0.00632   18.0  2.31   0     0.538  6.575  65.2   4.0900   1    296.0  15.3     396.90  4.98   24.0    1\n",
              "Length: 506, dtype: int64"
            ]
          },
          "metadata": {
            "tags": []
          },
          "execution_count": 6
        }
      ]
    },
    {
      "cell_type": "code",
      "metadata": {
        "colab": {
          "base_uri": "https://localhost:8080/"
        },
        "id": "0ubUSp6syv-X",
        "outputId": "f85cdb42-2261-488b-e3ec-609553fdcf25"
      },
      "source": [
        "df[\"crim\"].describe()"
      ],
      "execution_count": 7,
      "outputs": [
        {
          "output_type": "execute_result",
          "data": {
            "text/plain": [
              "count    506.000000\n",
              "mean       3.613524\n",
              "std        8.601545\n",
              "min        0.006320\n",
              "25%        0.082045\n",
              "50%        0.256510\n",
              "75%        3.677083\n",
              "max       88.976200\n",
              "Name: crim, dtype: float64"
            ]
          },
          "metadata": {
            "tags": []
          },
          "execution_count": 7
        }
      ]
    },
    {
      "cell_type": "code",
      "metadata": {
        "colab": {
          "base_uri": "https://localhost:8080/",
          "height": 281
        },
        "id": "HDKdT6yjTpcU",
        "outputId": "a7963801-d8cf-45ce-8da5-5713169d716c"
      },
      "source": [
        "df[\"crim\"].plot.hist()"
      ],
      "execution_count": 8,
      "outputs": [
        {
          "output_type": "execute_result",
          "data": {
            "text/plain": [
              "<matplotlib.axes._subplots.AxesSubplot at 0x7fadaeb87f10>"
            ]
          },
          "metadata": {
            "tags": []
          },
          "execution_count": 8
        },
        {
          "output_type": "display_data",
          "data": {
            "image/png": "[encoded data removed]",
            "text/plain": [
              "<Figure size 432x288 with 1 Axes>"
            ]
          },
          "metadata": {
            "tags": [],
            "needs_background": "light"
          }
        }
      ]
    },
    {
      "cell_type": "markdown",
      "metadata": {
        "id": "QitGND9jUHk0"
      },
      "source": [
        "La característica \"crim\" corresponde al porcentaje de criminalidad per cápita por ciudad. \n",
        "\n",
        "Su valor mínimo es 0.006320\n",
        "\n",
        "Su valor máximo es 88.976200\n",
        "\n",
        "Su promedio es 3.613524\n",
        "\n",
        "Su desviación estandar es 8.601545\n",
        "\n",
        "Entre 0 y 50 se encuentra la mayor cantidad de valores.\n",
        "\n"
      ]
    },
    {
      "cell_type": "code",
      "metadata": {
        "colab": {
          "base_uri": "https://localhost:8080/",
          "height": 281
        },
        "id": "Li2iUWmZHqqM",
        "outputId": "693994ea-d159-4dc7-e323-98018d591a14"
      },
      "source": [
        "plt.scatter(df[\"black\"], df[\"crim\"])"
      ],
      "execution_count": 9,
      "outputs": [
        {
          "output_type": "execute_result",
          "data": {
            "text/plain": [
              "<matplotlib.collections.PathCollection at 0x7fadaea7c610>"
            ]
          },
          "metadata": {
            "tags": []
          },
          "execution_count": 9
        },
        {
          "output_type": "display_data",
          "data": {
            "image/png": "[encoded data removed]",
            "text/plain": [
              "<Figure size 432x288 with 1 Axes>"
            ]
          },
          "metadata": {
            "tags": [],
            "needs_background": "light"
          }
        }
      ]
    },
    {
      "cell_type": "markdown",
      "metadata": {
        "id": "eRXJjHBcUDwl"
      },
      "source": [
        ""
      ]
    },
    {
      "cell_type": "code",
      "metadata": {
        "id": "IaoA3OSzz3on",
        "colab": {
          "base_uri": "https://localhost:8080/"
        },
        "outputId": "8c4e48d4-9dbe-463b-de0a-750e8be174c4"
      },
      "source": [
        "df[\"zn\"].describe()\n"
      ],
      "execution_count": 10,
      "outputs": [
        {
          "output_type": "execute_result",
          "data": {
            "text/plain": [
              "count    506.000000\n",
              "mean      11.363636\n",
              "std       23.322453\n",
              "min        0.000000\n",
              "25%        0.000000\n",
              "50%        0.000000\n",
              "75%       12.500000\n",
              "max      100.000000\n",
              "Name: zn, dtype: float64"
            ]
          },
          "metadata": {
            "tags": []
          },
          "execution_count": 10
        }
      ]
    },
    {
      "cell_type": "code",
      "metadata": {
        "colab": {
          "base_uri": "https://localhost:8080/",
          "height": 281
        },
        "id": "tLUTVhRuWmvE",
        "outputId": "e14846a7-c95d-43d4-cb42-436e5c57f2e7"
      },
      "source": [
        "df[\"zn\"].plot.hist()"
      ],
      "execution_count": 11,
      "outputs": [
        {
          "output_type": "execute_result",
          "data": {
            "text/plain": [
              "<matplotlib.axes._subplots.AxesSubplot at 0x7fadae5abb90>"
            ]
          },
          "metadata": {
            "tags": []
          },
          "execution_count": 11
        },
        {
          "output_type": "display_data",
          "data": {
            "image/png": "[encoded data removed]",
            "text/plain": [
              "<Figure size 432x288 with 1 Axes>"
            ]
          },
          "metadata": {
            "tags": [],
            "needs_background": "light"
          }
        }
      ]
    },
    {
      "cell_type": "markdown",
      "metadata": {
        "id": "_PRoNMLGXCOp"
      },
      "source": [
        "La característica \"zn\" corresponde a la proporción de zonas residenciales para lotes sobre los 25,000 sq.ft.\n",
        "\n",
        "Su valor mínimo es 0.000000\n",
        "\n",
        "Su valor máximo es 100.000000\n",
        "\n",
        "Su promedio es 11.363636\n",
        "\n",
        "Su desviación estandar es 23.322453\n",
        "\n",
        "Según el histograma podemos deducir que entre 0 y 10 se encuentra la moda, la cual presenta una alta frecuencia, con una diferencia muy marcada en relación a los otros rangos. El resto de valores se divide relativamente uniforme. \n"
      ]
    },
    {
      "cell_type": "code",
      "metadata": {
        "colab": {
          "base_uri": "https://localhost:8080/"
        },
        "id": "nXbOQyYp1ka1",
        "outputId": "6f7357c6-1fdf-4fd1-c992-66cacee26667"
      },
      "source": [
        "df[\"indus\"].describe()"
      ],
      "execution_count": 12,
      "outputs": [
        {
          "output_type": "execute_result",
          "data": {
            "text/plain": [
              "count    506.000000\n",
              "mean      11.136779\n",
              "std        6.860353\n",
              "min        0.460000\n",
              "25%        5.190000\n",
              "50%        9.690000\n",
              "75%       18.100000\n",
              "max       27.740000\n",
              "Name: indus, dtype: float64"
            ]
          },
          "metadata": {
            "tags": []
          },
          "execution_count": 12
        }
      ]
    },
    {
      "cell_type": "code",
      "metadata": {
        "colab": {
          "base_uri": "https://localhost:8080/",
          "height": 281
        },
        "id": "VCVD9mv1YLoz",
        "outputId": "3edffdd2-38ef-4780-e834-d6c8f67bec03"
      },
      "source": [
        "df[\"indus\"].plot.hist(bins=15)"
      ],
      "execution_count": 13,
      "outputs": [
        {
          "output_type": "execute_result",
          "data": {
            "text/plain": [
              "<matplotlib.axes._subplots.AxesSubplot at 0x7fadae545890>"
            ]
          },
          "metadata": {
            "tags": []
          },
          "execution_count": 13
        },
        {
          "output_type": "display_data",
          "data": {
            "image/png": "[encoded data removed]",
            "text/plain": [
              "<Figure size 432x288 with 1 Axes>"
            ]
          },
          "metadata": {
            "tags": [],
            "needs_background": "light"
          }
        }
      ]
    },
    {
      "cell_type": "markdown",
      "metadata": {
        "id": "ZhOY5tllZl6C"
      },
      "source": [
        "La característica \"indus\" corresponde a la proporción de acres de negocios que no sean de retail por ciudad.\n",
        "\n",
        "Su valor mínimo es 0.460000\n",
        "\n",
        "Su valor máximo es 27.740000\n",
        "\n",
        "Su promedio es 11.136779\n",
        "\n",
        "Desviación estandar 6.860353\n",
        "\n",
        "Entre el rango de 0 a 14 podemos ver una relativa uniformidad.\n",
        "\n",
        "Por otro lado cercano al valor 17 hay un notable crecimiento en la frecuencia. \n",
        "\n",
        "\n",
        "\n",
        "\n",
        "\n",
        "\n"
      ]
    },
    {
      "cell_type": "code",
      "metadata": {
        "colab": {
          "base_uri": "https://localhost:8080/"
        },
        "id": "VIDaGBBc1tca",
        "outputId": "5b51740c-879b-46a9-fc60-3d9ecf8861c9"
      },
      "source": [
        "df[\"chas\"].describe()\n"
      ],
      "execution_count": 14,
      "outputs": [
        {
          "output_type": "execute_result",
          "data": {
            "text/plain": [
              "count    506.000000\n",
              "mean       0.069170\n",
              "std        0.253994\n",
              "min        0.000000\n",
              "25%        0.000000\n",
              "50%        0.000000\n",
              "75%        0.000000\n",
              "max        1.000000\n",
              "Name: chas, dtype: float64"
            ]
          },
          "metadata": {
            "tags": []
          },
          "execution_count": 14
        }
      ]
    },
    {
      "cell_type": "markdown",
      "metadata": {
        "id": "mxPGJeh1ftkM"
      },
      "source": [
        "La característica \"chas\" equivale a la variable auxiliar sobre, si se encuentra cercano el rio.\n",
        "\n",
        "Su valor mínimo es 0.000000\n",
        "\n",
        "Su valor máximo es 1.000000\n",
        "\n",
        "Su promedio es 0.069170\n",
        "\n",
        "Desviación estandar 0.253994\n",
        "\n",
        "Esta característica solo varía entre 0 y 1 sin poder tomar otros valores.\n",
        "El 1 equivale a Si y el 0 a No.  "
      ]
    },
    {
      "cell_type": "code",
      "metadata": {
        "colab": {
          "base_uri": "https://localhost:8080/"
        },
        "id": "SRSS-4PQBW2w",
        "outputId": "05f56ada-0fdf-4024-bb94-c78ff940e297"
      },
      "source": [
        "df.groupby(\"chas\").size()"
      ],
      "execution_count": 15,
      "outputs": [
        {
          "output_type": "execute_result",
          "data": {
            "text/plain": [
              "chas\n",
              "0    471\n",
              "1     35\n",
              "dtype: int64"
            ]
          },
          "metadata": {
            "tags": []
          },
          "execution_count": 15
        }
      ]
    },
    {
      "cell_type": "code",
      "metadata": {
        "colab": {
          "base_uri": "https://localhost:8080/",
          "height": 320
        },
        "id": "Bne0OmOTBzsK",
        "outputId": "073d7c67-12e5-4fcd-f335-9766a148d011"
      },
      "source": [
        "df.groupby(\"chas\").size().plot.pie(label='pie1', autopct=\"%0.2f %%\", figsize=(5,5))"
      ],
      "execution_count": 16,
      "outputs": [
        {
          "output_type": "execute_result",
          "data": {
            "text/plain": [
              "<matplotlib.axes._subplots.AxesSubplot at 0x7fadae1cff50>"
            ]
          },
          "metadata": {
            "tags": []
          },
          "execution_count": 16
        },
        {
          "output_type": "display_data",
          "data": {
            "image/png": "[encoded data removed]",
            "text/plain": [
              "<Figure size 360x360 with 1 Axes>"
            ]
          },
          "metadata": {
            "tags": []
          }
        }
      ]
    },
    {
      "cell_type": "markdown",
      "metadata": {
        "id": "k6uGL2v5hdGo"
      },
      "source": [
        "Según el gráfico de torta, el 6,92 % de las casas colindan con el río y el 93,08 % No colindan con el río. "
      ]
    },
    {
      "cell_type": "code",
      "metadata": {
        "colab": {
          "base_uri": "https://localhost:8080/"
        },
        "id": "8m_GMZ4d3a1b",
        "outputId": "1121ad1c-466f-46b5-b0e6-df321b7dce10"
      },
      "source": [
        "df[\"nox\"].describe()"
      ],
      "execution_count": 17,
      "outputs": [
        {
          "output_type": "execute_result",
          "data": {
            "text/plain": [
              "count    506.000000\n",
              "mean       0.554695\n",
              "std        0.115878\n",
              "min        0.385000\n",
              "25%        0.449000\n",
              "50%        0.538000\n",
              "75%        0.624000\n",
              "max        0.871000\n",
              "Name: nox, dtype: float64"
            ]
          },
          "metadata": {
            "tags": []
          },
          "execution_count": 17
        }
      ]
    },
    {
      "cell_type": "code",
      "metadata": {
        "colab": {
          "base_uri": "https://localhost:8080/",
          "height": 281
        },
        "id": "1uIvwHj7iMAs",
        "outputId": "e4c935c6-d340-4840-b61c-8f0f693a73a9"
      },
      "source": [
        "df[\"nox\"].plot.hist()"
      ],
      "execution_count": 18,
      "outputs": [
        {
          "output_type": "execute_result",
          "data": {
            "text/plain": [
              "<matplotlib.axes._subplots.AxesSubplot at 0x7fadae1ac710>"
            ]
          },
          "metadata": {
            "tags": []
          },
          "execution_count": 18
        },
        {
          "output_type": "display_data",
          "data": {
            "image/png": "[encoded data removed]",
            "text/plain": [
              "<Figure size 432x288 with 1 Axes>"
            ]
          },
          "metadata": {
            "tags": [],
            "needs_background": "light"
          }
        }
      ]
    },
    {
      "cell_type": "markdown",
      "metadata": {
        "id": "62Nj5Pa2iQ-0"
      },
      "source": [
        "La característica \"nox\" corresponde a los óxidos de nitrógeno medidos en partes por 10 millones. \n",
        "\n",
        "Su valor mínimo es 0.385000\n",
        "\n",
        "Su valor máximo es 0.871000\n",
        "\n",
        "Su promedio es 0.554695\n",
        "\n",
        "Desviación estandar 0.115878\n",
        "\n",
        "Según el histograma anterior podemos decir que la frecuencia es similar a la campana de gauss en descenso."
      ]
    },
    {
      "cell_type": "code",
      "metadata": {
        "colab": {
          "base_uri": "https://localhost:8080/"
        },
        "id": "nR9rJUX0n7Hc",
        "outputId": "0e963927-9db4-4bbd-ac53-416263ae26b1"
      },
      "source": [
        "df[\"rm\"].mode()"
      ],
      "execution_count": 19,
      "outputs": [
        {
          "output_type": "execute_result",
          "data": {
            "text/plain": [
              "0    5.713\n",
              "1    6.127\n",
              "2    6.167\n",
              "3    6.229\n",
              "4    6.405\n",
              "5    6.417\n",
              "dtype: float64"
            ]
          },
          "metadata": {
            "tags": []
          },
          "execution_count": 19
        }
      ]
    },
    {
      "cell_type": "code",
      "metadata": {
        "colab": {
          "base_uri": "https://localhost:8080/"
        },
        "id": "7yM4k6rJ4ORw",
        "outputId": "da0436f3-abab-4b3d-9bc0-f6a35faf2cb3"
      },
      "source": [
        "df[\"rm\"].mode()\n"
      ],
      "execution_count": 20,
      "outputs": [
        {
          "output_type": "execute_result",
          "data": {
            "text/plain": [
              "0    5.713\n",
              "1    6.127\n",
              "2    6.167\n",
              "3    6.229\n",
              "4    6.405\n",
              "5    6.417\n",
              "dtype: float64"
            ]
          },
          "metadata": {
            "tags": []
          },
          "execution_count": 20
        }
      ]
    },
    {
      "cell_type": "code",
      "metadata": {
        "colab": {
          "base_uri": "https://localhost:8080/",
          "height": 281
        },
        "id": "hNbTEC4Vkgqa",
        "outputId": "48f36636-52ed-42d8-c000-eb2025d03398"
      },
      "source": [
        "df[\"rm\"].plot.hist()"
      ],
      "execution_count": 21,
      "outputs": [
        {
          "output_type": "execute_result",
          "data": {
            "text/plain": [
              "<matplotlib.axes._subplots.AxesSubplot at 0x7fadae12df90>"
            ]
          },
          "metadata": {
            "tags": []
          },
          "execution_count": 21
        },
        {
          "output_type": "display_data",
          "data": {
            "image/png": "[encoded data removed]",
            "text/plain": [
              "<Figure size 432x288 with 1 Axes>"
            ]
          },
          "metadata": {
            "tags": [],
            "needs_background": "light"
          }
        }
      ]
    },
    {
      "cell_type": "markdown",
      "metadata": {
        "id": "YdRq62lql5zA"
      },
      "source": [
        "La característica \"rm\" corresponde a el número promedio de habitaciones por vivienda.\n",
        "\n",
        "Su valor mínimo es 3.561000\n",
        "\n",
        "Su valor máximo es 8.780000\n",
        "\n",
        "Su promedio es 6.284634\n",
        "\n",
        "Desviación estandar 0.702617\n",
        "\n",
        "En el histograma se puede notar que el promedio es similar a la mediana. \n",
        "\n",
        "Ádemas podemos observar que existen 6 modas que se encuentran en el intervalo de 5.713 y 6.417. \n",
        "\n",
        "Por otra parte podemos deducir que la mayor frecuencia se encuentra en el rango de 5,6486 y 6,1705.\n"
      ]
    },
    {
      "cell_type": "code",
      "metadata": {
        "id": "U18MDCae5sSE",
        "colab": {
          "base_uri": "https://localhost:8080/"
        },
        "outputId": "6484dde7-6f99-411f-f189-3aa20cdefea6"
      },
      "source": [
        "df[\"age\"].describe()"
      ],
      "execution_count": 22,
      "outputs": [
        {
          "output_type": "execute_result",
          "data": {
            "text/plain": [
              "count    506.000000\n",
              "mean      68.574901\n",
              "std       28.148861\n",
              "min        2.900000\n",
              "25%       45.025000\n",
              "50%       77.500000\n",
              "75%       94.075000\n",
              "max      100.000000\n",
              "Name: age, dtype: float64"
            ]
          },
          "metadata": {
            "tags": []
          },
          "execution_count": 22
        }
      ]
    },
    {
      "cell_type": "code",
      "metadata": {
        "colab": {
          "base_uri": "https://localhost:8080/",
          "height": 281
        },
        "id": "hqd6htPTq4IR",
        "outputId": "56301882-c1e8-4dc0-d111-dba47c6059b1"
      },
      "source": [
        "df[\"age\"].plot.hist()"
      ],
      "execution_count": 23,
      "outputs": [
        {
          "output_type": "execute_result",
          "data": {
            "text/plain": [
              "<matplotlib.axes._subplots.AxesSubplot at 0x7fadae0b9990>"
            ]
          },
          "metadata": {
            "tags": []
          },
          "execution_count": 23
        },
        {
          "output_type": "display_data",
          "data": {
            "image/png": "[encoded data removed]",
            "text/plain": [
              "<Figure size 432x288 with 1 Axes>"
            ]
          },
          "metadata": {
            "tags": [],
            "needs_background": "light"
          }
        }
      ]
    },
    {
      "cell_type": "markdown",
      "metadata": {
        "id": "3_ezrfzdpMPv"
      },
      "source": [
        "La característica \"age\" corresponde a unidades construidas ocupadas por sus dueños antes de 1940.\n",
        "\n",
        "Su valor mínimo es 2.900000\n",
        "\n",
        "Su valor máximo es 100.000000\n",
        "\n",
        "Su promedio es 68.574901\n",
        "\n",
        "Desviación estandar 28.148861\n",
        "\n",
        "Según el histograma tenemos muchas ciudades de Boston que a la fecha de 1940 todas las casas estaban habitadas por sus dueños. \n",
        "\n",
        "Por otro lado la mayor frecuencia corresponde al rango del 90% a 100%, siendo esta cercano a 170. "
      ]
    },
    {
      "cell_type": "code",
      "metadata": {
        "colab": {
          "base_uri": "https://localhost:8080/"
        },
        "id": "EGqsLEw06irH",
        "outputId": "3c9b092f-69bb-420a-d554-e426c9aeb027"
      },
      "source": [
        "df[\"dis\"].describe()\n"
      ],
      "execution_count": 24,
      "outputs": [
        {
          "output_type": "execute_result",
          "data": {
            "text/plain": [
              "count    506.000000\n",
              "mean       3.795043\n",
              "std        2.105710\n",
              "min        1.129600\n",
              "25%        2.100175\n",
              "50%        3.207450\n",
              "75%        5.188425\n",
              "max       12.126500\n",
              "Name: dis, dtype: float64"
            ]
          },
          "metadata": {
            "tags": []
          },
          "execution_count": 24
        }
      ]
    },
    {
      "cell_type": "code",
      "metadata": {
        "colab": {
          "base_uri": "https://localhost:8080/",
          "height": 281
        },
        "id": "UpsGtIvvvEOc",
        "outputId": "48e0794c-a7fc-48f7-82d9-187e1f9b04a8"
      },
      "source": [
        "df[\"dis\"].plot.hist()"
      ],
      "execution_count": 25,
      "outputs": [
        {
          "output_type": "execute_result",
          "data": {
            "text/plain": [
              "<matplotlib.axes._subplots.AxesSubplot at 0x7fadadfd6b90>"
            ]
          },
          "metadata": {
            "tags": []
          },
          "execution_count": 25
        },
        {
          "output_type": "display_data",
          "data": {
            "image/png": "[encoded data removed]",
            "text/plain": [
              "<Figure size 432x288 with 1 Axes>"
            ]
          },
          "metadata": {
            "tags": [],
            "needs_background": "light"
          }
        }
      ]
    },
    {
      "cell_type": "markdown",
      "metadata": {
        "id": "jRD1JW7Vpe1s"
      },
      "source": [
        "La característica \"dis\" es el promedio ponderado de la distancia hacia 5 centros de empleo de Boston.\n",
        "\n",
        "Su valor mínimo es 1.129600\n",
        "\n",
        "Su valor máximo es 12.126500\n",
        "\n",
        "Su promedio es 3.795043\n",
        "\n",
        "Desviación estandar 2.105710\n",
        "\n",
        "En el histrograma podemos notar una distribución binomial truncada. \n"
      ]
    },
    {
      "cell_type": "code",
      "metadata": {
        "colab": {
          "base_uri": "https://localhost:8080/"
        },
        "id": "wHfB59tb6_N9",
        "outputId": "90fc4bfd-1428-4799-da46-cc16400f6709"
      },
      "source": [
        "df[\"rad\"].describe()"
      ],
      "execution_count": 26,
      "outputs": [
        {
          "output_type": "execute_result",
          "data": {
            "text/plain": [
              "count    506.000000\n",
              "mean       9.549407\n",
              "std        8.707259\n",
              "min        1.000000\n",
              "25%        4.000000\n",
              "50%        5.000000\n",
              "75%       24.000000\n",
              "max       24.000000\n",
              "Name: rad, dtype: float64"
            ]
          },
          "metadata": {
            "tags": []
          },
          "execution_count": 26
        }
      ]
    },
    {
      "cell_type": "code",
      "metadata": {
        "colab": {
          "base_uri": "https://localhost:8080/",
          "height": 298
        },
        "id": "iGW6li10xSIb",
        "outputId": "01f956dd-8850-4a45-eb72-7e78569fc0ec"
      },
      "source": [
        "df.groupby(\"rad\").size().plot.bar()"
      ],
      "execution_count": 27,
      "outputs": [
        {
          "output_type": "execute_result",
          "data": {
            "text/plain": [
              "<matplotlib.axes._subplots.AxesSubplot at 0x7fadadf97c90>"
            ]
          },
          "metadata": {
            "tags": []
          },
          "execution_count": 27
        },
        {
          "output_type": "display_data",
          "data": {
            "image/png": "[encoded data removed]",
            "text/plain": [
              "<Figure size 432x288 with 1 Axes>"
            ]
          },
          "metadata": {
            "tags": [],
            "needs_background": "light"
          }
        }
      ]
    },
    {
      "cell_type": "markdown",
      "metadata": {
        "id": "Nuwe8BZ5p30T"
      },
      "source": [
        "La característica \"rad\" corresponde al indice de accesibilidad a carreteras principales \n",
        "\n",
        "Su valor mínimo es 1.000000\n",
        "\n",
        "Su valor máximo es 24.000000\n",
        "\n",
        "Su promedio es 9.549407\n",
        "\n",
        "Desviación estandar 8.707259\n",
        "\n",
        "En el gráfico asociado a \"rad\" se puede notar 9 valores distintos y los mas frecuentes equivalen a 4,5 y 24"
      ]
    },
    {
      "cell_type": "code",
      "metadata": {
        "id": "akE4pEgoAF29",
        "colab": {
          "base_uri": "https://localhost:8080/"
        },
        "outputId": "8b545e72-b06f-4e21-8fa9-ff3a4527bc47"
      },
      "source": [
        "df.groupby(\"rad\").size()"
      ],
      "execution_count": 28,
      "outputs": [
        {
          "output_type": "execute_result",
          "data": {
            "text/plain": [
              "rad\n",
              "1      20\n",
              "2      24\n",
              "3      38\n",
              "4     110\n",
              "5     115\n",
              "6      26\n",
              "7      17\n",
              "8      24\n",
              "24    132\n",
              "dtype: int64"
            ]
          },
          "metadata": {
            "tags": []
          },
          "execution_count": 28
        }
      ]
    },
    {
      "cell_type": "code",
      "metadata": {
        "colab": {
          "base_uri": "https://localhost:8080/"
        },
        "id": "ySjOrFIc7c01",
        "outputId": "963447d4-0424-4a33-b42f-662b13e6a223"
      },
      "source": [
        "df[\"tax\"].describe()"
      ],
      "execution_count": 29,
      "outputs": [
        {
          "output_type": "execute_result",
          "data": {
            "text/plain": [
              "count    506.000000\n",
              "mean     408.237154\n",
              "std      168.537116\n",
              "min      187.000000\n",
              "25%      279.000000\n",
              "50%      330.000000\n",
              "75%      666.000000\n",
              "max      711.000000\n",
              "Name: tax, dtype: float64"
            ]
          },
          "metadata": {
            "tags": []
          },
          "execution_count": 29
        }
      ]
    },
    {
      "cell_type": "code",
      "metadata": {
        "colab": {
          "base_uri": "https://localhost:8080/",
          "height": 531
        },
        "id": "KoJNkbFkxwlN",
        "outputId": "b4b1743a-084c-417c-a1a9-1b554a807ec8"
      },
      "source": [
        "df.groupby(\"tax\").size().plot.bar(figsize=(30,8))"
      ],
      "execution_count": 30,
      "outputs": [
        {
          "output_type": "execute_result",
          "data": {
            "text/plain": [
              "<matplotlib.axes._subplots.AxesSubplot at 0x7fadadee74d0>"
            ]
          },
          "metadata": {
            "tags": []
          },
          "execution_count": 30
        },
        {
          "output_type": "display_data",
          "data": {
            "image/png": "[encoded data removed]",
            "text/plain": [
              "<Figure size 2160x576 with 1 Axes>"
            ]
          },
          "metadata": {
            "tags": [],
            "needs_background": "light"
          }
        }
      ]
    },
    {
      "cell_type": "code",
      "metadata": {
        "colab": {
          "base_uri": "https://localhost:8080/"
        },
        "id": "f6GR_lFg0kd3",
        "outputId": "711434e4-139a-4dbb-f8f9-35710cd7c30d"
      },
      "source": [
        "df.groupby(\"tax\").size()"
      ],
      "execution_count": 31,
      "outputs": [
        {
          "output_type": "execute_result",
          "data": {
            "text/plain": [
              "tax\n",
              "187.0      1\n",
              "188.0      7\n",
              "193.0      8\n",
              "198.0      1\n",
              "216.0      5\n",
              "        ... \n",
              "432.0      9\n",
              "437.0     15\n",
              "469.0      1\n",
              "666.0    132\n",
              "711.0      5\n",
              "Length: 66, dtype: int64"
            ]
          },
          "metadata": {
            "tags": []
          },
          "execution_count": 31
        }
      ]
    },
    {
      "cell_type": "markdown",
      "metadata": {
        "id": "jQXM2gf9rRPs"
      },
      "source": [
        "La característica \"tax\" es la proporción de impuesto por propiedad como valor total cada $10,000.\n",
        "\n",
        "Su valor mínimo es 187.000000\n",
        "\n",
        "Su valor máximo es 711.000000\n",
        "\n",
        "Su promedio es 408.237154\n",
        "\n",
        "Desviación estandar 168.537116\n",
        "\n",
        "Según el histograma tenemos 66 valores discretos posibles. El valor que más se repite es 666.0, 132 veces.\n"
      ]
    },
    {
      "cell_type": "code",
      "metadata": {
        "colab": {
          "base_uri": "https://localhost:8080/"
        },
        "id": "16-WetCI7iCh",
        "outputId": "a5829f90-d3d1-4022-d0d4-06c3a06bb6eb"
      },
      "source": [
        "df[\"ptratio\"].describe()"
      ],
      "execution_count": 32,
      "outputs": [
        {
          "output_type": "execute_result",
          "data": {
            "text/plain": [
              "count    506.000000\n",
              "mean      18.455534\n",
              "std        2.164946\n",
              "min       12.600000\n",
              "25%       17.400000\n",
              "50%       19.050000\n",
              "75%       20.200000\n",
              "max       22.000000\n",
              "Name: ptratio, dtype: float64"
            ]
          },
          "metadata": {
            "tags": []
          },
          "execution_count": 32
        }
      ]
    },
    {
      "cell_type": "code",
      "metadata": {
        "colab": {
          "base_uri": "https://localhost:8080/"
        },
        "id": "bGRrw7GW1cjV",
        "outputId": "9c5b1a92-e7f1-4290-abdd-94a8bfdd4050"
      },
      "source": [
        "df.groupby(\"ptratio\").size().count()"
      ],
      "execution_count": 33,
      "outputs": [
        {
          "output_type": "execute_result",
          "data": {
            "text/plain": [
              "46"
            ]
          },
          "metadata": {
            "tags": []
          },
          "execution_count": 33
        }
      ]
    },
    {
      "cell_type": "code",
      "metadata": {
        "colab": {
          "base_uri": "https://localhost:8080/",
          "height": 362
        },
        "id": "QxL2z7Atx3ck",
        "outputId": "a5792f79-ec47-4d2c-907c-9956c0afd39c"
      },
      "source": [
        "df.groupby(\"ptratio\").size().plot.bar(figsize=(20,5))"
      ],
      "execution_count": 34,
      "outputs": [
        {
          "output_type": "execute_result",
          "data": {
            "text/plain": [
              "<matplotlib.axes._subplots.AxesSubplot at 0x7fadadcd5850>"
            ]
          },
          "metadata": {
            "tags": []
          },
          "execution_count": 34
        },
        {
          "output_type": "display_data",
          "data": {
            "image/png": "[encoded data removed]",
            "text/plain": [
              "<Figure size 1440x360 with 1 Axes>"
            ]
          },
          "metadata": {
            "tags": [],
            "needs_background": "light"
          }
        }
      ]
    },
    {
      "cell_type": "markdown",
      "metadata": {
        "id": "JH3n-wKcx9-r"
      },
      "source": [
        "La característica \"ptratio\" es la proporción estudiante promedio por ciudad. \n",
        "\n",
        "Su valor mínimo es 12.600000\n",
        "\n",
        "Su valor máximo es 22.000000\n",
        "\n",
        "Su promedio es 18.455534\n",
        "\n",
        "Desviación estandar 2.164946\n",
        "\n",
        "En base al gráfico de barra se puede concluir que existen 46 valores posibles y el más común es 20,2\n"
      ]
    },
    {
      "cell_type": "code",
      "metadata": {
        "colab": {
          "base_uri": "https://localhost:8080/"
        },
        "id": "DBilvgSg7qo9",
        "outputId": "84dd848a-53ae-4342-ee2a-d1138f1d8bdb"
      },
      "source": [
        "df[\"black\"].describe()"
      ],
      "execution_count": 35,
      "outputs": [
        {
          "output_type": "execute_result",
          "data": {
            "text/plain": [
              "count    506.000000\n",
              "mean     356.674032\n",
              "std       91.294864\n",
              "min        0.320000\n",
              "25%      375.377500\n",
              "50%      391.440000\n",
              "75%      396.225000\n",
              "max      396.900000\n",
              "Name: black, dtype: float64"
            ]
          },
          "metadata": {
            "tags": []
          },
          "execution_count": 35
        }
      ]
    },
    {
      "cell_type": "code",
      "metadata": {
        "colab": {
          "base_uri": "https://localhost:8080/"
        },
        "id": "ghFH_dZs4QEI",
        "outputId": "b34448ab-0882-49fa-f7f5-3f388a332483"
      },
      "source": [
        "df.groupby(\"black\").size().count()"
      ],
      "execution_count": 36,
      "outputs": [
        {
          "output_type": "execute_result",
          "data": {
            "text/plain": [
              "357"
            ]
          },
          "metadata": {
            "tags": []
          },
          "execution_count": 36
        }
      ]
    },
    {
      "cell_type": "code",
      "metadata": {
        "colab": {
          "base_uri": "https://localhost:8080/",
          "height": 281
        },
        "id": "emy1DSGc3u63",
        "outputId": "3b8e00eb-db13-401a-cc77-0f11bd94c5aa"
      },
      "source": [
        "df[\"black\"].plot.hist()"
      ],
      "execution_count": 37,
      "outputs": [
        {
          "output_type": "execute_result",
          "data": {
            "text/plain": [
              "<matplotlib.axes._subplots.AxesSubplot at 0x7fadadbe8290>"
            ]
          },
          "metadata": {
            "tags": []
          },
          "execution_count": 37
        },
        {
          "output_type": "display_data",
          "data": {
            "image/png": "[encoded data removed]",
            "text/plain": [
              "<Figure size 432x288 with 1 Axes>"
            ]
          },
          "metadata": {
            "tags": [],
            "needs_background": "light"
          }
        }
      ]
    },
    {
      "cell_type": "markdown",
      "metadata": {
        "id": "iWhlTM7y3A33"
      },
      "source": [
        "La característica \"black\" es 1000(Bk - 0.63)^2 donde Bk es la proporción de personas de color por ciudad. \n",
        "\n",
        "Su valor mínimo es 0.320000\n",
        "\n",
        "Su valor máximo es 396.900000\n",
        "\n",
        "Su promedio es 356.674032\n",
        "\n",
        "Desviación estandar 91.294864\n",
        "\n",
        "En el histograma las mayores frecuencias estan sobre los 350.\n",
        "\n"
      ]
    },
    {
      "cell_type": "code",
      "metadata": {
        "colab": {
          "base_uri": "https://localhost:8080/"
        },
        "id": "GUHWOqiP7yGO",
        "outputId": "8e95594f-16bf-4ca4-c7d9-07237dd4f03d"
      },
      "source": [
        "df[\"lstat\"].describe()"
      ],
      "execution_count": 38,
      "outputs": [
        {
          "output_type": "execute_result",
          "data": {
            "text/plain": [
              "count    506.000000\n",
              "mean      12.653063\n",
              "std        7.141062\n",
              "min        1.730000\n",
              "25%        6.950000\n",
              "50%       11.360000\n",
              "75%       16.955000\n",
              "max       37.970000\n",
              "Name: lstat, dtype: float64"
            ]
          },
          "metadata": {
            "tags": []
          },
          "execution_count": 38
        }
      ]
    },
    {
      "cell_type": "code",
      "metadata": {
        "colab": {
          "base_uri": "https://localhost:8080/",
          "height": 281
        },
        "id": "jDU3DM8NRoLs",
        "outputId": "5e361cb2-6f30-4c23-dcc8-975fcc474aac"
      },
      "source": [
        "df[\"lstat\"].plot.hist()"
      ],
      "execution_count": 39,
      "outputs": [
        {
          "output_type": "execute_result",
          "data": {
            "text/plain": [
              "<matplotlib.axes._subplots.AxesSubplot at 0x7fadadac98d0>"
            ]
          },
          "metadata": {
            "tags": []
          },
          "execution_count": 39
        },
        {
          "output_type": "display_data",
          "data": {
            "image/png": "[encoded data removed]",
            "text/plain": [
              "<Figure size 432x288 with 1 Axes>"
            ]
          },
          "metadata": {
            "tags": [],
            "needs_background": "light"
          }
        }
      ]
    },
    {
      "cell_type": "markdown",
      "metadata": {
        "id": "omSo5s0b5ZRU"
      },
      "source": [
        "La característica \"lstat\" equivale al estatus más bajo de la población medido en porcentaje. Se refiere a la cantidad de población sin estudios secundarios completados, junto a los obreros.  \n",
        "\n",
        "Su valor mínimo es 1.730000\n",
        "\n",
        "Su valor máximo es 37.970000\n",
        "\n",
        "Su promedio es 12.653063\n",
        "\n",
        "Desviación estandar 7.141062\n",
        "\n",
        "En el histograma se observa que el grueso de las ciudades tiene un 20% o menos de la población que no ha terminado los estudios secundarios.  \n",
        "\n"
      ]
    },
    {
      "cell_type": "code",
      "metadata": {
        "colab": {
          "base_uri": "https://localhost:8080/"
        },
        "id": "DDv_-v-o8F89",
        "outputId": "d929f748-843d-4113-ec24-262f910653c7"
      },
      "source": [
        "df[\"medv\"].describe()"
      ],
      "execution_count": 40,
      "outputs": [
        {
          "output_type": "execute_result",
          "data": {
            "text/plain": [
              "count    506.000000\n",
              "mean      22.532806\n",
              "std        9.197104\n",
              "min        5.000000\n",
              "25%       17.025000\n",
              "50%       21.200000\n",
              "75%       25.000000\n",
              "max       50.000000\n",
              "Name: medv, dtype: float64"
            ]
          },
          "metadata": {
            "tags": []
          },
          "execution_count": 40
        }
      ]
    },
    {
      "cell_type": "code",
      "metadata": {
        "colab": {
          "base_uri": "https://localhost:8080/",
          "height": 283
        },
        "id": "3ObiUeDg51p6",
        "outputId": "c7e08f2d-2c99-44fd-fce4-9a387a3cba38"
      },
      "source": [
        "df[\"medv\"].plot.hist()"
      ],
      "execution_count": 41,
      "outputs": [
        {
          "output_type": "execute_result",
          "data": {
            "text/plain": [
              "<matplotlib.axes._subplots.AxesSubplot at 0x7fadada4fb10>"
            ]
          },
          "metadata": {
            "tags": []
          },
          "execution_count": 41
        },
        {
          "output_type": "display_data",
          "data": {
            "image/png": "[encoded data removed]",
            "text/plain": [
              "<Figure size 432x288 with 1 Axes>"
            ]
          },
          "metadata": {
            "tags": [],
            "needs_background": "light"
          }
        }
      ]
    },
    {
      "cell_type": "markdown",
      "metadata": {
        "id": "1-IjpwVX6BAc"
      },
      "source": [
        "La característica \"medv\" es el valor de la mediana de las casas ocupadas por sus dueños, medidas en $1000s. \n",
        "\n",
        "Su valor mínimo es 5.000000\n",
        "\n",
        "Su valor máximo es 50.000000\n",
        "\n",
        "Su promedio es 22.532806\n",
        "\n",
        "Desviación estandar 9.197104\n",
        "\n",
        "En el histograma notamos una distribución similar a una normal. "
      ]
    },
    {
      "cell_type": "markdown",
      "metadata": {
        "id": "RrWxjPYWBfQI"
      },
      "source": [
        "## Parte 2"
      ]
    },
    {
      "cell_type": "markdown",
      "metadata": {
        "id": "RLZbmsoFBt18"
      },
      "source": [
        "### df.info()"
      ]
    },
    {
      "cell_type": "code",
      "metadata": {
        "colab": {
          "base_uri": "https://localhost:8080/"
        },
        "id": "UMVLFIyoBd9W",
        "outputId": "a8f99c6b-fa5a-4a51-f074-bdc650fdd971"
      },
      "source": [
        "df.info()"
      ],
      "execution_count": 42,
      "outputs": [
        {
          "output_type": "stream",
          "text": [
            "<class 'pandas.core.frame.DataFrame'>\n",
            "RangeIndex: 506 entries, 0 to 505\n",
            "Data columns (total 14 columns):\n",
            " #   Column   Non-Null Count  Dtype  \n",
            "---  ------   --------------  -----  \n",
            " 0   crim     506 non-null    float64\n",
            " 1   zn       506 non-null    float64\n",
            " 2   indus    506 non-null    float64\n",
            " 3   chas     506 non-null    int64  \n",
            " 4   nox      506 non-null    float64\n",
            " 5   rm       506 non-null    float64\n",
            " 6   age      506 non-null    float64\n",
            " 7   dis      506 non-null    float64\n",
            " 8   rad      506 non-null    int64  \n",
            " 9   tax      506 non-null    float64\n",
            " 10  ptratio  506 non-null    float64\n",
            " 11  black    506 non-null    float64\n",
            " 12  lstat    506 non-null    float64\n",
            " 13  medv     506 non-null    float64\n",
            "dtypes: float64(12), int64(2)\n",
            "memory usage: 55.5 KB\n"
          ],
          "name": "stdout"
        }
      ]
    },
    {
      "cell_type": "markdown",
      "metadata": {
        "id": "HGEtvJOPBoyj"
      },
      "source": [
        "### Análisis"
      ]
    },
    {
      "cell_type": "markdown",
      "metadata": {
        "id": "3_Tlv5x_k9iF"
      },
      "source": [
        "#### Exploración y definición de funciones útiles"
      ]
    },
    {
      "cell_type": "markdown",
      "metadata": {
        "id": "iLFXNZYVwPf8"
      },
      "source": [
        "#### Crim"
      ]
    },
    {
      "cell_type": "code",
      "metadata": {
        "colab": {
          "base_uri": "https://localhost:8080/",
          "height": 0
        },
        "id": "bQON7nxsBena",
        "outputId": "7210b0d1-701a-41d8-ef62-3a4114f3b7f9"
      },
      "source": [
        "df[\"crim\"].plot.hist()"
      ],
      "execution_count": 43,
      "outputs": [
        {
          "output_type": "execute_result",
          "data": {
            "text/plain": [
              "<matplotlib.axes._subplots.AxesSubplot at 0x7fadada24050>"
            ]
          },
          "metadata": {
            "tags": []
          },
          "execution_count": 43
        },
        {
          "output_type": "display_data",
          "data": {
            "image/png": "[encoded data removed]",
            "text/plain": [
              "<Figure size 432x288 with 1 Axes>"
            ]
          },
          "metadata": {
            "tags": [],
            "needs_background": "light"
          }
        }
      ]
    },
    {
      "cell_type": "code",
      "metadata": {
        "colab": {
          "base_uri": "https://localhost:8080/",
          "height": 0
        },
        "id": "IFREtm5sB3vI",
        "outputId": "edd1d856-f0fe-4095-afef-40ecf80d5957"
      },
      "source": [
        "df.boxplot(column=[\"crim\"],figsize=(7,10))"
      ],
      "execution_count": 44,
      "outputs": [
        {
          "output_type": "execute_result",
          "data": {
            "text/plain": [
              "<matplotlib.axes._subplots.AxesSubplot at 0x7fadad955e90>"
            ]
          },
          "metadata": {
            "tags": []
          },
          "execution_count": 44
        },
        {
          "output_type": "display_data",
          "data": {
            "image/png": "[encoded data removed]",
            "text/plain": [
              "<Figure size 504x720 with 1 Axes>"
            ]
          },
          "metadata": {
            "tags": [],
            "needs_background": "light"
          }
        }
      ]
    },
    {
      "cell_type": "markdown",
      "metadata": {
        "id": "SB352b65IXFG"
      },
      "source": [
        "En los diagramas de caja o _boxplot_ la caja central corresponde a a las demarcaciones de $Q_{1}$ y $Q_{3}$, la línea intermedia, poco visible en este caso, a la mediana, es decir $Q_{2}$, los \"bigotes\" a los límites no anómalos que van desde los valores máximo y mínimo o 1.5 IQR. Los círculos representan datos atípicos, fuera de los límites ya señalados.\n",
        "\n",
        "Es visible la importante cantidad de datos fuera de los límites no atípicos (rango intercuartílico $\\pm 1.5$ $IQR$, es donde están el 50% de los datos centrales, equivalente a $Q_{3} - Q_{1}$).\n",
        "\n",
        "Lo señalado anteriormente fue extraído de *https://www.itl.nist.gov/div898/handbook/prc/section1/prc16.htm*, Instituto Nacional de Estándares y Tecnología de EE.UU.(NIST por sus siglas en inglés)."
      ]
    },
    {
      "cell_type": "code",
      "metadata": {
        "id": "Of5HGLSYCX9X"
      },
      "source": [
        "crim_c = df[\"crim\"]\n",
        "crim_c = crim_c[crim_c.between(crim_c.quantile(.25), crim_c.quantile(.75))]\n",
        "df[\"crim_c\"] = crim_c"
      ],
      "execution_count": 45,
      "outputs": []
    },
    {
      "cell_type": "code",
      "metadata": {
        "colab": {
          "base_uri": "https://localhost:8080/",
          "height": 0
        },
        "id": "VDWrCAA6OsC-",
        "outputId": "f474177e-8cfd-4284-a36b-d20b9d1350a0"
      },
      "source": [
        "df[\"crim_c\"].plot.hist()"
      ],
      "execution_count": 46,
      "outputs": [
        {
          "output_type": "execute_result",
          "data": {
            "text/plain": [
              "<matplotlib.axes._subplots.AxesSubplot at 0x7fadad945dd0>"
            ]
          },
          "metadata": {
            "tags": []
          },
          "execution_count": 46
        },
        {
          "output_type": "display_data",
          "data": {
            "image/png": "[encoded data removed]",
            "text/plain": [
              "<Figure size 432x288 with 1 Axes>"
            ]
          },
          "metadata": {
            "tags": [],
            "needs_background": "light"
          }
        }
      ]
    },
    {
      "cell_type": "code",
      "metadata": {
        "id": "-f9FepSwQOsW"
      },
      "source": [
        "def clean_outliers_hard(df, col):\n",
        "    # elimina outliers fuera del rango +- 1.5 IQR de los cuartiles\n",
        "    # En el boxplot, elimina los datos atípicos\n",
        "    q1 = df[col].quantile(.25)\n",
        "    q3 = df[col].quantile(.75)\n",
        "    iqr = q3-q1 #IQR definido anteriormente\n",
        "    fence_low  = q1 - 1.5*iqr\n",
        "    fence_high = q3 + 1.5*iqr\n",
        "    df_out = df.loc[(df[col] > fence_low) & (df[col] < fence_high)]\n",
        "    return df_out\n",
        "\n",
        "def clean_outliers_soft(df, col):\n",
        "    # elimina outliers fuera del rango +- 3.0 IQR de los cuartiles\n",
        "    # Dado que sus limites son mas amplios, elimina menos datos o equivalentemente considera mas datos\n",
        "    q1 = df[col].quantile(.25)\n",
        "    q3 = df[col].quantile(.75)\n",
        "    iqr = q3-q1 #IQR definido anteriormente\n",
        "    fence_low  = q1 - 3*iqr\n",
        "    fence_high = q3 + 3*iqr\n",
        "    df_out = df.loc[(df[col] > fence_low) & (df[col] < fence_high)]\n",
        "    return df_out\n",
        "\n",
        "def clean_custom(df, col, iqrFences):\n",
        "    q1 = df[col].quantile(.25)\n",
        "    q3 = df[col].quantile(.75)\n",
        "    iqr = q3-q1 #IQR definido anteriormente\n",
        "    fence_low  = q1 - iqrFences*iqr\n",
        "    fence_high = q3 + iqrFences*iqr\n",
        "    df_out = df.loc[(df[col] > fence_low) & (df[col] < fence_high)]\n",
        "    size = df_out.shape[0]\n",
        "    pctg = size/df.shape[0]   # calcula el porcentaje de observaciones consideradas respecto al df original\n",
        "    return df_out, pctg"
      ],
      "execution_count": 47,
      "outputs": []
    },
    {
      "cell_type": "code",
      "metadata": {
        "id": "9u4G8TLHSHG_"
      },
      "source": [
        "df2 = clean_outliers_hard(df, \"crim\")\n",
        "df3 = clean_outliers_soft(df, \"crim\")\n",
        "df4, df4_pct = clean_custom(df, \"crim\", 6)"
      ],
      "execution_count": 48,
      "outputs": []
    },
    {
      "cell_type": "code",
      "metadata": {
        "colab": {
          "base_uri": "https://localhost:8080/",
          "height": 0
        },
        "id": "pbGhhARkW29w",
        "outputId": "1adc3631-d3ee-4b35-9cb8-add0208ab40a"
      },
      "source": [
        "df[\"crim\"].plot()"
      ],
      "execution_count": 49,
      "outputs": [
        {
          "output_type": "execute_result",
          "data": {
            "text/plain": [
              "<matplotlib.axes._subplots.AxesSubplot at 0x7fadad850fd0>"
            ]
          },
          "metadata": {
            "tags": []
          },
          "execution_count": 49
        },
        {
          "output_type": "display_data",
          "data": {
            "image/png": "[encoded data removed]",
            "text/plain": [
              "<Figure size 432x288 with 1 Axes>"
            ]
          },
          "metadata": {
            "tags": [],
            "needs_background": "light"
          }
        }
      ]
    },
    {
      "cell_type": "code",
      "metadata": {
        "colab": {
          "base_uri": "https://localhost:8080/",
          "height": 0
        },
        "id": "NucNPhASSOqC",
        "outputId": "2a7a4255-b6d0-4d4f-cd25-b9146b6411d2"
      },
      "source": [
        "df2[\"crim\"].plot()"
      ],
      "execution_count": 50,
      "outputs": [
        {
          "output_type": "execute_result",
          "data": {
            "text/plain": [
              "<matplotlib.axes._subplots.AxesSubplot at 0x7fadad840a50>"
            ]
          },
          "metadata": {
            "tags": []
          },
          "execution_count": 50
        },
        {
          "output_type": "display_data",
          "data": {
            "image/png": "[encoded data removed]",
            "text/plain": [
              "<Figure size 432x288 with 1 Axes>"
            ]
          },
          "metadata": {
            "tags": [],
            "needs_background": "light"
          }
        }
      ]
    },
    {
      "cell_type": "code",
      "metadata": {
        "colab": {
          "base_uri": "https://localhost:8080/",
          "height": 0
        },
        "id": "XyyiMoEFSZOu",
        "outputId": "bf677402-60c8-4643-df42-cbc1507be18d"
      },
      "source": [
        "df3[\"crim\"].plot()"
      ],
      "execution_count": 51,
      "outputs": [
        {
          "output_type": "execute_result",
          "data": {
            "text/plain": [
              "<matplotlib.axes._subplots.AxesSubplot at 0x7fadad8b07d0>"
            ]
          },
          "metadata": {
            "tags": []
          },
          "execution_count": 51
        },
        {
          "output_type": "display_data",
          "data": {
            "image/png": "[encoded data removed]",
            "text/plain": [
              "<Figure size 432x288 with 1 Axes>"
            ]
          },
          "metadata": {
            "tags": [],
            "needs_background": "light"
          }
        }
      ]
    },
    {
      "cell_type": "code",
      "metadata": {
        "colab": {
          "base_uri": "https://localhost:8080/",
          "height": 0
        },
        "id": "6Gg-KsA-Sq4E",
        "outputId": "22a8939d-f073-4c67-802f-57a879dc62f5"
      },
      "source": [
        "plt.figure(figsize=(30,10))\n",
        "plt.plot(df[\"crim\"], label=\"df original\")\n",
        "plt.plot(df3[\"crim\"], label=\"df soft clean\")\n",
        "plt.plot(df2[\"crim\"], label=\"df hard clean\")\n",
        "plt.plot(df4[\"crim\"], label=\"df custom clean\")\n",
        "plt.legend()"
      ],
      "execution_count": 52,
      "outputs": [
        {
          "output_type": "execute_result",
          "data": {
            "text/plain": [
              "<matplotlib.legend.Legend at 0x7fadadb3ce90>"
            ]
          },
          "metadata": {
            "tags": []
          },
          "execution_count": 52
        },
        {
          "output_type": "display_data",
          "data": {
            "image/png": "[encoded data removed]",
            "text/plain": [
              "<Figure size 2160x720 with 1 Axes>"
            ]
          },
          "metadata": {
            "tags": [],
            "needs_background": "light"
          }
        }
      ]
    },
    {
      "cell_type": "code",
      "metadata": {
        "colab": {
          "base_uri": "https://localhost:8080/"
        },
        "id": "f_7pai4lVles",
        "outputId": "7a6eeeb4-8780-44d7-c413-4c67a05131d2"
      },
      "source": [
        "df4_pct"
      ],
      "execution_count": 53,
      "outputs": [
        {
          "output_type": "execute_result",
          "data": {
            "text/plain": [
              "0.9802371541501976"
            ]
          },
          "metadata": {
            "tags": []
          },
          "execution_count": 53
        }
      ]
    },
    {
      "cell_type": "markdown",
      "metadata": {
        "id": "7uC2jkyafO4Z"
      },
      "source": [
        "De lo anterior, ya que df4 contiene el 98.02% aproximadamente de los casos, se propone df4 como dataset limpio respecto a la característica ***crim***."
      ]
    },
    {
      "cell_type": "code",
      "metadata": {
        "id": "RUPyp6EKg_IZ"
      },
      "source": [
        "def print_medidas(df, col):\n",
        "    #automatización de muestra de medidas de tendencia central y stdv\n",
        "    print(\"Medidas de tendencia central: \\n\")\n",
        "    print(df[col].describe(), \"\\n\\n\")\n",
        "    print(\"Moda(s): \\n\")\n",
        "    print(df[col].mode(), \"\\n\\n\")\n",
        "    print(\"Mediana: \\n\")\n",
        "    print(df[col].median(), \"\\n\\n\")\n",
        "    print(\"Varianza: \\n\")\n",
        "    print(df[col].var())"
      ],
      "execution_count": 54,
      "outputs": []
    },
    {
      "cell_type": "code",
      "metadata": {
        "colab": {
          "base_uri": "https://localhost:8080/"
        },
        "id": "mtCpYrWji_45",
        "outputId": "2bc08365-cabc-44c2-8808-2dbc669138e6"
      },
      "source": [
        "print_medidas(df4, \"crim\")"
      ],
      "execution_count": 55,
      "outputs": [
        {
          "output_type": "stream",
          "text": [
            "Medidas de tendencia central: \n",
            "\n",
            "count    496.000000\n",
            "mean       2.679417\n",
            "std        4.852691\n",
            "min        0.006320\n",
            "25%        0.080050\n",
            "50%        0.243125\n",
            "75%        2.844785\n",
            "max       25.046100\n",
            "Name: crim, dtype: float64 \n",
            "\n",
            "\n",
            "Moda(s): \n",
            "\n",
            "0     0.01501\n",
            "1    14.33370\n",
            "dtype: float64 \n",
            "\n",
            "\n",
            "Mediana: \n",
            "\n",
            "0.24312499999999998 \n",
            "\n",
            "\n",
            "Varianza: \n",
            "\n",
            "23.548609949269835\n"
          ],
          "name": "stdout"
        }
      ]
    },
    {
      "cell_type": "markdown",
      "metadata": {
        "id": "p_vmjNjtj6tU"
      },
      "source": [
        "En adelante, se reemplazara df4 por df_aux por estandarización. Se prosigue con el mismo análisis para las demás variables:"
      ]
    },
    {
      "cell_type": "markdown",
      "metadata": {
        "id": "fW2BYDvFk2BD"
      },
      "source": [
        "#### Zn"
      ]
    },
    {
      "cell_type": "code",
      "metadata": {
        "colab": {
          "base_uri": "https://localhost:8080/"
        },
        "id": "gnlz4gLJfMf8",
        "outputId": "0acd441b-3907-4b20-e2af-accd3046eb1e"
      },
      "source": [
        "df_aux, df_aux_p = clean_custom(df, \"zn\", 6)\n",
        "print(\"Proporción de datos considerados respecto al original: \" ,df_aux_p, \"\\n\\n\")\n",
        "print_medidas(df_aux, \"zn\")"
      ],
      "execution_count": 56,
      "outputs": [
        {
          "output_type": "stream",
          "text": [
            "Proporción de datos considerados respecto al original:  0.9802371541501976 \n",
            "\n",
            "\n",
            "Medidas de tendencia central: \n",
            "\n",
            "count    496.000000\n",
            "mean       9.717742\n",
            "std       20.429207\n",
            "min        0.000000\n",
            "25%        0.000000\n",
            "50%        0.000000\n",
            "75%        3.125000\n",
            "max       85.000000\n",
            "Name: zn, dtype: float64 \n",
            "\n",
            "\n",
            "Moda(s): \n",
            "\n",
            "0    0.0\n",
            "dtype: float64 \n",
            "\n",
            "\n",
            "Mediana: \n",
            "\n",
            "0.0 \n",
            "\n",
            "\n",
            "Varianza: \n",
            "\n",
            "417.35249266861985\n"
          ],
          "name": "stdout"
        }
      ]
    },
    {
      "cell_type": "markdown",
      "metadata": {
        "id": "R9Qrt_U7kman"
      },
      "source": [
        "De lo anterior, se propone df_aux como dataset limpio respecto a la característica zn."
      ]
    },
    {
      "cell_type": "markdown",
      "metadata": {
        "id": "2aC2cRbil2A3"
      },
      "source": [
        "#### Indus"
      ]
    },
    {
      "cell_type": "code",
      "metadata": {
        "colab": {
          "base_uri": "https://localhost:8080/"
        },
        "id": "Ty3d0LxLkU4u",
        "outputId": "9bbdb627-0187-4a52-84d8-ccbd900fc244"
      },
      "source": [
        "df_aux, df_aux_p = clean_custom(df, \"indus\", 6)\n",
        "print(\"Proporción de datos considerados respecto al original: \" ,df_aux_p, \"\\n\\n\")\n",
        "print_medidas(df_aux, \"indus\")"
      ],
      "execution_count": 57,
      "outputs": [
        {
          "output_type": "stream",
          "text": [
            "Proporción de datos considerados respecto al original:  1.0 \n",
            "\n",
            "\n",
            "Medidas de tendencia central: \n",
            "\n",
            "count    506.000000\n",
            "mean      11.136779\n",
            "std        6.860353\n",
            "min        0.460000\n",
            "25%        5.190000\n",
            "50%        9.690000\n",
            "75%       18.100000\n",
            "max       27.740000\n",
            "Name: indus, dtype: float64 \n",
            "\n",
            "\n",
            "Moda(s): \n",
            "\n",
            "0    18.1\n",
            "dtype: float64 \n",
            "\n",
            "\n",
            "Mediana: \n",
            "\n",
            "9.69 \n",
            "\n",
            "\n",
            "Varianza: \n",
            "\n",
            "47.064442473682135\n"
          ],
          "name": "stdout"
        }
      ]
    },
    {
      "cell_type": "markdown",
      "metadata": {
        "id": "v0-DLYB0nyMK"
      },
      "source": [
        "De lo anterior, se propone df_aux como dataset limpio respecto a la característica indus."
      ]
    },
    {
      "cell_type": "markdown",
      "metadata": {
        "id": "jRzA_-aYm5mh"
      },
      "source": [
        "#### Chas"
      ]
    },
    {
      "cell_type": "code",
      "metadata": {
        "colab": {
          "base_uri": "https://localhost:8080/"
        },
        "id": "L3plwBrGm_6y",
        "outputId": "22af9b92-d2c7-496f-b55e-751fc876356a"
      },
      "source": [
        "df_aux, df_aux_p = clean_custom(df, \"chas\", 6)\n",
        "print(\"Proporción de datos considerados respecto al original: \" ,df_aux_p, \"\\n\\n\")\n",
        "print_medidas(df_aux, \"chas\")"
      ],
      "execution_count": 58,
      "outputs": [
        {
          "output_type": "stream",
          "text": [
            "Proporción de datos considerados respecto al original:  0.0 \n",
            "\n",
            "\n",
            "Medidas de tendencia central: \n",
            "\n",
            "count    0.0\n",
            "mean     NaN\n",
            "std      NaN\n",
            "min      NaN\n",
            "25%      NaN\n",
            "50%      NaN\n",
            "75%      NaN\n",
            "max      NaN\n",
            "Name: chas, dtype: float64 \n",
            "\n",
            "\n",
            "Moda(s): \n",
            "\n",
            "Series([], dtype: int64) \n",
            "\n",
            "\n",
            "Mediana: \n",
            "\n",
            "nan \n",
            "\n",
            "\n",
            "Varianza: \n",
            "\n",
            "nan\n"
          ],
          "name": "stdout"
        }
      ]
    },
    {
      "cell_type": "markdown",
      "metadata": {
        "id": "sGROhIbPnaMS"
      },
      "source": [
        "Dado que es una variable categórica, no tiene sentido separarla. Se toman todos los datos."
      ]
    },
    {
      "cell_type": "markdown",
      "metadata": {
        "id": "BGvDjA2sm9Ak"
      },
      "source": [
        "#### Nox"
      ]
    },
    {
      "cell_type": "code",
      "metadata": {
        "colab": {
          "base_uri": "https://localhost:8080/"
        },
        "id": "NcwHuoU_m7xS",
        "outputId": "e420d8e5-b799-4a06-b474-87e12024b4fe"
      },
      "source": [
        "df_aux, df_aux_p = clean_custom(df, \"nox\", 1)\n",
        "print(\"Proporción de datos considerados respecto al original: \" ,df_aux_p, \"\\n\\n\")\n",
        "print_medidas(df_aux, \"nox\")"
      ],
      "execution_count": 59,
      "outputs": [
        {
          "output_type": "stream",
          "text": [
            "Proporción de datos considerados respecto al original:  0.9683794466403162 \n",
            "\n",
            "\n",
            "Medidas de tendencia central: \n",
            "\n",
            "count    490.000000\n",
            "mean       0.544367\n",
            "std        0.102404\n",
            "min        0.385000\n",
            "25%        0.448000\n",
            "50%        0.532000\n",
            "75%        0.621500\n",
            "max        0.770000\n",
            "Name: nox, dtype: float64 \n",
            "\n",
            "\n",
            "Moda(s): \n",
            "\n",
            "0    0.538\n",
            "dtype: float64 \n",
            "\n",
            "\n",
            "Mediana: \n",
            "\n",
            "0.532 \n",
            "\n",
            "\n",
            "Varianza: \n",
            "\n",
            "0.010486512449438682\n"
          ],
          "name": "stdout"
        }
      ]
    },
    {
      "cell_type": "markdown",
      "metadata": {
        "id": "eMeRg1FAnb3V"
      },
      "source": [
        "De lo anterior, se propone df_aux como dataset limpio respecto a la característica nox."
      ]
    },
    {
      "cell_type": "markdown",
      "metadata": {
        "id": "X-p3elqGnAZv"
      },
      "source": [
        "#### Rm"
      ]
    },
    {
      "cell_type": "code",
      "metadata": {
        "colab": {
          "base_uri": "https://localhost:8080/"
        },
        "id": "FJYQuzZknBv6",
        "outputId": "5ac34b5d-ae1d-4f43-c2c3-845d8e2622c7"
      },
      "source": [
        "df_aux, df_aux_p = clean_custom(df, \"rm\", 3)\n",
        "print(\"Proporción de datos considerados respecto al original: \" ,df_aux_p, \"\\n\\n\")\n",
        "print_medidas(df_aux, \"rm\")"
      ],
      "execution_count": 60,
      "outputs": [
        {
          "output_type": "stream",
          "text": [
            "Proporción de datos considerados respecto al original:  0.9980237154150198 \n",
            "\n",
            "\n",
            "Medidas de tendencia central: \n",
            "\n",
            "count    505.000000\n",
            "mean       6.290028\n",
            "std        0.692750\n",
            "min        3.863000\n",
            "25%        5.887000\n",
            "50%        6.209000\n",
            "75%        6.625000\n",
            "max        8.780000\n",
            "Name: rm, dtype: float64 \n",
            "\n",
            "\n",
            "Moda(s): \n",
            "\n",
            "0    5.713\n",
            "1    6.127\n",
            "2    6.167\n",
            "3    6.229\n",
            "4    6.405\n",
            "5    6.417\n",
            "dtype: float64 \n",
            "\n",
            "\n",
            "Mediana: \n",
            "\n",
            "6.209 \n",
            "\n",
            "\n",
            "Varianza: \n",
            "\n",
            "0.4799025904997641\n"
          ],
          "name": "stdout"
        }
      ]
    },
    {
      "cell_type": "markdown",
      "metadata": {
        "id": "FcSNApQandmZ"
      },
      "source": [
        "De lo anterior, se propone df_aux como dataset limpio respecto a la característica rm."
      ]
    },
    {
      "cell_type": "markdown",
      "metadata": {
        "id": "cBN3N_fSnCKQ"
      },
      "source": [
        "#### Age"
      ]
    },
    {
      "cell_type": "code",
      "metadata": {
        "colab": {
          "base_uri": "https://localhost:8080/"
        },
        "id": "6uYAy3YsnDDy",
        "outputId": "919f1d90-7de9-4bdc-a45d-d62428ed79d8"
      },
      "source": [
        "df_aux, df_aux_p = clean_custom(df, \"age\", 1)\n",
        "print(\"Proporción de datos considerados respecto al original: \" ,df_aux_p, \"\\n\\n\")\n",
        "print_medidas(df_aux, \"age\")"
      ],
      "execution_count": 61,
      "outputs": [
        {
          "output_type": "stream",
          "text": [
            "Proporción de datos considerados respecto al original:  1.0 \n",
            "\n",
            "\n",
            "Medidas de tendencia central: \n",
            "\n",
            "count    506.000000\n",
            "mean      68.574901\n",
            "std       28.148861\n",
            "min        2.900000\n",
            "25%       45.025000\n",
            "50%       77.500000\n",
            "75%       94.075000\n",
            "max      100.000000\n",
            "Name: age, dtype: float64 \n",
            "\n",
            "\n",
            "Moda(s): \n",
            "\n",
            "0    100.0\n",
            "dtype: float64 \n",
            "\n",
            "\n",
            "Mediana: \n",
            "\n",
            "77.5 \n",
            "\n",
            "\n",
            "Varianza: \n",
            "\n",
            "792.358398505069\n"
          ],
          "name": "stdout"
        }
      ]
    },
    {
      "cell_type": "markdown",
      "metadata": {
        "id": "Tvi66GRPnfE3"
      },
      "source": [
        "De lo anterior, se propone df_aux como dataset limpio respecto a la característica age."
      ]
    },
    {
      "cell_type": "markdown",
      "metadata": {
        "id": "vNDilfMjnDjY"
      },
      "source": [
        "#### Dis"
      ]
    },
    {
      "cell_type": "code",
      "metadata": {
        "colab": {
          "base_uri": "https://localhost:8080/"
        },
        "id": "U-ioMNVynEV9",
        "outputId": "74551bb8-1726-4d52-db21-ccdf0268dc21"
      },
      "source": [
        "df_aux, df_aux_p = clean_custom(df, \"dis\", 2)\n",
        "print(\"Proporción de datos considerados respecto al original: \" ,df_aux_p, \"\\n\\n\")\n",
        "print_medidas(df_aux, \"dis\")"
      ],
      "execution_count": 62,
      "outputs": [
        {
          "output_type": "stream",
          "text": [
            "Proporción de datos considerados respecto al original:  0.9980237154150198 \n",
            "\n",
            "\n",
            "Medidas de tendencia central: \n",
            "\n",
            "count    505.000000\n",
            "mean       3.778545\n",
            "std        2.074805\n",
            "min        1.129600\n",
            "25%        2.100000\n",
            "50%        3.199200\n",
            "75%        5.118000\n",
            "max       10.710300\n",
            "Name: dis, dtype: float64 \n",
            "\n",
            "\n",
            "Moda(s): \n",
            "\n",
            "0    3.4952\n",
            "dtype: float64 \n",
            "\n",
            "\n",
            "Mediana: \n",
            "\n",
            "3.1992 \n",
            "\n",
            "\n",
            "Varianza: \n",
            "\n",
            "4.304815499183719\n"
          ],
          "name": "stdout"
        }
      ]
    },
    {
      "cell_type": "markdown",
      "metadata": {
        "id": "W07JIdBungqg"
      },
      "source": [
        "De lo anterior, se propone df_aux como dataset limpio respecto a la característica dis."
      ]
    },
    {
      "cell_type": "markdown",
      "metadata": {
        "id": "MrWLchidnEw1"
      },
      "source": [
        "#### Rad"
      ]
    },
    {
      "cell_type": "code",
      "metadata": {
        "colab": {
          "base_uri": "https://localhost:8080/"
        },
        "id": "B8iaHpb4nF9i",
        "outputId": "3b52dbdd-e42f-492e-9012-8bdbca1c5bc2"
      },
      "source": [
        "df_aux, df_aux_p = clean_custom(df, \"rad\", 1)\n",
        "print(\"Proporción de datos considerados respecto al original: \" ,df_aux_p, \"\\n\\n\")\n",
        "print_medidas(df_aux, \"rad\")"
      ],
      "execution_count": 63,
      "outputs": [
        {
          "output_type": "stream",
          "text": [
            "Proporción de datos considerados respecto al original:  1.0 \n",
            "\n",
            "\n",
            "Medidas de tendencia central: \n",
            "\n",
            "count    506.000000\n",
            "mean       9.549407\n",
            "std        8.707259\n",
            "min        1.000000\n",
            "25%        4.000000\n",
            "50%        5.000000\n",
            "75%       24.000000\n",
            "max       24.000000\n",
            "Name: rad, dtype: float64 \n",
            "\n",
            "\n",
            "Moda(s): \n",
            "\n",
            "0    24\n",
            "dtype: int64 \n",
            "\n",
            "\n",
            "Mediana: \n",
            "\n",
            "5.0 \n",
            "\n",
            "\n",
            "Varianza: \n",
            "\n",
            "75.81636598442468\n"
          ],
          "name": "stdout"
        }
      ]
    },
    {
      "cell_type": "markdown",
      "metadata": {
        "id": "CUwbOY5wniCL"
      },
      "source": [
        "De lo anterior, se propone df_aux como dataset limpio respecto a la característica rad."
      ]
    },
    {
      "cell_type": "markdown",
      "metadata": {
        "id": "SSFqpftEnGbG"
      },
      "source": [
        "#### Tax"
      ]
    },
    {
      "cell_type": "code",
      "metadata": {
        "colab": {
          "base_uri": "https://localhost:8080/"
        },
        "id": "FoD3HKxinIjq",
        "outputId": "ef0ba833-9bc6-4e15-c434-5bec49a059f0"
      },
      "source": [
        "df_aux, df_aux_p = clean_custom(df, \"tax\", 1)\n",
        "print(\"Proporción de datos considerados respecto al original: \" ,df_aux_p, \"\\n\\n\")\n",
        "print_medidas(df_aux, \"tax\")"
      ],
      "execution_count": 64,
      "outputs": [
        {
          "output_type": "stream",
          "text": [
            "Proporción de datos considerados respecto al original:  1.0 \n",
            "\n",
            "\n",
            "Medidas de tendencia central: \n",
            "\n",
            "count    506.000000\n",
            "mean     408.237154\n",
            "std      168.537116\n",
            "min      187.000000\n",
            "25%      279.000000\n",
            "50%      330.000000\n",
            "75%      666.000000\n",
            "max      711.000000\n",
            "Name: tax, dtype: float64 \n",
            "\n",
            "\n",
            "Moda(s): \n",
            "\n",
            "0    666.0\n",
            "dtype: float64 \n",
            "\n",
            "\n",
            "Mediana: \n",
            "\n",
            "330.0 \n",
            "\n",
            "\n",
            "Varianza: \n",
            "\n",
            "28404.759488122803\n"
          ],
          "name": "stdout"
        }
      ]
    },
    {
      "cell_type": "markdown",
      "metadata": {
        "id": "Z59P-EWcnjmj"
      },
      "source": [
        "De lo anterior, se propone df_aux como dataset limpio respecto a la característica tax."
      ]
    },
    {
      "cell_type": "markdown",
      "metadata": {
        "id": "Z0n4HwkFnJAR"
      },
      "source": [
        "#### Ptratio"
      ]
    },
    {
      "cell_type": "code",
      "metadata": {
        "colab": {
          "base_uri": "https://localhost:8080/"
        },
        "id": "X0ElHt-cnKgJ",
        "outputId": "1f08d940-4be9-4371-9c44-59897595c5a3"
      },
      "source": [
        "df_aux, df_aux_p = clean_custom(df, \"ptratio\", 2)\n",
        "print(\"Proporción de datos considerados respecto al original: \" ,df_aux_p, \"\\n\\n\")\n",
        "print_medidas(df_aux, \"ptratio\")"
      ],
      "execution_count": 65,
      "outputs": [
        {
          "output_type": "stream",
          "text": [
            "Proporción de datos considerados respecto al original:  1.0 \n",
            "\n",
            "\n",
            "Medidas de tendencia central: \n",
            "\n",
            "count    506.000000\n",
            "mean      18.455534\n",
            "std        2.164946\n",
            "min       12.600000\n",
            "25%       17.400000\n",
            "50%       19.050000\n",
            "75%       20.200000\n",
            "max       22.000000\n",
            "Name: ptratio, dtype: float64 \n",
            "\n",
            "\n",
            "Moda(s): \n",
            "\n",
            "0    20.2\n",
            "dtype: float64 \n",
            "\n",
            "\n",
            "Mediana: \n",
            "\n",
            "19.05 \n",
            "\n",
            "\n",
            "Varianza: \n",
            "\n",
            "4.686989120651217\n"
          ],
          "name": "stdout"
        }
      ]
    },
    {
      "cell_type": "markdown",
      "metadata": {
        "id": "hyU4Ovw3nlly"
      },
      "source": [
        "De lo anterior, se propone df_aux como dataset limpio respecto a la característica ptratio."
      ]
    },
    {
      "cell_type": "markdown",
      "metadata": {
        "id": "z8UJ8he_nK7w"
      },
      "source": [
        "#### Black"
      ]
    },
    {
      "cell_type": "code",
      "metadata": {
        "colab": {
          "base_uri": "https://localhost:8080/"
        },
        "id": "v1AvcyUpnMLT",
        "outputId": "61b39464-1c53-4936-bdbd-b90db9c84170"
      },
      "source": [
        "df_aux, df_aux_p = clean_custom(df, \"black\", 17)\n",
        "print(\"Proporción de datos considerados respecto al original: \" ,df_aux_p, \"\\n\\n\")\n",
        "print_medidas(df_aux, \"black\")"
      ],
      "execution_count": 66,
      "outputs": [
        {
          "output_type": "stream",
          "text": [
            "Proporción de datos considerados respecto al original:  0.9782608695652174 \n",
            "\n",
            "\n",
            "Medidas de tendencia central: \n",
            "\n",
            "count    495.000000\n",
            "mean     364.434424\n",
            "std       75.787420\n",
            "min       21.570000\n",
            "25%      376.715000\n",
            "50%      391.930000\n",
            "75%      396.290000\n",
            "max      396.900000\n",
            "Name: black, dtype: float64 \n",
            "\n",
            "\n",
            "Moda(s): \n",
            "\n",
            "0    396.9\n",
            "dtype: float64 \n",
            "\n",
            "\n",
            "Mediana: \n",
            "\n",
            "391.93 \n",
            "\n",
            "\n",
            "Varianza: \n",
            "\n",
            "5743.732958726535\n"
          ],
          "name": "stdout"
        }
      ]
    },
    {
      "cell_type": "markdown",
      "metadata": {
        "id": "nVZe0PuinoJs"
      },
      "source": [
        "De lo anterior, se propone df_aux como dataset limpio respecto a la característica black. Notar que al incrementar el porcentaje acaparado mayor a 97%, se deben tomar limites muy amplios."
      ]
    },
    {
      "cell_type": "markdown",
      "metadata": {
        "id": "tKd6zShhnM11"
      },
      "source": [
        "#### Lstat"
      ]
    },
    {
      "cell_type": "code",
      "metadata": {
        "colab": {
          "base_uri": "https://localhost:8080/"
        },
        "id": "dU8iuV8GnOHx",
        "outputId": "80db0785-fd0e-4369-ec89-d0cfbaccb85c"
      },
      "source": [
        "df_aux, df_aux_p = clean_custom(df, \"lstat\", 2)\n",
        "print(\"Proporción de datos considerados respecto al original: \" ,df_aux_p, \"\\n\\n\")\n",
        "print_medidas(df_aux, \"lstat\")"
      ],
      "execution_count": 67,
      "outputs": [
        {
          "output_type": "stream",
          "text": [
            "Proporción de datos considerados respecto al original:  0.9960474308300395 \n",
            "\n",
            "\n",
            "Medidas de tendencia central: \n",
            "\n",
            "count    504.000000\n",
            "mean      12.554563\n",
            "std        6.981190\n",
            "min        1.730000\n",
            "25%        6.927500\n",
            "50%       11.330000\n",
            "75%       16.910000\n",
            "max       34.770000\n",
            "Name: lstat, dtype: float64 \n",
            "\n",
            "\n",
            "Moda(s): \n",
            "\n",
            "0     6.36\n",
            "1     7.79\n",
            "2     8.05\n",
            "3    14.10\n",
            "4    18.13\n",
            "dtype: float64 \n",
            "\n",
            "\n",
            "Mediana: \n",
            "\n",
            "11.33 \n",
            "\n",
            "\n",
            "Varianza: \n",
            "\n",
            "48.73701094228281\n"
          ],
          "name": "stdout"
        }
      ]
    },
    {
      "cell_type": "markdown",
      "metadata": {
        "id": "poMW8mtRnpiV"
      },
      "source": [
        "De lo anterior, se propone df_aux como dataset limpio respecto a la característica lstat."
      ]
    },
    {
      "cell_type": "markdown",
      "metadata": {
        "id": "z14JrdZXnOl1"
      },
      "source": [
        "#### Medv"
      ]
    },
    {
      "cell_type": "code",
      "metadata": {
        "colab": {
          "base_uri": "https://localhost:8080/"
        },
        "id": "Q0P39uj0nPpK",
        "outputId": "ff150d01-4b93-4d3f-c757-16993b6c3ae4"
      },
      "source": [
        "df_aux, df_aux_p = clean_custom(df, \"medv\", 3)\n",
        "print(\"Proporción de datos considerados respecto al original: \" ,df_aux_p, \"\\n\\n\")\n",
        "print_medidas(df_aux, \"medv\")"
      ],
      "execution_count": 68,
      "outputs": [
        {
          "output_type": "stream",
          "text": [
            "Proporción de datos considerados respecto al original:  0.9683794466403162 \n",
            "\n",
            "\n",
            "Medidas de tendencia central: \n",
            "\n",
            "count    490.000000\n",
            "mean      21.635918\n",
            "std        7.865301\n",
            "min        5.000000\n",
            "25%       16.700000\n",
            "50%       20.900000\n",
            "75%       24.675000\n",
            "max       48.800000\n",
            "Name: medv, dtype: float64 \n",
            "\n",
            "\n",
            "Moda(s): \n",
            "\n",
            "0    25.0\n",
            "dtype: float64 \n",
            "\n",
            "\n",
            "Mediana: \n",
            "\n",
            "20.9 \n",
            "\n",
            "\n",
            "Varianza: \n",
            "\n",
            "61.862960811318366\n"
          ],
          "name": "stdout"
        }
      ]
    },
    {
      "cell_type": "markdown",
      "metadata": {
        "id": "JbPUGelunrF9"
      },
      "source": [
        "De lo anterior, se propone df_aux como dataset limpio respecto a la característica medv. Al incrementar Desde 3.0 a 3.15 se salta del 96.84% aprox al 100%, sañalando datos outliers ahí."
      ]
    },
    {
      "cell_type": "markdown",
      "metadata": {
        "id": "GB9lUczlwYYR"
      },
      "source": [
        "# Entrega 24-05-2021\n",
        "\n"
      ]
    },
    {
      "cell_type": "markdown",
      "metadata": {
        "id": "3vTB6oHDweso"
      },
      "source": [
        ""
      ]
    },
    {
      "cell_type": "code",
      "metadata": {
        "id": "KbCy-rIu5310"
      },
      "source": [
        "X = df.drop(['medv'],axis=1)\n",
        "Y = df.medv.copy()"
      ],
      "execution_count": 209,
      "outputs": []
    },
    {
      "cell_type": "code",
      "metadata": {
        "colab": {
          "base_uri": "https://localhost:8080/"
        },
        "id": "c5T4X0yLOSCa",
        "outputId": "5675567d-b03a-4213-8c48-9ea41e002ff1"
      },
      "source": [
        "Y"
      ],
      "execution_count": 210,
      "outputs": [
        {
          "output_type": "execute_result",
          "data": {
            "text/plain": [
              "0      24.0\n",
              "1      21.6\n",
              "2      34.7\n",
              "3      33.4\n",
              "4      36.2\n",
              "       ... \n",
              "501    22.4\n",
              "502    20.6\n",
              "503    23.9\n",
              "504    22.0\n",
              "505    11.9\n",
              "Name: medv, Length: 506, dtype: float64"
            ]
          },
          "metadata": {
            "tags": []
          },
          "execution_count": 210
        }
      ]
    },
    {
      "cell_type": "code",
      "metadata": {
        "colab": {
          "base_uri": "https://localhost:8080/"
        },
        "id": "F0HMbWsMA1Vf",
        "outputId": "38ce817e-64d7-4554-85b0-5911dec1fa75"
      },
      "source": [
        "X.isna().sum()"
      ],
      "execution_count": 211,
      "outputs": [
        {
          "output_type": "execute_result",
          "data": {
            "text/plain": [
              "crim       0\n",
              "zn         0\n",
              "indus      0\n",
              "chas       0\n",
              "nox        0\n",
              "rm         0\n",
              "age        0\n",
              "dis        0\n",
              "rad        0\n",
              "tax        0\n",
              "ptratio    0\n",
              "black      0\n",
              "lstat      0\n",
              "dtype: int64"
            ]
          },
          "metadata": {
            "tags": []
          },
          "execution_count": 211
        }
      ]
    },
    {
      "cell_type": "code",
      "metadata": {
        "id": "UQuHp1JXAxGp"
      },
      "source": [
        "import numpy as np\n",
        "from sklearn.linear_model import LinearRegression\n",
        "\n",
        "model = LinearRegression()\n",
        "\n",
        "model.fit(X, Y)\n",
        "\n",
        "Y_hat = model.predict(X)"
      ],
      "execution_count": 212,
      "outputs": []
    },
    {
      "cell_type": "code",
      "metadata": {
        "colab": {
          "base_uri": "https://localhost:8080/"
        },
        "id": "ouMB-Vl1_9z9",
        "outputId": "f2c76c8b-e424-455e-888d-8a6f902ff5e8"
      },
      "source": [
        "from sklearn.metrics import mean_squared_error\n",
        "mean_squared_error(Y, Y_hat)"
      ],
      "execution_count": 213,
      "outputs": [
        {
          "output_type": "execute_result",
          "data": {
            "text/plain": [
              "21.894831181729206"
            ]
          },
          "metadata": {
            "tags": []
          },
          "execution_count": 213
        }
      ]
    },
    {
      "cell_type": "code",
      "metadata": {
        "colab": {
          "base_uri": "https://localhost:8080/"
        },
        "id": "VWEvOWO_Mayn",
        "outputId": "857881b5-de7e-4a24-c7b1-8b7cebb6cd67"
      },
      "source": [
        "from sklearn.metrics import mean_absolute_error\n",
        "mean_absolute_error(Y, Y_hat)"
      ],
      "execution_count": 214,
      "outputs": [
        {
          "output_type": "execute_result",
          "data": {
            "text/plain": [
              "3.2708628109003164"
            ]
          },
          "metadata": {
            "tags": []
          },
          "execution_count": 214
        }
      ]
    },
    {
      "cell_type": "code",
      "metadata": {
        "colab": {
          "base_uri": "https://localhost:8080/"
        },
        "id": "a6yZqGLOMbCr",
        "outputId": "5161eb90-ac9e-416f-82c8-064a5807b5b3"
      },
      "source": [
        "from sklearn.metrics import r2_score\n",
        "r2_score(Y, Y_hat)"
      ],
      "execution_count": 215,
      "outputs": [
        {
          "output_type": "execute_result",
          "data": {
            "text/plain": [
              "0.7406426641094094"
            ]
          },
          "metadata": {
            "tags": []
          },
          "execution_count": 215
        }
      ]
    },
    {
      "cell_type": "code",
      "metadata": {
        "colab": {
          "base_uri": "https://localhost:8080/",
          "height": 281
        },
        "id": "KVApO5i1_-8B",
        "outputId": "e127032c-c76a-42ce-a4b4-537310a60702"
      },
      "source": [
        "import matplotlib.pyplot as plt\n",
        "plt.plot(Y)\n",
        "plt.plot(Y_hat, 'r')"
      ],
      "execution_count": 216,
      "outputs": [
        {
          "output_type": "execute_result",
          "data": {
            "text/plain": [
              "[<matplotlib.lines.Line2D at 0x7fad95c05c90>]"
            ]
          },
          "metadata": {
            "tags": []
          },
          "execution_count": 216
        },
        {
          "output_type": "display_data",
          "data": {
            "image/png": "[encoded data removed]",
            "text/plain": [
              "<Figure size 432x288 with 1 Axes>"
            ]
          },
          "metadata": {
            "tags": [],
            "needs_background": "light"
          }
        }
      ]
    },
    {
      "cell_type": "code",
      "metadata": {
        "colab": {
          "base_uri": "https://localhost:8080/",
          "height": 336
        },
        "id": "3jvXAC7zMock",
        "outputId": "30756964-8de5-496a-a51e-b5a20319d4c1"
      },
      "source": [
        "plt.subplots(figsize=(20,5))\n",
        "plt.plot(Y)\n",
        "plt.plot(Y_hat, 'r')"
      ],
      "execution_count": 217,
      "outputs": [
        {
          "output_type": "execute_result",
          "data": {
            "text/plain": [
              "[<matplotlib.lines.Line2D at 0x7fad95b72150>]"
            ]
          },
          "metadata": {
            "tags": []
          },
          "execution_count": 217
        },
        {
          "output_type": "display_data",
          "data": {
            "image/png": "[encoded data removed]",
            "text/plain": [
              "<Figure size 1440x360 with 1 Axes>"
            ]
          },
          "metadata": {
            "tags": [],
            "needs_background": "light"
          }
        }
      ]
    },
    {
      "cell_type": "code",
      "metadata": {
        "id": "vr30rL4K63x3"
      },
      "source": [
        "import numpy as np\n",
        "from sklearn.model_selection import train_test_split\n",
        "\n",
        "Xtrain, Xtest, Ytrain, Ytest = train_test_split(X,Y,test_size=0.2, train_size=0.8)"
      ],
      "execution_count": 218,
      "outputs": []
    },
    {
      "cell_type": "code",
      "metadata": {
        "colab": {
          "base_uri": "https://localhost:8080/"
        },
        "id": "SpSu_CTzMwXu",
        "outputId": "a842e212-6231-473e-f59a-fc4536b3624d"
      },
      "source": [
        "print(Xtrain.shape)\n",
        "print(Xtest.shape)"
      ],
      "execution_count": 219,
      "outputs": [
        {
          "output_type": "stream",
          "text": [
            "(404, 13)\n",
            "(102, 13)\n"
          ],
          "name": "stdout"
        }
      ]
    },
    {
      "cell_type": "code",
      "metadata": {
        "id": "ouu61Obr-_7i"
      },
      "source": [
        "model2 = LinearRegression()\n",
        "\n",
        "model2.fit(Xtrain, Ytrain)\n",
        "\n",
        "Y_hat = model2.predict(Xtest)\n",
        "\n",
        "print(mean_squared_error(Ytest, Y_hat))\n",
        "print(mean_absolute_error(Ytest, Y_hat))\n",
        "print(r2_score(Ytest, Y_hat))\n",
        "\n",
        "plt.plot(Y_hat, 'r')\n",
        "plt.plot(Ytest, 'g')"
      ],
      "execution_count": null,
      "outputs": []
    },
    {
      "cell_type": "code",
      "metadata": {
        "id": "sKMEnimT_gR0"
      },
      "source": [
        "from sklearn.preprocessing import StandardScaler\n",
        "scaler = StandardScaler()\n",
        "scaler.fit(X)\n",
        "XscaledSS = scaler.transform(X)"
      ],
      "execution_count": 244,
      "outputs": []
    },
    {
      "cell_type": "code",
      "metadata": {
        "id": "FrUGtAjlQ8yg"
      },
      "source": [
        "mo1 = LinearRegression()\n",
        "mo1.fit(XscaledSS, Y)\n",
        "YhatSS = mo1.predict(Xscaled)"
      ],
      "execution_count": 247,
      "outputs": []
    },
    {
      "cell_type": "code",
      "metadata": {
        "colab": {
          "base_uri": "https://localhost:8080/",
          "height": 336
        },
        "id": "W7fn_hCrRTNO",
        "outputId": "f947acd5-40b2-472c-e508-75b59330e35f"
      },
      "source": [
        "plt.subplots(figsize=(20,5))\n",
        "plt.plot(Y)\n",
        "plt.plot(YhatSS, 'r')"
      ],
      "execution_count": 248,
      "outputs": [
        {
          "output_type": "execute_result",
          "data": {
            "text/plain": [
              "[<matplotlib.lines.Line2D at 0x7fad90e858d0>]"
            ]
          },
          "metadata": {
            "tags": []
          },
          "execution_count": 248
        },
        {
          "output_type": "display_data",
          "data": {
            "image/png": "[encoded data removed]",
            "text/plain": [
              "<Figure size 1440x360 with 1 Axes>"
            ]
          },
          "metadata": {
            "tags": [],
            "needs_background": "light"
          }
        }
      ]
    },
    {
      "cell_type": "code",
      "metadata": {
        "colab": {
          "base_uri": "https://localhost:8080/"
        },
        "id": "3msRKyCmRydi",
        "outputId": "7a721b59-3b82-4ea4-9851-1c7c2266c4fd"
      },
      "source": [
        "XscaledSS[0]"
      ],
      "execution_count": 249,
      "outputs": [
        {
          "output_type": "execute_result",
          "data": {
            "text/plain": [
              "array([-0.41978194,  0.28482986, -1.2879095 , -0.27259857, -0.14421743,\n",
              "        0.41367189, -0.12001342,  0.1402136 , -0.98284286, -0.66660821,\n",
              "       -1.45900038,  0.44105193, -1.0755623 ])"
            ]
          },
          "metadata": {
            "tags": []
          },
          "execution_count": 249
        }
      ]
    },
    {
      "cell_type": "code",
      "metadata": {
        "colab": {
          "base_uri": "https://localhost:8080/"
        },
        "id": "3TAfhjqsS3ZI",
        "outputId": "a0068038-6520-4fa9-fd80-479205da7e27"
      },
      "source": [
        "df.iloc[0]"
      ],
      "execution_count": 239,
      "outputs": [
        {
          "output_type": "execute_result",
          "data": {
            "text/plain": [
              "crim         0.00632\n",
              "zn          18.00000\n",
              "indus        2.31000\n",
              "chas         0.00000\n",
              "nox          0.53800\n",
              "rm           6.57500\n",
              "age         65.20000\n",
              "dis          4.09000\n",
              "rad          1.00000\n",
              "tax        296.00000\n",
              "ptratio     15.30000\n",
              "black      396.90000\n",
              "lstat        4.98000\n",
              "medv        24.00000\n",
              "Name: 0, dtype: float64"
            ]
          },
          "metadata": {
            "tags": []
          },
          "execution_count": 239
        }
      ]
    },
    {
      "cell_type": "code",
      "metadata": {
        "id": "CfYZjbupDLbm"
      },
      "source": [
        "from sklearn.preprocessing import MinMaxScaler\n",
        "scalerN = MinMaxScaler()\n",
        "scalerN.fit(X)\n",
        "XscaledNMMS = scalerN.transform(X)\n"
      ],
      "execution_count": 250,
      "outputs": []
    },
    {
      "cell_type": "code",
      "metadata": {
        "id": "tSMvsk7gS-FP"
      },
      "source": [
        "mo2 = LinearRegression()\n",
        "mo2.fit(Xscaled, Y)\n",
        "YhatMMS = mo2.predict(Xscaled)"
      ],
      "execution_count": 251,
      "outputs": []
    },
    {
      "cell_type": "code",
      "metadata": {
        "colab": {
          "base_uri": "https://localhost:8080/",
          "height": 336
        },
        "id": "dN3a1B56DZo4",
        "outputId": "7cdadf9c-9d4e-4be2-ce46-9b971aeee5e8"
      },
      "source": [
        "plt.subplots(figsize=(20,5))\n",
        "plt.plot(Y)\n",
        "plt.plot(YhatMMS, 'r')"
      ],
      "execution_count": 252,
      "outputs": [
        {
          "output_type": "execute_result",
          "data": {
            "text/plain": [
              "[<matplotlib.lines.Line2D at 0x7fad90e75a90>]"
            ]
          },
          "metadata": {
            "tags": []
          },
          "execution_count": 252
        },
        {
          "output_type": "display_data",
          "data": {
            "image/png": "[encoded data removed]",
            "text/plain": [
              "<Figure size 1440x360 with 1 Axes>"
            ]
          },
          "metadata": {
            "tags": [],
            "needs_background": "light"
          }
        }
      ]
    },
    {
      "cell_type": "code",
      "metadata": {
        "colab": {
          "base_uri": "https://localhost:8080/"
        },
        "id": "Fb2OcCQeE9Jd",
        "outputId": "a8dc6c64-2786-4489-a37f-c4c9daecbbd8"
      },
      "source": [
        "XscaledNMMS[0]"
      ],
      "execution_count": 255,
      "outputs": [
        {
          "output_type": "execute_result",
          "data": {
            "text/plain": [
              "array([0.        , 0.18      , 0.06781525, 0.        , 0.31481481,\n",
              "       0.57750527, 0.64160659, 0.26920314, 0.        , 0.20801527,\n",
              "       0.28723404, 1.        , 0.08967991])"
            ]
          },
          "metadata": {
            "tags": []
          },
          "execution_count": 255
        }
      ]
    },
    {
      "cell_type": "code",
      "metadata": {
        "colab": {
          "base_uri": "https://localhost:8080/"
        },
        "id": "DvP7zy7yJP-p",
        "outputId": "ecd4fa85-7444-4dc4-803e-e56fa3d8cbdd"
      },
      "source": [
        "df.iloc[0]"
      ],
      "execution_count": 256,
      "outputs": [
        {
          "output_type": "execute_result",
          "data": {
            "text/plain": [
              "crim         0.00632\n",
              "zn          18.00000\n",
              "indus        2.31000\n",
              "chas         0.00000\n",
              "nox          0.53800\n",
              "rm           6.57500\n",
              "age         65.20000\n",
              "dis          4.09000\n",
              "rad          1.00000\n",
              "tax        296.00000\n",
              "ptratio     15.30000\n",
              "black      396.90000\n",
              "lstat        4.98000\n",
              "medv        24.00000\n",
              "Name: 0, dtype: float64"
            ]
          },
          "metadata": {
            "tags": []
          },
          "execution_count": 256
        }
      ]
    },
    {
      "cell_type": "code",
      "metadata": {
        "id": "HBIvQktTLyLm"
      },
      "source": [
        ""
      ],
      "execution_count": null,
      "outputs": []
    }
  ]
}