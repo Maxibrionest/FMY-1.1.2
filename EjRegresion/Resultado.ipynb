{
  "nbformat": 4,
  "nbformat_minor": 0,
  "metadata": {
    "colab": {
      "name": "Untitled1.ipynb",
      "provenance": [],
      "collapsed_sections": [],
      "authorship_tag": "ABX9TyP5VvrM64XUOJEFcdaexrhG",
      "include_colab_link": true
    },
    "kernelspec": {
      "name": "python3",
      "display_name": "Python 3"
    },
    "language_info": {
      "name": "python"
    }
  },
  "cells": [
    {
      "cell_type": "markdown",
      "metadata": {
        "id": "view-in-github",
        "colab_type": "text"
      },
      "source": [
        "<a href=\"https://colab.research.google.com/github/Maxibrionest/FMY-Fundamentos-Machine-Learning/blob/main/EjRegresion/Resultado.ipynb\" target=\"_parent\"><img src=\"https://colab.research.google.com/assets/colab-badge.svg\" alt=\"Open In Colab\"/></a>"
      ]
    },
    {
      "cell_type": "markdown",
      "metadata": {
        "id": "difWYGe-7Nko"
      },
      "source": [
        "# Ejercicio visalizacion\n"
      ]
    },
    {
      "cell_type": "markdown",
      "metadata": {
        "id": "oljHg0LL7RMx"
      },
      "source": [
        "## importar librerias\n"
      ]
    },
    {
      "cell_type": "code",
      "metadata": {
        "id": "UfPrKF1k11VP"
      },
      "source": [
        "import pandas as pd\n",
        "import numpy as np\n",
        "from sklearn.linear_model import LinearRegression\n",
        "import matplotlib.pyplot as plt\n"
      ],
      "execution_count": 68,
      "outputs": []
    },
    {
      "cell_type": "markdown",
      "metadata": {
        "id": "NLrqOLzV7UoM"
      },
      "source": [
        "## importar datos dataset1\n",
        "\n"
      ]
    },
    {
      "cell_type": "code",
      "metadata": {
        "id": "GSMn_vae11TC"
      },
      "source": [
        "url='https://raw.githubusercontent.com/Maxibrionest/FMY-Fundamentos-Machine-Learning/main/EjRegresion/datasety1.csv'\n",
        "dataset = pd.read_csv(url, sep=\",\")"
      ],
      "execution_count": 69,
      "outputs": []
    },
    {
      "cell_type": "code",
      "metadata": {
        "colab": {
          "base_uri": "https://localhost:8080/"
        },
        "id": "Cte4jyxw325w",
        "outputId": "dafc2d52-b6c2-4338-bb62-62a4ebdb5801"
      },
      "source": [
        "dataset.info()"
      ],
      "execution_count": 70,
      "outputs": [
        {
          "output_type": "stream",
          "text": [
            "<class 'pandas.core.frame.DataFrame'>\n",
            "RangeIndex: 11 entries, 0 to 10\n",
            "Data columns (total 2 columns):\n",
            " #   Column  Non-Null Count  Dtype  \n",
            "---  ------  --------------  -----  \n",
            " 0   x1      11 non-null     float64\n",
            " 1   y1      11 non-null     float64\n",
            "dtypes: float64(2)\n",
            "memory usage: 304.0 bytes\n"
          ],
          "name": "stdout"
        }
      ]
    },
    {
      "cell_type": "code",
      "metadata": {
        "colab": {
          "base_uri": "https://localhost:8080/",
          "height": 197
        },
        "id": "ZyunzNhw4I_I",
        "outputId": "fd1f139b-6a93-4a7d-9ef5-faba1222bf1a"
      },
      "source": [
        "data.head(5)"
      ],
      "execution_count": 71,
      "outputs": [
        {
          "output_type": "execute_result",
          "data": {
            "text/html": [
              "<div>\n",
              "<style scoped>\n",
              "    .dataframe tbody tr th:only-of-type {\n",
              "        vertical-align: middle;\n",
              "    }\n",
              "\n",
              "    .dataframe tbody tr th {\n",
              "        vertical-align: top;\n",
              "    }\n",
              "\n",
              "    .dataframe thead th {\n",
              "        text-align: right;\n",
              "    }\n",
              "</style>\n",
              "<table border=\"1\" class=\"dataframe\">\n",
              "  <thead>\n",
              "    <tr style=\"text-align: right;\">\n",
              "      <th></th>\n",
              "      <th>x1</th>\n",
              "      <th>y1</th>\n",
              "    </tr>\n",
              "  </thead>\n",
              "  <tbody>\n",
              "    <tr>\n",
              "      <th>0</th>\n",
              "      <td>10.0</td>\n",
              "      <td>8.04</td>\n",
              "    </tr>\n",
              "    <tr>\n",
              "      <th>1</th>\n",
              "      <td>8.0</td>\n",
              "      <td>6.95</td>\n",
              "    </tr>\n",
              "    <tr>\n",
              "      <th>2</th>\n",
              "      <td>13.0</td>\n",
              "      <td>7.58</td>\n",
              "    </tr>\n",
              "    <tr>\n",
              "      <th>3</th>\n",
              "      <td>9.0</td>\n",
              "      <td>8.81</td>\n",
              "    </tr>\n",
              "    <tr>\n",
              "      <th>4</th>\n",
              "      <td>11.0</td>\n",
              "      <td>8.33</td>\n",
              "    </tr>\n",
              "  </tbody>\n",
              "</table>\n",
              "</div>"
            ],
            "text/plain": [
              "     x1    y1\n",
              "0  10.0  8.04\n",
              "1   8.0  6.95\n",
              "2  13.0  7.58\n",
              "3   9.0  8.81\n",
              "4  11.0  8.33"
            ]
          },
          "metadata": {
            "tags": []
          },
          "execution_count": 71
        }
      ]
    },
    {
      "cell_type": "markdown",
      "metadata": {
        "id": "CFa9eb9c7XGz"
      },
      "source": [
        "### cargar datos y metricas"
      ]
    },
    {
      "cell_type": "code",
      "metadata": {
        "id": "jIsr-jHv1szQ"
      },
      "source": [
        "# Cargar los datos\n",
        "X = dataset.iloc[:, [True, False]].values\n",
        "y1 = dataset.iloc[:, [False, True]].values\n",
        "\n",
        "#Entrenamiento utilizando una simple regresion lineal\n",
        "regressor = LinearRegression()\n",
        "X_train = X\n",
        "y_train = y1\n",
        "regressor.fit(X, y1)\n",
        "y_hat = regressor.predict(X)"
      ],
      "execution_count": 72,
      "outputs": []
    },
    {
      "cell_type": "code",
      "metadata": {
        "colab": {
          "base_uri": "https://localhost:8080/"
        },
        "id": "SyCkrUOr5H79",
        "outputId": "01a80ab2-d3f0-4ba9-b59c-488df83d6c26"
      },
      "source": [
        "from sklearn.metrics import mean_squared_error\n",
        "mean_squared_error(y1, y_hat)"
      ],
      "execution_count": 73,
      "outputs": [
        {
          "output_type": "execute_result",
          "data": {
            "text/plain": [
              "1.2511536363636366"
            ]
          },
          "metadata": {
            "tags": []
          },
          "execution_count": 73
        }
      ]
    },
    {
      "cell_type": "code",
      "metadata": {
        "colab": {
          "base_uri": "https://localhost:8080/"
        },
        "id": "HeLOltQd5Icu",
        "outputId": "08220901-d2f3-431c-bc98-241a7c05d927"
      },
      "source": [
        "from sklearn.metrics import mean_absolute_error\n",
        "mean_absolute_error(y1, y_hat)"
      ],
      "execution_count": 74,
      "outputs": [
        {
          "output_type": "execute_result",
          "data": {
            "text/plain": [
              "0.837404958677686"
            ]
          },
          "metadata": {
            "tags": []
          },
          "execution_count": 74
        }
      ]
    },
    {
      "cell_type": "code",
      "metadata": {
        "colab": {
          "base_uri": "https://localhost:8080/"
        },
        "id": "EkhJpXQ26eBE",
        "outputId": "d65b466a-33ea-4abe-a1a8-ad23d98db1b5"
      },
      "source": [
        "from sklearn.metrics import r2_score\n",
        "r2_score(y1, y_hat)"
      ],
      "execution_count": 75,
      "outputs": [
        {
          "output_type": "execute_result",
          "data": {
            "text/plain": [
              "0.6665424595087748"
            ]
          },
          "metadata": {
            "tags": []
          },
          "execution_count": 75
        }
      ]
    },
    {
      "cell_type": "code",
      "metadata": {
        "colab": {
          "base_uri": "https://localhost:8080/"
        },
        "id": "eDxM7vsV-W3l",
        "outputId": "979c546c-13ae-4c8f-a936-279f66cb40a7"
      },
      "source": [
        "dataset.mean()"
      ],
      "execution_count": 76,
      "outputs": [
        {
          "output_type": "execute_result",
          "data": {
            "text/plain": [
              "x1    9.000000\n",
              "y1    7.500909\n",
              "dtype: float64"
            ]
          },
          "metadata": {
            "tags": []
          },
          "execution_count": 76
        }
      ]
    },
    {
      "cell_type": "code",
      "metadata": {
        "colab": {
          "base_uri": "https://localhost:8080/"
        },
        "id": "JWu9rOAl-bKh",
        "outputId": "87cb98ef-fb1f-44c7-d4d1-45a909d46edf"
      },
      "source": [
        "dataset.std()"
      ],
      "execution_count": 77,
      "outputs": [
        {
          "output_type": "execute_result",
          "data": {
            "text/plain": [
              "x1    3.316625\n",
              "y1    2.031568\n",
              "dtype: float64"
            ]
          },
          "metadata": {
            "tags": []
          },
          "execution_count": 77
        }
      ]
    },
    {
      "cell_type": "code",
      "metadata": {
        "colab": {
          "base_uri": "https://localhost:8080/"
        },
        "id": "3zTFAtgt-eMu",
        "outputId": "4e24f3cb-8832-471e-f8ae-358b5a92da8b"
      },
      "source": [
        "regressor.coef_"
      ],
      "execution_count": 78,
      "outputs": [
        {
          "output_type": "execute_result",
          "data": {
            "text/plain": [
              "array([[0.50009091]])"
            ]
          },
          "metadata": {
            "tags": []
          },
          "execution_count": 78
        }
      ]
    },
    {
      "cell_type": "markdown",
      "metadata": {
        "id": "rTt9T4wF7a5F"
      },
      "source": [
        "### visualizacion\n"
      ]
    },
    {
      "cell_type": "code",
      "metadata": {
        "colab": {
          "base_uri": "https://localhost:8080/",
          "height": 294
        },
        "id": "5_j83ZTk5IZr",
        "outputId": "c6986aef-f427-4c6e-a8fe-d0a2f04b276f"
      },
      "source": [
        "\n",
        "# Visualización de Resultados\n",
        "plt.scatter(X, y1, color = 'red')\n",
        "plt.plot(X, regressor.predict(X), color = 'blue')\n",
        "plt.title('Regresión')\n",
        "plt.xlabel('Eje y')\n",
        "plt.ylabel('Eje x')\n",
        "plt.show()"
      ],
      "execution_count": 79,
      "outputs": [
        {
          "output_type": "display_data",
          "data": {
            "image/png": "[encoded data removed]",
            "text/plain": [
              "<Figure size 432x288 with 1 Axes>"
            ]
          },
          "metadata": {
            "tags": [],
            "needs_background": "light"
          }
        }
      ]
    },
    {
      "cell_type": "code",
      "metadata": {
        "id": "LeW0FQob5IVw"
      },
      "source": [
        ""
      ],
      "execution_count": 79,
      "outputs": []
    },
    {
      "cell_type": "markdown",
      "metadata": {
        "id": "tGRi-yHv7dNA"
      },
      "source": [
        "## dataset2\n"
      ]
    },
    {
      "cell_type": "code",
      "metadata": {
        "id": "HaMlJyBl2qfI"
      },
      "source": [
        "url='https://raw.githubusercontent.com/Maxibrionest/FMY-Fundamentos-Machine-Learning/main/EjRegresion/datasety2.csv'\n",
        "dataset = pd.read_csv(url, sep=\",\")"
      ],
      "execution_count": 80,
      "outputs": []
    },
    {
      "cell_type": "code",
      "metadata": {
        "colab": {
          "base_uri": "https://localhost:8080/",
          "height": 197
        },
        "id": "d91gW5i07wAD",
        "outputId": "116234d9-6d0f-4b9d-e062-66a9bf643b0e"
      },
      "source": [
        "dataset.head()"
      ],
      "execution_count": 81,
      "outputs": [
        {
          "output_type": "execute_result",
          "data": {
            "text/html": [
              "<div>\n",
              "<style scoped>\n",
              "    .dataframe tbody tr th:only-of-type {\n",
              "        vertical-align: middle;\n",
              "    }\n",
              "\n",
              "    .dataframe tbody tr th {\n",
              "        vertical-align: top;\n",
              "    }\n",
              "\n",
              "    .dataframe thead th {\n",
              "        text-align: right;\n",
              "    }\n",
              "</style>\n",
              "<table border=\"1\" class=\"dataframe\">\n",
              "  <thead>\n",
              "    <tr style=\"text-align: right;\">\n",
              "      <th></th>\n",
              "      <th>x2</th>\n",
              "      <th>y2</th>\n",
              "    </tr>\n",
              "  </thead>\n",
              "  <tbody>\n",
              "    <tr>\n",
              "      <th>0</th>\n",
              "      <td>10.0</td>\n",
              "      <td>9.14</td>\n",
              "    </tr>\n",
              "    <tr>\n",
              "      <th>1</th>\n",
              "      <td>8.0</td>\n",
              "      <td>8.14</td>\n",
              "    </tr>\n",
              "    <tr>\n",
              "      <th>2</th>\n",
              "      <td>13.0</td>\n",
              "      <td>8.74</td>\n",
              "    </tr>\n",
              "    <tr>\n",
              "      <th>3</th>\n",
              "      <td>9.0</td>\n",
              "      <td>8.77</td>\n",
              "    </tr>\n",
              "    <tr>\n",
              "      <th>4</th>\n",
              "      <td>11.0</td>\n",
              "      <td>9.26</td>\n",
              "    </tr>\n",
              "  </tbody>\n",
              "</table>\n",
              "</div>"
            ],
            "text/plain": [
              "     x2    y2\n",
              "0  10.0  9.14\n",
              "1   8.0  8.14\n",
              "2  13.0  8.74\n",
              "3   9.0  8.77\n",
              "4  11.0  9.26"
            ]
          },
          "metadata": {
            "tags": []
          },
          "execution_count": 81
        }
      ]
    },
    {
      "cell_type": "code",
      "metadata": {
        "id": "fkXwi-BM6-Vq"
      },
      "source": [
        "# Cargar los datos\n",
        "X = dataset.iloc[:, [True, False]].values\n",
        "y1 = dataset.iloc[:, [False, True]].values\n",
        "\n",
        "#Entrenamiento utilizando una simple regresion lineal\n",
        "regressor = LinearRegression()\n",
        "X_train = X\n",
        "y_train = y1\n",
        "regressor.fit(X, y1)\n",
        "y_hat = regressor.predict(X)"
      ],
      "execution_count": 82,
      "outputs": []
    },
    {
      "cell_type": "code",
      "metadata": {
        "colab": {
          "base_uri": "https://localhost:8080/"
        },
        "id": "MdarCZy97Dcv",
        "outputId": "9db5627e-e562-475a-d21f-6b80993c8333"
      },
      "source": [
        "from sklearn.metrics import mean_squared_error\n",
        "mean_squared_error(y1, y_hat)"
      ],
      "execution_count": 83,
      "outputs": [
        {
          "output_type": "execute_result",
          "data": {
            "text/plain": [
              "1.2523900826446281"
            ]
          },
          "metadata": {
            "tags": []
          },
          "execution_count": 83
        }
      ]
    },
    {
      "cell_type": "code",
      "metadata": {
        "colab": {
          "base_uri": "https://localhost:8080/"
        },
        "id": "vDny6QSP7ERH",
        "outputId": "56d19945-3819-4889-eeb8-f15f05a147b3"
      },
      "source": [
        "from sklearn.metrics import mean_absolute_error\n",
        "mean_absolute_error(y1, y_hat)"
      ],
      "execution_count": 84,
      "outputs": [
        {
          "output_type": "execute_result",
          "data": {
            "text/plain": [
              "0.9679338842975209"
            ]
          },
          "metadata": {
            "tags": []
          },
          "execution_count": 84
        }
      ]
    },
    {
      "cell_type": "code",
      "metadata": {
        "colab": {
          "base_uri": "https://localhost:8080/"
        },
        "id": "aLKMyOTs7HHu",
        "outputId": "74126a18-4b26-4e61-d1d4-2283fbcfcdf3"
      },
      "source": [
        "from sklearn.metrics import r2_score\n",
        "r2_score(y1, y_hat)"
      ],
      "execution_count": 85,
      "outputs": [
        {
          "output_type": "execute_result",
          "data": {
            "text/plain": [
              "0.6662420337274844"
            ]
          },
          "metadata": {
            "tags": []
          },
          "execution_count": 85
        }
      ]
    },
    {
      "cell_type": "code",
      "metadata": {
        "colab": {
          "base_uri": "https://localhost:8080/"
        },
        "id": "eHzKvea1_UqS",
        "outputId": "f2c32edd-a5c7-4d8c-b7bb-d910a4019d11"
      },
      "source": [
        "dataset.mean()"
      ],
      "execution_count": 86,
      "outputs": [
        {
          "output_type": "execute_result",
          "data": {
            "text/plain": [
              "x2    9.000000\n",
              "y2    7.500909\n",
              "dtype: float64"
            ]
          },
          "metadata": {
            "tags": []
          },
          "execution_count": 86
        }
      ]
    },
    {
      "cell_type": "code",
      "metadata": {
        "colab": {
          "base_uri": "https://localhost:8080/"
        },
        "id": "-ZSv9mko_Unx",
        "outputId": "653fcdfd-2a9f-4d07-eae4-83e7606c4efe"
      },
      "source": [
        "dataset.std()"
      ],
      "execution_count": 87,
      "outputs": [
        {
          "output_type": "execute_result",
          "data": {
            "text/plain": [
              "x2    3.316625\n",
              "y2    2.031657\n",
              "dtype: float64"
            ]
          },
          "metadata": {
            "tags": []
          },
          "execution_count": 87
        }
      ]
    },
    {
      "cell_type": "code",
      "metadata": {
        "colab": {
          "base_uri": "https://localhost:8080/"
        },
        "id": "EgG_M7nc_UYP",
        "outputId": "8aca8491-fa6b-42ea-a951-be2c0332462d"
      },
      "source": [
        "regressor.coef_"
      ],
      "execution_count": 88,
      "outputs": [
        {
          "output_type": "execute_result",
          "data": {
            "text/plain": [
              "array([[0.5]])"
            ]
          },
          "metadata": {
            "tags": []
          },
          "execution_count": 88
        }
      ]
    },
    {
      "cell_type": "code",
      "metadata": {
        "colab": {
          "base_uri": "https://localhost:8080/",
          "height": 294
        },
        "id": "EPLXHYkP7JsA",
        "outputId": "3945fbbb-49ed-4716-8bf8-b45a23057d2f"
      },
      "source": [
        "\n",
        "# Visualización de Resultados\n",
        "plt.scatter(X, y1, color = 'red')\n",
        "plt.plot(X, regressor.predict(X), color = 'blue')\n",
        "plt.title('Regresión')\n",
        "plt.xlabel('Eje y')\n",
        "plt.ylabel('Eje x')\n",
        "plt.show()"
      ],
      "execution_count": 89,
      "outputs": [
        {
          "output_type": "display_data",
          "data": {
            "image/png": "[encoded data removed]",
            "text/plain": [
              "<Figure size 432x288 with 1 Axes>"
            ]
          },
          "metadata": {
            "tags": [],
            "needs_background": "light"
          }
        }
      ]
    },
    {
      "cell_type": "markdown",
      "metadata": {
        "id": "ztjQ085m8WIg"
      },
      "source": [
        "## Dataset 3\n"
      ]
    },
    {
      "cell_type": "code",
      "metadata": {
        "id": "5qypicy28YZQ"
      },
      "source": [
        "url='https://raw.githubusercontent.com/Maxibrionest/FMY-Fundamentos-Machine-Learning/main/EjRegresion/datasety3.csv'\n",
        "dataset = pd.read_csv(url, sep=\",\")"
      ],
      "execution_count": 90,
      "outputs": []
    },
    {
      "cell_type": "code",
      "metadata": {
        "colab": {
          "base_uri": "https://localhost:8080/",
          "height": 197
        },
        "id": "jvYhWIm38Zu4",
        "outputId": "09b3490c-42ac-4f15-fb6e-2f0d6a624317"
      },
      "source": [
        "dataset.head()"
      ],
      "execution_count": 91,
      "outputs": [
        {
          "output_type": "execute_result",
          "data": {
            "text/html": [
              "<div>\n",
              "<style scoped>\n",
              "    .dataframe tbody tr th:only-of-type {\n",
              "        vertical-align: middle;\n",
              "    }\n",
              "\n",
              "    .dataframe tbody tr th {\n",
              "        vertical-align: top;\n",
              "    }\n",
              "\n",
              "    .dataframe thead th {\n",
              "        text-align: right;\n",
              "    }\n",
              "</style>\n",
              "<table border=\"1\" class=\"dataframe\">\n",
              "  <thead>\n",
              "    <tr style=\"text-align: right;\">\n",
              "      <th></th>\n",
              "      <th>x3</th>\n",
              "      <th>y3</th>\n",
              "    </tr>\n",
              "  </thead>\n",
              "  <tbody>\n",
              "    <tr>\n",
              "      <th>0</th>\n",
              "      <td>10.0</td>\n",
              "      <td>7.46</td>\n",
              "    </tr>\n",
              "    <tr>\n",
              "      <th>1</th>\n",
              "      <td>8.0</td>\n",
              "      <td>6.77</td>\n",
              "    </tr>\n",
              "    <tr>\n",
              "      <th>2</th>\n",
              "      <td>13.0</td>\n",
              "      <td>12.74</td>\n",
              "    </tr>\n",
              "    <tr>\n",
              "      <th>3</th>\n",
              "      <td>9.0</td>\n",
              "      <td>7.11</td>\n",
              "    </tr>\n",
              "    <tr>\n",
              "      <th>4</th>\n",
              "      <td>11.0</td>\n",
              "      <td>7.81</td>\n",
              "    </tr>\n",
              "  </tbody>\n",
              "</table>\n",
              "</div>"
            ],
            "text/plain": [
              "     x3     y3\n",
              "0  10.0   7.46\n",
              "1   8.0   6.77\n",
              "2  13.0  12.74\n",
              "3   9.0   7.11\n",
              "4  11.0   7.81"
            ]
          },
          "metadata": {
            "tags": []
          },
          "execution_count": 91
        }
      ]
    },
    {
      "cell_type": "code",
      "metadata": {
        "id": "gDMSUgT88b67"
      },
      "source": [
        "# Cargar los datos\n",
        "X = dataset.iloc[:, [True, False]].values\n",
        "y1 = dataset.iloc[:, [False, True]].values\n",
        "\n",
        "#Entrenamiento utilizando una simple regresion lineal\n",
        "regressor = LinearRegression()\n",
        "X_train = X\n",
        "y_train = y1\n",
        "regressor.fit(X, y1)\n",
        "y_hat = regressor.predict(X)"
      ],
      "execution_count": 92,
      "outputs": []
    },
    {
      "cell_type": "code",
      "metadata": {
        "colab": {
          "base_uri": "https://localhost:8080/"
        },
        "id": "tNAoOFTq8d1j",
        "outputId": "851db223-47c3-4372-8339-68d29bdc7901"
      },
      "source": [
        "from sklearn.metrics import mean_squared_error\n",
        "mean_squared_error(y1, y_hat)"
      ],
      "execution_count": 93,
      "outputs": [
        {
          "output_type": "execute_result",
          "data": {
            "text/plain": [
              "1.2505628925619836"
            ]
          },
          "metadata": {
            "tags": []
          },
          "execution_count": 93
        }
      ]
    },
    {
      "cell_type": "code",
      "metadata": {
        "colab": {
          "base_uri": "https://localhost:8080/"
        },
        "id": "o_Keq3cZ8eoV",
        "outputId": "93e324de-068b-4a36-f0f8-670a1934a68a"
      },
      "source": [
        "from sklearn.metrics import mean_absolute_error\n",
        "mean_absolute_error(y1, y_hat)"
      ],
      "execution_count": 94,
      "outputs": [
        {
          "output_type": "execute_result",
          "data": {
            "text/plain": [
              "0.7159669421487606"
            ]
          },
          "metadata": {
            "tags": []
          },
          "execution_count": 94
        }
      ]
    },
    {
      "cell_type": "code",
      "metadata": {
        "colab": {
          "base_uri": "https://localhost:8080/"
        },
        "id": "XwIaG_668f_9",
        "outputId": "98a2c6d3-eab0-4a60-f1eb-326faee1d82c"
      },
      "source": [
        "from sklearn.metrics import r2_score\n",
        "r2_score(y1, y_hat)"
      ],
      "execution_count": 95,
      "outputs": [
        {
          "output_type": "execute_result",
          "data": {
            "text/plain": [
              "0.6663240410665592"
            ]
          },
          "metadata": {
            "tags": []
          },
          "execution_count": 95
        }
      ]
    },
    {
      "cell_type": "code",
      "metadata": {
        "colab": {
          "base_uri": "https://localhost:8080/"
        },
        "id": "i68DbFBf_bm1",
        "outputId": "de983ca1-862f-43d8-d689-43de677711b0"
      },
      "source": [
        "dataset.mean()"
      ],
      "execution_count": 96,
      "outputs": [
        {
          "output_type": "execute_result",
          "data": {
            "text/plain": [
              "x3    9.0\n",
              "y3    7.5\n",
              "dtype: float64"
            ]
          },
          "metadata": {
            "tags": []
          },
          "execution_count": 96
        }
      ]
    },
    {
      "cell_type": "code",
      "metadata": {
        "colab": {
          "base_uri": "https://localhost:8080/"
        },
        "id": "EzvoVgNX_biy",
        "outputId": "eadb5ced-bdf2-4452-8822-a6f179c1acb2"
      },
      "source": [
        "dataset.std()"
      ],
      "execution_count": 97,
      "outputs": [
        {
          "output_type": "execute_result",
          "data": {
            "text/plain": [
              "x3    3.316625\n",
              "y3    2.030424\n",
              "dtype: float64"
            ]
          },
          "metadata": {
            "tags": []
          },
          "execution_count": 97
        }
      ]
    },
    {
      "cell_type": "code",
      "metadata": {
        "colab": {
          "base_uri": "https://localhost:8080/"
        },
        "id": "OGfL7PB4_beS",
        "outputId": "9b2ca854-d247-475a-84fc-b4c19f25892e"
      },
      "source": [
        "regressor.coef_"
      ],
      "execution_count": 98,
      "outputs": [
        {
          "output_type": "execute_result",
          "data": {
            "text/plain": [
              "array([[0.49972727]])"
            ]
          },
          "metadata": {
            "tags": []
          },
          "execution_count": 98
        }
      ]
    },
    {
      "cell_type": "code",
      "metadata": {
        "colab": {
          "base_uri": "https://localhost:8080/",
          "height": 294
        },
        "id": "DVSH5Tnz8hYj",
        "outputId": "77497bff-4b05-4fb5-b215-8a10d805d1e4"
      },
      "source": [
        "\n",
        "# Visualización de Resultados\n",
        "plt.scatter(X, y1, color = 'red')\n",
        "plt.plot(X, regressor.predict(X), color = 'blue')\n",
        "plt.title('Regresión')\n",
        "plt.xlabel('Eje y')\n",
        "plt.ylabel('Eje x')\n",
        "plt.show()"
      ],
      "execution_count": 99,
      "outputs": [
        {
          "output_type": "display_data",
          "data": {
            "image/png": "[encoded data removed]",
            "text/plain": [
              "<Figure size 432x288 with 1 Axes>"
            ]
          },
          "metadata": {
            "tags": [],
            "needs_background": "light"
          }
        }
      ]
    },
    {
      "cell_type": "code",
      "metadata": {
        "id": "508qKGIM8i-l"
      },
      "source": [
        ""
      ],
      "execution_count": 99,
      "outputs": []
    },
    {
      "cell_type": "markdown",
      "metadata": {
        "id": "yaxZ7iuy8sSB"
      },
      "source": [
        "## dataset4\n"
      ]
    },
    {
      "cell_type": "code",
      "metadata": {
        "id": "AUDPnn1f8tgJ"
      },
      "source": [
        "url='https://raw.githubusercontent.com/Maxibrionest/FMY-Fundamentos-Machine-Learning/main/EjRegresion/datasety4.csv'\n",
        "dataset = pd.read_csv(url, sep=\",\")"
      ],
      "execution_count": 100,
      "outputs": []
    },
    {
      "cell_type": "code",
      "metadata": {
        "colab": {
          "base_uri": "https://localhost:8080/",
          "height": 197
        },
        "id": "xRntPdBW8uwH",
        "outputId": "e443845a-7325-4923-8842-2479ac03e6c0"
      },
      "source": [
        "dataset.head()"
      ],
      "execution_count": 101,
      "outputs": [
        {
          "output_type": "execute_result",
          "data": {
            "text/html": [
              "<div>\n",
              "<style scoped>\n",
              "    .dataframe tbody tr th:only-of-type {\n",
              "        vertical-align: middle;\n",
              "    }\n",
              "\n",
              "    .dataframe tbody tr th {\n",
              "        vertical-align: top;\n",
              "    }\n",
              "\n",
              "    .dataframe thead th {\n",
              "        text-align: right;\n",
              "    }\n",
              "</style>\n",
              "<table border=\"1\" class=\"dataframe\">\n",
              "  <thead>\n",
              "    <tr style=\"text-align: right;\">\n",
              "      <th></th>\n",
              "      <th>x4</th>\n",
              "      <th>y4</th>\n",
              "    </tr>\n",
              "  </thead>\n",
              "  <tbody>\n",
              "    <tr>\n",
              "      <th>0</th>\n",
              "      <td>8.0</td>\n",
              "      <td>6.58</td>\n",
              "    </tr>\n",
              "    <tr>\n",
              "      <th>1</th>\n",
              "      <td>8.0</td>\n",
              "      <td>5.76</td>\n",
              "    </tr>\n",
              "    <tr>\n",
              "      <th>2</th>\n",
              "      <td>8.0</td>\n",
              "      <td>7.71</td>\n",
              "    </tr>\n",
              "    <tr>\n",
              "      <th>3</th>\n",
              "      <td>8.0</td>\n",
              "      <td>8.84</td>\n",
              "    </tr>\n",
              "    <tr>\n",
              "      <th>4</th>\n",
              "      <td>8.0</td>\n",
              "      <td>8.47</td>\n",
              "    </tr>\n",
              "  </tbody>\n",
              "</table>\n",
              "</div>"
            ],
            "text/plain": [
              "    x4    y4\n",
              "0  8.0  6.58\n",
              "1  8.0  5.76\n",
              "2  8.0  7.71\n",
              "3  8.0  8.84\n",
              "4  8.0  8.47"
            ]
          },
          "metadata": {
            "tags": []
          },
          "execution_count": 101
        }
      ]
    },
    {
      "cell_type": "code",
      "metadata": {
        "id": "xrhRE2Av8vnQ"
      },
      "source": [
        "# Cargar los datos\n",
        "X = dataset.iloc[:, [True, False]].values\n",
        "y1 = dataset.iloc[:, [False, True]].values\n",
        "\n",
        "#Entrenamiento utilizando una simple regresion lineal\n",
        "regressor = LinearRegression()\n",
        "X_train = X\n",
        "y_train = y1\n",
        "regressor.fit(X, y1)\n",
        "y_hat = regressor.predict(X)"
      ],
      "execution_count": 102,
      "outputs": []
    },
    {
      "cell_type": "code",
      "metadata": {
        "colab": {
          "base_uri": "https://localhost:8080/"
        },
        "id": "MuW6hev28xFS",
        "outputId": "856978cf-40ce-4412-cbc5-0dc9f433c26b"
      },
      "source": [
        "from sklearn.metrics import mean_squared_error\n",
        "mean_squared_error(y1, y_hat)"
      ],
      "execution_count": 103,
      "outputs": [
        {
          "output_type": "execute_result",
          "data": {
            "text/plain": [
              "1.249317272727273"
            ]
          },
          "metadata": {
            "tags": []
          },
          "execution_count": 103
        }
      ]
    },
    {
      "cell_type": "code",
      "metadata": {
        "colab": {
          "base_uri": "https://localhost:8080/"
        },
        "id": "ZnubvrCF8ykq",
        "outputId": "37e3487f-d187-44ac-a4d8-5d645dc9eb21"
      },
      "source": [
        "from sklearn.metrics import mean_absolute_error\n",
        "mean_absolute_error(y1, y_hat)"
      ],
      "execution_count": 104,
      "outputs": [
        {
          "output_type": "execute_result",
          "data": {
            "text/plain": [
              "0.902727272727273"
            ]
          },
          "metadata": {
            "tags": []
          },
          "execution_count": 104
        }
      ]
    },
    {
      "cell_type": "code",
      "metadata": {
        "colab": {
          "base_uri": "https://localhost:8080/"
        },
        "id": "kVQuei3u80Nj",
        "outputId": "ea9d45ff-0365-44d4-cd71-b7b9d67b583e"
      },
      "source": [
        "from sklearn.metrics import r2_score\n",
        "r2_score(y1, y_hat)"
      ],
      "execution_count": 105,
      "outputs": [
        {
          "output_type": "execute_result",
          "data": {
            "text/plain": [
              "0.6667072568984653"
            ]
          },
          "metadata": {
            "tags": []
          },
          "execution_count": 105
        }
      ]
    },
    {
      "cell_type": "code",
      "metadata": {
        "colab": {
          "base_uri": "https://localhost:8080/"
        },
        "id": "dnWgJLtG_enn",
        "outputId": "31429fd3-af8f-4815-b603-f22c9dbae6a7"
      },
      "source": [
        "dataset.mean()"
      ],
      "execution_count": 106,
      "outputs": [
        {
          "output_type": "execute_result",
          "data": {
            "text/plain": [
              "x4    9.000000\n",
              "y4    7.500909\n",
              "dtype: float64"
            ]
          },
          "metadata": {
            "tags": []
          },
          "execution_count": 106
        }
      ]
    },
    {
      "cell_type": "code",
      "metadata": {
        "colab": {
          "base_uri": "https://localhost:8080/"
        },
        "id": "aIynop0X_elN",
        "outputId": "4e0dcca4-66f3-46bf-ff78-74d14d576b56"
      },
      "source": [
        "dataset.std()"
      ],
      "execution_count": 107,
      "outputs": [
        {
          "output_type": "execute_result",
          "data": {
            "text/plain": [
              "x4    3.316625\n",
              "y4    2.030579\n",
              "dtype: float64"
            ]
          },
          "metadata": {
            "tags": []
          },
          "execution_count": 107
        }
      ]
    },
    {
      "cell_type": "code",
      "metadata": {
        "colab": {
          "base_uri": "https://localhost:8080/"
        },
        "id": "NATJGMzp_ei7",
        "outputId": "6fa5c9ee-3631-4d14-e394-f62a171bf1bc"
      },
      "source": [
        "regressor.coef_"
      ],
      "execution_count": 108,
      "outputs": [
        {
          "output_type": "execute_result",
          "data": {
            "text/plain": [
              "array([[0.49990909]])"
            ]
          },
          "metadata": {
            "tags": []
          },
          "execution_count": 108
        }
      ]
    },
    {
      "cell_type": "code",
      "metadata": {
        "colab": {
          "base_uri": "https://localhost:8080/",
          "height": 294
        },
        "id": "s8FDK0g783P2",
        "outputId": "b2522748-0c7e-4bc3-ff35-84d996b0a8ae"
      },
      "source": [
        "\n",
        "# Visualización de Resultados\n",
        "plt.scatter(X, y1, color = 'red')\n",
        "plt.plot(X, regressor.predict(X), color = 'blue')\n",
        "plt.title('Regresión')\n",
        "plt.xlabel('Eje y')\n",
        "plt.ylabel('Eje x')\n",
        "plt.show()"
      ],
      "execution_count": 109,
      "outputs": [
        {
          "output_type": "display_data",
          "data": {
            "image/png": "[encoded data removed]",
            "text/plain": [
              "<Figure size 432x288 with 1 Axes>"
            ]
          },
          "metadata": {
            "tags": [],
            "needs_background": "light"
          }
        }
      ]
    },
    {
      "cell_type": "code",
      "metadata": {
        "id": "gxMJOKCQ84hO"
      },
      "source": [
        ""
      ],
      "execution_count": 109,
      "outputs": []
    }
  ]
}