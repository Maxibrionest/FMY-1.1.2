{
  "nbformat": 4,
  "nbformat_minor": 0,
  "metadata": {
    "colab": {
      "name": "Entrega1_FMY.ipynb",
      "provenance": [],
      "collapsed_sections": [
        "3_Tlv5x_k9iF"
      ],
      "include_colab_link": true
    },
    "kernelspec": {
      "name": "python3",
      "display_name": "Python 3"
    },
    "language_info": {
      "name": "python"
    }
  },
  "cells": [
    {
      "cell_type": "markdown",
      "metadata": {
        "id": "view-in-github",
        "colab_type": "text"
      },
      "source": [
        "<a href=\"https://colab.research.google.com/github/Maxibrionest/FMY-Fundamentos-Machine-Learning/blob/main/Entrega1/Entrega1_FMY.ipynb\" target=\"_parent\"><img src=\"https://colab.research.google.com/assets/colab-badge.svg\" alt=\"Open In Colab\"/></a>"
      ]
    },
    {
      "cell_type": "code",
      "metadata": {
        "id": "YnXoooy9seat"
      },
      "source": [
        "import pandas as pd\n",
        "import numpy as np \n",
        "import matplotlib.pyplot as plt"
      ],
      "execution_count": null,
      "outputs": []
    },
    {
      "cell_type": "code",
      "metadata": {
        "id": "tSMI3v_1sZFT"
      },
      "source": [
        "url = 'https://raw.githubusercontent.com/Maxibrionest/FMY-Fundamentos-Machine-Learning/main/Entrega1/boston_housing.csv'\n",
        "df = pd.read_csv(url, sep=\",\")"
      ],
      "execution_count": null,
      "outputs": []
    },
    {
      "cell_type": "code",
      "metadata": {
        "colab": {
          "base_uri": "https://localhost:8080/",
          "height": 197
        },
        "id": "cUZiKMkIuE4i",
        "outputId": "90f53718-6194-4b35-819d-0ce76e35a92c"
      },
      "source": [
        "df.head(5)"
      ],
      "execution_count": null,
      "outputs": [
        {
          "output_type": "execute_result",
          "data": {
            "text/html": [
              "<div>\n",
              "<style scoped>\n",
              "    .dataframe tbody tr th:only-of-type {\n",
              "        vertical-align: middle;\n",
              "    }\n",
              "\n",
              "    .dataframe tbody tr th {\n",
              "        vertical-align: top;\n",
              "    }\n",
              "\n",
              "    .dataframe thead th {\n",
              "        text-align: right;\n",
              "    }\n",
              "</style>\n",
              "<table border=\"1\" class=\"dataframe\">\n",
              "  <thead>\n",
              "    <tr style=\"text-align: right;\">\n",
              "      <th></th>\n",
              "      <th>crim</th>\n",
              "      <th>zn</th>\n",
              "      <th>indus</th>\n",
              "      <th>chas</th>\n",
              "      <th>nox</th>\n",
              "      <th>rm</th>\n",
              "      <th>age</th>\n",
              "      <th>dis</th>\n",
              "      <th>rad</th>\n",
              "      <th>tax</th>\n",
              "      <th>ptratio</th>\n",
              "      <th>black</th>\n",
              "      <th>lstat</th>\n",
              "      <th>medv</th>\n",
              "    </tr>\n",
              "  </thead>\n",
              "  <tbody>\n",
              "    <tr>\n",
              "      <th>0</th>\n",
              "      <td>0.00632</td>\n",
              "      <td>18.0</td>\n",
              "      <td>2.31</td>\n",
              "      <td>0</td>\n",
              "      <td>0.538</td>\n",
              "      <td>6.575</td>\n",
              "      <td>65.2</td>\n",
              "      <td>4.0900</td>\n",
              "      <td>1</td>\n",
              "      <td>296.0</td>\n",
              "      <td>15.3</td>\n",
              "      <td>396.90</td>\n",
              "      <td>4.98</td>\n",
              "      <td>24.0</td>\n",
              "    </tr>\n",
              "    <tr>\n",
              "      <th>1</th>\n",
              "      <td>0.02731</td>\n",
              "      <td>0.0</td>\n",
              "      <td>7.07</td>\n",
              "      <td>0</td>\n",
              "      <td>0.469</td>\n",
              "      <td>6.421</td>\n",
              "      <td>78.9</td>\n",
              "      <td>4.9671</td>\n",
              "      <td>2</td>\n",
              "      <td>242.0</td>\n",
              "      <td>17.8</td>\n",
              "      <td>396.90</td>\n",
              "      <td>9.14</td>\n",
              "      <td>21.6</td>\n",
              "    </tr>\n",
              "    <tr>\n",
              "      <th>2</th>\n",
              "      <td>0.02729</td>\n",
              "      <td>0.0</td>\n",
              "      <td>7.07</td>\n",
              "      <td>0</td>\n",
              "      <td>0.469</td>\n",
              "      <td>7.185</td>\n",
              "      <td>61.1</td>\n",
              "      <td>4.9671</td>\n",
              "      <td>2</td>\n",
              "      <td>242.0</td>\n",
              "      <td>17.8</td>\n",
              "      <td>392.83</td>\n",
              "      <td>4.03</td>\n",
              "      <td>34.7</td>\n",
              "    </tr>\n",
              "    <tr>\n",
              "      <th>3</th>\n",
              "      <td>0.03237</td>\n",
              "      <td>0.0</td>\n",
              "      <td>2.18</td>\n",
              "      <td>0</td>\n",
              "      <td>0.458</td>\n",
              "      <td>6.998</td>\n",
              "      <td>45.8</td>\n",
              "      <td>6.0622</td>\n",
              "      <td>3</td>\n",
              "      <td>222.0</td>\n",
              "      <td>18.7</td>\n",
              "      <td>394.63</td>\n",
              "      <td>2.94</td>\n",
              "      <td>33.4</td>\n",
              "    </tr>\n",
              "    <tr>\n",
              "      <th>4</th>\n",
              "      <td>0.06905</td>\n",
              "      <td>0.0</td>\n",
              "      <td>2.18</td>\n",
              "      <td>0</td>\n",
              "      <td>0.458</td>\n",
              "      <td>7.147</td>\n",
              "      <td>54.2</td>\n",
              "      <td>6.0622</td>\n",
              "      <td>3</td>\n",
              "      <td>222.0</td>\n",
              "      <td>18.7</td>\n",
              "      <td>396.90</td>\n",
              "      <td>5.33</td>\n",
              "      <td>36.2</td>\n",
              "    </tr>\n",
              "  </tbody>\n",
              "</table>\n",
              "</div>"
            ],
            "text/plain": [
              "      crim    zn  indus  chas    nox  ...    tax  ptratio   black  lstat  medv\n",
              "0  0.00632  18.0   2.31     0  0.538  ...  296.0     15.3  396.90   4.98  24.0\n",
              "1  0.02731   0.0   7.07     0  0.469  ...  242.0     17.8  396.90   9.14  21.6\n",
              "2  0.02729   0.0   7.07     0  0.469  ...  242.0     17.8  392.83   4.03  34.7\n",
              "3  0.03237   0.0   2.18     0  0.458  ...  222.0     18.7  394.63   2.94  33.4\n",
              "4  0.06905   0.0   2.18     0  0.458  ...  222.0     18.7  396.90   5.33  36.2\n",
              "\n",
              "[5 rows x 14 columns]"
            ]
          },
          "metadata": {
            "tags": []
          },
          "execution_count": 3
        }
      ]
    },
    {
      "cell_type": "code",
      "metadata": {
        "colab": {
          "base_uri": "https://localhost:8080/",
          "height": 257
        },
        "id": "I4Pxvam2DdqY",
        "outputId": "7f9b2bd9-120a-47d9-d520-246ddc6b198f"
      },
      "source": [
        "df.sample(7)"
      ],
      "execution_count": null,
      "outputs": [
        {
          "output_type": "execute_result",
          "data": {
            "text/html": [
              "<div>\n",
              "<style scoped>\n",
              "    .dataframe tbody tr th:only-of-type {\n",
              "        vertical-align: middle;\n",
              "    }\n",
              "\n",
              "    .dataframe tbody tr th {\n",
              "        vertical-align: top;\n",
              "    }\n",
              "\n",
              "    .dataframe thead th {\n",
              "        text-align: right;\n",
              "    }\n",
              "</style>\n",
              "<table border=\"1\" class=\"dataframe\">\n",
              "  <thead>\n",
              "    <tr style=\"text-align: right;\">\n",
              "      <th></th>\n",
              "      <th>crim</th>\n",
              "      <th>zn</th>\n",
              "      <th>indus</th>\n",
              "      <th>chas</th>\n",
              "      <th>nox</th>\n",
              "      <th>rm</th>\n",
              "      <th>age</th>\n",
              "      <th>dis</th>\n",
              "      <th>rad</th>\n",
              "      <th>tax</th>\n",
              "      <th>ptratio</th>\n",
              "      <th>black</th>\n",
              "      <th>lstat</th>\n",
              "      <th>medv</th>\n",
              "    </tr>\n",
              "  </thead>\n",
              "  <tbody>\n",
              "    <tr>\n",
              "      <th>365</th>\n",
              "      <td>4.55587</td>\n",
              "      <td>0.0</td>\n",
              "      <td>18.10</td>\n",
              "      <td>0</td>\n",
              "      <td>0.718</td>\n",
              "      <td>3.561</td>\n",
              "      <td>87.9</td>\n",
              "      <td>1.6132</td>\n",
              "      <td>24</td>\n",
              "      <td>666.0</td>\n",
              "      <td>20.2</td>\n",
              "      <td>354.70</td>\n",
              "      <td>7.12</td>\n",
              "      <td>27.5</td>\n",
              "    </tr>\n",
              "    <tr>\n",
              "      <th>433</th>\n",
              "      <td>5.58107</td>\n",
              "      <td>0.0</td>\n",
              "      <td>18.10</td>\n",
              "      <td>0</td>\n",
              "      <td>0.713</td>\n",
              "      <td>6.436</td>\n",
              "      <td>87.9</td>\n",
              "      <td>2.3158</td>\n",
              "      <td>24</td>\n",
              "      <td>666.0</td>\n",
              "      <td>20.2</td>\n",
              "      <td>100.19</td>\n",
              "      <td>16.22</td>\n",
              "      <td>14.3</td>\n",
              "    </tr>\n",
              "    <tr>\n",
              "      <th>446</th>\n",
              "      <td>6.28807</td>\n",
              "      <td>0.0</td>\n",
              "      <td>18.10</td>\n",
              "      <td>0</td>\n",
              "      <td>0.740</td>\n",
              "      <td>6.341</td>\n",
              "      <td>96.4</td>\n",
              "      <td>2.0720</td>\n",
              "      <td>24</td>\n",
              "      <td>666.0</td>\n",
              "      <td>20.2</td>\n",
              "      <td>318.01</td>\n",
              "      <td>17.79</td>\n",
              "      <td>14.9</td>\n",
              "    </tr>\n",
              "    <tr>\n",
              "      <th>469</th>\n",
              "      <td>13.07510</td>\n",
              "      <td>0.0</td>\n",
              "      <td>18.10</td>\n",
              "      <td>0</td>\n",
              "      <td>0.580</td>\n",
              "      <td>5.713</td>\n",
              "      <td>56.7</td>\n",
              "      <td>2.8237</td>\n",
              "      <td>24</td>\n",
              "      <td>666.0</td>\n",
              "      <td>20.2</td>\n",
              "      <td>396.90</td>\n",
              "      <td>14.76</td>\n",
              "      <td>20.1</td>\n",
              "    </tr>\n",
              "    <tr>\n",
              "      <th>432</th>\n",
              "      <td>6.44405</td>\n",
              "      <td>0.0</td>\n",
              "      <td>18.10</td>\n",
              "      <td>0</td>\n",
              "      <td>0.584</td>\n",
              "      <td>6.425</td>\n",
              "      <td>74.8</td>\n",
              "      <td>2.2004</td>\n",
              "      <td>24</td>\n",
              "      <td>666.0</td>\n",
              "      <td>20.2</td>\n",
              "      <td>97.95</td>\n",
              "      <td>12.03</td>\n",
              "      <td>16.1</td>\n",
              "    </tr>\n",
              "    <tr>\n",
              "      <th>417</th>\n",
              "      <td>25.94060</td>\n",
              "      <td>0.0</td>\n",
              "      <td>18.10</td>\n",
              "      <td>0</td>\n",
              "      <td>0.679</td>\n",
              "      <td>5.304</td>\n",
              "      <td>89.1</td>\n",
              "      <td>1.6475</td>\n",
              "      <td>24</td>\n",
              "      <td>666.0</td>\n",
              "      <td>20.2</td>\n",
              "      <td>127.36</td>\n",
              "      <td>26.64</td>\n",
              "      <td>10.4</td>\n",
              "    </tr>\n",
              "    <tr>\n",
              "      <th>155</th>\n",
              "      <td>3.53501</td>\n",
              "      <td>0.0</td>\n",
              "      <td>19.58</td>\n",
              "      <td>1</td>\n",
              "      <td>0.871</td>\n",
              "      <td>6.152</td>\n",
              "      <td>82.6</td>\n",
              "      <td>1.7455</td>\n",
              "      <td>5</td>\n",
              "      <td>403.0</td>\n",
              "      <td>14.7</td>\n",
              "      <td>88.01</td>\n",
              "      <td>15.02</td>\n",
              "      <td>15.6</td>\n",
              "    </tr>\n",
              "  </tbody>\n",
              "</table>\n",
              "</div>"
            ],
            "text/plain": [
              "         crim   zn  indus  chas    nox  ...    tax  ptratio   black  lstat  medv\n",
              "365   4.55587  0.0  18.10     0  0.718  ...  666.0     20.2  354.70   7.12  27.5\n",
              "433   5.58107  0.0  18.10     0  0.713  ...  666.0     20.2  100.19  16.22  14.3\n",
              "446   6.28807  0.0  18.10     0  0.740  ...  666.0     20.2  318.01  17.79  14.9\n",
              "469  13.07510  0.0  18.10     0  0.580  ...  666.0     20.2  396.90  14.76  20.1\n",
              "432   6.44405  0.0  18.10     0  0.584  ...  666.0     20.2   97.95  12.03  16.1\n",
              "417  25.94060  0.0  18.10     0  0.679  ...  666.0     20.2  127.36  26.64  10.4\n",
              "155   3.53501  0.0  19.58     1  0.871  ...  403.0     14.7   88.01  15.02  15.6\n",
              "\n",
              "[7 rows x 14 columns]"
            ]
          },
          "metadata": {
            "tags": []
          },
          "execution_count": 4
        }
      ]
    },
    {
      "cell_type": "code",
      "metadata": {
        "colab": {
          "base_uri": "https://localhost:8080/"
        },
        "id": "KC8ctW7KOfs8",
        "outputId": "3a8dac99-bbb7-4ecb-f94c-e1523adfa42b"
      },
      "source": [
        "#Se describen las columnas con su tipo de dato y señalando que no son nulos. Ademas se puede señalar que son 506 registros.\n",
        "df.info()"
      ],
      "execution_count": null,
      "outputs": [
        {
          "output_type": "stream",
          "text": [
            "<class 'pandas.core.frame.DataFrame'>\n",
            "RangeIndex: 506 entries, 0 to 505\n",
            "Data columns (total 14 columns):\n",
            " #   Column   Non-Null Count  Dtype  \n",
            "---  ------   --------------  -----  \n",
            " 0   crim     506 non-null    float64\n",
            " 1   zn       506 non-null    float64\n",
            " 2   indus    506 non-null    float64\n",
            " 3   chas     506 non-null    int64  \n",
            " 4   nox      506 non-null    float64\n",
            " 5   rm       506 non-null    float64\n",
            " 6   age      506 non-null    float64\n",
            " 7   dis      506 non-null    float64\n",
            " 8   rad      506 non-null    int64  \n",
            " 9   tax      506 non-null    float64\n",
            " 10  ptratio  506 non-null    float64\n",
            " 11  black    506 non-null    float64\n",
            " 12  lstat    506 non-null    float64\n",
            " 13  medv     506 non-null    float64\n",
            "dtypes: float64(12), int64(2)\n",
            "memory usage: 55.5 KB\n"
          ],
          "name": "stdout"
        }
      ]
    },
    {
      "cell_type": "markdown",
      "metadata": {
        "id": "iWejVGxmY2co"
      },
      "source": [
        "En base a la siguiente información del comando info, podemos deducir que no hay \"Missing Values\""
      ]
    },
    {
      "cell_type": "code",
      "metadata": {
        "colab": {
          "base_uri": "https://localhost:8080/"
        },
        "id": "79WZy-6ePxPm",
        "outputId": "4558aaaf-4e32-4783-d3f4-dc1d338bb6b3"
      },
      "source": [
        "#El siguiente metodo devuelve una serie que contiene recuentos de filas unicas en el Data frame.\n",
        "df.value_counts()"
      ],
      "execution_count": null,
      "outputs": [
        {
          "output_type": "execute_result",
          "data": {
            "text/plain": [
              "crim      zn    indus  chas  nox    rm     age    dis      rad  tax    ptratio  black   lstat  medv\n",
              "88.97620  0.0   18.10  0     0.671  6.968  91.9   1.4165   24   666.0  20.2     396.90  17.21  10.4    1\n",
              "0.12083   0.0   2.89   0     0.445  8.069  76.0   3.4952   2    276.0  18.0     396.90  4.21   38.7    1\n",
              "0.10612   30.0  4.93   0     0.428  6.095  65.1   6.3361   6    300.0  16.6     394.62  12.40  20.1    1\n",
              "0.10659   80.0  1.91   0     0.413  5.936  19.5   10.5857  4    334.0  22.0     376.04  5.57   20.6    1\n",
              "0.10793   0.0   8.56   0     0.520  6.195  54.4   2.7778   5    384.0  20.9     393.49  13.00  21.7    1\n",
              "                                                                                                      ..\n",
              "1.25179   0.0   8.14   0     0.538  5.570  98.1   3.7979   4    307.0  21.0     376.57  21.02  13.6    1\n",
              "1.27346   0.0   19.58  1     0.605  6.250  92.6   1.7984   5    403.0  14.7     338.92  5.50   27.0    1\n",
              "1.34284   0.0   19.58  0     0.605  6.066  100.0  1.7573   5    403.0  14.7     353.89  6.43   24.3    1\n",
              "1.35472   0.0   8.14   0     0.538  6.072  100.0  4.1750   4    307.0  21.0     376.73  13.04  14.5    1\n",
              "0.00632   18.0  2.31   0     0.538  6.575  65.2   4.0900   1    296.0  15.3     396.90  4.98   24.0    1\n",
              "Length: 506, dtype: int64"
            ]
          },
          "metadata": {
            "tags": []
          },
          "execution_count": 6
        }
      ]
    },
    {
      "cell_type": "code",
      "metadata": {
        "colab": {
          "base_uri": "https://localhost:8080/"
        },
        "id": "0ubUSp6syv-X",
        "outputId": "4cf4ed1a-f2fd-4327-8e44-dd986850b881"
      },
      "source": [
        "df[\"crim\"].describe()"
      ],
      "execution_count": null,
      "outputs": [
        {
          "output_type": "execute_result",
          "data": {
            "text/plain": [
              "count    506.000000\n",
              "mean       3.613524\n",
              "std        8.601545\n",
              "min        0.006320\n",
              "25%        0.082045\n",
              "50%        0.256510\n",
              "75%        3.677083\n",
              "max       88.976200\n",
              "Name: crim, dtype: float64"
            ]
          },
          "metadata": {
            "tags": []
          },
          "execution_count": 7
        }
      ]
    },
    {
      "cell_type": "code",
      "metadata": {
        "colab": {
          "base_uri": "https://localhost:8080/",
          "height": 281
        },
        "id": "HDKdT6yjTpcU",
        "outputId": "73ba8673-92d5-4bcd-a3b2-0d1c51679d91"
      },
      "source": [
        "df[\"crim\"].plot.hist()"
      ],
      "execution_count": null,
      "outputs": [
        {
          "output_type": "execute_result",
          "data": {
            "text/plain": [
              "<matplotlib.axes._subplots.AxesSubplot at 0x7fecdecd4490>"
            ]
          },
          "metadata": {
            "tags": []
          },
          "execution_count": 8
        },
        {
          "output_type": "display_data",
          "data": {
            "image/png": "[encoded data removed]",
            "text/plain": [
              "<Figure size 432x288 with 1 Axes>"
            ]
          },
          "metadata": {
            "tags": [],
            "needs_background": "light"
          }
        }
      ]
    },
    {
      "cell_type": "markdown",
      "metadata": {
        "id": "QitGND9jUHk0"
      },
      "source": [
        "La característica \"crim\" corresponde al porcentaje de criminalidad per cápita por ciudad. \n",
        "\n",
        "Su valor mínimo es 0.006320\n",
        "\n",
        "Su valor máximo es 88.976200\n",
        "\n",
        "Su promedio es 3.613524\n",
        "\n",
        "Su desviación estandar es 8.601545\n",
        "\n",
        "Entre 0 y 50 se encuentra la mayor cantidad de valores.\n",
        "\n"
      ]
    },
    {
      "cell_type": "code",
      "metadata": {
        "colab": {
          "base_uri": "https://localhost:8080/",
          "height": 281
        },
        "id": "Li2iUWmZHqqM",
        "outputId": "94a00f30-4e9d-455a-8636-6b93fa8e9627"
      },
      "source": [
        "plt.scatter(df[\"black\"], df[\"crim\"])"
      ],
      "execution_count": null,
      "outputs": [
        {
          "output_type": "execute_result",
          "data": {
            "text/plain": [
              "<matplotlib.collections.PathCollection at 0x7fecde7234d0>"
            ]
          },
          "metadata": {
            "tags": []
          },
          "execution_count": 9
        },
        {
          "output_type": "display_data",
          "data": {
            "image/png": "[encoded data removed]",
            "text/plain": [
              "<Figure size 432x288 with 1 Axes>"
            ]
          },
          "metadata": {
            "tags": [],
            "needs_background": "light"
          }
        }
      ]
    },
    {
      "cell_type": "markdown",
      "metadata": {
        "id": "eRXJjHBcUDwl"
      },
      "source": [
        ""
      ]
    },
    {
      "cell_type": "code",
      "metadata": {
        "id": "IaoA3OSzz3on",
        "colab": {
          "base_uri": "https://localhost:8080/"
        },
        "outputId": "8cf54292-2b32-493a-84c8-5f2ab230ebc5"
      },
      "source": [
        "df[\"zn\"].describe()\n"
      ],
      "execution_count": null,
      "outputs": [
        {
          "output_type": "execute_result",
          "data": {
            "text/plain": [
              "count    506.000000\n",
              "mean      11.363636\n",
              "std       23.322453\n",
              "min        0.000000\n",
              "25%        0.000000\n",
              "50%        0.000000\n",
              "75%       12.500000\n",
              "max      100.000000\n",
              "Name: zn, dtype: float64"
            ]
          },
          "metadata": {
            "tags": []
          },
          "execution_count": 10
        }
      ]
    },
    {
      "cell_type": "code",
      "metadata": {
        "colab": {
          "base_uri": "https://localhost:8080/",
          "height": 281
        },
        "id": "tLUTVhRuWmvE",
        "outputId": "1947f62a-c0cc-4140-d8a9-979583ef029b"
      },
      "source": [
        "df[\"zn\"].plot.hist()"
      ],
      "execution_count": null,
      "outputs": [
        {
          "output_type": "execute_result",
          "data": {
            "text/plain": [
              "<matplotlib.axes._subplots.AxesSubplot at 0x7fecde6e1310>"
            ]
          },
          "metadata": {
            "tags": []
          },
          "execution_count": 11
        },
        {
          "output_type": "display_data",
          "data": {
            "image/png": "[encoded data removed]",
            "text/plain": [
              "<Figure size 432x288 with 1 Axes>"
            ]
          },
          "metadata": {
            "tags": [],
            "needs_background": "light"
          }
        }
      ]
    },
    {
      "cell_type": "markdown",
      "metadata": {
        "id": "_PRoNMLGXCOp"
      },
      "source": [
        "La característica \"zn\" corresponde a la proporción de zonas residenciales para lotes sobre los 25,000 sq.ft.\n",
        "\n",
        "Su valor mínimo es 0.000000\n",
        "\n",
        "Su valor máximo es 100.000000\n",
        "\n",
        "Su promedio es 11.363636\n",
        "\n",
        "Su desviación estandar es 23.322453\n",
        "\n",
        "Según el histograma podemos deducir que entre 0 y 10 se encuentra la moda, la cual presenta una alta frecuencia, con una diferencia muy marcada en relación a los otros rangos. El resto de valores se divide relativamente uniforme. \n"
      ]
    },
    {
      "cell_type": "code",
      "metadata": {
        "colab": {
          "base_uri": "https://localhost:8080/"
        },
        "id": "nXbOQyYp1ka1",
        "outputId": "a0f77806-02b6-4213-f56a-102ed974710f"
      },
      "source": [
        "df[\"indus\"].describe()"
      ],
      "execution_count": null,
      "outputs": [
        {
          "output_type": "execute_result",
          "data": {
            "text/plain": [
              "count    506.000000\n",
              "mean      11.136779\n",
              "std        6.860353\n",
              "min        0.460000\n",
              "25%        5.190000\n",
              "50%        9.690000\n",
              "75%       18.100000\n",
              "max       27.740000\n",
              "Name: indus, dtype: float64"
            ]
          },
          "metadata": {
            "tags": []
          },
          "execution_count": 12
        }
      ]
    },
    {
      "cell_type": "code",
      "metadata": {
        "colab": {
          "base_uri": "https://localhost:8080/",
          "height": 281
        },
        "id": "VCVD9mv1YLoz",
        "outputId": "ffefd35b-69a9-4a1b-904b-f21f5a832a93"
      },
      "source": [
        "df[\"indus\"].plot.hist(bins=15)"
      ],
      "execution_count": null,
      "outputs": [
        {
          "output_type": "execute_result",
          "data": {
            "text/plain": [
              "<matplotlib.axes._subplots.AxesSubplot at 0x7fecde680990>"
            ]
          },
          "metadata": {
            "tags": []
          },
          "execution_count": 13
        },
        {
          "output_type": "display_data",
          "data": {
            "image/png": "[encoded data removed]",
            "text/plain": [
              "<Figure size 432x288 with 1 Axes>"
            ]
          },
          "metadata": {
            "tags": [],
            "needs_background": "light"
          }
        }
      ]
    },
    {
      "cell_type": "markdown",
      "metadata": {
        "id": "ZhOY5tllZl6C"
      },
      "source": [
        "La característica \"indus\" corresponde a la proporción de acres de negocios que no sean de retail por ciudad.\n",
        "\n",
        "Su valor mínimo es 0.460000\n",
        "\n",
        "Su valor máximo es 27.740000\n",
        "\n",
        "Su promedio es 11.136779\n",
        "\n",
        "Desviación estandar 6.860353\n",
        "\n",
        "Entre el rango de 0 a 14 podemos ver una relativa uniformidad.\n",
        "\n",
        "Por otro lado cercano al valor 17 hay un notable crecimiento en la frecuencia. \n",
        "\n",
        "\n",
        "\n",
        "\n",
        "\n",
        "\n"
      ]
    },
    {
      "cell_type": "code",
      "metadata": {
        "colab": {
          "base_uri": "https://localhost:8080/"
        },
        "id": "VIDaGBBc1tca",
        "outputId": "43e9365b-c0a0-4bb0-a83e-aa71fab7d257"
      },
      "source": [
        "df[\"chas\"].describe()\n"
      ],
      "execution_count": null,
      "outputs": [
        {
          "output_type": "execute_result",
          "data": {
            "text/plain": [
              "count    506.000000\n",
              "mean       0.069170\n",
              "std        0.253994\n",
              "min        0.000000\n",
              "25%        0.000000\n",
              "50%        0.000000\n",
              "75%        0.000000\n",
              "max        1.000000\n",
              "Name: chas, dtype: float64"
            ]
          },
          "metadata": {
            "tags": []
          },
          "execution_count": 14
        }
      ]
    },
    {
      "cell_type": "markdown",
      "metadata": {
        "id": "mxPGJeh1ftkM"
      },
      "source": [
        "La característica \"chas\" equivale a la variable auxiliar sobre, si se encuentra cercano el rio.\n",
        "\n",
        "Su valor mínimo es 0.000000\n",
        "\n",
        "Su valor máximo es 1.000000\n",
        "\n",
        "Su promedio es 0.069170\n",
        "\n",
        "Desviación estandar 0.253994\n",
        "\n",
        "Esta característica solo varía entre 0 y 1 sin poder tomar otros valores.\n",
        "El 1 equivale a Si y el 0 a No.  "
      ]
    },
    {
      "cell_type": "code",
      "metadata": {
        "colab": {
          "base_uri": "https://localhost:8080/"
        },
        "id": "SRSS-4PQBW2w",
        "outputId": "254ec436-6a5c-4f69-8254-8cb79c18ba90"
      },
      "source": [
        "df.groupby(\"chas\").size()"
      ],
      "execution_count": null,
      "outputs": [
        {
          "output_type": "execute_result",
          "data": {
            "text/plain": [
              "chas\n",
              "0    471\n",
              "1     35\n",
              "dtype: int64"
            ]
          },
          "metadata": {
            "tags": []
          },
          "execution_count": 15
        }
      ]
    },
    {
      "cell_type": "code",
      "metadata": {
        "colab": {
          "base_uri": "https://localhost:8080/",
          "height": 320
        },
        "id": "Bne0OmOTBzsK",
        "outputId": "789f1591-7d4a-4525-d5a2-6a8e5fbf627f"
      },
      "source": [
        "df.groupby(\"chas\").size().plot.pie(label='pie1', autopct=\"%0.2f %%\", figsize=(5,5))"
      ],
      "execution_count": null,
      "outputs": [
        {
          "output_type": "execute_result",
          "data": {
            "text/plain": [
              "<matplotlib.axes._subplots.AxesSubplot at 0x7fecde30c150>"
            ]
          },
          "metadata": {
            "tags": []
          },
          "execution_count": 16
        },
        {
          "output_type": "display_data",
          "data": {
            "image/png": "[encoded data removed]",
            "text/plain": [
              "<Figure size 360x360 with 1 Axes>"
            ]
          },
          "metadata": {
            "tags": []
          }
        }
      ]
    },
    {
      "cell_type": "markdown",
      "metadata": {
        "id": "k6uGL2v5hdGo"
      },
      "source": [
        "Según el gráfico de torta, el 6,92 % de las casas colindan con el río y el 93,08 % No colindan con el río. "
      ]
    },
    {
      "cell_type": "code",
      "metadata": {
        "colab": {
          "base_uri": "https://localhost:8080/"
        },
        "id": "8m_GMZ4d3a1b",
        "outputId": "be5735ef-c3d6-4ac3-af5b-54e6504b9e25"
      },
      "source": [
        "df[\"nox\"].describe()"
      ],
      "execution_count": null,
      "outputs": [
        {
          "output_type": "execute_result",
          "data": {
            "text/plain": [
              "count    506.000000\n",
              "mean       0.554695\n",
              "std        0.115878\n",
              "min        0.385000\n",
              "25%        0.449000\n",
              "50%        0.538000\n",
              "75%        0.624000\n",
              "max        0.871000\n",
              "Name: nox, dtype: float64"
            ]
          },
          "metadata": {
            "tags": []
          },
          "execution_count": 17
        }
      ]
    },
    {
      "cell_type": "code",
      "metadata": {
        "colab": {
          "base_uri": "https://localhost:8080/",
          "height": 281
        },
        "id": "1uIvwHj7iMAs",
        "outputId": "819e3a4a-685f-4071-f628-85ffc0f74b71"
      },
      "source": [
        "df[\"nox\"].plot.hist()"
      ],
      "execution_count": null,
      "outputs": [
        {
          "output_type": "execute_result",
          "data": {
            "text/plain": [
              "<matplotlib.axes._subplots.AxesSubplot at 0x7fecde2d9490>"
            ]
          },
          "metadata": {
            "tags": []
          },
          "execution_count": 18
        },
        {
          "output_type": "display_data",
          "data": {
            "image/png": "[encoded data removed]",
            "text/plain": [
              "<Figure size 432x288 with 1 Axes>"
            ]
          },
          "metadata": {
            "tags": [],
            "needs_background": "light"
          }
        }
      ]
    },
    {
      "cell_type": "markdown",
      "metadata": {
        "id": "62Nj5Pa2iQ-0"
      },
      "source": [
        "La característica \"nox\" corresponde a los óxidos de nitrógeno medidos en partes por 10 millones. \n",
        "\n",
        "Su valor mínimo es 0.385000\n",
        "\n",
        "Su valor máximo es 0.871000\n",
        "\n",
        "Su promedio es 0.554695\n",
        "\n",
        "Desviación estandar 0.115878\n",
        "\n",
        "Según el histograma anterior podemos decir que la frecuencia es similar a la campana de gauss en descenso."
      ]
    },
    {
      "cell_type": "code",
      "metadata": {
        "colab": {
          "base_uri": "https://localhost:8080/"
        },
        "id": "nR9rJUX0n7Hc",
        "outputId": "de573a6f-504e-4d49-fe0b-19d81b9b5a1e"
      },
      "source": [
        "df[\"rm\"].mode()"
      ],
      "execution_count": null,
      "outputs": [
        {
          "output_type": "execute_result",
          "data": {
            "text/plain": [
              "0    5.713\n",
              "1    6.127\n",
              "2    6.167\n",
              "3    6.229\n",
              "4    6.405\n",
              "5    6.417\n",
              "dtype: float64"
            ]
          },
          "metadata": {
            "tags": []
          },
          "execution_count": 19
        }
      ]
    },
    {
      "cell_type": "code",
      "metadata": {
        "colab": {
          "base_uri": "https://localhost:8080/"
        },
        "id": "7yM4k6rJ4ORw",
        "outputId": "11f4926e-b1b3-4d93-b0e3-edcf4909b4fb"
      },
      "source": [
        "df[\"rm\"].mode()\n"
      ],
      "execution_count": null,
      "outputs": [
        {
          "output_type": "execute_result",
          "data": {
            "text/plain": [
              "0    5.713\n",
              "1    6.127\n",
              "2    6.167\n",
              "3    6.229\n",
              "4    6.405\n",
              "5    6.417\n",
              "dtype: float64"
            ]
          },
          "metadata": {
            "tags": []
          },
          "execution_count": 20
        }
      ]
    },
    {
      "cell_type": "code",
      "metadata": {
        "colab": {
          "base_uri": "https://localhost:8080/",
          "height": 281
        },
        "id": "hNbTEC4Vkgqa",
        "outputId": "f2a4e52b-a9be-4e09-c55d-172364324835"
      },
      "source": [
        "df[\"rm\"].plot.hist()"
      ],
      "execution_count": null,
      "outputs": [
        {
          "output_type": "execute_result",
          "data": {
            "text/plain": [
              "<matplotlib.axes._subplots.AxesSubplot at 0x7fecde267910>"
            ]
          },
          "metadata": {
            "tags": []
          },
          "execution_count": 21
        },
        {
          "output_type": "display_data",
          "data": {
            "image/png": "[encoded data removed]",
            "text/plain": [
              "<Figure size 432x288 with 1 Axes>"
            ]
          },
          "metadata": {
            "tags": [],
            "needs_background": "light"
          }
        }
      ]
    },
    {
      "cell_type": "markdown",
      "metadata": {
        "id": "YdRq62lql5zA"
      },
      "source": [
        "La característica \"rm\" corresponde a el número promedio de habitaciones por vivienda.\n",
        "\n",
        "Su valor mínimo es 3.561000\n",
        "\n",
        "Su valor máximo es 8.780000\n",
        "\n",
        "Su promedio es 6.284634\n",
        "\n",
        "Desviación estandar 0.702617\n",
        "\n",
        "En el histograma se puede notar que el promedio es similar a la mediana. \n",
        "\n",
        "Ádemas podemos observar que existen 6 modas que se encuentran en el intervalo de 5.713 y 6.417. \n",
        "\n",
        "Por otra parte podemos deducir que la mayor frecuencia se encuentra en el rango de 5,6486 y 6,1705.\n"
      ]
    },
    {
      "cell_type": "code",
      "metadata": {
        "id": "U18MDCae5sSE",
        "colab": {
          "base_uri": "https://localhost:8080/"
        },
        "outputId": "ea383673-f2f7-41ce-8fc4-8d2b44cc5319"
      },
      "source": [
        "df[\"age\"].describe()"
      ],
      "execution_count": null,
      "outputs": [
        {
          "output_type": "execute_result",
          "data": {
            "text/plain": [
              "count    506.000000\n",
              "mean      68.574901\n",
              "std       28.148861\n",
              "min        2.900000\n",
              "25%       45.025000\n",
              "50%       77.500000\n",
              "75%       94.075000\n",
              "max      100.000000\n",
              "Name: age, dtype: float64"
            ]
          },
          "metadata": {
            "tags": []
          },
          "execution_count": 22
        }
      ]
    },
    {
      "cell_type": "code",
      "metadata": {
        "colab": {
          "base_uri": "https://localhost:8080/",
          "height": 281
        },
        "id": "hqd6htPTq4IR",
        "outputId": "3386c1fc-5f92-4268-d8af-a15301c9a086"
      },
      "source": [
        "df[\"age\"].plot.hist()"
      ],
      "execution_count": null,
      "outputs": [
        {
          "output_type": "execute_result",
          "data": {
            "text/plain": [
              "<matplotlib.axes._subplots.AxesSubplot at 0x7fecde1df950>"
            ]
          },
          "metadata": {
            "tags": []
          },
          "execution_count": 23
        },
        {
          "output_type": "display_data",
          "data": {
            "image/png": "[encoded data removed]",
            "text/plain": [
              "<Figure size 432x288 with 1 Axes>"
            ]
          },
          "metadata": {
            "tags": [],
            "needs_background": "light"
          }
        }
      ]
    },
    {
      "cell_type": "markdown",
      "metadata": {
        "id": "3_ezrfzdpMPv"
      },
      "source": [
        "La característica \"age\" corresponde a unidades construidas ocupadas por sus dueños antes de 1940.\n",
        "\n",
        "Su valor mínimo es 2.900000\n",
        "\n",
        "Su valor máximo es 100.000000\n",
        "\n",
        "Su promedio es 68.574901\n",
        "\n",
        "Desviación estandar 28.148861\n",
        "\n",
        "Según el histograma tenemos muchas ciudades de Boston que a la fecha de 1940 todas las casas estaban habitadas por sus dueños. \n",
        "\n",
        "Por otro lado la mayor frecuencia corresponde al rango del 90% a 100%, siendo esta cercano a 170. "
      ]
    },
    {
      "cell_type": "code",
      "metadata": {
        "colab": {
          "base_uri": "https://localhost:8080/"
        },
        "id": "EGqsLEw06irH",
        "outputId": "8254575a-1738-4478-f3f7-da3f0e8f0d69"
      },
      "source": [
        "df[\"dis\"].describe()\n"
      ],
      "execution_count": null,
      "outputs": [
        {
          "output_type": "execute_result",
          "data": {
            "text/plain": [
              "count    506.000000\n",
              "mean       3.795043\n",
              "std        2.105710\n",
              "min        1.129600\n",
              "25%        2.100175\n",
              "50%        3.207450\n",
              "75%        5.188425\n",
              "max       12.126500\n",
              "Name: dis, dtype: float64"
            ]
          },
          "metadata": {
            "tags": []
          },
          "execution_count": 24
        }
      ]
    },
    {
      "cell_type": "code",
      "metadata": {
        "colab": {
          "base_uri": "https://localhost:8080/",
          "height": 281
        },
        "id": "UpsGtIvvvEOc",
        "outputId": "6dda1545-1cbc-4682-e51c-218472980d2a"
      },
      "source": [
        "df[\"dis\"].plot.hist()"
      ],
      "execution_count": null,
      "outputs": [
        {
          "output_type": "execute_result",
          "data": {
            "text/plain": [
              "<matplotlib.axes._subplots.AxesSubplot at 0x7fecde5c07d0>"
            ]
          },
          "metadata": {
            "tags": []
          },
          "execution_count": 25
        },
        {
          "output_type": "display_data",
          "data": {
            "image/png": "[encoded data removed]",
            "text/plain": [
              "<Figure size 432x288 with 1 Axes>"
            ]
          },
          "metadata": {
            "tags": [],
            "needs_background": "light"
          }
        }
      ]
    },
    {
      "cell_type": "markdown",
      "metadata": {
        "id": "jRD1JW7Vpe1s"
      },
      "source": [
        "La característica \"dis\" es el promedio ponderado de la distancia hacia 5 centros de empleo de Boston.\n",
        "\n",
        "Su valor mínimo es 1.129600\n",
        "\n",
        "Su valor máximo es 12.126500\n",
        "\n",
        "Su promedio es 3.795043\n",
        "\n",
        "Desviación estandar 2.105710\n",
        "\n",
        "En el histrograma podemos notar una distribución binomial truncada. \n"
      ]
    },
    {
      "cell_type": "code",
      "metadata": {
        "colab": {
          "base_uri": "https://localhost:8080/"
        },
        "id": "wHfB59tb6_N9",
        "outputId": "4fc4a578-143b-4d25-a46a-583ab32335e7"
      },
      "source": [
        "df[\"rad\"].describe()"
      ],
      "execution_count": null,
      "outputs": [
        {
          "output_type": "execute_result",
          "data": {
            "text/plain": [
              "count    506.000000\n",
              "mean       9.549407\n",
              "std        8.707259\n",
              "min        1.000000\n",
              "25%        4.000000\n",
              "50%        5.000000\n",
              "75%       24.000000\n",
              "max       24.000000\n",
              "Name: rad, dtype: float64"
            ]
          },
          "metadata": {
            "tags": []
          },
          "execution_count": 26
        }
      ]
    },
    {
      "cell_type": "code",
      "metadata": {
        "colab": {
          "base_uri": "https://localhost:8080/",
          "height": 298
        },
        "id": "iGW6li10xSIb",
        "outputId": "c2543ada-c20f-4f8f-853a-901ff3920ca1"
      },
      "source": [
        "df.groupby(\"rad\").size().plot.bar()"
      ],
      "execution_count": null,
      "outputs": [
        {
          "output_type": "execute_result",
          "data": {
            "text/plain": [
              "<matplotlib.axes._subplots.AxesSubplot at 0x7fecde0ee5d0>"
            ]
          },
          "metadata": {
            "tags": []
          },
          "execution_count": 27
        },
        {
          "output_type": "display_data",
          "data": {
            "image/png": "[encoded data removed]",
            "text/plain": [
              "<Figure size 432x288 with 1 Axes>"
            ]
          },
          "metadata": {
            "tags": [],
            "needs_background": "light"
          }
        }
      ]
    },
    {
      "cell_type": "markdown",
      "metadata": {
        "id": "Nuwe8BZ5p30T"
      },
      "source": [
        "La característica \"rad\" corresponde al indice de accesibilidad a carreteras principales \n",
        "\n",
        "Su valor mínimo es 1.000000\n",
        "\n",
        "Su valor máximo es 24.000000\n",
        "\n",
        "Su promedio es 9.549407\n",
        "\n",
        "Desviación estandar 8.707259\n",
        "\n",
        "En el gráfico asociado a \"rad\" se puede notar 9 valores distintos y los mas frecuentes equivalen a 4,5 y 24"
      ]
    },
    {
      "cell_type": "code",
      "metadata": {
        "id": "akE4pEgoAF29",
        "colab": {
          "base_uri": "https://localhost:8080/"
        },
        "outputId": "8991ec33-c642-4337-84b1-276448956913"
      },
      "source": [
        "df.groupby(\"rad\").size()"
      ],
      "execution_count": null,
      "outputs": [
        {
          "output_type": "execute_result",
          "data": {
            "text/plain": [
              "rad\n",
              "1      20\n",
              "2      24\n",
              "3      38\n",
              "4     110\n",
              "5     115\n",
              "6      26\n",
              "7      17\n",
              "8      24\n",
              "24    132\n",
              "dtype: int64"
            ]
          },
          "metadata": {
            "tags": []
          },
          "execution_count": 28
        }
      ]
    },
    {
      "cell_type": "code",
      "metadata": {
        "colab": {
          "base_uri": "https://localhost:8080/"
        },
        "id": "ySjOrFIc7c01",
        "outputId": "62f5bfdd-bb3f-41b6-c81c-24483b5d5f6e"
      },
      "source": [
        "df[\"tax\"].describe()"
      ],
      "execution_count": null,
      "outputs": [
        {
          "output_type": "execute_result",
          "data": {
            "text/plain": [
              "count    506.000000\n",
              "mean     408.237154\n",
              "std      168.537116\n",
              "min      187.000000\n",
              "25%      279.000000\n",
              "50%      330.000000\n",
              "75%      666.000000\n",
              "max      711.000000\n",
              "Name: tax, dtype: float64"
            ]
          },
          "metadata": {
            "tags": []
          },
          "execution_count": 29
        }
      ]
    },
    {
      "cell_type": "code",
      "metadata": {
        "colab": {
          "base_uri": "https://localhost:8080/",
          "height": 531
        },
        "id": "KoJNkbFkxwlN",
        "outputId": "c5707610-3314-46a9-c8ca-b9ad97c82912"
      },
      "source": [
        "df.groupby(\"tax\").size().plot.bar(figsize=(30,8))"
      ],
      "execution_count": null,
      "outputs": [
        {
          "output_type": "execute_result",
          "data": {
            "text/plain": [
              "<matplotlib.axes._subplots.AxesSubplot at 0x7fecde01a6d0>"
            ]
          },
          "metadata": {
            "tags": []
          },
          "execution_count": 30
        },
        {
          "output_type": "display_data",
          "data": {
            "image/png": "[encoded data removed]",
            "text/plain": [
              "<Figure size 2160x576 with 1 Axes>"
            ]
          },
          "metadata": {
            "tags": [],
            "needs_background": "light"
          }
        }
      ]
    },
    {
      "cell_type": "code",
      "metadata": {
        "colab": {
          "base_uri": "https://localhost:8080/"
        },
        "id": "f6GR_lFg0kd3",
        "outputId": "35ef4454-e4cc-4684-ee6a-a2b939e405e4"
      },
      "source": [
        "df.groupby(\"tax\").size()"
      ],
      "execution_count": null,
      "outputs": [
        {
          "output_type": "execute_result",
          "data": {
            "text/plain": [
              "tax\n",
              "187.0      1\n",
              "188.0      7\n",
              "193.0      8\n",
              "198.0      1\n",
              "216.0      5\n",
              "        ... \n",
              "432.0      9\n",
              "437.0     15\n",
              "469.0      1\n",
              "666.0    132\n",
              "711.0      5\n",
              "Length: 66, dtype: int64"
            ]
          },
          "metadata": {
            "tags": []
          },
          "execution_count": 31
        }
      ]
    },
    {
      "cell_type": "markdown",
      "metadata": {
        "id": "jQXM2gf9rRPs"
      },
      "source": [
        "La característica \"tax\" es la proporción de impuesto por propiedad como valor total cada $10,000.\n",
        "\n",
        "Su valor mínimo es 187.000000\n",
        "\n",
        "Su valor máximo es 711.000000\n",
        "\n",
        "Su promedio es 408.237154\n",
        "\n",
        "Desviación estandar 168.537116\n",
        "\n",
        "Según el histograma tenemos 66 valores discretos posibles. El valor que más se repite es 666.0, 132 veces.\n"
      ]
    },
    {
      "cell_type": "code",
      "metadata": {
        "colab": {
          "base_uri": "https://localhost:8080/"
        },
        "id": "16-WetCI7iCh",
        "outputId": "27dd449e-dcef-47a9-d9ed-b2544d8d487b"
      },
      "source": [
        "df[\"ptratio\"].describe()"
      ],
      "execution_count": null,
      "outputs": [
        {
          "output_type": "execute_result",
          "data": {
            "text/plain": [
              "count    506.000000\n",
              "mean      18.455534\n",
              "std        2.164946\n",
              "min       12.600000\n",
              "25%       17.400000\n",
              "50%       19.050000\n",
              "75%       20.200000\n",
              "max       22.000000\n",
              "Name: ptratio, dtype: float64"
            ]
          },
          "metadata": {
            "tags": []
          },
          "execution_count": 32
        }
      ]
    },
    {
      "cell_type": "code",
      "metadata": {
        "colab": {
          "base_uri": "https://localhost:8080/"
        },
        "id": "bGRrw7GW1cjV",
        "outputId": "020f85f5-bb91-440c-a4a6-d99c205ab7d7"
      },
      "source": [
        "df.groupby(\"ptratio\").size().count()"
      ],
      "execution_count": null,
      "outputs": [
        {
          "output_type": "execute_result",
          "data": {
            "text/plain": [
              "46"
            ]
          },
          "metadata": {
            "tags": []
          },
          "execution_count": 33
        }
      ]
    },
    {
      "cell_type": "code",
      "metadata": {
        "colab": {
          "base_uri": "https://localhost:8080/",
          "height": 362
        },
        "id": "QxL2z7Atx3ck",
        "outputId": "a189296a-1b54-41ee-dca4-994d3156d8a7"
      },
      "source": [
        "df.groupby(\"ptratio\").size().plot.bar(figsize=(20,5))"
      ],
      "execution_count": null,
      "outputs": [
        {
          "output_type": "execute_result",
          "data": {
            "text/plain": [
              "<matplotlib.axes._subplots.AxesSubplot at 0x7fecdde08590>"
            ]
          },
          "metadata": {
            "tags": []
          },
          "execution_count": 34
        },
        {
          "output_type": "display_data",
          "data": {
            "image/png": "[encoded data removed]",
            "text/plain": [
              "<Figure size 1440x360 with 1 Axes>"
            ]
          },
          "metadata": {
            "tags": [],
            "needs_background": "light"
          }
        }
      ]
    },
    {
      "cell_type": "markdown",
      "metadata": {
        "id": "JH3n-wKcx9-r"
      },
      "source": [
        "La característica \"ptratio\" es la proporción estudiante promedio por ciudad. \n",
        "\n",
        "Su valor mínimo es 12.600000\n",
        "\n",
        "Su valor máximo es 22.000000\n",
        "\n",
        "Su promedio es 18.455534\n",
        "\n",
        "Desviación estandar 2.164946\n",
        "\n",
        "En base al gráfico de barra se puede concluir que existen 46 valores posibles y el más común es 20,2\n"
      ]
    },
    {
      "cell_type": "code",
      "metadata": {
        "colab": {
          "base_uri": "https://localhost:8080/"
        },
        "id": "DBilvgSg7qo9",
        "outputId": "f49febbf-8300-469e-f0bd-551e8c16c28f"
      },
      "source": [
        "df[\"black\"].describe()"
      ],
      "execution_count": null,
      "outputs": [
        {
          "output_type": "execute_result",
          "data": {
            "text/plain": [
              "count    506.000000\n",
              "mean     356.674032\n",
              "std       91.294864\n",
              "min        0.320000\n",
              "25%      375.377500\n",
              "50%      391.440000\n",
              "75%      396.225000\n",
              "max      396.900000\n",
              "Name: black, dtype: float64"
            ]
          },
          "metadata": {
            "tags": []
          },
          "execution_count": 35
        }
      ]
    },
    {
      "cell_type": "code",
      "metadata": {
        "colab": {
          "base_uri": "https://localhost:8080/"
        },
        "id": "ghFH_dZs4QEI",
        "outputId": "cb539a17-382c-4b1d-d538-97659d882726"
      },
      "source": [
        "df.groupby(\"black\").size().count()"
      ],
      "execution_count": null,
      "outputs": [
        {
          "output_type": "execute_result",
          "data": {
            "text/plain": [
              "357"
            ]
          },
          "metadata": {
            "tags": []
          },
          "execution_count": 36
        }
      ]
    },
    {
      "cell_type": "code",
      "metadata": {
        "colab": {
          "base_uri": "https://localhost:8080/",
          "height": 281
        },
        "id": "emy1DSGc3u63",
        "outputId": "490adb41-8e9b-4908-f0cd-8fd7df974754"
      },
      "source": [
        "df[\"black\"].plot.hist()"
      ],
      "execution_count": null,
      "outputs": [
        {
          "output_type": "execute_result",
          "data": {
            "text/plain": [
              "<matplotlib.axes._subplots.AxesSubplot at 0x7fecddcf5910>"
            ]
          },
          "metadata": {
            "tags": []
          },
          "execution_count": 37
        },
        {
          "output_type": "display_data",
          "data": {
            "image/png": "[encoded data removed]",
            "text/plain": [
              "<Figure size 432x288 with 1 Axes>"
            ]
          },
          "metadata": {
            "tags": [],
            "needs_background": "light"
          }
        }
      ]
    },
    {
      "cell_type": "markdown",
      "metadata": {
        "id": "iWhlTM7y3A33"
      },
      "source": [
        "La característica \"black\" es 1000(Bk - 0.63)^2 donde Bk es la proporción de personas de color por ciudad. \n",
        "\n",
        "Su valor mínimo es 0.320000\n",
        "\n",
        "Su valor máximo es 396.900000\n",
        "\n",
        "Su promedio es 356.674032\n",
        "\n",
        "Desviación estandar 91.294864\n",
        "\n",
        "En el histograma las mayores frecuencias estan sobre los 350.\n",
        "\n"
      ]
    },
    {
      "cell_type": "code",
      "metadata": {
        "colab": {
          "base_uri": "https://localhost:8080/"
        },
        "id": "GUHWOqiP7yGO",
        "outputId": "0eb66f9e-b285-439b-eb91-673eec37a0f1"
      },
      "source": [
        "df[\"lstat\"].describe()"
      ],
      "execution_count": null,
      "outputs": [
        {
          "output_type": "execute_result",
          "data": {
            "text/plain": [
              "count    506.000000\n",
              "mean      12.653063\n",
              "std        7.141062\n",
              "min        1.730000\n",
              "25%        6.950000\n",
              "50%       11.360000\n",
              "75%       16.955000\n",
              "max       37.970000\n",
              "Name: lstat, dtype: float64"
            ]
          },
          "metadata": {
            "tags": []
          },
          "execution_count": 38
        }
      ]
    },
    {
      "cell_type": "code",
      "metadata": {
        "colab": {
          "base_uri": "https://localhost:8080/",
          "height": 281
        },
        "id": "jDU3DM8NRoLs",
        "outputId": "cba3769c-707c-4ef9-e0f6-bb290e9b3ca8"
      },
      "source": [
        "df[\"lstat\"].plot.hist()"
      ],
      "execution_count": null,
      "outputs": [
        {
          "output_type": "execute_result",
          "data": {
            "text/plain": [
              "<matplotlib.axes._subplots.AxesSubplot at 0x7fecddc0a450>"
            ]
          },
          "metadata": {
            "tags": []
          },
          "execution_count": 39
        },
        {
          "output_type": "display_data",
          "data": {
            "image/png": "[encoded data removed]",
            "text/plain": [
              "<Figure size 432x288 with 1 Axes>"
            ]
          },
          "metadata": {
            "tags": [],
            "needs_background": "light"
          }
        }
      ]
    },
    {
      "cell_type": "markdown",
      "metadata": {
        "id": "omSo5s0b5ZRU"
      },
      "source": [
        "La característica \"lstat\" equivale al estatus más bajo de la población medido en porcentaje. Se refiere a la cantidad de población sin estudios secundarios completados, junto a los obreros.  \n",
        "\n",
        "Su valor mínimo es 1.730000\n",
        "\n",
        "Su valor máximo es 37.970000\n",
        "\n",
        "Su promedio es 12.653063\n",
        "\n",
        "Desviación estandar 7.141062\n",
        "\n",
        "En el histograma se observa que el grueso de las ciudades tiene un 20% o menos de la población que no ha terminado los estudios secundarios.  \n",
        "\n"
      ]
    },
    {
      "cell_type": "code",
      "metadata": {
        "colab": {
          "base_uri": "https://localhost:8080/"
        },
        "id": "DDv_-v-o8F89",
        "outputId": "293ff7bb-241c-4f58-9c2d-c02e4b1532f6"
      },
      "source": [
        "df[\"medv\"].describe()"
      ],
      "execution_count": null,
      "outputs": [
        {
          "output_type": "execute_result",
          "data": {
            "text/plain": [
              "count    506.000000\n",
              "mean      22.532806\n",
              "std        9.197104\n",
              "min        5.000000\n",
              "25%       17.025000\n",
              "50%       21.200000\n",
              "75%       25.000000\n",
              "max       50.000000\n",
              "Name: medv, dtype: float64"
            ]
          },
          "metadata": {
            "tags": []
          },
          "execution_count": 40
        }
      ]
    },
    {
      "cell_type": "code",
      "metadata": {
        "colab": {
          "base_uri": "https://localhost:8080/",
          "height": 283
        },
        "id": "3ObiUeDg51p6",
        "outputId": "09779b1c-b693-4e9b-f140-b05b2c6376bb"
      },
      "source": [
        "df[\"medv\"].plot.hist()"
      ],
      "execution_count": null,
      "outputs": [
        {
          "output_type": "execute_result",
          "data": {
            "text/plain": [
              "<matplotlib.axes._subplots.AxesSubplot at 0x7fecddbe4890>"
            ]
          },
          "metadata": {
            "tags": []
          },
          "execution_count": 41
        },
        {
          "output_type": "display_data",
          "data": {
            "image/png": "[encoded data removed]",
            "text/plain": [
              "<Figure size 432x288 with 1 Axes>"
            ]
          },
          "metadata": {
            "tags": [],
            "needs_background": "light"
          }
        }
      ]
    },
    {
      "cell_type": "markdown",
      "metadata": {
        "id": "1-IjpwVX6BAc"
      },
      "source": [
        "La característica \"medv\" es el valor de la mediana de las casas ocupadas por sus dueños, medidas en $1000s. \n",
        "\n",
        "Su valor mínimo es 5.000000\n",
        "\n",
        "Su valor máximo es 50.000000\n",
        "\n",
        "Su promedio es 22.532806\n",
        "\n",
        "Desviación estandar 9.197104\n",
        "\n",
        "En el histograma notamos una distribución similar a una normal. "
      ]
    },
    {
      "cell_type": "markdown",
      "metadata": {
        "id": "RrWxjPYWBfQI"
      },
      "source": [
        "# Parte 2"
      ]
    },
    {
      "cell_type": "markdown",
      "metadata": {
        "id": "RLZbmsoFBt18"
      },
      "source": [
        "## df.info()"
      ]
    },
    {
      "cell_type": "code",
      "metadata": {
        "colab": {
          "base_uri": "https://localhost:8080/"
        },
        "id": "UMVLFIyoBd9W",
        "outputId": "04e577f3-f359-45f8-92d1-f4fc49c2ded0"
      },
      "source": [
        "df.info()"
      ],
      "execution_count": null,
      "outputs": [
        {
          "output_type": "stream",
          "text": [
            "<class 'pandas.core.frame.DataFrame'>\n",
            "RangeIndex: 506 entries, 0 to 505\n",
            "Data columns (total 14 columns):\n",
            " #   Column   Non-Null Count  Dtype  \n",
            "---  ------   --------------  -----  \n",
            " 0   crim     506 non-null    float64\n",
            " 1   zn       506 non-null    float64\n",
            " 2   indus    506 non-null    float64\n",
            " 3   chas     506 non-null    int64  \n",
            " 4   nox      506 non-null    float64\n",
            " 5   rm       506 non-null    float64\n",
            " 6   age      506 non-null    float64\n",
            " 7   dis      506 non-null    float64\n",
            " 8   rad      506 non-null    int64  \n",
            " 9   tax      506 non-null    float64\n",
            " 10  ptratio  506 non-null    float64\n",
            " 11  black    506 non-null    float64\n",
            " 12  lstat    506 non-null    float64\n",
            " 13  medv     506 non-null    float64\n",
            "dtypes: float64(12), int64(2)\n",
            "memory usage: 55.5 KB\n"
          ],
          "name": "stdout"
        }
      ]
    },
    {
      "cell_type": "markdown",
      "metadata": {
        "id": "HGEtvJOPBoyj"
      },
      "source": [
        "## Análisis"
      ]
    },
    {
      "cell_type": "markdown",
      "metadata": {
        "id": "3_Tlv5x_k9iF"
      },
      "source": [
        "### Exploración y definición de funciones útiles\n",
        "### Crim"
      ]
    },
    {
      "cell_type": "code",
      "metadata": {
        "colab": {
          "base_uri": "https://localhost:8080/",
          "height": 281
        },
        "id": "bQON7nxsBena",
        "outputId": "c0dd2add-c931-4b72-964f-96829790b52a"
      },
      "source": [
        "df[\"crim\"].plot.hist()"
      ],
      "execution_count": null,
      "outputs": [
        {
          "output_type": "execute_result",
          "data": {
            "text/plain": [
              "<matplotlib.axes._subplots.AxesSubplot at 0x7fecd889e110>"
            ]
          },
          "metadata": {
            "tags": []
          },
          "execution_count": 52
        },
        {
          "output_type": "display_data",
          "data": {
            "image/png": "[encoded data removed]",
            "text/plain": [
              "<Figure size 432x288 with 1 Axes>"
            ]
          },
          "metadata": {
            "tags": [],
            "needs_background": "light"
          }
        }
      ]
    },
    {
      "cell_type": "code",
      "metadata": {
        "colab": {
          "base_uri": "https://localhost:8080/",
          "height": 608
        },
        "id": "IFREtm5sB3vI",
        "outputId": "8ba9620c-4990-422c-8488-9a92f15f9515"
      },
      "source": [
        "df.boxplot(column=[\"crim\"],figsize=(7,10))"
      ],
      "execution_count": null,
      "outputs": [
        {
          "output_type": "execute_result",
          "data": {
            "text/plain": [
              "<matplotlib.axes._subplots.AxesSubplot at 0x7fecd7294410>"
            ]
          },
          "metadata": {
            "tags": []
          },
          "execution_count": 101
        },
        {
          "output_type": "display_data",
          "data": {
            "image/png": "[encoded data removed]",
            "text/plain": [
              "<Figure size 504x720 with 1 Axes>"
            ]
          },
          "metadata": {
            "tags": [],
            "needs_background": "light"
          }
        }
      ]
    },
    {
      "cell_type": "markdown",
      "metadata": {
        "id": "SB352b65IXFG"
      },
      "source": [
        "En los diagramas de caja o _boxplot_ la caja central corresponde a a las demarcaciones de $Q_{1}$ y $Q_{3}$, la línea intermedia, poco visible en este caso, a la mediana, es decir $Q_{2}$, los \"bigotes\" a los límites no anómalos que van desde los valores máximo y mínimo o 1.5 IQR. Los círculos representan datos atípicos, fuera de los límites ya señalados.\n",
        "\n",
        "Es visible la importante cantidad de datos fuera de los límites no atípicos (rango intercuartílico $\\pm 1.5$ $IQR$, es donde están el 50% de los datos centrales, equivalente a $Q_{3} - Q_{1}$).\n",
        "\n",
        "Lo señalado anteriormente fue extraído de *https://www.itl.nist.gov/div898/handbook/prc/section1/prc16.htm*, Instituto Nacional de Estándares y Tecnología de EE.UU.(NIST por sus siglas en inglés)."
      ]
    },
    {
      "cell_type": "code",
      "metadata": {
        "id": "Of5HGLSYCX9X"
      },
      "source": [
        "crim_c = df[\"crim\"]\n",
        "crim_c = crim_c[crim_c.between(crim_c.quantile(.25), crim_c.quantile(.75))]\n",
        "df[\"crim_c\"] = crim_c"
      ],
      "execution_count": null,
      "outputs": []
    },
    {
      "cell_type": "code",
      "metadata": {
        "colab": {
          "base_uri": "https://localhost:8080/",
          "height": 281
        },
        "id": "VDWrCAA6OsC-",
        "outputId": "ba567182-8357-41cf-ccfd-9316e3bdde24"
      },
      "source": [
        "df[\"crim_c\"].plot.hist()"
      ],
      "execution_count": null,
      "outputs": [
        {
          "output_type": "execute_result",
          "data": {
            "text/plain": [
              "<matplotlib.axes._subplots.AxesSubplot at 0x7fecd7b30950>"
            ]
          },
          "metadata": {
            "tags": []
          },
          "execution_count": 70
        },
        {
          "output_type": "display_data",
          "data": {
            "image/png": "[encoded data removed]",
            "text/plain": [
              "<Figure size 432x288 with 1 Axes>"
            ]
          },
          "metadata": {
            "tags": [],
            "needs_background": "light"
          }
        }
      ]
    },
    {
      "cell_type": "code",
      "metadata": {
        "id": "-f9FepSwQOsW"
      },
      "source": [
        "def clean_outliers_hard(df, col):\n",
        "    # elimina outliers fuera del rango +- 1.5 IQR de los cuartiles\n",
        "    # En el boxplot, elimina los datos atípicos\n",
        "    q1 = df[col].quantile(.25)\n",
        "    q3 = df[col].quantile(.75)\n",
        "    iqr = q3-q1 #IQR definido anteriormente\n",
        "    fence_low  = q1 - 1.5*iqr\n",
        "    fence_high = q3 + 1.5*iqr\n",
        "    df_out = df.loc[(df[col] > fence_low) & (df[col] < fence_high)]\n",
        "    return df_out\n",
        "\n",
        "def clean_outliers_soft(df, col):\n",
        "    # elimina outliers fuera del rango +- 3.0 IQR de los cuartiles\n",
        "    # Dado que sus limites son mas amplios, elimina menos datos o equivalentemente considera mas datos\n",
        "    q1 = df[col].quantile(.25)\n",
        "    q3 = df[col].quantile(.75)\n",
        "    iqr = q3-q1 #IQR definido anteriormente\n",
        "    fence_low  = q1 - 3*iqr\n",
        "    fence_high = q3 + 3*iqr\n",
        "    df_out = df.loc[(df[col] > fence_low) & (df[col] < fence_high)]\n",
        "    return df_out\n",
        "\n",
        "def clean_custom(df, col, iqrFences):\n",
        "    q1 = df[col].quantile(.25)\n",
        "    q3 = df[col].quantile(.75)\n",
        "    iqr = q3-q1 #IQR definido anteriormente\n",
        "    fence_low  = q1 - iqrFences*iqr\n",
        "    fence_high = q3 + iqrFences*iqr\n",
        "    df_out = df.loc[(df[col] > fence_low) & (df[col] < fence_high)]\n",
        "    size = df_out.shape[0]\n",
        "    pctg = size/df.shape[0]   # calcula el porcentaje de observaciones consideradas respecto al df original\n",
        "    return df_out, pctg"
      ],
      "execution_count": null,
      "outputs": []
    },
    {
      "cell_type": "code",
      "metadata": {
        "id": "9u4G8TLHSHG_"
      },
      "source": [
        "df2 = clean_outliers_hard(df, \"crim\")\n",
        "df3 = clean_outliers_soft(df, \"crim\")\n",
        "df4, df4_pct = clean_custom(df, \"crim\", 6)"
      ],
      "execution_count": null,
      "outputs": []
    },
    {
      "cell_type": "code",
      "metadata": {
        "colab": {
          "base_uri": "https://localhost:8080/",
          "height": 281
        },
        "id": "pbGhhARkW29w",
        "outputId": "daaa07b2-9556-4756-ec16-4e8c8c9a7147"
      },
      "source": [
        "df[\"crim\"].plot()"
      ],
      "execution_count": null,
      "outputs": [
        {
          "output_type": "execute_result",
          "data": {
            "text/plain": [
              "<matplotlib.axes._subplots.AxesSubplot at 0x7fecd6a83b50>"
            ]
          },
          "metadata": {
            "tags": []
          },
          "execution_count": 112
        },
        {
          "output_type": "display_data",
          "data": {
            "image/png": "[encoded data removed]",
            "text/plain": [
              "<Figure size 432x288 with 1 Axes>"
            ]
          },
          "metadata": {
            "tags": [],
            "needs_background": "light"
          }
        }
      ]
    },
    {
      "cell_type": "code",
      "metadata": {
        "colab": {
          "base_uri": "https://localhost:8080/",
          "height": 281
        },
        "id": "NucNPhASSOqC",
        "outputId": "f00e5298-306d-431e-dcf6-f8d238b707f6"
      },
      "source": [
        "df2[\"crim\"].plot()"
      ],
      "execution_count": null,
      "outputs": [
        {
          "output_type": "execute_result",
          "data": {
            "text/plain": [
              "<matplotlib.axes._subplots.AxesSubplot at 0x7fecd6a68b10>"
            ]
          },
          "metadata": {
            "tags": []
          },
          "execution_count": 113
        },
        {
          "output_type": "display_data",
          "data": {
            "image/png": "[encoded data removed]",
            "text/plain": [
              "<Figure size 432x288 with 1 Axes>"
            ]
          },
          "metadata": {
            "tags": [],
            "needs_background": "light"
          }
        }
      ]
    },
    {
      "cell_type": "code",
      "metadata": {
        "colab": {
          "base_uri": "https://localhost:8080/",
          "height": 281
        },
        "id": "XyyiMoEFSZOu",
        "outputId": "c7135551-9331-4437-e380-bffc65f3b233"
      },
      "source": [
        "df3[\"crim\"].plot()"
      ],
      "execution_count": null,
      "outputs": [
        {
          "output_type": "execute_result",
          "data": {
            "text/plain": [
              "<matplotlib.axes._subplots.AxesSubplot at 0x7fecd69df790>"
            ]
          },
          "metadata": {
            "tags": []
          },
          "execution_count": 114
        },
        {
          "output_type": "display_data",
          "data": {
            "image/png": "[encoded data removed]",
            "text/plain": [
              "<Figure size 432x288 with 1 Axes>"
            ]
          },
          "metadata": {
            "tags": [],
            "needs_background": "light"
          }
        }
      ]
    },
    {
      "cell_type": "code",
      "metadata": {
        "colab": {
          "base_uri": "https://localhost:8080/",
          "height": 608
        },
        "id": "6Gg-KsA-Sq4E",
        "outputId": "8c09d75a-4c94-4460-8e95-a8b9e4608ae5"
      },
      "source": [
        "plt.figure(figsize=(30,10))\n",
        "plt.plot(df[\"crim\"], label=\"df original\")\n",
        "plt.plot(df3[\"crim\"], label=\"df soft clean\")\n",
        "plt.plot(df2[\"crim\"], label=\"df hard clean\")\n",
        "plt.plot(df4[\"crim\"], label=\"df custom clean\")\n",
        "plt.legend()"
      ],
      "execution_count": null,
      "outputs": [
        {
          "output_type": "execute_result",
          "data": {
            "text/plain": [
              "<matplotlib.legend.Legend at 0x7fecd4d718d0>"
            ]
          },
          "metadata": {
            "tags": []
          },
          "execution_count": 155
        },
        {
          "output_type": "display_data",
          "data": {
            "image/png": "[encoded data removed]",
            "text/plain": [
              "<Figure size 2160x720 with 1 Axes>"
            ]
          },
          "metadata": {
            "tags": [],
            "needs_background": "light"
          }
        }
      ]
    },
    {
      "cell_type": "code",
      "metadata": {
        "colab": {
          "base_uri": "https://localhost:8080/"
        },
        "id": "f_7pai4lVles",
        "outputId": "3fa737fe-b09b-4775-a582-38d12110527b"
      },
      "source": [
        "df4_pct"
      ],
      "execution_count": null,
      "outputs": [
        {
          "output_type": "execute_result",
          "data": {
            "text/plain": [
              "0.9802371541501976"
            ]
          },
          "metadata": {
            "tags": []
          },
          "execution_count": 156
        }
      ]
    },
    {
      "cell_type": "markdown",
      "metadata": {
        "id": "7uC2jkyafO4Z"
      },
      "source": [
        "De lo anterior, ya que df4 contiene el 98.02% aproximadamente de los casos, se propone df4 como dataset limpio respecto a la característica ***crim***."
      ]
    },
    {
      "cell_type": "code",
      "metadata": {
        "id": "RUPyp6EKg_IZ"
      },
      "source": [
        "def print_medidas(df, col):\n",
        "    #automatización de muestra de medidas de tendencia central y stdv\n",
        "    print(\"Medidas de tendencia central: \\n\")\n",
        "    print(df[col].describe(), \"\\n\\n\")\n",
        "    print(\"Moda(s): \\n\")\n",
        "    print(df[col].mode(), \"\\n\\n\")\n",
        "    print(\"Mediana: \\n\")\n",
        "    print(df[col].median(), \"\\n\\n\")\n",
        "    print(\"Varianza: \\n\")\n",
        "    print(df[col].var())"
      ],
      "execution_count": null,
      "outputs": []
    },
    {
      "cell_type": "code",
      "metadata": {
        "colab": {
          "base_uri": "https://localhost:8080/"
        },
        "id": "mtCpYrWji_45",
        "outputId": "3ee5084e-8a5b-4018-c9f3-8b98177b8469"
      },
      "source": [
        "print_medidas(df4, \"crim\")"
      ],
      "execution_count": null,
      "outputs": [
        {
          "output_type": "stream",
          "text": [
            "Medidas de tendencia central: \n",
            "\n",
            "count    496.000000\n",
            "mean       2.679417\n",
            "std        4.852691\n",
            "min        0.006320\n",
            "25%        0.080050\n",
            "50%        0.243125\n",
            "75%        2.844785\n",
            "max       25.046100\n",
            "Name: crim, dtype: float64 \n",
            "\n",
            "\n",
            "Moda(s): \n",
            "\n",
            "0     0.01501\n",
            "1    14.33370\n",
            "dtype: float64 \n",
            "\n",
            "\n",
            "Mediana: \n",
            "\n",
            "0.24312499999999998 \n",
            "\n",
            "\n",
            "Varianza: \n",
            "\n",
            "23.548609949269835\n"
          ],
          "name": "stdout"
        }
      ]
    },
    {
      "cell_type": "markdown",
      "metadata": {
        "id": "p_vmjNjtj6tU"
      },
      "source": [
        "En adelante, se reemplazara df4 por df_aux por estandarización. Se prosigue con el mismo análisis para las demás variables:"
      ]
    },
    {
      "cell_type": "markdown",
      "metadata": {
        "id": "fW2BYDvFk2BD"
      },
      "source": [
        "### Zn"
      ]
    },
    {
      "cell_type": "code",
      "metadata": {
        "colab": {
          "base_uri": "https://localhost:8080/"
        },
        "id": "gnlz4gLJfMf8",
        "outputId": "bfc73eb7-cd41-4ac8-cc65-c9451d5bb126"
      },
      "source": [
        "df_aux, df_aux_p = clean_custom(df, \"zn\", 6)\n",
        "print(\"Proporción de datos considerados respecto al original: \" ,df_aux_p, \"\\n\\n\")\n",
        "print_medidas(df_aux, \"zn\")"
      ],
      "execution_count": null,
      "outputs": [
        {
          "output_type": "stream",
          "text": [
            "Porcentaje de datos considerados respecto al original:  0.9802371541501976 \n",
            "\n",
            "\n",
            "Medidas de tendencia central: \n",
            "\n",
            "count    496.000000\n",
            "mean       9.717742\n",
            "std       20.429207\n",
            "min        0.000000\n",
            "25%        0.000000\n",
            "50%        0.000000\n",
            "75%        3.125000\n",
            "max       85.000000\n",
            "Name: zn, dtype: float64 \n",
            "\n",
            "\n",
            "Moda(s): \n",
            "\n",
            "0    0.0\n",
            "dtype: float64 \n",
            "\n",
            "\n",
            "Mediana: \n",
            "\n",
            "0.0 \n",
            "\n",
            "\n",
            "Varianza: \n",
            "\n",
            "417.35249266861985\n"
          ],
          "name": "stdout"
        }
      ]
    },
    {
      "cell_type": "markdown",
      "metadata": {
        "id": "R9Qrt_U7kman"
      },
      "source": [
        "De lo anterior, se propone df_aux como dataset limpio respecto a la característica zn."
      ]
    },
    {
      "cell_type": "markdown",
      "metadata": {
        "id": "2aC2cRbil2A3"
      },
      "source": [
        "### Indus"
      ]
    },
    {
      "cell_type": "code",
      "metadata": {
        "colab": {
          "base_uri": "https://localhost:8080/"
        },
        "id": "Ty3d0LxLkU4u",
        "outputId": "f0d75196-c2ae-40b3-df6c-757205ba16ab"
      },
      "source": [
        "df_aux, df_aux_p = clean_custom(df, \"indus\", 6)\n",
        "print(\"Proporción de datos considerados respecto al original: \" ,df_aux_p, \"\\n\\n\")\n",
        "print_medidas(df_aux, \"indus\")"
      ],
      "execution_count": null,
      "outputs": [
        {
          "output_type": "stream",
          "text": [
            "Porcentaje de datos considerados respecto al original:  1.0 \n",
            "\n",
            "\n",
            "Medidas de tendencia central: \n",
            "\n",
            "count    506.000000\n",
            "mean      11.136779\n",
            "std        6.860353\n",
            "min        0.460000\n",
            "25%        5.190000\n",
            "50%        9.690000\n",
            "75%       18.100000\n",
            "max       27.740000\n",
            "Name: indus, dtype: float64 \n",
            "\n",
            "\n",
            "Moda(s): \n",
            "\n",
            "0    18.1\n",
            "dtype: float64 \n",
            "\n",
            "\n",
            "Mediana: \n",
            "\n",
            "9.69 \n",
            "\n",
            "\n",
            "Varianza: \n",
            "\n",
            "47.064442473682135\n"
          ],
          "name": "stdout"
        }
      ]
    },
    {
      "cell_type": "markdown",
      "metadata": {
        "id": "v0-DLYB0nyMK"
      },
      "source": [
        "De lo anterior, se propone df_aux como dataset limpio respecto a la característica indus."
      ]
    },
    {
      "cell_type": "markdown",
      "metadata": {
        "id": "jRzA_-aYm5mh"
      },
      "source": [
        "### Chas"
      ]
    },
    {
      "cell_type": "code",
      "metadata": {
        "colab": {
          "base_uri": "https://localhost:8080/"
        },
        "id": "L3plwBrGm_6y",
        "outputId": "6d1d0978-7db8-41f7-9257-3a60e792a68f"
      },
      "source": [
        "df_aux, df_aux_p = clean_custom(df, \"chas\", 6)\n",
        "print(\"Proporción de datos considerados respecto al original: \" ,df_aux_p, \"\\n\\n\")\n",
        "print_medidas(df_aux, \"chas\")"
      ],
      "execution_count": null,
      "outputs": [
        {
          "output_type": "stream",
          "text": [
            "Proporción de datos considerados respecto al original:  0.0 \n",
            "\n",
            "\n",
            "Medidas de tendencia central: \n",
            "\n",
            "count    0.0\n",
            "mean     NaN\n",
            "std      NaN\n",
            "min      NaN\n",
            "25%      NaN\n",
            "50%      NaN\n",
            "75%      NaN\n",
            "max      NaN\n",
            "Name: chas, dtype: float64 \n",
            "\n",
            "\n",
            "Moda(s): \n",
            "\n",
            "Series([], dtype: int64) \n",
            "\n",
            "\n",
            "Mediana: \n",
            "\n",
            "nan \n",
            "\n",
            "\n",
            "Varianza: \n",
            "\n",
            "nan\n"
          ],
          "name": "stdout"
        }
      ]
    },
    {
      "cell_type": "markdown",
      "metadata": {
        "id": "sGROhIbPnaMS"
      },
      "source": [
        "Dado que es una variable categórica, no tiene sentido separarla. Se toman todos los datos."
      ]
    },
    {
      "cell_type": "markdown",
      "metadata": {
        "id": "BGvDjA2sm9Ak"
      },
      "source": [
        "### Nox"
      ]
    },
    {
      "cell_type": "code",
      "metadata": {
        "colab": {
          "base_uri": "https://localhost:8080/"
        },
        "id": "NcwHuoU_m7xS",
        "outputId": "a1b6aa79-a73a-4cb3-f78b-403418acd67b"
      },
      "source": [
        "df_aux, df_aux_p = clean_custom(df, \"nox\", 1)\n",
        "print(\"Proporción de datos considerados respecto al original: \" ,df_aux_p, \"\\n\\n\")\n",
        "print_medidas(df_aux, \"nox\")"
      ],
      "execution_count": null,
      "outputs": [
        {
          "output_type": "stream",
          "text": [
            "Proporción de datos considerados respecto al original:  0.9683794466403162 \n",
            "\n",
            "\n",
            "Medidas de tendencia central: \n",
            "\n",
            "count    490.000000\n",
            "mean       0.544367\n",
            "std        0.102404\n",
            "min        0.385000\n",
            "25%        0.448000\n",
            "50%        0.532000\n",
            "75%        0.621500\n",
            "max        0.770000\n",
            "Name: nox, dtype: float64 \n",
            "\n",
            "\n",
            "Moda(s): \n",
            "\n",
            "0    0.538\n",
            "dtype: float64 \n",
            "\n",
            "\n",
            "Mediana: \n",
            "\n",
            "0.532 \n",
            "\n",
            "\n",
            "Varianza: \n",
            "\n",
            "0.010486512449438682\n"
          ],
          "name": "stdout"
        }
      ]
    },
    {
      "cell_type": "markdown",
      "metadata": {
        "id": "eMeRg1FAnb3V"
      },
      "source": [
        "De lo anterior, se propone df_aux como dataset limpio respecto a la característica nox."
      ]
    },
    {
      "cell_type": "markdown",
      "metadata": {
        "id": "X-p3elqGnAZv"
      },
      "source": [
        "### Rm"
      ]
    },
    {
      "cell_type": "code",
      "metadata": {
        "colab": {
          "base_uri": "https://localhost:8080/"
        },
        "id": "FJYQuzZknBv6",
        "outputId": "0e589a79-4186-4197-b0e6-e90ad1330185"
      },
      "source": [
        "df_aux, df_aux_p = clean_custom(df, \"rm\", 3)\n",
        "print(\"Proporción de datos considerados respecto al original: \" ,df_aux_p, \"\\n\\n\")\n",
        "print_medidas(df_aux, \"rm\")"
      ],
      "execution_count": null,
      "outputs": [
        {
          "output_type": "stream",
          "text": [
            "Proporción de datos considerados respecto al original:  0.9980237154150198 \n",
            "\n",
            "\n",
            "Medidas de tendencia central: \n",
            "\n",
            "count    505.000000\n",
            "mean       6.290028\n",
            "std        0.692750\n",
            "min        3.863000\n",
            "25%        5.887000\n",
            "50%        6.209000\n",
            "75%        6.625000\n",
            "max        8.780000\n",
            "Name: rm, dtype: float64 \n",
            "\n",
            "\n",
            "Moda(s): \n",
            "\n",
            "0    5.713\n",
            "1    6.127\n",
            "2    6.167\n",
            "3    6.229\n",
            "4    6.405\n",
            "5    6.417\n",
            "dtype: float64 \n",
            "\n",
            "\n",
            "Mediana: \n",
            "\n",
            "6.209 \n",
            "\n",
            "\n",
            "Varianza: \n",
            "\n",
            "0.4799025904997641\n"
          ],
          "name": "stdout"
        }
      ]
    },
    {
      "cell_type": "markdown",
      "metadata": {
        "id": "FcSNApQandmZ"
      },
      "source": [
        "De lo anterior, se propone df_aux como dataset limpio respecto a la característica rm."
      ]
    },
    {
      "cell_type": "markdown",
      "metadata": {
        "id": "cBN3N_fSnCKQ"
      },
      "source": [
        "### Age"
      ]
    },
    {
      "cell_type": "code",
      "metadata": {
        "colab": {
          "base_uri": "https://localhost:8080/"
        },
        "id": "6uYAy3YsnDDy",
        "outputId": "e5e6abdb-a8c2-4bee-d217-8e208982f89d"
      },
      "source": [
        "df_aux, df_aux_p = clean_custom(df, \"age\", 1)\n",
        "print(\"Proporción de datos considerados respecto al original: \" ,df_aux_p, \"\\n\\n\")\n",
        "print_medidas(df_aux, \"age\")"
      ],
      "execution_count": null,
      "outputs": [
        {
          "output_type": "stream",
          "text": [
            "Proporción de datos considerados respecto al original:  1.0 \n",
            "\n",
            "\n",
            "Medidas de tendencia central: \n",
            "\n",
            "count    506.000000\n",
            "mean      68.574901\n",
            "std       28.148861\n",
            "min        2.900000\n",
            "25%       45.025000\n",
            "50%       77.500000\n",
            "75%       94.075000\n",
            "max      100.000000\n",
            "Name: age, dtype: float64 \n",
            "\n",
            "\n",
            "Moda(s): \n",
            "\n",
            "0    100.0\n",
            "dtype: float64 \n",
            "\n",
            "\n",
            "Mediana: \n",
            "\n",
            "77.5 \n",
            "\n",
            "\n",
            "Varianza: \n",
            "\n",
            "792.358398505069\n"
          ],
          "name": "stdout"
        }
      ]
    },
    {
      "cell_type": "markdown",
      "metadata": {
        "id": "Tvi66GRPnfE3"
      },
      "source": [
        "De lo anterior, se propone df_aux como dataset limpio respecto a la característica age."
      ]
    },
    {
      "cell_type": "markdown",
      "metadata": {
        "id": "vNDilfMjnDjY"
      },
      "source": [
        "### Dis"
      ]
    },
    {
      "cell_type": "code",
      "metadata": {
        "colab": {
          "base_uri": "https://localhost:8080/"
        },
        "id": "U-ioMNVynEV9",
        "outputId": "19871fbf-14af-4fa2-c0db-a22de2a15b69"
      },
      "source": [
        "df_aux, df_aux_p = clean_custom(df, \"dis\", 2)\n",
        "print(\"Proporción de datos considerados respecto al original: \" ,df_aux_p, \"\\n\\n\")\n",
        "print_medidas(df_aux, \"dis\")"
      ],
      "execution_count": null,
      "outputs": [
        {
          "output_type": "stream",
          "text": [
            "Proporción de datos considerados respecto al original:  0.9980237154150198 \n",
            "\n",
            "\n",
            "Medidas de tendencia central: \n",
            "\n",
            "count    505.000000\n",
            "mean       3.778545\n",
            "std        2.074805\n",
            "min        1.129600\n",
            "25%        2.100000\n",
            "50%        3.199200\n",
            "75%        5.118000\n",
            "max       10.710300\n",
            "Name: dis, dtype: float64 \n",
            "\n",
            "\n",
            "Moda(s): \n",
            "\n",
            "0    3.4952\n",
            "dtype: float64 \n",
            "\n",
            "\n",
            "Mediana: \n",
            "\n",
            "3.1992 \n",
            "\n",
            "\n",
            "Varianza: \n",
            "\n",
            "4.304815499183719\n"
          ],
          "name": "stdout"
        }
      ]
    },
    {
      "cell_type": "markdown",
      "metadata": {
        "id": "W07JIdBungqg"
      },
      "source": [
        "De lo anterior, se propone df_aux como dataset limpio respecto a la característica dis."
      ]
    },
    {
      "cell_type": "markdown",
      "metadata": {
        "id": "MrWLchidnEw1"
      },
      "source": [
        "### Rad"
      ]
    },
    {
      "cell_type": "code",
      "metadata": {
        "colab": {
          "base_uri": "https://localhost:8080/"
        },
        "id": "B8iaHpb4nF9i",
        "outputId": "82080999-8545-4ad4-b3f7-3397e6a7cf51"
      },
      "source": [
        "df_aux, df_aux_p = clean_custom(df, \"rad\", 1)\n",
        "print(\"Proporción de datos considerados respecto al original: \" ,df_aux_p, \"\\n\\n\")\n",
        "print_medidas(df_aux, \"rad\")"
      ],
      "execution_count": null,
      "outputs": [
        {
          "output_type": "stream",
          "text": [
            "Proporción de datos considerados respecto al original:  1.0 \n",
            "\n",
            "\n",
            "Medidas de tendencia central: \n",
            "\n",
            "count    506.000000\n",
            "mean       9.549407\n",
            "std        8.707259\n",
            "min        1.000000\n",
            "25%        4.000000\n",
            "50%        5.000000\n",
            "75%       24.000000\n",
            "max       24.000000\n",
            "Name: rad, dtype: float64 \n",
            "\n",
            "\n",
            "Moda(s): \n",
            "\n",
            "0    24\n",
            "dtype: int64 \n",
            "\n",
            "\n",
            "Mediana: \n",
            "\n",
            "5.0 \n",
            "\n",
            "\n",
            "Varianza: \n",
            "\n",
            "75.81636598442468\n"
          ],
          "name": "stdout"
        }
      ]
    },
    {
      "cell_type": "markdown",
      "metadata": {
        "id": "CUwbOY5wniCL"
      },
      "source": [
        "De lo anterior, se propone df_aux como dataset limpio respecto a la característica rad."
      ]
    },
    {
      "cell_type": "markdown",
      "metadata": {
        "id": "SSFqpftEnGbG"
      },
      "source": [
        "### Tax"
      ]
    },
    {
      "cell_type": "code",
      "metadata": {
        "colab": {
          "base_uri": "https://localhost:8080/"
        },
        "id": "FoD3HKxinIjq",
        "outputId": "7f683242-ea5d-43b2-ba7c-e1ff959607db"
      },
      "source": [
        "df_aux, df_aux_p = clean_custom(df, \"tax\", 1)\n",
        "print(\"Proporción de datos considerados respecto al original: \" ,df_aux_p, \"\\n\\n\")\n",
        "print_medidas(df_aux, \"tax\")"
      ],
      "execution_count": null,
      "outputs": [
        {
          "output_type": "stream",
          "text": [
            "Proporción de datos considerados respecto al original:  1.0 \n",
            "\n",
            "\n",
            "Medidas de tendencia central: \n",
            "\n",
            "count    506.000000\n",
            "mean     408.237154\n",
            "std      168.537116\n",
            "min      187.000000\n",
            "25%      279.000000\n",
            "50%      330.000000\n",
            "75%      666.000000\n",
            "max      711.000000\n",
            "Name: tax, dtype: float64 \n",
            "\n",
            "\n",
            "Moda(s): \n",
            "\n",
            "0    666.0\n",
            "dtype: float64 \n",
            "\n",
            "\n",
            "Mediana: \n",
            "\n",
            "330.0 \n",
            "\n",
            "\n",
            "Varianza: \n",
            "\n",
            "28404.759488122803\n"
          ],
          "name": "stdout"
        }
      ]
    },
    {
      "cell_type": "markdown",
      "metadata": {
        "id": "Z59P-EWcnjmj"
      },
      "source": [
        "De lo anterior, se propone df_aux como dataset limpio respecto a la característica tax."
      ]
    },
    {
      "cell_type": "markdown",
      "metadata": {
        "id": "Z0n4HwkFnJAR"
      },
      "source": [
        "### Ptratio"
      ]
    },
    {
      "cell_type": "code",
      "metadata": {
        "colab": {
          "base_uri": "https://localhost:8080/"
        },
        "id": "X0ElHt-cnKgJ",
        "outputId": "111c0510-03c5-442a-bbbc-ea31d1894d2f"
      },
      "source": [
        "df_aux, df_aux_p = clean_custom(df, \"ptratio\", 2)\n",
        "print(\"Proporción de datos considerados respecto al original: \" ,df_aux_p, \"\\n\\n\")\n",
        "print_medidas(df_aux, \"ptratio\")"
      ],
      "execution_count": null,
      "outputs": [
        {
          "output_type": "stream",
          "text": [
            "Proporción de datos considerados respecto al original:  1.0 \n",
            "\n",
            "\n",
            "Medidas de tendencia central: \n",
            "\n",
            "count    506.000000\n",
            "mean      18.455534\n",
            "std        2.164946\n",
            "min       12.600000\n",
            "25%       17.400000\n",
            "50%       19.050000\n",
            "75%       20.200000\n",
            "max       22.000000\n",
            "Name: ptratio, dtype: float64 \n",
            "\n",
            "\n",
            "Moda(s): \n",
            "\n",
            "0    20.2\n",
            "dtype: float64 \n",
            "\n",
            "\n",
            "Mediana: \n",
            "\n",
            "19.05 \n",
            "\n",
            "\n",
            "Varianza: \n",
            "\n",
            "4.686989120651217\n"
          ],
          "name": "stdout"
        }
      ]
    },
    {
      "cell_type": "markdown",
      "metadata": {
        "id": "hyU4Ovw3nlly"
      },
      "source": [
        "De lo anterior, se propone df_aux como dataset limpio respecto a la característica ptratio."
      ]
    },
    {
      "cell_type": "markdown",
      "metadata": {
        "id": "z8UJ8he_nK7w"
      },
      "source": [
        "### Black"
      ]
    },
    {
      "cell_type": "code",
      "metadata": {
        "colab": {
          "base_uri": "https://localhost:8080/"
        },
        "id": "v1AvcyUpnMLT",
        "outputId": "23673a80-e4dd-4777-8315-304368cdde10"
      },
      "source": [
        "df_aux, df_aux_p = clean_custom(df, \"black\", 17)\n",
        "print(\"Proporción de datos considerados respecto al original: \" ,df_aux_p, \"\\n\\n\")\n",
        "print_medidas(df_aux, \"black\")"
      ],
      "execution_count": null,
      "outputs": [
        {
          "output_type": "stream",
          "text": [
            "Proporción de datos considerados respecto al original:  0.9782608695652174 \n",
            "\n",
            "\n",
            "Medidas de tendencia central: \n",
            "\n",
            "count    495.000000\n",
            "mean     364.434424\n",
            "std       75.787420\n",
            "min       21.570000\n",
            "25%      376.715000\n",
            "50%      391.930000\n",
            "75%      396.290000\n",
            "max      396.900000\n",
            "Name: black, dtype: float64 \n",
            "\n",
            "\n",
            "Moda(s): \n",
            "\n",
            "0    396.9\n",
            "dtype: float64 \n",
            "\n",
            "\n",
            "Mediana: \n",
            "\n",
            "391.93 \n",
            "\n",
            "\n",
            "Varianza: \n",
            "\n",
            "5743.732958726535\n"
          ],
          "name": "stdout"
        }
      ]
    },
    {
      "cell_type": "markdown",
      "metadata": {
        "id": "nVZe0PuinoJs"
      },
      "source": [
        "De lo anterior, se propone df_aux como dataset limpio respecto a la característica black. Notar que al incrementar el porcentaje acaparado mayor a 97%, se deben tomar limites muy amplios."
      ]
    },
    {
      "cell_type": "markdown",
      "metadata": {
        "id": "tKd6zShhnM11"
      },
      "source": [
        "### Lstat"
      ]
    },
    {
      "cell_type": "code",
      "metadata": {
        "colab": {
          "base_uri": "https://localhost:8080/"
        },
        "id": "dU8iuV8GnOHx",
        "outputId": "3657e4ec-1977-4b57-e998-d30bba7a5a51"
      },
      "source": [
        "df_aux, df_aux_p = clean_custom(df, \"lstat\", 2)\n",
        "print(\"Proporción de datos considerados respecto al original: \" ,df_aux_p, \"\\n\\n\")\n",
        "print_medidas(df_aux, \"lstat\")"
      ],
      "execution_count": null,
      "outputs": [
        {
          "output_type": "stream",
          "text": [
            "Proporción de datos considerados respecto al original:  0.9960474308300395 \n",
            "\n",
            "\n",
            "Medidas de tendencia central: \n",
            "\n",
            "count    504.000000\n",
            "mean      12.554563\n",
            "std        6.981190\n",
            "min        1.730000\n",
            "25%        6.927500\n",
            "50%       11.330000\n",
            "75%       16.910000\n",
            "max       34.770000\n",
            "Name: lstat, dtype: float64 \n",
            "\n",
            "\n",
            "Moda(s): \n",
            "\n",
            "0     6.36\n",
            "1     7.79\n",
            "2     8.05\n",
            "3    14.10\n",
            "4    18.13\n",
            "dtype: float64 \n",
            "\n",
            "\n",
            "Mediana: \n",
            "\n",
            "11.33 \n",
            "\n",
            "\n",
            "Varianza: \n",
            "\n",
            "48.73701094228281\n"
          ],
          "name": "stdout"
        }
      ]
    },
    {
      "cell_type": "markdown",
      "metadata": {
        "id": "poMW8mtRnpiV"
      },
      "source": [
        "De lo anterior, se propone df_aux como dataset limpio respecto a la característica lstat."
      ]
    },
    {
      "cell_type": "markdown",
      "metadata": {
        "id": "z14JrdZXnOl1"
      },
      "source": [
        "### Medv"
      ]
    },
    {
      "cell_type": "code",
      "metadata": {
        "colab": {
          "base_uri": "https://localhost:8080/"
        },
        "id": "Q0P39uj0nPpK",
        "outputId": "8b04ba73-f067-4e36-84d4-22423372741b"
      },
      "source": [
        "df_aux, df_aux_p = clean_custom(df, \"medv\", 3)\n",
        "print(\"Proporción de datos considerados respecto al original: \" ,df_aux_p, \"\\n\\n\")\n",
        "print_medidas(df_aux, \"medv\")"
      ],
      "execution_count": null,
      "outputs": [
        {
          "output_type": "stream",
          "text": [
            "Proporción de datos considerados respecto al original:  0.9683794466403162 \n",
            "\n",
            "\n",
            "Medidas de tendencia central: \n",
            "\n",
            "count    490.000000\n",
            "mean      21.635918\n",
            "std        7.865301\n",
            "min        5.000000\n",
            "25%       16.700000\n",
            "50%       20.900000\n",
            "75%       24.675000\n",
            "max       48.800000\n",
            "Name: medv, dtype: float64 \n",
            "\n",
            "\n",
            "Moda(s): \n",
            "\n",
            "0    25.0\n",
            "dtype: float64 \n",
            "\n",
            "\n",
            "Mediana: \n",
            "\n",
            "20.9 \n",
            "\n",
            "\n",
            "Varianza: \n",
            "\n",
            "61.862960811318366\n"
          ],
          "name": "stdout"
        }
      ]
    },
    {
      "cell_type": "markdown",
      "metadata": {
        "id": "JbPUGelunrF9"
      },
      "source": [
        "De lo anterior, se propone df_aux como dataset limpio respecto a la característica medv. Al incrementar Desde 3.0 a 3.15 se salta del 96.84% aprox al 100%, sañalando datos outliers ahí."
      ]
    }
  ]
}