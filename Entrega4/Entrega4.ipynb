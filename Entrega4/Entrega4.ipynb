{
  "nbformat": 4,
  "nbformat_minor": 0,
  "metadata": {
    "colab": {
      "name": "Entrega4.ipynb",
      "provenance": [],
      "collapsed_sections": [],
      "authorship_tag": "ABX9TyOpISlJd2ANPz1Kfy0AmvXh",
      "include_colab_link": true
    },
    "kernelspec": {
      "name": "python3",
      "display_name": "Python 3"
    },
    "language_info": {
      "name": "python"
    }
  },
  "cells": [
    {
      "cell_type": "markdown",
      "metadata": {
        "id": "view-in-github",
        "colab_type": "text"
      },
      "source": [
        "<a href=\"https://colab.research.google.com/github/Maxibrionest/FMY-Fundamentos-Machine-Learning/blob/main/Entrega4/Entrega4.ipynb\" target=\"_parent\"><img src=\"https://colab.research.google.com/assets/colab-badge.svg\" alt=\"Open In Colab\"/></a>"
      ]
    },
    {
      "cell_type": "code",
      "metadata": {
        "id": "AU-TXreiHh1F"
      },
      "source": [
        "import pandas as pd\n",
        "import numpy as np\n",
        "import matplotlib.pyplot as plt\n",
        "from sklearn.linear_model import LinearRegression\n",
        "from sklearn.model_selection import train_test_split\n",
        "import seaborn as sns\n",
        "from sklearn.metrics import mean_squared_error\n",
        "from sklearn.metrics import mean_absolute_error\n",
        "from sklearn.metrics import r2_score\n",
        "from sklearn.preprocessing import StandardScaler\n",
        "from sklearn.preprocessing import MinMaxScaler\n",
        "from sklearn.tree import DecisionTreeRegressor\n",
        "from sklearn import tree\n",
        "from sklearn.model_selection import GridSearchCV\n",
        "from sklearn.ensemble import RandomForestRegressor\n"
      ],
      "execution_count": 41,
      "outputs": []
    },
    {
      "cell_type": "code",
      "metadata": {
        "id": "Q-zap45bHpKl"
      },
      "source": [
        "url = 'https://raw.githubusercontent.com/Maxibrionest/FMY-Fundamentos-Machine-Learning/main/Entrega1/boston_housing.csv'\n",
        "df = pd.read_csv(url, sep=\",\")"
      ],
      "execution_count": 42,
      "outputs": []
    },
    {
      "cell_type": "code",
      "metadata": {
        "id": "1__Hf--LH04R"
      },
      "source": [
        "def clean_custom(df, col, iqrFences):\n",
        "    q1 = df[col].quantile(.25)\n",
        "    q3 = df[col].quantile(.75)\n",
        "    iqr = q3-q1 #IQR definido anteriormente\n",
        "    fence_low  = q1 - iqrFences * iqr\n",
        "    fence_high = q3 + iqrFences * iqr\n",
        "    df_out = df.loc[(df[col] > fence_low) & (df[col] < fence_high)]\n",
        "    size = df_out.shape[0]\n",
        "    pctg = size/df.shape[0]   # calcula el porcentaje de observaciones consideradas respecto al df original\n",
        "    return df_out, pctg\n",
        "\n",
        "def clean_outliers_hard(df, col):\n",
        "    # elimina outliers fuera del rango +- 1.5 IQR de los cuartiles\n",
        "    # En el boxplot, elimina los datos atípicos\n",
        "    q1 = df[col].quantile(.25)\n",
        "    q3 = df[col].quantile(.75)\n",
        "    iqr = q3-q1 #IQR definido anteriormente\n",
        "    fence_low  = q1 - 1.5*iqr\n",
        "    fence_high = q3 + 1.5*iqr\n",
        "    df_out = df.loc[(df[col] > fence_low) & (df[col] < fence_high)]\n",
        "    return df_out\n",
        "\n",
        "def clean_outliers_soft(df, col):\n",
        "    # elimina outliers fuera del rango +- 3.0 IQR de los cuartiles\n",
        "    # Dado que sus limites son mas amplios, elimina menos datos o equivalentemente considera mas datos\n",
        "    q1 = df[col].quantile(.25)\n",
        "    q3 = df[col].quantile(.75)\n",
        "    iqr = q3-q1 #IQR definido anteriormente\n",
        "    fence_low  = q1 - 3*iqr\n",
        "    fence_high = q3 + 3*iqr\n",
        "    df_out = df.loc[(df[col] > fence_low) & (df[col] < fence_high)]\n",
        "    return df_out\n"
      ],
      "execution_count": 43,
      "outputs": []
    },
    {
      "cell_type": "code",
      "metadata": {
        "id": "zUb7rytBH1gS"
      },
      "source": [
        "df_clean, df_clean_p = clean_custom(df, \"crim\", 1.5)\n",
        "df_clean, df_clean_p = clean_custom(df_clean, \"zn\", 1.5)\n",
        "df_clean, df_clean_p = clean_custom(df_clean, \"indus\", 1.5)\n",
        "df_clean, df_clean_p = clean_custom(df_clean, \"nox\", 1.5)\n",
        "df_clean, df_clean_p = clean_custom(df_clean, \"rm\", 1.5)\n",
        "df_clean, df_clean_p = clean_custom(df_clean, \"age\", 1.5)\n",
        "df_clean, df_clean_p = clean_custom(df_clean, \"dis\", 1.5)\n",
        "df_clean, df_clean_p = clean_custom(df_clean, \"rad\", 1.5)\n",
        "df_clean, df_clean_p = clean_custom(df_clean, \"tax\", 1.5)\n",
        "df_clean, df_clean_p = clean_custom(df_clean, \"ptratio\", 1.5)\n",
        "df_clean, df_clean_p = clean_custom(df_clean, \"black\", 1.5)\n",
        "df_clean, df_clean_p = clean_custom(df_clean, \"lstat\", 1.5)"
      ],
      "execution_count": 44,
      "outputs": []
    },
    {
      "cell_type": "code",
      "metadata": {
        "id": "h-Wl6HbaIO85"
      },
      "source": [
        "corrdat = df_clean.corr()\n",
        "def getCorr(dat, lim): #obtiene los features con mayor impacto en el target\n",
        "    feature = []\n",
        "    valor = []\n",
        "    \n",
        "    for i , index in enumerate(dat.index): #bucle para todos los indices\n",
        "        if abs(dat[index]) > lim:\n",
        "            feature.append(index)\n",
        "            #print(index)\n",
        "            valor.append(dat[index])\n",
        "\n",
        "    df = pd.DataFrame(data = valor, index = feature, columns = ['corr value'])\n",
        "\n",
        "    return df\n",
        "\n",
        "lim = 0.4\n",
        "corr_value = getCorr(corrdat[\"medv\"], lim)"
      ],
      "execution_count": 45,
      "outputs": []
    },
    {
      "cell_type": "code",
      "metadata": {
        "id": "bQLzfHBwI9Da"
      },
      "source": [
        "df_op = df_clean[corr_value.index]"
      ],
      "execution_count": 46,
      "outputs": []
    },
    {
      "cell_type": "code",
      "metadata": {
        "id": "odXDmv8RJAIj"
      },
      "source": [
        "X = df_op.drop(['medv'], axis=1)\n",
        "Y = df_op.medv.copy()"
      ],
      "execution_count": 47,
      "outputs": []
    },
    {
      "cell_type": "code",
      "metadata": {
        "id": "KrXlZQCSPSpe"
      },
      "source": [
        "Xtrain, Xtest, Ytrain, Ytest = train_test_split(X,Y,test_size=0.2, random_state=16062021)"
      ],
      "execution_count": 48,
      "outputs": []
    },
    {
      "cell_type": "code",
      "metadata": {
        "id": "u-37Ja_NJIEn"
      },
      "source": [
        "model_tree_grid = DecisionTreeRegressor()\n",
        "\n",
        "params = {\"max_depth\": np.arange(3, 10),          # ej: [3,4,5]\n",
        "          \"min_samples_split\": np.arange(2, 10),  # ej: [2,3,4]\n",
        "          \"random_state\": np.array([16062021])\n",
        "          }"
      ],
      "execution_count": 49,
      "outputs": []
    },
    {
      "cell_type": "code",
      "metadata": {
        "colab": {
          "base_uri": "https://localhost:8080/"
        },
        "id": "certuyg2NdhT",
        "outputId": "6ba58599-c360-431f-fe22-3d938ee97dfc"
      },
      "source": [
        "grid = GridSearchCV(estimator=model_tree_grid, param_grid=params, cv=10, scoring='r2')\n",
        "grid.fit(Xtrain, Ytrain)"
      ],
      "execution_count": 50,
      "outputs": [
        {
          "output_type": "execute_result",
          "data": {
            "text/plain": [
              "GridSearchCV(cv=10, error_score=nan,\n",
              "             estimator=DecisionTreeRegressor(ccp_alpha=0.0, criterion='mse',\n",
              "                                             max_depth=None, max_features=None,\n",
              "                                             max_leaf_nodes=None,\n",
              "                                             min_impurity_decrease=0.0,\n",
              "                                             min_impurity_split=None,\n",
              "                                             min_samples_leaf=1,\n",
              "                                             min_samples_split=2,\n",
              "                                             min_weight_fraction_leaf=0.0,\n",
              "                                             presort='deprecated',\n",
              "                                             random_state=None,\n",
              "                                             splitter='best'),\n",
              "             iid='deprecated', n_jobs=None,\n",
              "             param_grid={'max_depth': array([3, 4, 5, 6, 7, 8, 9]),\n",
              "                         'min_samples_split': array([2, 3, 4, 5, 6, 7, 8, 9]),\n",
              "                         'random_state': array([16062021])},\n",
              "             pre_dispatch='2*n_jobs', refit=True, return_train_score=False,\n",
              "             scoring='r2', verbose=0)"
            ]
          },
          "metadata": {
            "tags": []
          },
          "execution_count": 50
        }
      ]
    },
    {
      "cell_type": "code",
      "metadata": {
        "colab": {
          "base_uri": "https://localhost:8080/"
        },
        "id": "nwR35u2EPq_A",
        "outputId": "f8b629cf-efbc-4840-8846-251656fffdd2"
      },
      "source": [
        "print(grid.best_score_)\n",
        "print(grid.best_params_)"
      ],
      "execution_count": 51,
      "outputs": [
        {
          "output_type": "stream",
          "text": [
            "0.6673883614425868\n",
            "{'max_depth': 9, 'min_samples_split': 9, 'random_state': 16062021}\n"
          ],
          "name": "stdout"
        }
      ]
    },
    {
      "cell_type": "code",
      "metadata": {
        "colab": {
          "base_uri": "https://localhost:8080/"
        },
        "id": "4YeGhf8VP2m0",
        "outputId": "e423f5e0-a414-43f1-d760-7eccd8a32d21"
      },
      "source": [
        "model_forest = DecisionTreeRegressor(max_depth=9, min_samples_split=9, random_state=16062021)\n",
        "model_forest.fit(X, Y)"
      ],
      "execution_count": 53,
      "outputs": [
        {
          "output_type": "execute_result",
          "data": {
            "text/plain": [
              "DecisionTreeRegressor(ccp_alpha=0.0, criterion='mse', max_depth=9,\n",
              "                      max_features=None, max_leaf_nodes=None,\n",
              "                      min_impurity_decrease=0.0, min_impurity_split=None,\n",
              "                      min_samples_leaf=1, min_samples_split=9,\n",
              "                      min_weight_fraction_leaf=0.0, presort='deprecated',\n",
              "                      random_state=16062021, splitter='best')"
            ]
          },
          "metadata": {
            "tags": []
          },
          "execution_count": 53
        }
      ]
    },
    {
      "cell_type": "code",
      "metadata": {
        "id": "YmqkREL4okP-"
      },
      "source": [
        ""
      ],
      "execution_count": null,
      "outputs": []
    }
  ]
}