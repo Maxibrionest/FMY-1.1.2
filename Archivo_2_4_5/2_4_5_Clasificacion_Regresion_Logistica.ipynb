{
  "nbformat": 4,
  "nbformat_minor": 0,
  "metadata": {
    "colab": {
      "name": "2_4_5_Clasificacion_Regresion_Logistica.ipynb",
      "provenance": [],
      "collapsed_sections": [],
      "include_colab_link": true
    },
    "kernelspec": {
      "name": "python3",
      "display_name": "Python 3"
    }
  },
  "cells": [
    {
      "cell_type": "markdown",
      "metadata": {
        "id": "view-in-github",
        "colab_type": "text"
      },
      "source": [
        "<a href=\"https://colab.research.google.com/github/Maxibrionest/FMY-Fundamentos-Machine-Learning/blob/main/Archivo_2_4_5/2_4_5_Clasificacion_Regresion_Logistica.ipynb\" target=\"_parent\"><img src=\"https://colab.research.google.com/assets/colab-badge.svg\" alt=\"Open In Colab\"/></a>"
      ]
    },
    {
      "cell_type": "markdown",
      "metadata": {
        "id": "EMBZEpm9WJNn"
      },
      "source": [
        "# Introducción \n",
        " \n",
        "\n",
        "# Regresión Logística - Validación\n",
        "$$y = \\beta_0 + x_1\\beta_1 + ... + x_k\\beta_k$$\n",
        "\n",
        "$$p = f(y)= \\frac{1}{1+e^{-y}} = \\frac{1}{1+e^{-(\\beta_0 + x_1\\beta_1 + ... + x_k\\beta_k)}}$$\n",
        " \n",
        "\n",
        "\n",
        " # Actividades \n",
        " ESTABILIDAD DE UNA MATRIZ ELÉCTRICA\n",
        "\n",
        "La estabilidad en una matriz energética del país es de suma importancia para el progreso económico y el bienestar de sus habitantes (solo tener presente la sensación de inseguridad, malestar, etc. que se puede generar con un corte no previsto puede afectar el mercado económico y el bienestar de una población)\n",
        "\n",
        "El desafio es tratar de determinar si la red es estable (columna ```stabf```) basado en un conjunto de caracteristicas disponibles:\n",
        "\n",
        "\n",
        "1. tau[x]: reaction time of participant (real from the range [0.5,10]s). Tau1 - the value for electricity producer. \n",
        "2. p[x]: nominal power consumed(negative)/produced(positive)(real). For consumers from the range [-0.5,-2]s^-2; p1 = abs(p2 + p3 + p4) \n",
        "3. g[x]: coefficient (gamma) proportional to price elasticity (real from the range [0.05,1]s^-1). g1 - the value for electricity producer. \n",
        "4. stab: the maximal real part of the characteristic equation root (if positive - the system is linearly unstable)(real) \n",
        "5. stabf: the stability label of the system (categorical: stable/unstable) \n",
        "\n",
        "\n",
        "Estos datos fueron usados en el paper: \"Towards Concise Models of Grid Stability\"\n",
        "\n",
        "https://archive.ics.uci.edu/ml/datasets/Electrical+Grid+Stability+Simulated+Data+\n",
        "\n",
        "¡Empezamos! \n",
        "\n"
      ]
    },
    {
      "cell_type": "markdown",
      "metadata": {
        "id": "ckOW3qqxABht"
      },
      "source": [
        "## Cargamos el dataset"
      ]
    },
    {
      "cell_type": "code",
      "metadata": {
        "id": "GQrnvRr3cTwq",
        "colab": {
          "base_uri": "https://localhost:8080/",
          "height": 197
        },
        "outputId": "71fbf196-bd5a-4c23-e6eb-8aae0707281c"
      },
      "source": [
        "import pandas as pd\n",
        "df = pd.read_csv('https://archive.ics.uci.edu/ml/machine-learning-databases/00471/Data_for_UCI_named.csv')\n",
        "\n",
        "df.head()"
      ],
      "execution_count": 1,
      "outputs": [
        {
          "output_type": "execute_result",
          "data": {
            "text/html": [
              "<div>\n",
              "<style scoped>\n",
              "    .dataframe tbody tr th:only-of-type {\n",
              "        vertical-align: middle;\n",
              "    }\n",
              "\n",
              "    .dataframe tbody tr th {\n",
              "        vertical-align: top;\n",
              "    }\n",
              "\n",
              "    .dataframe thead th {\n",
              "        text-align: right;\n",
              "    }\n",
              "</style>\n",
              "<table border=\"1\" class=\"dataframe\">\n",
              "  <thead>\n",
              "    <tr style=\"text-align: right;\">\n",
              "      <th></th>\n",
              "      <th>tau1</th>\n",
              "      <th>tau2</th>\n",
              "      <th>tau3</th>\n",
              "      <th>tau4</th>\n",
              "      <th>p1</th>\n",
              "      <th>p2</th>\n",
              "      <th>p3</th>\n",
              "      <th>p4</th>\n",
              "      <th>g1</th>\n",
              "      <th>g2</th>\n",
              "      <th>g3</th>\n",
              "      <th>g4</th>\n",
              "      <th>stab</th>\n",
              "      <th>stabf</th>\n",
              "    </tr>\n",
              "  </thead>\n",
              "  <tbody>\n",
              "    <tr>\n",
              "      <th>0</th>\n",
              "      <td>2.959060</td>\n",
              "      <td>3.079885</td>\n",
              "      <td>8.381025</td>\n",
              "      <td>9.780754</td>\n",
              "      <td>3.763085</td>\n",
              "      <td>-0.782604</td>\n",
              "      <td>-1.257395</td>\n",
              "      <td>-1.723086</td>\n",
              "      <td>0.650456</td>\n",
              "      <td>0.859578</td>\n",
              "      <td>0.887445</td>\n",
              "      <td>0.958034</td>\n",
              "      <td>0.055347</td>\n",
              "      <td>unstable</td>\n",
              "    </tr>\n",
              "    <tr>\n",
              "      <th>1</th>\n",
              "      <td>9.304097</td>\n",
              "      <td>4.902524</td>\n",
              "      <td>3.047541</td>\n",
              "      <td>1.369357</td>\n",
              "      <td>5.067812</td>\n",
              "      <td>-1.940058</td>\n",
              "      <td>-1.872742</td>\n",
              "      <td>-1.255012</td>\n",
              "      <td>0.413441</td>\n",
              "      <td>0.862414</td>\n",
              "      <td>0.562139</td>\n",
              "      <td>0.781760</td>\n",
              "      <td>-0.005957</td>\n",
              "      <td>stable</td>\n",
              "    </tr>\n",
              "    <tr>\n",
              "      <th>2</th>\n",
              "      <td>8.971707</td>\n",
              "      <td>8.848428</td>\n",
              "      <td>3.046479</td>\n",
              "      <td>1.214518</td>\n",
              "      <td>3.405158</td>\n",
              "      <td>-1.207456</td>\n",
              "      <td>-1.277210</td>\n",
              "      <td>-0.920492</td>\n",
              "      <td>0.163041</td>\n",
              "      <td>0.766689</td>\n",
              "      <td>0.839444</td>\n",
              "      <td>0.109853</td>\n",
              "      <td>0.003471</td>\n",
              "      <td>unstable</td>\n",
              "    </tr>\n",
              "    <tr>\n",
              "      <th>3</th>\n",
              "      <td>0.716415</td>\n",
              "      <td>7.669600</td>\n",
              "      <td>4.486641</td>\n",
              "      <td>2.340563</td>\n",
              "      <td>3.963791</td>\n",
              "      <td>-1.027473</td>\n",
              "      <td>-1.938944</td>\n",
              "      <td>-0.997374</td>\n",
              "      <td>0.446209</td>\n",
              "      <td>0.976744</td>\n",
              "      <td>0.929381</td>\n",
              "      <td>0.362718</td>\n",
              "      <td>0.028871</td>\n",
              "      <td>unstable</td>\n",
              "    </tr>\n",
              "    <tr>\n",
              "      <th>4</th>\n",
              "      <td>3.134112</td>\n",
              "      <td>7.608772</td>\n",
              "      <td>4.943759</td>\n",
              "      <td>9.857573</td>\n",
              "      <td>3.525811</td>\n",
              "      <td>-1.125531</td>\n",
              "      <td>-1.845975</td>\n",
              "      <td>-0.554305</td>\n",
              "      <td>0.797110</td>\n",
              "      <td>0.455450</td>\n",
              "      <td>0.656947</td>\n",
              "      <td>0.820923</td>\n",
              "      <td>0.049860</td>\n",
              "      <td>unstable</td>\n",
              "    </tr>\n",
              "  </tbody>\n",
              "</table>\n",
              "</div>"
            ],
            "text/plain": [
              "       tau1      tau2      tau3  ...        g4      stab     stabf\n",
              "0  2.959060  3.079885  8.381025  ...  0.958034  0.055347  unstable\n",
              "1  9.304097  4.902524  3.047541  ...  0.781760 -0.005957    stable\n",
              "2  8.971707  8.848428  3.046479  ...  0.109853  0.003471  unstable\n",
              "3  0.716415  7.669600  4.486641  ...  0.362718  0.028871  unstable\n",
              "4  3.134112  7.608772  4.943759  ...  0.820923  0.049860  unstable\n",
              "\n",
              "[5 rows x 14 columns]"
            ]
          },
          "metadata": {
            "tags": []
          },
          "execution_count": 1
        }
      ]
    },
    {
      "cell_type": "code",
      "metadata": {
        "id": "o6QnkaFe-jSV",
        "colab": {
          "base_uri": "https://localhost:8080/"
        },
        "outputId": "1630316a-3485-4102-b503-6b770224ecb1"
      },
      "source": [
        "df.isna().sum()"
      ],
      "execution_count": 2,
      "outputs": [
        {
          "output_type": "execute_result",
          "data": {
            "text/plain": [
              "tau1     0\n",
              "tau2     0\n",
              "tau3     0\n",
              "tau4     0\n",
              "p1       0\n",
              "p2       0\n",
              "p3       0\n",
              "p4       0\n",
              "g1       0\n",
              "g2       0\n",
              "g3       0\n",
              "g4       0\n",
              "stab     0\n",
              "stabf    0\n",
              "dtype: int64"
            ]
          },
          "metadata": {
            "tags": []
          },
          "execution_count": 2
        }
      ]
    },
    {
      "cell_type": "code",
      "metadata": {
        "id": "cxQuWVOEbguT",
        "colab": {
          "base_uri": "https://localhost:8080/"
        },
        "outputId": "0b55710c-d293-422e-9433-ddecaecacc6d"
      },
      "source": [
        "df.stabf.unique()"
      ],
      "execution_count": 3,
      "outputs": [
        {
          "output_type": "execute_result",
          "data": {
            "text/plain": [
              "array(['unstable', 'stable'], dtype=object)"
            ]
          },
          "metadata": {
            "tags": []
          },
          "execution_count": 3
        }
      ]
    },
    {
      "cell_type": "code",
      "metadata": {
        "id": "giiL2yGg-EAy",
        "colab": {
          "base_uri": "https://localhost:8080/"
        },
        "outputId": "3058292d-cc6a-4717-8c04-5b0068f82ffb"
      },
      "source": [
        "df.stabf.value_counts()/df.shape[0]"
      ],
      "execution_count": 19,
      "outputs": [
        {
          "output_type": "execute_result",
          "data": {
            "text/plain": [
              "unstable    0.638\n",
              "stable      0.362\n",
              "Name: stabf, dtype: float64"
            ]
          },
          "metadata": {
            "tags": []
          },
          "execution_count": 19
        }
      ]
    },
    {
      "cell_type": "markdown",
      "metadata": {
        "id": "SEVP-OCk_Ixj"
      },
      "source": [
        "## Preparamos el dataset\n",
        "\n",
        "¿Por qué hay variables que se borran?\n",
        "\n",
        "Explica la celda siguiente..."
      ]
    },
    {
      "cell_type": "code",
      "metadata": {
        "id": "KnbnviiX-PXC"
      },
      "source": [
        "X = df.drop(['stab','stabf'],axis=1)\n",
        "Y = df.stabf.copy()"
      ],
      "execution_count": 5,
      "outputs": []
    },
    {
      "cell_type": "markdown",
      "metadata": {
        "id": "PFvVN-j0omYW"
      },
      "source": [
        " - Del dataset obtendremos un modelo para determinar ***stab*** que a su vez, según su signo determina ***stabf***. Entonces, para poder entrenarlo, debemos sacar a los valores target (***stab*** y ***stabf***) del dataset. Luego copiamos ***stabf*** a *Y*, que utilizaremos como target."
      ]
    },
    {
      "cell_type": "markdown",
      "metadata": {
        "id": "0WLi0fJM-p24"
      },
      "source": [
        "## Cargamos y Ajustamos el modelo"
      ]
    },
    {
      "cell_type": "code",
      "metadata": {
        "id": "Pikqb_ec-nRf",
        "colab": {
          "base_uri": "https://localhost:8080/"
        },
        "outputId": "65b210ae-6cd0-49f8-9e1f-37a7e80ac764"
      },
      "source": [
        "import numpy as np\n",
        "from sklearn.linear_model import LogisticRegression\n",
        "\n",
        "mo1 = LogisticRegression(solver='lbfgs')\n",
        "\n",
        "mo1.fit(X, Y)"
      ],
      "execution_count": 7,
      "outputs": [
        {
          "output_type": "execute_result",
          "data": {
            "text/plain": [
              "LogisticRegression(C=1.0, class_weight=None, dual=False, fit_intercept=True,\n",
              "                   intercept_scaling=1, l1_ratio=None, max_iter=100,\n",
              "                   multi_class='auto', n_jobs=None, penalty='l2',\n",
              "                   random_state=None, solver='lbfgs', tol=0.0001, verbose=0,\n",
              "                   warm_start=False)"
            ]
          },
          "metadata": {
            "tags": []
          },
          "execution_count": 7
        }
      ]
    },
    {
      "cell_type": "code",
      "metadata": {
        "id": "Fjq5CHsRnZNd"
      },
      "source": [
        "Yhat = mo1.predict(X)\n",
        "Yprob = mo1.predict_proba(X)"
      ],
      "execution_count": 8,
      "outputs": []
    },
    {
      "cell_type": "code",
      "metadata": {
        "id": "eaYuTPLt3IyS",
        "colab": {
          "base_uri": "https://localhost:8080/"
        },
        "outputId": "f35a5ed5-f5fc-4862-cb9f-1c73c810b157"
      },
      "source": [
        "Yhat"
      ],
      "execution_count": 9,
      "outputs": [
        {
          "output_type": "execute_result",
          "data": {
            "text/plain": [
              "array(['unstable', 'unstable', 'unstable', ..., 'stable', 'unstable',\n",
              "       'unstable'], dtype=object)"
            ]
          },
          "metadata": {
            "tags": []
          },
          "execution_count": 9
        }
      ]
    },
    {
      "cell_type": "code",
      "metadata": {
        "id": "4KwGPwum29DM",
        "colab": {
          "base_uri": "https://localhost:8080/"
        },
        "outputId": "e2303ae5-639c-4fdc-b818-879a3d88de7f"
      },
      "source": [
        "Yprob"
      ],
      "execution_count": 12,
      "outputs": [
        {
          "output_type": "execute_result",
          "data": {
            "text/plain": [
              "array([[0.00305861, 0.99694139],\n",
              "       [0.15841728, 0.84158272],\n",
              "       [0.30149768, 0.69850232],\n",
              "       ...,\n",
              "       [0.85798006, 0.14201994],\n",
              "       [0.02217816, 0.97782184],\n",
              "       [0.10345702, 0.89654298]])"
            ]
          },
          "metadata": {
            "tags": []
          },
          "execution_count": 12
        }
      ]
    },
    {
      "cell_type": "markdown",
      "metadata": {
        "id": "gw5O-Pbgc7ex"
      },
      "source": [
        "## Evaluamos los resultados\n",
        "\n",
        "Explica que significan cada una de las métricas siguientes, en cuanto al valor que están mostrando."
      ]
    },
    {
      "cell_type": "code",
      "metadata": {
        "id": "Vu7_R22ZnWPk",
        "colab": {
          "base_uri": "https://localhost:8080/"
        },
        "outputId": "2dc74701-4332-4a15-80b2-5f6e3fff7aca"
      },
      "source": [
        "from sklearn.metrics import classification_report\n",
        "print(classification_report(Y, Yhat))"
      ],
      "execution_count": 13,
      "outputs": [
        {
          "output_type": "stream",
          "text": [
            "              precision    recall  f1-score   support\n",
            "\n",
            "      stable       0.77      0.70      0.73      3620\n",
            "    unstable       0.84      0.88      0.86      6380\n",
            "\n",
            "    accuracy                           0.82     10000\n",
            "   macro avg       0.80      0.79      0.80     10000\n",
            "weighted avg       0.81      0.82      0.81     10000\n",
            "\n"
          ],
          "name": "stdout"
        }
      ]
    },
    {
      "cell_type": "markdown",
      "metadata": {
        "id": "qj7Fp8kHEqTx"
      },
      "source": [
        " - Se utilizó [esta página web](https://blog.exsilio.com/all/accuracy-precision-recall-f1-score-interpretation-of-performance-measures/#:~:text=F1%20score%20-%20F1%20Score%20is,have%20an%20uneven%20class%20distribution.) como fuente.\n",
        "\n",
        " - Accuracy es la cantidad de veces que el modelo estuvo de acuerdo con la realidad. En este caso, el 82% de las predicciones fueron correctas.\n",
        "\n",
        " - Presicion es la relación entre los datos clasificados correctamente, entre los observados positivamente y los clasificados positivamente. Alta presicion, bajo falsos positivos. En otras palabras, que tanto de los que el modelo clasifica como positivos son positivos en las observaciones. En la talb anterior: de todos los predichos como ***stable***, 77% lo eran en las observaciones. Lo mismo para ***unstable*** con un 84%.\n",
        "\n",
        " - Recall o exhaustividad - sensitividad, es la razón entre la cantidad de observaciones positivas (***stable***) y las que fueron clasificadas como positivas. Responde a \"De todos los casos con ***stable***, ¿Cuántos fueron clasificados como tal?\". De la tabla, del total de obseravciones ***stable***, un 70% fue capturado por el modelo.\n",
        "\n",
        " - F1 score es el promedio ponderado entre Presicion y Recall. Para modelos en los que los falsos positivos y falsos negativos tienen valores e impactos distintos, lo mejor es usar F1 score en vez de Accuracy."
      ]
    },
    {
      "cell_type": "markdown",
      "metadata": {
        "id": "mwQyajjXfBk7"
      },
      "source": [
        "Explica que está indicando la matriz de confusión siguiente"
      ]
    },
    {
      "cell_type": "code",
      "metadata": {
        "id": "IW4UDYPYnDFe",
        "colab": {
          "base_uri": "https://localhost:8080/"
        },
        "outputId": "4a3109c8-fffd-4c87-a4c7-0f4b05770590"
      },
      "source": [
        "from sklearn.metrics import confusion_matrix\n",
        "confusion_matrix(Y, Yhat)"
      ],
      "execution_count": 14,
      "outputs": [
        {
          "output_type": "execute_result",
          "data": {
            "text/plain": [
              "array([[2549, 1071],\n",
              "       [ 771, 5609]])"
            ]
          },
          "metadata": {
            "tags": []
          },
          "execution_count": 14
        }
      ]
    },
    {
      "cell_type": "code",
      "metadata": {
        "colab": {
          "base_uri": "https://localhost:8080/"
        },
        "id": "5cruiORsOnDO",
        "outputId": "f84ed7dc-ea29-4743-f2de-7ce7468c37ec"
      },
      "source": [
        "confusion_matrix(Y, Yhat)"
      ],
      "execution_count": 17,
      "outputs": [
        {
          "output_type": "execute_result",
          "data": {
            "text/plain": [
              "array([[2549, 1071],\n",
              "       [ 771, 5609]])"
            ]
          },
          "metadata": {
            "tags": []
          },
          "execution_count": 17
        }
      ]
    },
    {
      "cell_type": "markdown",
      "metadata": {
        "id": "cB1zJksNJo5B"
      },
      "source": [
        "La matriz de confusión sigue esta forma:\n",
        " \n",
        " |   ---         | Real     |          |\n",
        " | ---           | :---:    | :---:    |\n",
        " | **Predicho**  | Unstable | Stable   |\n",
        " | Unstable      | 2549     | 1071     |\n",
        " | Stable        | 771      | 5609     |\n",
        "\n",
        " La tabla indica que respecto a los datos predichos tenemos:\n",
        "  - 2549 Instables correctos y 5609 Estables correctos (*Accuracy*)\n",
        "  - "
      ]
    },
    {
      "cell_type": "code",
      "metadata": {
        "id": "mttAjKuv9bz2"
      },
      "source": [
        "from sklearn.preprocessing import LabelEncoder\n",
        "enc = LabelEncoder()\n",
        "Y1 = enc.fit_transform(Y)\n",
        "Yhat1 = enc.fit_transform(Yhat)\n"
      ],
      "execution_count": null,
      "outputs": []
    },
    {
      "cell_type": "code",
      "metadata": {
        "id": "ZeViTIISAJHi",
        "colab": {
          "base_uri": "https://localhost:8080/"
        },
        "outputId": "f65a393e-fc20-496e-fb1e-2f0a9f44ef3a"
      },
      "source": [
        "from sklearn.metrics import roc_auc_score\n",
        "roc_auc_score(Y1,Yhat1)"
      ],
      "execution_count": null,
      "outputs": [
        {
          "output_type": "execute_result",
          "data": {
            "text/plain": [
              "0.7916486257122568"
            ]
          },
          "metadata": {
            "tags": []
          },
          "execution_count": 43
        }
      ]
    },
    {
      "cell_type": "code",
      "metadata": {
        "id": "8yPrISWTGr6K",
        "colab": {
          "base_uri": "https://localhost:8080/"
        },
        "outputId": "098378d1-3c32-426e-9a3e-26bf8124e2d4"
      },
      "source": [
        "print(Yhat[0:10])\n",
        "print(Yhat1[0:10])\n",
        "print(Yprob[0:10,])"
      ],
      "execution_count": null,
      "outputs": [
        {
          "output_type": "stream",
          "text": [
            "['unstable' 'unstable' 'unstable' 'unstable' 'unstable' 'unstable'\n",
            " 'unstable' 'unstable' 'stable' 'unstable']\n",
            "[1 1 1 1 1 1 1 1 0 1]\n",
            "[[0.00305861 0.99694139]\n",
            " [0.15841728 0.84158272]\n",
            " [0.30149768 0.69850232]\n",
            " [0.26785973 0.73214027]\n",
            " [0.01479175 0.98520825]\n",
            " [0.48347719 0.51652281]\n",
            " [0.35168981 0.64831019]\n",
            " [0.18119779 0.81880221]\n",
            " [0.97979887 0.02020113]\n",
            " [0.05315412 0.94684588]]\n"
          ],
          "name": "stdout"
        }
      ]
    },
    {
      "cell_type": "code",
      "metadata": {
        "id": "gEKM7enwGdvG",
        "colab": {
          "base_uri": "https://localhost:8080/"
        },
        "outputId": "78104748-238f-41eb-dd69-a4c845f084ea"
      },
      "source": [
        "from sklearn.metrics import roc_auc_score\n",
        "roc_auc_score(Y1,Yprob[:,1])"
      ],
      "execution_count": null,
      "outputs": [
        {
          "output_type": "execute_result",
          "data": {
            "text/plain": [
              "0.8911449799961897"
            ]
          },
          "metadata": {
            "tags": []
          },
          "execution_count": 45
        }
      ]
    },
    {
      "cell_type": "markdown",
      "metadata": {
        "id": "-5Jrr54qPq1S"
      },
      "source": [
        "## Será necesario escalar los datos?\n",
        "\n",
        "Esto se hace ya que las características son completamente distintas en magnitudes, unidades y rango por lo que lo mejor es escalarlos para llevarlos a un mismo nivel de magnitudes.\n",
        "\n",
        "Para realizar este procedimiento importaremos el método StandarScaler.\n",
        "\n",
        "INVESTIGA!....¿por qué es necesario ESCALAR? ¿cómo funciona el método StandardScaler? ¿y el MinMaxScaler? ¿Hay otros? ¿Cuáles?"
      ]
    },
    {
      "cell_type": "markdown",
      "metadata": {
        "id": "g1g32SsmiUK4"
      },
      "source": [
        "####Escalamiento (opción 1)"
      ]
    },
    {
      "cell_type": "code",
      "metadata": {
        "id": "cESJEhkohXYu"
      },
      "source": [
        "from sklearn.preprocessing import StandardScaler\n",
        "scaler = StandardScaler()\n",
        "scaler.fit(X)\n",
        "Xscaled = scaler.transform(X)\n"
      ],
      "execution_count": null,
      "outputs": []
    },
    {
      "cell_type": "markdown",
      "metadata": {
        "id": "uxPfYtS2fk3e"
      },
      "source": [
        "¿Hubo algún cambio en la verificación de las métricas?...revisa las siguientes celdas...."
      ]
    },
    {
      "cell_type": "code",
      "metadata": {
        "id": "qEIZTIYchddd",
        "colab": {
          "base_uri": "https://localhost:8080/"
        },
        "outputId": "32ca27ac-1c94-46c6-ba92-f5fdeb312f42"
      },
      "source": [
        "mo1 = LogisticRegression(solver='lbfgs')\n",
        "mo1.fit(Xscaled, Y)\n",
        "Yhat = mo1.predict(Xscaled)\n",
        "\n",
        "print(classification_report(Y, Yhat))\n",
        "\n",
        "print(confusion_matrix(Y, Yhat))"
      ],
      "execution_count": null,
      "outputs": [
        {
          "output_type": "stream",
          "text": [
            "              precision    recall  f1-score   support\n",
            "\n",
            "      stable       0.77      0.71      0.74      3620\n",
            "    unstable       0.84      0.88      0.86      6380\n",
            "\n",
            "    accuracy                           0.82     10000\n",
            "   macro avg       0.80      0.79      0.80     10000\n",
            "weighted avg       0.81      0.82      0.81     10000\n",
            "\n",
            "[[2555 1065]\n",
            " [ 771 5609]]\n"
          ],
          "name": "stdout"
        }
      ]
    },
    {
      "cell_type": "markdown",
      "metadata": {
        "id": "35EjgJ3FiPrg"
      },
      "source": [
        "####Escalamiento (opción 2)"
      ]
    },
    {
      "cell_type": "code",
      "metadata": {
        "id": "fdp8sMLRh0er",
        "colab": {
          "base_uri": "https://localhost:8080/"
        },
        "outputId": "001f7473-81f7-466d-82ed-1b85805aa6b1"
      },
      "source": [
        "from sklearn.preprocessing import MinMaxScaler\n",
        "scalerN = MinMaxScaler()\n",
        "scalerN.fit(X)\n",
        "XscaledN = scalerN.transform(X)\n",
        "\n",
        "mo1 = LogisticRegression(solver='lbfgs')\n",
        "mo1.fit(XscaledN, Y)\n",
        "Yhat = mo1.predict(XscaledN)\n",
        "\n",
        "print(classification_report(Y, Yhat))\n",
        "\n",
        "print(confusion_matrix(Y, Yhat))"
      ],
      "execution_count": null,
      "outputs": [
        {
          "output_type": "stream",
          "text": [
            "              precision    recall  f1-score   support\n",
            "\n",
            "      stable       0.77      0.70      0.74      3620\n",
            "    unstable       0.84      0.88      0.86      6380\n",
            "\n",
            "    accuracy                           0.82     10000\n",
            "   macro avg       0.80      0.79      0.80     10000\n",
            "weighted avg       0.81      0.82      0.81     10000\n",
            "\n",
            "[[2549 1071]\n",
            " [ 765 5615]]\n"
          ],
          "name": "stdout"
        }
      ]
    },
    {
      "cell_type": "markdown",
      "metadata": {
        "id": "1ytmUTK0fwi9"
      },
      "source": [
        "¿Hubo algún cambio en las métricas? ¿ qué indican estas?"
      ]
    },
    {
      "cell_type": "markdown",
      "metadata": {
        "id": "jCvdDbGccsMF"
      },
      "source": [
        "## Evitando el Overfitting"
      ]
    },
    {
      "cell_type": "code",
      "metadata": {
        "id": "61kUCfJQcrvx"
      },
      "source": [
        "from sklearn.model_selection import train_test_split\n",
        "Xtrain, Xtest, Ytrain, Ytest = train_test_split(X,Y,test_size=0.2)"
      ],
      "execution_count": null,
      "outputs": []
    },
    {
      "cell_type": "markdown",
      "metadata": {
        "id": "09f-MiJidnu6"
      },
      "source": [
        "## Re-entrenamos y evaluamos los resultados"
      ]
    },
    {
      "cell_type": "code",
      "metadata": {
        "id": "sD1RXhCVdoN_",
        "colab": {
          "base_uri": "https://localhost:8080/"
        },
        "outputId": "dec50f55-9a22-4b42-9530-800ba48a2f24"
      },
      "source": [
        "import numpy as np\n",
        "from sklearn.linear_model import LogisticRegression\n",
        "\n",
        "mo1 = LogisticRegression(solver='lbfgs')\n",
        "\n",
        "mo1.fit(Xtrain, Ytrain)\n",
        "\n",
        "Yhat = mo1.predict(Xtest)\n",
        "Yprob = mo1.predict_proba(Xtest)\n",
        "\n",
        "from sklearn.metrics import classification_report\n",
        "print(classification_report(Ytest, Yhat))"
      ],
      "execution_count": null,
      "outputs": [
        {
          "output_type": "stream",
          "text": [
            "              precision    recall  f1-score   support\n",
            "\n",
            "      stable       0.80      0.70      0.74       746\n",
            "    unstable       0.83      0.89      0.86      1254\n",
            "\n",
            "    accuracy                           0.82      2000\n",
            "   macro avg       0.81      0.80      0.80      2000\n",
            "weighted avg       0.82      0.82      0.82      2000\n",
            "\n"
          ],
          "name": "stdout"
        }
      ]
    },
    {
      "cell_type": "markdown",
      "metadata": {
        "id": "HVW0j9pff4sI"
      },
      "source": [
        "Explica cada una de las métricas anteriores. ¿Qué ocurre con el modelo?"
      ]
    },
    {
      "cell_type": "markdown",
      "metadata": {
        "id": "DPFS4Fod0ylm"
      },
      "source": [
        "## Sintonización del Modelo"
      ]
    },
    {
      "cell_type": "code",
      "metadata": {
        "id": "ENQrtN0h0z6w",
        "colab": {
          "base_uri": "https://localhost:8080/"
        },
        "outputId": "f652cbe9-1c7a-4670-cbc0-7198b378442c"
      },
      "source": [
        "from sklearn.model_selection import GridSearchCV\n",
        "from sklearn.linear_model import LogisticRegression\n",
        "\n",
        "model = LogisticRegression()\n",
        "\n",
        "params = {\"max_iter\": [50,100,150,200],\n",
        "          \"solver\": ['newton-cg', 'lbfgs', 'liblinear', 'sag', 'saga']\n",
        "         }\n",
        "grid = GridSearchCV(estimator=model, param_grid=params,cv=5,scoring='accuracy')\n",
        "grid.fit(Xtrain, Ytrain,)"
      ],
      "execution_count": null,
      "outputs": [
        {
          "output_type": "stream",
          "text": [
            "/usr/local/lib/python3.6/dist-packages/sklearn/linear_model/_logistic.py:940: ConvergenceWarning: lbfgs failed to converge (status=1):\n",
            "STOP: TOTAL NO. of ITERATIONS REACHED LIMIT.\n",
            "\n",
            "Increase the number of iterations (max_iter) or scale the data as shown in:\n",
            "    https://scikit-learn.org/stable/modules/preprocessing.html\n",
            "Please also refer to the documentation for alternative solver options:\n",
            "    https://scikit-learn.org/stable/modules/linear_model.html#logistic-regression\n",
            "  extra_warning_msg=_LOGISTIC_SOLVER_CONVERGENCE_MSG)\n",
            "/usr/local/lib/python3.6/dist-packages/sklearn/linear_model/_logistic.py:940: ConvergenceWarning: lbfgs failed to converge (status=1):\n",
            "STOP: TOTAL NO. of ITERATIONS REACHED LIMIT.\n",
            "\n",
            "Increase the number of iterations (max_iter) or scale the data as shown in:\n",
            "    https://scikit-learn.org/stable/modules/preprocessing.html\n",
            "Please also refer to the documentation for alternative solver options:\n",
            "    https://scikit-learn.org/stable/modules/linear_model.html#logistic-regression\n",
            "  extra_warning_msg=_LOGISTIC_SOLVER_CONVERGENCE_MSG)\n",
            "/usr/local/lib/python3.6/dist-packages/sklearn/linear_model/_logistic.py:940: ConvergenceWarning: lbfgs failed to converge (status=1):\n",
            "STOP: TOTAL NO. of ITERATIONS REACHED LIMIT.\n",
            "\n",
            "Increase the number of iterations (max_iter) or scale the data as shown in:\n",
            "    https://scikit-learn.org/stable/modules/preprocessing.html\n",
            "Please also refer to the documentation for alternative solver options:\n",
            "    https://scikit-learn.org/stable/modules/linear_model.html#logistic-regression\n",
            "  extra_warning_msg=_LOGISTIC_SOLVER_CONVERGENCE_MSG)\n",
            "/usr/local/lib/python3.6/dist-packages/sklearn/linear_model/_logistic.py:940: ConvergenceWarning: lbfgs failed to converge (status=1):\n",
            "STOP: TOTAL NO. of ITERATIONS REACHED LIMIT.\n",
            "\n",
            "Increase the number of iterations (max_iter) or scale the data as shown in:\n",
            "    https://scikit-learn.org/stable/modules/preprocessing.html\n",
            "Please also refer to the documentation for alternative solver options:\n",
            "    https://scikit-learn.org/stable/modules/linear_model.html#logistic-regression\n",
            "  extra_warning_msg=_LOGISTIC_SOLVER_CONVERGENCE_MSG)\n",
            "/usr/local/lib/python3.6/dist-packages/sklearn/linear_model/_logistic.py:940: ConvergenceWarning: lbfgs failed to converge (status=1):\n",
            "STOP: TOTAL NO. of ITERATIONS REACHED LIMIT.\n",
            "\n",
            "Increase the number of iterations (max_iter) or scale the data as shown in:\n",
            "    https://scikit-learn.org/stable/modules/preprocessing.html\n",
            "Please also refer to the documentation for alternative solver options:\n",
            "    https://scikit-learn.org/stable/modules/linear_model.html#logistic-regression\n",
            "  extra_warning_msg=_LOGISTIC_SOLVER_CONVERGENCE_MSG)\n",
            "/usr/local/lib/python3.6/dist-packages/sklearn/linear_model/_sag.py:330: ConvergenceWarning: The max_iter was reached which means the coef_ did not converge\n",
            "  \"the coef_ did not converge\", ConvergenceWarning)\n",
            "/usr/local/lib/python3.6/dist-packages/sklearn/linear_model/_sag.py:330: ConvergenceWarning: The max_iter was reached which means the coef_ did not converge\n",
            "  \"the coef_ did not converge\", ConvergenceWarning)\n",
            "/usr/local/lib/python3.6/dist-packages/sklearn/linear_model/_sag.py:330: ConvergenceWarning: The max_iter was reached which means the coef_ did not converge\n",
            "  \"the coef_ did not converge\", ConvergenceWarning)\n",
            "/usr/local/lib/python3.6/dist-packages/sklearn/linear_model/_sag.py:330: ConvergenceWarning: The max_iter was reached which means the coef_ did not converge\n",
            "  \"the coef_ did not converge\", ConvergenceWarning)\n",
            "/usr/local/lib/python3.6/dist-packages/sklearn/linear_model/_sag.py:330: ConvergenceWarning: The max_iter was reached which means the coef_ did not converge\n",
            "  \"the coef_ did not converge\", ConvergenceWarning)\n",
            "/usr/local/lib/python3.6/dist-packages/sklearn/linear_model/_sag.py:330: ConvergenceWarning: The max_iter was reached which means the coef_ did not converge\n",
            "  \"the coef_ did not converge\", ConvergenceWarning)\n",
            "/usr/local/lib/python3.6/dist-packages/sklearn/linear_model/_sag.py:330: ConvergenceWarning: The max_iter was reached which means the coef_ did not converge\n",
            "  \"the coef_ did not converge\", ConvergenceWarning)\n",
            "/usr/local/lib/python3.6/dist-packages/sklearn/linear_model/_sag.py:330: ConvergenceWarning: The max_iter was reached which means the coef_ did not converge\n",
            "  \"the coef_ did not converge\", ConvergenceWarning)\n",
            "/usr/local/lib/python3.6/dist-packages/sklearn/linear_model/_sag.py:330: ConvergenceWarning: The max_iter was reached which means the coef_ did not converge\n",
            "  \"the coef_ did not converge\", ConvergenceWarning)\n",
            "/usr/local/lib/python3.6/dist-packages/sklearn/linear_model/_sag.py:330: ConvergenceWarning: The max_iter was reached which means the coef_ did not converge\n",
            "  \"the coef_ did not converge\", ConvergenceWarning)\n",
            "/usr/local/lib/python3.6/dist-packages/sklearn/linear_model/_sag.py:330: ConvergenceWarning: The max_iter was reached which means the coef_ did not converge\n",
            "  \"the coef_ did not converge\", ConvergenceWarning)\n",
            "/usr/local/lib/python3.6/dist-packages/sklearn/linear_model/_sag.py:330: ConvergenceWarning: The max_iter was reached which means the coef_ did not converge\n",
            "  \"the coef_ did not converge\", ConvergenceWarning)\n",
            "/usr/local/lib/python3.6/dist-packages/sklearn/linear_model/_sag.py:330: ConvergenceWarning: The max_iter was reached which means the coef_ did not converge\n",
            "  \"the coef_ did not converge\", ConvergenceWarning)\n",
            "/usr/local/lib/python3.6/dist-packages/sklearn/linear_model/_sag.py:330: ConvergenceWarning: The max_iter was reached which means the coef_ did not converge\n",
            "  \"the coef_ did not converge\", ConvergenceWarning)\n",
            "/usr/local/lib/python3.6/dist-packages/sklearn/linear_model/_sag.py:330: ConvergenceWarning: The max_iter was reached which means the coef_ did not converge\n",
            "  \"the coef_ did not converge\", ConvergenceWarning)\n",
            "/usr/local/lib/python3.6/dist-packages/sklearn/linear_model/_sag.py:330: ConvergenceWarning: The max_iter was reached which means the coef_ did not converge\n",
            "  \"the coef_ did not converge\", ConvergenceWarning)\n"
          ],
          "name": "stderr"
        },
        {
          "output_type": "execute_result",
          "data": {
            "text/plain": [
              "GridSearchCV(cv=5, error_score=nan,\n",
              "             estimator=LogisticRegression(C=1.0, class_weight=None, dual=False,\n",
              "                                          fit_intercept=True,\n",
              "                                          intercept_scaling=1, l1_ratio=None,\n",
              "                                          max_iter=100, multi_class='auto',\n",
              "                                          n_jobs=None, penalty='l2',\n",
              "                                          random_state=None, solver='lbfgs',\n",
              "                                          tol=0.0001, verbose=0,\n",
              "                                          warm_start=False),\n",
              "             iid='deprecated', n_jobs=None,\n",
              "             param_grid={'max_iter': [50, 100, 150, 200],\n",
              "                         'solver': ['newton-cg', 'lbfgs', 'liblinear', 'sag',\n",
              "                                    'saga']},\n",
              "             pre_dispatch='2*n_jobs', refit=True, return_train_score=False,\n",
              "             scoring='accuracy', verbose=0)"
            ]
          },
          "metadata": {
            "tags": []
          },
          "execution_count": 52
        }
      ]
    },
    {
      "cell_type": "code",
      "metadata": {
        "id": "jke7aOfU26bG",
        "colab": {
          "base_uri": "https://localhost:8080/"
        },
        "outputId": "941cf865-0167-48d3-97e6-a4936bb8087a"
      },
      "source": [
        "print(grid.best_score_)\n",
        "print(grid.best_params_)"
      ],
      "execution_count": null,
      "outputs": [
        {
          "output_type": "stream",
          "text": [
            "0.8140000000000001\n",
            "{'max_iter': 100, 'solver': 'saga'}\n"
          ],
          "name": "stdout"
        }
      ]
    },
    {
      "cell_type": "code",
      "metadata": {
        "id": "DjeaHWQS29wW",
        "colab": {
          "base_uri": "https://localhost:8080/"
        },
        "outputId": "8b1b30b2-1264-457c-d690-e23795de9d9a"
      },
      "source": [
        "pd.DataFrame(grid.cv_results_).iloc[grid.best_index_]"
      ],
      "execution_count": null,
      "outputs": [
        {
          "output_type": "execute_result",
          "data": {
            "text/plain": [
              "mean_fit_time                                   0.192373\n",
              "std_fit_time                                 0.000756647\n",
              "mean_score_time                               0.00789261\n",
              "std_score_time                                  0.002195\n",
              "param_max_iter                                       100\n",
              "param_solver                                        saga\n",
              "params               {'max_iter': 100, 'solver': 'saga'}\n",
              "split0_test_score                                0.81875\n",
              "split1_test_score                                   0.81\n",
              "split2_test_score                                 0.8075\n",
              "split3_test_score                                  0.815\n",
              "split4_test_score                                0.81875\n",
              "mean_test_score                                    0.814\n",
              "std_test_score                                0.00456892\n",
              "rank_test_score                                        1\n",
              "Name: 9, dtype: object"
            ]
          },
          "metadata": {
            "tags": []
          },
          "execution_count": 54
        }
      ]
    },
    {
      "cell_type": "code",
      "metadata": {
        "id": "OOm2CkGZ3GK1",
        "colab": {
          "base_uri": "https://localhost:8080/"
        },
        "outputId": "cad23d37-aeb3-4e85-e541-293a7f527ee4"
      },
      "source": [
        "Yhat = grid.predict(Xtest)\n",
        "Yprob = grid.predict_proba(Xtest)\n",
        "\n",
        "from sklearn.metrics import classification_report\n",
        "print(classification_report(Ytest, Yhat))"
      ],
      "execution_count": null,
      "outputs": [
        {
          "output_type": "stream",
          "text": [
            "              precision    recall  f1-score   support\n",
            "\n",
            "      stable       0.80      0.70      0.74       746\n",
            "    unstable       0.83      0.89      0.86      1254\n",
            "\n",
            "    accuracy                           0.82      2000\n",
            "   macro avg       0.81      0.80      0.80      2000\n",
            "weighted avg       0.82      0.82      0.82      2000\n",
            "\n"
          ],
          "name": "stdout"
        }
      ]
    },
    {
      "cell_type": "markdown",
      "metadata": {
        "id": "Qy4YKVyxgDiG"
      },
      "source": [
        "## CONCLUSIONES\n",
        "\n",
        "¿Es este el mejor modelo? ¿Por qué?\n",
        "\n",
        "Reflexiona sobre el ejercicio y realiza una explicación que puedas compartir con el curso."
      ]
    }
  ]
}