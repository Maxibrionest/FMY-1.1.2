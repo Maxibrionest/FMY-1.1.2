{
  "nbformat": 4,
  "nbformat_minor": 0,
  "metadata": {
    "kernelspec": {
      "display_name": "Python 3",
      "language": "python",
      "name": "python3"
    },
    "language_info": {
      "codemirror_mode": {
        "name": "ipython",
        "version": 3
      },
      "file_extension": ".py",
      "mimetype": "text/x-python",
      "name": "python",
      "nbconvert_exporter": "python",
      "pygments_lexer": "ipython3",
      "version": "3.6.5"
    },
    "colab": {
      "name": "2_3_2_Regresion_Lineal_I.ipynb",
      "provenance": [],
      "collapsed_sections": [],
      "toc_visible": true,
      "include_colab_link": true
    }
  },
  "cells": [
    {
      "cell_type": "markdown",
      "metadata": {
        "id": "view-in-github",
        "colab_type": "text"
      },
      "source": [
        "<a href=\"https://colab.research.google.com/github/Maxibrionest/FMY-Fundamentos-Machine-Learning/blob/main/Actividad_2_3_2/2_3_2_Regresion_Lineal_I.ipynb\" target=\"_parent\"><img src=\"https://colab.research.google.com/assets/colab-badge.svg\" alt=\"Open In Colab\"/></a>"
      ]
    },
    {
      "cell_type": "markdown",
      "metadata": {
        "id": "BzzYLApBltWG"
      },
      "source": [
        "# Regresión Lineal I"
      ]
    },
    {
      "cell_type": "markdown",
      "metadata": {
        "ExecuteTime": {
          "end_time": "2018-05-05T08:19:33.323030Z",
          "start_time": "2018-05-05T08:19:33.308960Z"
        },
        "id": "WBx0KafOltWo"
      },
      "source": [
        "En este notebook intentaremos predecir cuántas veces será compartido en Redes Sociales un artículo de Machine Learning según algunas de sus características.\n",
        "\n",
        "**Recuerda guardar una copia de este notebook en tu drive si estás trabajando en ambiente cloud con Google Colaboratory**"
      ]
    },
    {
      "cell_type": "markdown",
      "metadata": {
        "id": "0F-l9mNEltWr"
      },
      "source": [
        "## Importar las librerías"
      ]
    },
    {
      "cell_type": "markdown",
      "metadata": {
        "id": "JoIuZv4FltWs"
      },
      "source": [
        "Antes de empezar vamos a importar las siguientes librerías:\n",
        "\n",
        "*   Numpy\n",
        "*   Pandas\n",
        "*   Seaborn\n",
        "*   Matplotlib\n",
        "*   Scikit Learn\n"
      ]
    },
    {
      "cell_type": "code",
      "metadata": {
        "ExecuteTime": {
          "end_time": "2018-05-06T15:28:50.037886Z",
          "start_time": "2018-05-06T15:28:50.028212Z"
        },
        "id": "mA2VmynHltWt"
      },
      "source": [
        "# Importa las librerías a nuestro entorno de trabajo\n",
        "import numpy as np\n",
        "import pandas as pd\n",
        "import seaborn as sb\n",
        "import matplotlib.pyplot as plt\n",
        "%matplotlib inline\n",
        "from mpl_toolkits.mplot3d import Axes3D\n",
        "from matplotlib import cm\n",
        "plt.rcParams['figure.figsize'] = (16, 9)\n",
        "plt.style.use('ggplot')\n",
        "from sklearn import linear_model\n",
        "from sklearn.metrics import mean_squared_error, r2_score"
      ],
      "execution_count": 1,
      "outputs": []
    },
    {
      "cell_type": "markdown",
      "metadata": {
        "id": "TqCUFax8nlOE"
      },
      "source": [
        "## Cargar un archivo de datos\n",
        "Hay varias maneras de cargar un archivo de datos en nuestro entorno. El archivo lo podemos llamar desde una URL, desde una carpeta de nuestro drive o tener guardado de forma local en nuestra computadora.\n",
        "\n",
        "En este caso subiremos un primer archivo en forma local ejecutando lo siguiente:\n",
        "\n",
        "(el profesor te facilitará los archivos)"
      ]
    },
    {
      "cell_type": "code",
      "metadata": {
        "ExecuteTime": {
          "end_time": "2018-05-06T15:28:50.051323Z",
          "start_time": "2018-05-06T15:28:50.040878Z"
        },
        "id": "ctulZ7VkltWv"
      },
      "source": [
        "#cargamos los datos de entrada\n",
        "url = 'https://raw.githubusercontent.com/Maxibrionest/FMY-Fundamentos-Machine-Learning/main/Actividad_2_3_2/2_3_3_articulos_ml.csv'\n",
        "data = pd.read_csv(url, sep=\",\")\n"
      ],
      "execution_count": 4,
      "outputs": []
    },
    {
      "cell_type": "markdown",
      "metadata": {
        "id": "8Ml-pr79oDu2"
      },
      "source": [
        "## Análisis Exploratorio\n",
        "\n",
        "Realicemos un análisis exploratorio de los datos cargados en el dataframe.\n"
      ]
    },
    {
      "cell_type": "code",
      "metadata": {
        "ExecuteTime": {
          "end_time": "2018-05-06T15:28:50.064402Z",
          "start_time": "2018-05-06T15:28:50.055301Z"
        },
        "id": "scbNed-XltWw",
        "colab": {
          "base_uri": "https://localhost:8080/"
        },
        "outputId": "ec822c7f-dff7-4cc9-e35b-5e792c436b15"
      },
      "source": [
        "#veamos cuantas dimensiones y registros contiene\n",
        "data.shape"
      ],
      "execution_count": 5,
      "outputs": [
        {
          "output_type": "execute_result",
          "data": {
            "text/plain": [
              "(161, 8)"
            ]
          },
          "metadata": {
            "tags": []
          },
          "execution_count": 5
        }
      ]
    },
    {
      "cell_type": "code",
      "metadata": {
        "ExecuteTime": {
          "end_time": "2018-05-06T15:28:50.093837Z",
          "start_time": "2018-05-06T15:28:50.068610Z"
        },
        "id": "Nk6lHBDsltWy",
        "colab": {
          "base_uri": "https://localhost:8080/",
          "height": 197
        },
        "outputId": "af58c3eb-8fa6-491e-e59c-0c321ae68a14"
      },
      "source": [
        "#son 161 registros con 8 columnas. Veamos los primeros registros para tener una idea\n",
        "data.head()"
      ],
      "execution_count": 7,
      "outputs": [
        {
          "output_type": "execute_result",
          "data": {
            "text/html": [
              "<div>\n",
              "<style scoped>\n",
              "    .dataframe tbody tr th:only-of-type {\n",
              "        vertical-align: middle;\n",
              "    }\n",
              "\n",
              "    .dataframe tbody tr th {\n",
              "        vertical-align: top;\n",
              "    }\n",
              "\n",
              "    .dataframe thead th {\n",
              "        text-align: right;\n",
              "    }\n",
              "</style>\n",
              "<table border=\"1\" class=\"dataframe\">\n",
              "  <thead>\n",
              "    <tr style=\"text-align: right;\">\n",
              "      <th></th>\n",
              "      <th>Title</th>\n",
              "      <th>url</th>\n",
              "      <th>Word count</th>\n",
              "      <th># of Links</th>\n",
              "      <th># of comments</th>\n",
              "      <th># Images video</th>\n",
              "      <th>Elapsed days</th>\n",
              "      <th># Shares</th>\n",
              "    </tr>\n",
              "  </thead>\n",
              "  <tbody>\n",
              "    <tr>\n",
              "      <th>0</th>\n",
              "      <td>What is Machine Learning and how do we use it ...</td>\n",
              "      <td>https://blog.signals.network/what-is-machine-l...</td>\n",
              "      <td>1888</td>\n",
              "      <td>1</td>\n",
              "      <td>2.0</td>\n",
              "      <td>2</td>\n",
              "      <td>34</td>\n",
              "      <td>200000</td>\n",
              "    </tr>\n",
              "    <tr>\n",
              "      <th>1</th>\n",
              "      <td>10 Companies Using Machine Learning in Cool Ways</td>\n",
              "      <td>NaN</td>\n",
              "      <td>1742</td>\n",
              "      <td>9</td>\n",
              "      <td>NaN</td>\n",
              "      <td>9</td>\n",
              "      <td>5</td>\n",
              "      <td>25000</td>\n",
              "    </tr>\n",
              "    <tr>\n",
              "      <th>2</th>\n",
              "      <td>How Artificial Intelligence Is Revolutionizing...</td>\n",
              "      <td>NaN</td>\n",
              "      <td>962</td>\n",
              "      <td>6</td>\n",
              "      <td>0.0</td>\n",
              "      <td>1</td>\n",
              "      <td>10</td>\n",
              "      <td>42000</td>\n",
              "    </tr>\n",
              "    <tr>\n",
              "      <th>3</th>\n",
              "      <td>Dbrain and the Blockchain of Artificial Intell...</td>\n",
              "      <td>NaN</td>\n",
              "      <td>1221</td>\n",
              "      <td>3</td>\n",
              "      <td>NaN</td>\n",
              "      <td>2</td>\n",
              "      <td>68</td>\n",
              "      <td>200000</td>\n",
              "    </tr>\n",
              "    <tr>\n",
              "      <th>4</th>\n",
              "      <td>Nasa finds entire solar system filled with eig...</td>\n",
              "      <td>NaN</td>\n",
              "      <td>2039</td>\n",
              "      <td>1</td>\n",
              "      <td>104.0</td>\n",
              "      <td>4</td>\n",
              "      <td>131</td>\n",
              "      <td>200000</td>\n",
              "    </tr>\n",
              "  </tbody>\n",
              "</table>\n",
              "</div>"
            ],
            "text/plain": [
              "                                               Title  ... # Shares\n",
              "0  What is Machine Learning and how do we use it ...  ...   200000\n",
              "1   10 Companies Using Machine Learning in Cool Ways  ...    25000\n",
              "2  How Artificial Intelligence Is Revolutionizing...  ...    42000\n",
              "3  Dbrain and the Blockchain of Artificial Intell...  ...   200000\n",
              "4  Nasa finds entire solar system filled with eig...  ...   200000\n",
              "\n",
              "[5 rows x 8 columns]"
            ]
          },
          "metadata": {
            "tags": []
          },
          "execution_count": 7
        }
      ]
    },
    {
      "cell_type": "markdown",
      "metadata": {
        "id": "u4BM8V1IltW0"
      },
      "source": [
        "## ¿Qué observaciones puedes realizar de los datos?\n"
      ]
    },
    {
      "cell_type": "code",
      "metadata": {
        "ExecuteTime": {
          "end_time": "2018-05-06T15:28:50.126775Z",
          "start_time": "2018-05-06T15:28:50.097200Z"
        },
        "id": "cV_weuZBltW1",
        "colab": {
          "base_uri": "https://localhost:8080/",
          "height": 287
        },
        "outputId": "d9a4f1ce-3b0f-41e4-a376-ad01e224e63d"
      },
      "source": [
        "# Ahora veamos algunas estadísticas de nuestros datos\n",
        "data.describe()"
      ],
      "execution_count": 8,
      "outputs": [
        {
          "output_type": "execute_result",
          "data": {
            "text/html": [
              "<div>\n",
              "<style scoped>\n",
              "    .dataframe tbody tr th:only-of-type {\n",
              "        vertical-align: middle;\n",
              "    }\n",
              "\n",
              "    .dataframe tbody tr th {\n",
              "        vertical-align: top;\n",
              "    }\n",
              "\n",
              "    .dataframe thead th {\n",
              "        text-align: right;\n",
              "    }\n",
              "</style>\n",
              "<table border=\"1\" class=\"dataframe\">\n",
              "  <thead>\n",
              "    <tr style=\"text-align: right;\">\n",
              "      <th></th>\n",
              "      <th>Word count</th>\n",
              "      <th># of Links</th>\n",
              "      <th># of comments</th>\n",
              "      <th># Images video</th>\n",
              "      <th>Elapsed days</th>\n",
              "      <th># Shares</th>\n",
              "    </tr>\n",
              "  </thead>\n",
              "  <tbody>\n",
              "    <tr>\n",
              "      <th>count</th>\n",
              "      <td>161.000000</td>\n",
              "      <td>161.000000</td>\n",
              "      <td>129.000000</td>\n",
              "      <td>161.000000</td>\n",
              "      <td>161.000000</td>\n",
              "      <td>161.000000</td>\n",
              "    </tr>\n",
              "    <tr>\n",
              "      <th>mean</th>\n",
              "      <td>1808.260870</td>\n",
              "      <td>9.739130</td>\n",
              "      <td>8.782946</td>\n",
              "      <td>3.670807</td>\n",
              "      <td>98.124224</td>\n",
              "      <td>27948.347826</td>\n",
              "    </tr>\n",
              "    <tr>\n",
              "      <th>std</th>\n",
              "      <td>1141.919385</td>\n",
              "      <td>47.271625</td>\n",
              "      <td>13.142822</td>\n",
              "      <td>3.418290</td>\n",
              "      <td>114.337535</td>\n",
              "      <td>43408.006839</td>\n",
              "    </tr>\n",
              "    <tr>\n",
              "      <th>min</th>\n",
              "      <td>250.000000</td>\n",
              "      <td>0.000000</td>\n",
              "      <td>0.000000</td>\n",
              "      <td>1.000000</td>\n",
              "      <td>1.000000</td>\n",
              "      <td>0.000000</td>\n",
              "    </tr>\n",
              "    <tr>\n",
              "      <th>25%</th>\n",
              "      <td>990.000000</td>\n",
              "      <td>3.000000</td>\n",
              "      <td>2.000000</td>\n",
              "      <td>1.000000</td>\n",
              "      <td>31.000000</td>\n",
              "      <td>2800.000000</td>\n",
              "    </tr>\n",
              "    <tr>\n",
              "      <th>50%</th>\n",
              "      <td>1674.000000</td>\n",
              "      <td>5.000000</td>\n",
              "      <td>6.000000</td>\n",
              "      <td>3.000000</td>\n",
              "      <td>62.000000</td>\n",
              "      <td>16458.000000</td>\n",
              "    </tr>\n",
              "    <tr>\n",
              "      <th>75%</th>\n",
              "      <td>2369.000000</td>\n",
              "      <td>7.000000</td>\n",
              "      <td>12.000000</td>\n",
              "      <td>5.000000</td>\n",
              "      <td>124.000000</td>\n",
              "      <td>35691.000000</td>\n",
              "    </tr>\n",
              "    <tr>\n",
              "      <th>max</th>\n",
              "      <td>8401.000000</td>\n",
              "      <td>600.000000</td>\n",
              "      <td>104.000000</td>\n",
              "      <td>22.000000</td>\n",
              "      <td>1002.000000</td>\n",
              "      <td>350000.000000</td>\n",
              "    </tr>\n",
              "  </tbody>\n",
              "</table>\n",
              "</div>"
            ],
            "text/plain": [
              "        Word count  # of Links  ...  Elapsed days       # Shares\n",
              "count   161.000000  161.000000  ...    161.000000     161.000000\n",
              "mean   1808.260870    9.739130  ...     98.124224   27948.347826\n",
              "std    1141.919385   47.271625  ...    114.337535   43408.006839\n",
              "min     250.000000    0.000000  ...      1.000000       0.000000\n",
              "25%     990.000000    3.000000  ...     31.000000    2800.000000\n",
              "50%    1674.000000    5.000000  ...     62.000000   16458.000000\n",
              "75%    2369.000000    7.000000  ...    124.000000   35691.000000\n",
              "max    8401.000000  600.000000  ...   1002.000000  350000.000000\n",
              "\n",
              "[8 rows x 6 columns]"
            ]
          },
          "metadata": {
            "tags": []
          },
          "execution_count": 8
        }
      ]
    },
    {
      "cell_type": "markdown",
      "metadata": {
        "id": "GO2iNGFRBEih"
      },
      "source": [
        "Son 161 observaciones, en las cuales se midieron:\n",
        "\n",
        "caracteristica | min | max | promedio\n",
        "--- | --- | --- | ---\n",
        "Cantidad de palabras | 250 | 8401 | 1808\n",
        "Numero de enlaces | 0 | 600 | 9.74\n",
        "Numero de comentarios | 0 | 104 | 8.78\n",
        "Numero de imagenes o videos | 1 | 22 | 3.67\n",
        "Tiempo transcurrido |  1 | 1002 | 98.12\n",
        "Cantidad de veces compartido | 0 | 35000 | 27948\n",
        "\n",
        "\n",
        "\n",
        "\n"
      ]
    },
    {
      "cell_type": "markdown",
      "metadata": {
        "ExecuteTime": {
          "end_time": "2018-05-05T08:36:49.122754Z",
          "start_time": "2018-05-05T08:36:49.108512Z"
        },
        "id": "uN1OYNRlltW2"
      },
      "source": [
        "## ¿Qué observaciones puedes indicar de estas estadísticas?\n",
        "\n",
        "¿Cuál es la media de la Cantidad de palabras?\n",
        "\n",
        " - 1808.\n",
        "\n",
        "¿Cuales son los artículos más pequeños y los más grandes? (en cantidad de palabras)\n",
        "\n",
        " - 250 y 8401 palabras.\n"
      ]
    },
    {
      "cell_type": "markdown",
      "metadata": {
        "id": "bt4e9XtoltW5"
      },
      "source": [
        "## Visualizamos Cantidad de Palabras vs. Compartidos\n",
        "\n",
        "Para esto graficaremos en dos dimensiones las variables indicadas. \n",
        "\n",
        "Así, visualizaremos una variable con color naranja y otra con color azul."
      ]
    },
    {
      "cell_type": "code",
      "metadata": {
        "ExecuteTime": {
          "end_time": "2018-05-06T15:28:50.505154Z",
          "start_time": "2018-05-06T15:28:50.130110Z"
        },
        "id": "x9ciOn4jltW6",
        "colab": {
          "base_uri": "https://localhost:8080/",
          "height": 264
        },
        "outputId": "954b71ad-218e-477f-bc56-1043222ac5c2"
      },
      "source": [
        "#Visualizar los datos de entrada\n",
        "colores=['orange','blue']\n",
        "tamanios=[30,60]\n",
        "\n",
        "f1 = data['Word count'].values\n",
        "f2 = data['# Shares'].values\n",
        "\n",
        "# Vamos a pintar en 2 colores los puntos por debajo de la media de Cantidad de Palabras\n",
        "asignar=[]\n",
        "for index, row in data.iterrows():\n",
        "    if(row['Word count']>1808):\n",
        "        asignar.append(colores[0])\n",
        "    else:\n",
        "        asignar.append(colores[1])\n",
        "    \n",
        "plt.scatter(f1, f2, c=asignar, s=tamanios[0])\n",
        "plt.show()"
      ],
      "execution_count": 9,
      "outputs": [
        {
          "output_type": "display_data",
          "data": {
            "image/png": "[encoded data removed]",
            "text/plain": [
              "<Figure size 432x288 with 1 Axes>"
            ]
          },
          "metadata": {
            "tags": [],
            "needs_background": "light"
          }
        }
      ]
    },
    {
      "cell_type": "code",
      "metadata": {
        "ExecuteTime": {
          "end_time": "2018-05-06T15:28:50.963199Z",
          "start_time": "2018-05-06T15:28:50.509749Z"
        },
        "id": "oKfvuD9nltW7",
        "colab": {
          "base_uri": "https://localhost:8080/",
          "height": 266
        },
        "outputId": "63be9bcc-461c-4b6f-a752-1b24eb4c19ea"
      },
      "source": [
        "# Vamos a RECORTAR los datos en la zona donde se concentran más los puntos\n",
        "# esto es en el eje X: entre 0 y 3.500\n",
        "# y en el eje Y: entre 0 y 80.000\n",
        "filtered_data = data[(data['Word count'] <= 3500) & (data['# Shares'] <= 80000)]\n",
        "\n",
        "f1 = filtered_data['Word count'].values\n",
        "f2 = filtered_data['# Shares'].values\n",
        "\n",
        "# Vamos a pintar en colores los puntos por debajo y por encima de la media de Cantidad de Palabras\n",
        "asignar=[]\n",
        "for index, row in filtered_data.iterrows():\n",
        "    if(row['Word count']>1808):\n",
        "        asignar.append(colores[0])\n",
        "    else:\n",
        "        asignar.append(colores[1])\n",
        "    \n",
        "plt.scatter(f1, f2, c=asignar, s=tamanios[0])\n",
        "plt.show()"
      ],
      "execution_count": 10,
      "outputs": [
        {
          "output_type": "display_data",
          "data": {
            "image/png": "[encoded data removed]",
            "text/plain": [
              "<Figure size 432x288 with 1 Axes>"
            ]
          },
          "metadata": {
            "tags": [],
            "needs_background": "light"
          }
        }
      ]
    },
    {
      "cell_type": "code",
      "metadata": {
        "ExecuteTime": {
          "end_time": "2018-05-06T15:28:51.024042Z",
          "start_time": "2018-05-06T15:28:50.967169Z"
        },
        "id": "3q4uLauKltW9",
        "colab": {
          "base_uri": "https://localhost:8080/",
          "height": 287
        },
        "outputId": "836c9670-d74e-46e3-c78d-3acc991609e2"
      },
      "source": [
        "# Veamos como cambian los valores una vez filtrados\n",
        "filtered_data.describe()"
      ],
      "execution_count": 11,
      "outputs": [
        {
          "output_type": "execute_result",
          "data": {
            "text/html": [
              "<div>\n",
              "<style scoped>\n",
              "    .dataframe tbody tr th:only-of-type {\n",
              "        vertical-align: middle;\n",
              "    }\n",
              "\n",
              "    .dataframe tbody tr th {\n",
              "        vertical-align: top;\n",
              "    }\n",
              "\n",
              "    .dataframe thead th {\n",
              "        text-align: right;\n",
              "    }\n",
              "</style>\n",
              "<table border=\"1\" class=\"dataframe\">\n",
              "  <thead>\n",
              "    <tr style=\"text-align: right;\">\n",
              "      <th></th>\n",
              "      <th>Word count</th>\n",
              "      <th># of Links</th>\n",
              "      <th># of comments</th>\n",
              "      <th># Images video</th>\n",
              "      <th>Elapsed days</th>\n",
              "      <th># Shares</th>\n",
              "    </tr>\n",
              "  </thead>\n",
              "  <tbody>\n",
              "    <tr>\n",
              "      <th>count</th>\n",
              "      <td>148.000000</td>\n",
              "      <td>148.000000</td>\n",
              "      <td>121.000000</td>\n",
              "      <td>148.000000</td>\n",
              "      <td>148.000000</td>\n",
              "      <td>148.000000</td>\n",
              "    </tr>\n",
              "    <tr>\n",
              "      <th>mean</th>\n",
              "      <td>1640.209459</td>\n",
              "      <td>5.743243</td>\n",
              "      <td>7.256198</td>\n",
              "      <td>3.331081</td>\n",
              "      <td>91.554054</td>\n",
              "      <td>20545.648649</td>\n",
              "    </tr>\n",
              "    <tr>\n",
              "      <th>std</th>\n",
              "      <td>821.975365</td>\n",
              "      <td>6.064418</td>\n",
              "      <td>6.346297</td>\n",
              "      <td>2.706476</td>\n",
              "      <td>91.143923</td>\n",
              "      <td>19933.865031</td>\n",
              "    </tr>\n",
              "    <tr>\n",
              "      <th>min</th>\n",
              "      <td>250.000000</td>\n",
              "      <td>0.000000</td>\n",
              "      <td>0.000000</td>\n",
              "      <td>1.000000</td>\n",
              "      <td>1.000000</td>\n",
              "      <td>0.000000</td>\n",
              "    </tr>\n",
              "    <tr>\n",
              "      <th>25%</th>\n",
              "      <td>971.000000</td>\n",
              "      <td>3.000000</td>\n",
              "      <td>2.000000</td>\n",
              "      <td>1.000000</td>\n",
              "      <td>28.750000</td>\n",
              "      <td>2750.000000</td>\n",
              "    </tr>\n",
              "    <tr>\n",
              "      <th>50%</th>\n",
              "      <td>1536.000000</td>\n",
              "      <td>5.000000</td>\n",
              "      <td>6.000000</td>\n",
              "      <td>3.000000</td>\n",
              "      <td>60.000000</td>\n",
              "      <td>15836.000000</td>\n",
              "    </tr>\n",
              "    <tr>\n",
              "      <th>75%</th>\n",
              "      <td>2335.750000</td>\n",
              "      <td>7.000000</td>\n",
              "      <td>11.000000</td>\n",
              "      <td>4.000000</td>\n",
              "      <td>110.500000</td>\n",
              "      <td>34177.500000</td>\n",
              "    </tr>\n",
              "    <tr>\n",
              "      <th>max</th>\n",
              "      <td>3485.000000</td>\n",
              "      <td>49.000000</td>\n",
              "      <td>30.000000</td>\n",
              "      <td>22.000000</td>\n",
              "      <td>349.000000</td>\n",
              "      <td>77000.000000</td>\n",
              "    </tr>\n",
              "  </tbody>\n",
              "</table>\n",
              "</div>"
            ],
            "text/plain": [
              "        Word count  # of Links  ...  Elapsed days      # Shares\n",
              "count   148.000000  148.000000  ...    148.000000    148.000000\n",
              "mean   1640.209459    5.743243  ...     91.554054  20545.648649\n",
              "std     821.975365    6.064418  ...     91.143923  19933.865031\n",
              "min     250.000000    0.000000  ...      1.000000      0.000000\n",
              "25%     971.000000    3.000000  ...     28.750000   2750.000000\n",
              "50%    1536.000000    5.000000  ...     60.000000  15836.000000\n",
              "75%    2335.750000    7.000000  ...    110.500000  34177.500000\n",
              "max    3485.000000   49.000000  ...    349.000000  77000.000000\n",
              "\n",
              "[8 rows x 6 columns]"
            ]
          },
          "metadata": {
            "tags": []
          },
          "execution_count": 11
        }
      ]
    },
    {
      "cell_type": "markdown",
      "metadata": {
        "id": "n1H43CMkltW-"
      },
      "source": [
        "## Regresión Lineal Simple (1 variable)"
      ]
    },
    {
      "cell_type": "markdown",
      "metadata": {
        "id": "gPax2QIsltW_"
      },
      "source": [
        "Vamos a intentar primero una Regresión Lineal con 1 sóla variable"
      ]
    },
    {
      "cell_type": "code",
      "metadata": {
        "ExecuteTime": {
          "end_time": "2018-05-06T15:28:51.036535Z",
          "start_time": "2018-05-06T15:28:51.027426Z"
        },
        "id": "U4I5wNx_ltW_"
      },
      "source": [
        "# Asignamos nuestra variable de entrada X para entrenamiento y las etiquetas Y.\n",
        "dataX =filtered_data[[\"Word count\"]]\n",
        "X_train = np.array(dataX)\n",
        "y_train = filtered_data['# Shares'].values"
      ],
      "execution_count": 12,
      "outputs": []
    },
    {
      "cell_type": "code",
      "metadata": {
        "ExecuteTime": {
          "end_time": "2018-05-06T15:28:51.054663Z",
          "start_time": "2018-05-06T15:28:51.042421Z"
        },
        "scrolled": true,
        "id": "V0sr3tsJltXA",
        "colab": {
          "base_uri": "https://localhost:8080/"
        },
        "outputId": "304087fd-2897-4636-d201-f72b75750644"
      },
      "source": [
        "# Creamos el objeto de Regresión Linear\n",
        "regr = linear_model.LinearRegression()\n",
        "\n",
        "# Entrenamos nuestro modelo\n",
        "regr.fit(X_train, y_train)\n",
        "\n",
        "# Hacemos las predicciones que en definitiva una línea (en este caso, al ser 2D)\n",
        "y_pred = regr.predict(X_train)\n",
        "\n",
        "# Veamos los coeficienetes obtenidos, En nuestro caso, serán la Tangente\n",
        "print('Coefficients: \\n', regr.coef_)\n",
        "# Este es el valor donde corta el eje Y (en X=0)\n",
        "print('Independent term: \\n', regr.intercept_)\n",
        "# Error Cuadrado Medio\n",
        "print(\"Mean squared error: %.2f\" % mean_squared_error(y_train, y_pred))\n",
        "# Puntaje de Varianza. El mejor puntaje es un 1.0\n",
        "print('Variance score: %.2f' % r2_score(y_train, y_pred))"
      ],
      "execution_count": 13,
      "outputs": [
        {
          "output_type": "stream",
          "text": [
            "Coefficients: \n",
            " [5.69765366]\n",
            "Independent term: \n",
            " 11200.30322307416\n",
            "Mean squared error: 372888728.34\n",
            "Variance score: 0.06\n"
          ],
          "name": "stdout"
        }
      ]
    },
    {
      "cell_type": "markdown",
      "metadata": {
        "id": "XoKVXmY6ltXC"
      },
      "source": [
        "## Visualizamos la Recta que obtuvimos"
      ]
    },
    {
      "cell_type": "code",
      "metadata": {
        "ExecuteTime": {
          "end_time": "2018-05-06T15:28:51.432242Z",
          "start_time": "2018-05-06T15:28:51.060915Z"
        },
        "id": "Dw5QP5B5ltXC",
        "colab": {
          "base_uri": "https://localhost:8080/",
          "height": 300
        },
        "outputId": "9ff30240-e0ca-4263-f537-88c45c74c3de"
      },
      "source": [
        "plt.scatter(X_train[:,0], y_train,  c=asignar, s=tamanios[0])\n",
        "plt.plot(X_train[:,0], y_pred, color='red', linewidth=3)\n",
        "\n",
        "plt.xlabel('Cantidad de Palabras')\n",
        "plt.ylabel('Compartido en Redes')\n",
        "plt.title('Regresión Lineal')\n",
        "\n",
        "plt.show()"
      ],
      "execution_count": 14,
      "outputs": [
        {
          "output_type": "display_data",
          "data": {
            "image/png": "[encoded data removed]",
            "text/plain": [
              "<Figure size 432x288 with 1 Axes>"
            ]
          },
          "metadata": {
            "tags": [],
            "needs_background": "light"
          }
        }
      ]
    },
    {
      "cell_type": "markdown",
      "metadata": {
        "id": "LlsdJb_qltXE"
      },
      "source": [
        "### Predicción 1"
      ]
    },
    {
      "cell_type": "code",
      "metadata": {
        "ExecuteTime": {
          "end_time": "2018-05-06T15:28:51.440993Z",
          "start_time": "2018-05-06T15:28:51.435404Z"
        },
        "id": "muC761t0ltXE",
        "colab": {
          "base_uri": "https://localhost:8080/"
        },
        "outputId": "2ea9d7a1-e041-46e5-96a7-feadbd8f1e57"
      },
      "source": [
        "#Vamos a comprobar:\n",
        "# Quiero predecir cuántos \"Shares\" voy a obtener por un artículo con 2.000 palabras,\n",
        "# según nuestro modelo, hacemos:\n",
        "y_Dosmil = regr.predict([[2000]])\n",
        "print(int(y_Dosmil))"
      ],
      "execution_count": 15,
      "outputs": [
        {
          "output_type": "stream",
          "text": [
            "22595\n"
          ],
          "name": "stdout"
        }
      ]
    },
    {
      "cell_type": "markdown",
      "metadata": {
        "id": "aczJ9q6TltXF"
      },
      "source": [
        "Evidentemente No es tan sencillo...\n",
        "\n",
        "Vamos a mejorar un poco el modelo\n",
        "\n",
        "# Regresión Lineal Múltiples (múltiples variables)"
      ]
    },
    {
      "cell_type": "code",
      "metadata": {
        "ExecuteTime": {
          "end_time": "2018-05-06T15:28:51.462189Z",
          "start_time": "2018-05-06T15:28:51.446341Z"
        },
        "id": "lvE1tDCjltXG"
      },
      "source": [
        "#Vamos a intentar mejorar el Modelo, con una dimensión más: \n",
        "# Para poder graficar en 3D, haremos una variable nueva que será la suma de los enlaces, comentarios e imágenes\n",
        "suma = (filtered_data[\"# of Links\"] + filtered_data['# of comments'].fillna(0) + filtered_data['# Images video'])\n",
        "\n",
        "dataX2 =  pd.DataFrame()\n",
        "dataX2[\"Word count\"] = filtered_data[\"Word count\"]\n",
        "dataX2[\"suma\"] = suma\n",
        "XY_train = np.array(dataX2)\n",
        "z_train = filtered_data['# Shares'].values"
      ],
      "execution_count": 16,
      "outputs": []
    },
    {
      "cell_type": "markdown",
      "metadata": {
        "ExecuteTime": {
          "end_time": "2018-05-06T09:54:24.557815Z",
          "start_time": "2018-05-06T09:54:24.544488Z"
        },
        "id": "SoZCRP3ZltXH"
      },
      "source": [
        "Atención: Esta vez, nuestras dimensiones de entrenamiento serán X e Y y las etiquetas de predicción serán z."
      ]
    },
    {
      "cell_type": "code",
      "metadata": {
        "ExecuteTime": {
          "end_time": "2018-05-06T15:28:51.481430Z",
          "start_time": "2018-05-06T15:28:51.466336Z"
        },
        "id": "_T3U_eF4ltXI",
        "colab": {
          "base_uri": "https://localhost:8080/"
        },
        "outputId": "7983d5d8-7822-488a-c801-52ad695cebd7"
      },
      "source": [
        "# Creamos un nuevo objeto de Regresión Lineal\n",
        "regr2 = linear_model.LinearRegression()\n",
        "\n",
        "# Entrenamos el modelo, esta vez, con 2 dimensiones\n",
        "# obtendremos 2 coeficientes, para graficar un plano\n",
        "regr2.fit(XY_train, z_train)\n",
        "\n",
        "# Hacemos la predicción con la que tendremos puntos sobre el plano hallado\n",
        "z_pred = regr2.predict(XY_train)\n",
        "\n",
        "# Los coeficientes\n",
        "print('Coefficients: \\n', regr2.coef_)\n",
        "# Error cuadrático medio\n",
        "print(\"Mean squared error: %.2f\" % mean_squared_error(z_train, z_pred))\n",
        "# Evaluamos el puntaje de varianza (siendo 1.0 el mejor posible)\n",
        "print('Variance score: %.2f' % r2_score(z_train, z_pred))"
      ],
      "execution_count": 17,
      "outputs": [
        {
          "output_type": "stream",
          "text": [
            "Coefficients: \n",
            " [   6.63216324 -483.40753769]\n",
            "Mean squared error: 352122816.48\n",
            "Variance score: 0.11\n"
          ],
          "name": "stdout"
        }
      ]
    },
    {
      "cell_type": "markdown",
      "metadata": {
        "ExecuteTime": {
          "end_time": "2018-05-06T09:32:25.955992Z",
          "start_time": "2018-05-06T09:32:25.949240Z"
        },
        "id": "EL3T6_DpltXJ"
      },
      "source": [
        "## Esta vez visualizamos un plano"
      ]
    },
    {
      "cell_type": "code",
      "metadata": {
        "ExecuteTime": {
          "end_time": "2018-05-06T15:28:52.283257Z",
          "start_time": "2018-05-06T15:28:51.489306Z"
        },
        "id": "ECD_xewJltXK",
        "colab": {
          "base_uri": "https://localhost:8080/",
          "height": 335
        },
        "outputId": "159f274c-4013-4d29-c651-9c453819fd0a"
      },
      "source": [
        "fig = plt.figure()\n",
        "ax = Axes3D(fig)\n",
        "\n",
        "# Creamos una malla, sobre la cual graficaremos el plano\n",
        "xx, yy = np.meshgrid(np.linspace(0, 3500, num=10), np.linspace(0, 60, num=10))\n",
        "\n",
        "# calculamos los valores del plano para los puntos x e y\n",
        "nuevoX = (regr2.coef_[0] * xx)\n",
        "nuevoY = (regr2.coef_[1] * yy) \n",
        "\n",
        "# calculamos los correspondientes valores para z. Debemos sumar el punto de intercepción\n",
        "z = (nuevoX + nuevoY + regr2.intercept_)\n",
        "\n",
        "# Graficamos el plano\n",
        "ax.plot_surface(xx, yy, z, alpha=0.2, cmap='hot')\n",
        "\n",
        "# Graficamos en azul los puntos en 3D\n",
        "ax.scatter(XY_train[:, 0], XY_train[:, 1], z_train, c='blue',s=30)\n",
        "\n",
        "# Graficamos en rojo, los puntos que \n",
        "ax.scatter(XY_train[:, 0], XY_train[:, 1], z_pred, c='red',s=40)\n",
        "\n",
        "# con esto situamos la \"camara\" con la que visualizamos\n",
        "ax.view_init(elev=30., azim=65)\n",
        "        \n",
        "ax.set_xlabel('Cantidad de Palabras')\n",
        "ax.set_ylabel('Cantidad de Enlaces,Comentarios e Imagenes')\n",
        "ax.set_zlabel('Compartido en Redes')\n",
        "ax.set_title('Regresión Lineal con Múltiples Variables')"
      ],
      "execution_count": 19,
      "outputs": [
        {
          "output_type": "execute_result",
          "data": {
            "text/plain": [
              "Text(0.5, 0.92, 'Regresión Lineal con Múltiples Variables')"
            ]
          },
          "metadata": {
            "tags": []
          },
          "execution_count": 19
        },
        {
          "output_type": "display_data",
          "data": {
            "image/png": "[encoded data removed]",
            "text/plain": [
              "<Figure size 432x288 with 1 Axes>"
            ]
          },
          "metadata": {
            "tags": [],
            "needs_background": "light"
          }
        }
      ]
    },
    {
      "cell_type": "markdown",
      "metadata": {
        "ExecuteTime": {
          "end_time": "2018-05-10T11:28:25.503809Z",
          "start_time": "2018-05-10T11:28:25.499128Z"
        },
        "id": "DLG_lvYxltXL"
      },
      "source": [
        "### Predicción 2"
      ]
    },
    {
      "cell_type": "code",
      "metadata": {
        "ExecuteTime": {
          "end_time": "2018-05-06T15:28:52.296422Z",
          "start_time": "2018-05-06T15:28:52.288285Z"
        },
        "id": "ouH3TCy7ltXM",
        "colab": {
          "base_uri": "https://localhost:8080/"
        },
        "outputId": "fed23397-2e0f-4905-b8c1-1b542375bf04"
      },
      "source": [
        "# Si quiero predecir cuántos \"Shares\" voy a obtener por un artículo con: \n",
        "# 2000 palabras y con enlaces: 10, comentarios: 4, imagenes: 6\n",
        "# según nuestro modelo, hacemos:\n",
        "\n",
        "z_Dosmil = regr2.predict([[2000, 10+4+6]])\n",
        "print(int(z_Dosmil))"
      ],
      "execution_count": 21,
      "outputs": [
        {
          "output_type": "stream",
          "text": [
            "20518\n"
          ],
          "name": "stdout"
        }
      ]
    },
    {
      "cell_type": "markdown",
      "metadata": {
        "ExecuteTime": {
          "end_time": "2018-05-05T20:21:38.538763Z",
          "start_time": "2018-05-05T20:21:38.532383Z"
        },
        "id": "PyfPmAi5ltXN"
      },
      "source": [
        "## Comparemos las predicciónes obtenidas en los modelos"
      ]
    },
    {
      "cell_type": "markdown",
      "metadata": {
        "id": "2daxqM7yltXQ"
      },
      "source": [
        "En este caso, Obtuvimos mejora en el modelo de 2 dimensiones"
      ]
    },
    {
      "cell_type": "code",
      "metadata": {
        "ExecuteTime": {
          "end_time": "2018-05-06T15:28:52.309115Z",
          "start_time": "2018-05-06T15:28:52.301926Z"
        },
        "id": "5lWXcYTdltXR",
        "colab": {
          "base_uri": "https://localhost:8080/"
        },
        "outputId": "7ec13f12-6c0d-4540-92a3-0a34c2cc2e6d"
      },
      "source": [
        "# Restamos los errores calculados antes:\n",
        "# Obviamente, \"menos error\" es mejor\n",
        "mejoraEnError = mean_squared_error(y_train, y_pred) - mean_squared_error(z_train, z_pred)\n",
        "print(mejoraEnError)"
      ],
      "execution_count": 22,
      "outputs": [
        {
          "output_type": "stream",
          "text": [
            "20765911.860715985\n"
          ],
          "name": "stdout"
        }
      ]
    },
    {
      "cell_type": "code",
      "metadata": {
        "ExecuteTime": {
          "end_time": "2018-05-06T15:28:52.321109Z",
          "start_time": "2018-05-06T15:28:52.312143Z"
        },
        "id": "qbCHxnFFltXS",
        "colab": {
          "base_uri": "https://localhost:8080/"
        },
        "outputId": "90edc961-cf68-4950-abe4-a6b3efd70785"
      },
      "source": [
        "# También calculamos la mejora en la varianza:\n",
        "mejoraEnVarianza = r2_score(z_train, z_pred) - r2_score(y_train, y_pred)\n",
        "print(mejoraEnVarianza)\n",
        "# Aunque no parezca mucho, recordemos que el valor más alto que se puede obtener es 1.0"
      ],
      "execution_count": 23,
      "outputs": [
        {
          "output_type": "stream",
          "text": [
            "0.052615337462582956\n"
          ],
          "name": "stdout"
        }
      ]
    },
    {
      "cell_type": "code",
      "metadata": {
        "ExecuteTime": {
          "end_time": "2018-05-06T15:28:52.336282Z",
          "start_time": "2018-05-06T15:28:52.326212Z"
        },
        "id": "w2I2IjozltXU",
        "colab": {
          "base_uri": "https://localhost:8080/"
        },
        "outputId": "5851352e-d493-47de-dbf6-67d9ba3f26d2"
      },
      "source": [
        "# Finalmente, mejoramos en nuestra predicción de un artículo de 2.000 palabras, \n",
        "# pues aunque disminuyen los \"Shares\" que obtendremos en el 2do modelo, \n",
        "# seguramente será un valor más cercano a la realidad\n",
        "diferenciaComparir = z_Dosmil - y_Dosmil\n",
        "print(int(diferenciaComparir))"
      ],
      "execution_count": 24,
      "outputs": [
        {
          "output_type": "stream",
          "text": [
            "-2077\n"
          ],
          "name": "stdout"
        }
      ]
    },
    {
      "cell_type": "markdown",
      "metadata": {
        "id": "lOK_J776sKkN"
      },
      "source": [
        "## ¿Qué conclusiones puedes generar de este ejercicio?\n",
        "\n",
        "¿Qué ocurrió con el segundo modelo?\n",
        "\n",
        " - Tomó valores filtrados del dataset inicial. Al mismo tiempo mejoró la relevancia de la predicción.\n",
        "\n",
        "¿Por qué mejoró la predicción?\n",
        "\n",
        " - Porque en el entrenamiento se consideraron una mayor cantidad de caracteristicas, haciendo similitud a un caso *mas real*."
      ]
    }
  ]
}