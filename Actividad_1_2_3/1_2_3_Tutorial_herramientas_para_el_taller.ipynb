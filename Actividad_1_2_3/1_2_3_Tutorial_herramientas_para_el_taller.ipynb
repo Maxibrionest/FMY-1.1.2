{
  "nbformat": 4,
  "nbformat_minor": 0,
  "metadata": {
    "language_info": {
      "codemirror_mode": {
        "name": "ipython",
        "version": 3
      },
      "file_extension": ".py",
      "mimetype": "text/x-python",
      "name": "python",
      "nbconvert_exporter": "python",
      "pygments_lexer": "ipython3",
      "version": "3.8.3-final"
    },
    "orig_nbformat": 2,
    "kernelspec": {
      "name": "python3",
      "display_name": "Python 3.8.3 64-bit (conda)",
      "metadata": {
        "interpreter": {
          "hash": "52c2f1918d8192804fa6378b1e247a649aaefc0f0ce60a6c158178526a03ff09"
        }
      }
    },
    "colab": {
      "name": "1_2_3_Tutorial_herramientas_para_el_taller.ipynb",
      "provenance": [],
      "collapsed_sections": [
        "aaqk4TUL2hH8",
        "OC2B8QmZ2hIA",
        "zEliglAu1kDm",
        "vn8rPwLM78sB",
        "QzcBEdBw7QdG"
      ],
      "toc_visible": true,
      "include_colab_link": true
    }
  },
  "cells": [
    {
      "cell_type": "markdown",
      "metadata": {
        "id": "view-in-github",
        "colab_type": "text"
      },
      "source": [
        "<a href=\"https://colab.research.google.com/github/Maxibrionest/FMY-Fundamentos-Machine-Learning/blob/main/Actividad_1_2_3/1_2_3_Tutorial_herramientas_para_el_taller.ipynb\" target=\"_parent\"><img src=\"https://colab.research.google.com/assets/colab-badge.svg\" alt=\"Open In Colab\"/></a>"
      ]
    },
    {
      "cell_type": "markdown",
      "metadata": {
        "id": "IT74zzI02hHz"
      },
      "source": [
        "# Introducción \n",
        "Para desarrollar tu primer laboratorio tendrás que cargar algunas herramientas básicas que te permitirán trabajar con los datos y hacer tus primeros análisis. \n",
        "\n",
        "Las actividades que desarrollaremos en este laboratorio son las siguientes: \n",
        "\n",
        "- Cargar un archivo con datos en tu entorno de trabajo \n",
        "- Obtener una tabla de resumen estadístico a través del método *describe* con Pandas \n",
        "- Crear gráficos con matplotlib. \n",
        "\n",
        "¡Empezamos! \n",
        "## Importar las librerías \n",
        "Antes de empezar vamos a importar las siguientes librerías: \n",
        "\n",
        "- Pandas \n",
        "- Numpy \n",
        "- Matplotlib"
      ]
    },
    {
      "cell_type": "code",
      "metadata": {
        "id": "Ze4DFeZF2hH3"
      },
      "source": [
        "# importa las librerías a nuestro entorno de trabajo\n",
        "import pandas as pd\n",
        "import numpy as np \n",
        "import matplotlib.pyplot as plt \n"
      ],
      "execution_count": null,
      "outputs": []
    },
    {
      "cell_type": "markdown",
      "metadata": {
        "id": "0qUUEVRk2hH7"
      },
      "source": [
        "Basta con importar una vez las librerías a nuestro entorno. Si al momento de ejecutar el código aparece un error, considera lo siguiente: \n",
        "\n",
        "1. Esta bien escrito el comando\n",
        "2. Tienes instalada la librería en tu entorno local (En caso de que no estés usando Colab)\n",
        "\n",
        "Una de las habilidades básicas que debes aprender es corregir errores y buscar la documentación para dar solución a un problema."
      ]
    },
    {
      "cell_type": "markdown",
      "metadata": {
        "id": "aaqk4TUL2hH8"
      },
      "source": [
        "## Cargar un archivo de datos\n",
        "\n",
        "Hay varias maneras de cargar un archivo de datos en nuestro entorno. El archivo lo podemos llamar desde una URL o tener guardado en nuestra computadora.\n",
        "\n",
        "Si queremos cargar un archivo que desde una URL ejecutamos el siguiente comando"
      ]
    },
    {
      "cell_type": "code",
      "metadata": {
        "id": "O0aAubDv2hH8"
      },
      "source": [
        "url = 'https://raw.githubusercontent.com/lorey/list-of-countries/master/csv/countries.csv'\n",
        "df = pd.read_csv(url, sep=\";\")"
      ],
      "execution_count": null,
      "outputs": []
    },
    {
      "cell_type": "markdown",
      "metadata": {
        "id": "mcj-xj_g2hH_"
      },
      "source": [
        "En la celda anterior se ejecutan dos accciones:\n",
        " \n",
        "1. Se guarda el archivo csv que tiene los datos en la variable \"url\"\n",
        "2. Se crea una nueva variable de tipo (*dataframe de pandas*) con los datos del archivo importado. La separación de los datos se realiza a través \";\" "
      ]
    },
    {
      "cell_type": "markdown",
      "metadata": {
        "id": "vbmcnUYHWrlc"
      },
      "source": [
        "En caso de que quieras subir un archivo local tendrás que ejecutar lo siguiente:"
      ]
    },
    {
      "cell_type": "code",
      "metadata": {
        "colab": {
          "resources": {
            "http://localhost:8080/nbextensions/google.colab/files.js": {
              "data": "Ly8gQ29weXJpZ2h0IDIwMTcgR29vZ2xlIExMQwovLwovLyBMaWNlbnNlZCB1bmRlciB0aGUgQXBhY2hlIExpY2Vuc2UsIFZlcnNpb24gMi4wICh0aGUgIkxpY2Vuc2UiKTsKLy8geW91IG1heSBub3QgdXNlIHRoaXMgZmlsZSBleGNlcHQgaW4gY29tcGxpYW5jZSB3aXRoIHRoZSBMaWNlbnNlLgovLyBZb3UgbWF5IG9idGFpbiBhIGNvcHkgb2YgdGhlIExpY2Vuc2UgYXQKLy8KLy8gICAgICBodHRwOi8vd3d3LmFwYWNoZS5vcmcvbGljZW5zZXMvTElDRU5TRS0yLjAKLy8KLy8gVW5sZXNzIHJlcXVpcmVkIGJ5IGFwcGxpY2FibGUgbGF3IG9yIGFncmVlZCB0byBpbiB3cml0aW5nLCBzb2Z0d2FyZQovLyBkaXN0cmlidXRlZCB1bmRlciB0aGUgTGljZW5zZSBpcyBkaXN0cmlidXRlZCBvbiBhbiAiQVMgSVMiIEJBU0lTLAovLyBXSVRIT1VUIFdBUlJBTlRJRVMgT1IgQ09ORElUSU9OUyBPRiBBTlkgS0lORCwgZWl0aGVyIGV4cHJlc3Mgb3IgaW1wbGllZC4KLy8gU2VlIHRoZSBMaWNlbnNlIGZvciB0aGUgc3BlY2lmaWMgbGFuZ3VhZ2UgZ292ZXJuaW5nIHBlcm1pc3Npb25zIGFuZAovLyBsaW1pdGF0aW9ucyB1bmRlciB0aGUgTGljZW5zZS4KCi8qKgogKiBAZmlsZW92ZXJ2aWV3IEhlbHBlcnMgZm9yIGdvb2dsZS5jb2xhYiBQeXRob24gbW9kdWxlLgogKi8KKGZ1bmN0aW9uKHNjb3BlKSB7CmZ1bmN0aW9uIHNwYW4odGV4dCwgc3R5bGVBdHRyaWJ1dGVzID0ge30pIHsKICBjb25zdCBlbGVtZW50ID0gZG9jdW1lbnQuY3JlYXRlRWxlbWVudCgnc3BhbicpOwogIGVsZW1lbnQudGV4dENvbnRlbnQgPSB0ZXh0OwogIGZvciAoY29uc3Qga2V5IG9mIE9iamVjdC5rZXlzKHN0eWxlQXR0cmlidXRlcykpIHsKICAgIGVsZW1lbnQuc3R5bGVba2V5XSA9IHN0eWxlQXR0cmlidXRlc1trZXldOwogIH0KICByZXR1cm4gZWxlbWVudDsKfQoKLy8gTWF4IG51bWJlciBvZiBieXRlcyB3aGljaCB3aWxsIGJlIHVwbG9hZGVkIGF0IGEgdGltZS4KY29uc3QgTUFYX1BBWUxPQURfU0laRSA9IDEwMCAqIDEwMjQ7CgpmdW5jdGlvbiBfdXBsb2FkRmlsZXMoaW5wdXRJZCwgb3V0cHV0SWQpIHsKICBjb25zdCBzdGVwcyA9IHVwbG9hZEZpbGVzU3RlcChpbnB1dElkLCBvdXRwdXRJZCk7CiAgY29uc3Qgb3V0cHV0RWxlbWVudCA9IGRvY3VtZW50LmdldEVsZW1lbnRCeUlkKG91dHB1dElkKTsKICAvLyBDYWNoZSBzdGVwcyBvbiB0aGUgb3V0cHV0RWxlbWVudCB0byBtYWtlIGl0IGF2YWlsYWJsZSBmb3IgdGhlIG5leHQgY2FsbAogIC8vIHRvIHVwbG9hZEZpbGVzQ29udGludWUgZnJvbSBQeXRob24uCiAgb3V0cHV0RWxlbWVudC5zdGVwcyA9IHN0ZXBzOwoKICByZXR1cm4gX3VwbG9hZEZpbGVzQ29udGludWUob3V0cHV0SWQpOwp9CgovLyBUaGlzIGlzIHJvdWdobHkgYW4gYXN5bmMgZ2VuZXJhdG9yIChub3Qgc3VwcG9ydGVkIGluIHRoZSBicm93c2VyIHlldCksCi8vIHdoZXJlIHRoZXJlIGFyZSBtdWx0aXBsZSBhc3luY2hyb25vdXMgc3RlcHMgYW5kIHRoZSBQeXRob24gc2lkZSBpcyBnb2luZwovLyB0byBwb2xsIGZvciBjb21wbGV0aW9uIG9mIGVhY2ggc3RlcC4KLy8gVGhpcyB1c2VzIGEgUHJvbWlzZSB0byBibG9jayB0aGUgcHl0aG9uIHNpZGUgb24gY29tcGxldGlvbiBvZiBlYWNoIHN0ZXAsCi8vIHRoZW4gcGFzc2VzIHRoZSByZXN1bHQgb2YgdGhlIHByZXZpb3VzIHN0ZXAgYXMgdGhlIGlucHV0IHRvIHRoZSBuZXh0IHN0ZXAuCmZ1bmN0aW9uIF91cGxvYWRGaWxlc0NvbnRpbnVlKG91dHB1dElkKSB7CiAgY29uc3Qgb3V0cHV0RWxlbWVudCA9IGRvY3VtZW50LmdldEVsZW1lbnRCeUlkKG91dHB1dElkKTsKICBjb25zdCBzdGVwcyA9IG91dHB1dEVsZW1lbnQuc3RlcHM7CgogIGNvbnN0IG5leHQgPSBzdGVwcy5uZXh0KG91dHB1dEVsZW1lbnQubGFzdFByb21pc2VWYWx1ZSk7CiAgcmV0dXJuIFByb21pc2UucmVzb2x2ZShuZXh0LnZhbHVlLnByb21pc2UpLnRoZW4oKHZhbHVlKSA9PiB7CiAgICAvLyBDYWNoZSB0aGUgbGFzdCBwcm9taXNlIHZhbHVlIHRvIG1ha2UgaXQgYXZhaWxhYmxlIHRvIHRoZSBuZXh0CiAgICAvLyBzdGVwIG9mIHRoZSBnZW5lcmF0b3IuCiAgICBvdXRwdXRFbGVtZW50Lmxhc3RQcm9taXNlVmFsdWUgPSB2YWx1ZTsKICAgIHJldHVybiBuZXh0LnZhbHVlLnJlc3BvbnNlOwogIH0pOwp9CgovKioKICogR2VuZXJhdG9yIGZ1bmN0aW9uIHdoaWNoIGlzIGNhbGxlZCBiZXR3ZWVuIGVhY2ggYXN5bmMgc3RlcCBvZiB0aGUgdXBsb2FkCiAqIHByb2Nlc3MuCiAqIEBwYXJhbSB7c3RyaW5nfSBpbnB1dElkIEVsZW1lbnQgSUQgb2YgdGhlIGlucHV0IGZpbGUgcGlja2VyIGVsZW1lbnQuCiAqIEBwYXJhbSB7c3RyaW5nfSBvdXRwdXRJZCBFbGVtZW50IElEIG9mIHRoZSBvdXRwdXQgZGlzcGxheS4KICogQHJldHVybiB7IUl0ZXJhYmxlPCFPYmplY3Q+fSBJdGVyYWJsZSBvZiBuZXh0IHN0ZXBzLgogKi8KZnVuY3Rpb24qIHVwbG9hZEZpbGVzU3RlcChpbnB1dElkLCBvdXRwdXRJZCkgewogIGNvbnN0IGlucHV0RWxlbWVudCA9IGRvY3VtZW50LmdldEVsZW1lbnRCeUlkKGlucHV0SWQpOwogIGlucHV0RWxlbWVudC5kaXNhYmxlZCA9IGZhbHNlOwoKICBjb25zdCBvdXRwdXRFbGVtZW50ID0gZG9jdW1lbnQuZ2V0RWxlbWVudEJ5SWQob3V0cHV0SWQpOwogIG91dHB1dEVsZW1lbnQuaW5uZXJIVE1MID0gJyc7CgogIGNvbnN0IHBpY2tlZFByb21pc2UgPSBuZXcgUHJvbWlzZSgocmVzb2x2ZSkgPT4gewogICAgaW5wdXRFbGVtZW50LmFkZEV2ZW50TGlzdGVuZXIoJ2NoYW5nZScsIChlKSA9PiB7CiAgICAgIHJlc29sdmUoZS50YXJnZXQuZmlsZXMpOwogICAgfSk7CiAgfSk7CgogIGNvbnN0IGNhbmNlbCA9IGRvY3VtZW50LmNyZWF0ZUVsZW1lbnQoJ2J1dHRvbicpOwogIGlucHV0RWxlbWVudC5wYXJlbnRFbGVtZW50LmFwcGVuZENoaWxkKGNhbmNlbCk7CiAgY2FuY2VsLnRleHRDb250ZW50ID0gJ0NhbmNlbCB1cGxvYWQnOwogIGNvbnN0IGNhbmNlbFByb21pc2UgPSBuZXcgUHJvbWlzZSgocmVzb2x2ZSkgPT4gewogICAgY2FuY2VsLm9uY2xpY2sgPSAoKSA9PiB7CiAgICAgIHJlc29sdmUobnVsbCk7CiAgICB9OwogIH0pOwoKICAvLyBXYWl0IGZvciB0aGUgdXNlciB0byBwaWNrIHRoZSBmaWxlcy4KICBjb25zdCBmaWxlcyA9IHlpZWxkIHsKICAgIHByb21pc2U6IFByb21pc2UucmFjZShbcGlja2VkUHJvbWlzZSwgY2FuY2VsUHJvbWlzZV0pLAogICAgcmVzcG9uc2U6IHsKICAgICAgYWN0aW9uOiAnc3RhcnRpbmcnLAogICAgfQogIH07CgogIGNhbmNlbC5yZW1vdmUoKTsKCiAgLy8gRGlzYWJsZSB0aGUgaW5wdXQgZWxlbWVudCBzaW5jZSBmdXJ0aGVyIHBpY2tzIGFyZSBub3QgYWxsb3dlZC4KICBpbnB1dEVsZW1lbnQuZGlzYWJsZWQgPSB0cnVlOwoKICBpZiAoIWZpbGVzKSB7CiAgICByZXR1cm4gewogICAgICByZXNwb25zZTogewogICAgICAgIGFjdGlvbjogJ2NvbXBsZXRlJywKICAgICAgfQogICAgfTsKICB9CgogIGZvciAoY29uc3QgZmlsZSBvZiBmaWxlcykgewogICAgY29uc3QgbGkgPSBkb2N1bWVudC5jcmVhdGVFbGVtZW50KCdsaScpOwogICAgbGkuYXBwZW5kKHNwYW4oZmlsZS5uYW1lLCB7Zm9udFdlaWdodDogJ2JvbGQnfSkpOwogICAgbGkuYXBwZW5kKHNwYW4oCiAgICAgICAgYCgke2ZpbGUudHlwZSB8fCAnbi9hJ30pIC0gJHtmaWxlLnNpemV9IGJ5dGVzLCBgICsKICAgICAgICBgbGFzdCBtb2RpZmllZDogJHsKICAgICAgICAgICAgZmlsZS5sYXN0TW9kaWZpZWREYXRlID8gZmlsZS5sYXN0TW9kaWZpZWREYXRlLnRvTG9jYWxlRGF0ZVN0cmluZygpIDoKICAgICAgICAgICAgICAgICAgICAgICAgICAgICAgICAgICAgJ24vYSd9IC0gYCkpOwogICAgY29uc3QgcGVyY2VudCA9IHNwYW4oJzAlIGRvbmUnKTsKICAgIGxpLmFwcGVuZENoaWxkKHBlcmNlbnQpOwoKICAgIG91dHB1dEVsZW1lbnQuYXBwZW5kQ2hpbGQobGkpOwoKICAgIGNvbnN0IGZpbGVEYXRhUHJvbWlzZSA9IG5ldyBQcm9taXNlKChyZXNvbHZlKSA9PiB7CiAgICAgIGNvbnN0IHJlYWRlciA9IG5ldyBGaWxlUmVhZGVyKCk7CiAgICAgIHJlYWRlci5vbmxvYWQgPSAoZSkgPT4gewogICAgICAgIHJlc29sdmUoZS50YXJnZXQucmVzdWx0KTsKICAgICAgfTsKICAgICAgcmVhZGVyLnJlYWRBc0FycmF5QnVmZmVyKGZpbGUpOwogICAgfSk7CiAgICAvLyBXYWl0IGZvciB0aGUgZGF0YSB0byBiZSByZWFkeS4KICAgIGxldCBmaWxlRGF0YSA9IHlpZWxkIHsKICAgICAgcHJvbWlzZTogZmlsZURhdGFQcm9taXNlLAogICAgICByZXNwb25zZTogewogICAgICAgIGFjdGlvbjogJ2NvbnRpbnVlJywKICAgICAgfQogICAgfTsKCiAgICAvLyBVc2UgYSBjaHVua2VkIHNlbmRpbmcgdG8gYXZvaWQgbWVzc2FnZSBzaXplIGxpbWl0cy4gU2VlIGIvNjIxMTU2NjAuCiAgICBsZXQgcG9zaXRpb24gPSAwOwogICAgd2hpbGUgKHBvc2l0aW9uIDwgZmlsZURhdGEuYnl0ZUxlbmd0aCkgewogICAgICBjb25zdCBsZW5ndGggPSBNYXRoLm1pbihmaWxlRGF0YS5ieXRlTGVuZ3RoIC0gcG9zaXRpb24sIE1BWF9QQVlMT0FEX1NJWkUpOwogICAgICBjb25zdCBjaHVuayA9IG5ldyBVaW50OEFycmF5KGZpbGVEYXRhLCBwb3NpdGlvbiwgbGVuZ3RoKTsKICAgICAgcG9zaXRpb24gKz0gbGVuZ3RoOwoKICAgICAgY29uc3QgYmFzZTY0ID0gYnRvYShTdHJpbmcuZnJvbUNoYXJDb2RlLmFwcGx5KG51bGwsIGNodW5rKSk7CiAgICAgIHlpZWxkIHsKICAgICAgICByZXNwb25zZTogewogICAgICAgICAgYWN0aW9uOiAnYXBwZW5kJywKICAgICAgICAgIGZpbGU6IGZpbGUubmFtZSwKICAgICAgICAgIGRhdGE6IGJhc2U2NCwKICAgICAgICB9LAogICAgICB9OwogICAgICBwZXJjZW50LnRleHRDb250ZW50ID0KICAgICAgICAgIGAke01hdGgucm91bmQoKHBvc2l0aW9uIC8gZmlsZURhdGEuYnl0ZUxlbmd0aCkgKiAxMDApfSUgZG9uZWA7CiAgICB9CiAgfQoKICAvLyBBbGwgZG9uZS4KICB5aWVsZCB7CiAgICByZXNwb25zZTogewogICAgICBhY3Rpb246ICdjb21wbGV0ZScsCiAgICB9CiAgfTsKfQoKc2NvcGUuZ29vZ2xlID0gc2NvcGUuZ29vZ2xlIHx8IHt9OwpzY29wZS5nb29nbGUuY29sYWIgPSBzY29wZS5nb29nbGUuY29sYWIgfHwge307CnNjb3BlLmdvb2dsZS5jb2xhYi5fZmlsZXMgPSB7CiAgX3VwbG9hZEZpbGVzLAogIF91cGxvYWRGaWxlc0NvbnRpbnVlLAp9Owp9KShzZWxmKTsK",
              "ok": true,
              "headers": [
                [
                  "content-type",
                  "application/javascript"
                ]
              ],
              "status": 200,
              "status_text": ""
            }
          },
          "base_uri": "https://localhost:8080/",
          "height": 38
        },
        "id": "8fn8doQ7Wq9u",
        "outputId": "2704b84d-3a7c-45f3-8147-f94e9024230b"
      },
      "source": [
        "from google.colab import files\n",
        "uploaded = files.upload()"
      ],
      "execution_count": null,
      "outputs": [
        {
          "output_type": "display_data",
          "data": {
            "text/html": [
              "\n",
              "     <input type=\"file\" id=\"files-3cf12780-5d6b-4cd0-8030-ea07362baaca\" name=\"files[]\" multiple disabled\n",
              "        style=\"border:none\" />\n",
              "     <output id=\"result-3cf12780-5d6b-4cd0-8030-ea07362baaca\">\n",
              "      Upload widget is only available when the cell has been executed in the\n",
              "      current browser session. Please rerun this cell to enable.\n",
              "      </output>\n",
              "      <script src=\"/nbextensions/google.colab/files.js\"></script> "
            ],
            "text/plain": [
              "<IPython.core.display.HTML object>"
            ]
          },
          "metadata": {
            "tags": []
          }
        }
      ]
    },
    {
      "cell_type": "markdown",
      "metadata": {
        "id": "CqLp0xnGXGyD"
      },
      "source": [
        "Una vez que tengas el archivo cargado podrás crear un dataframe con Pandas para empezar con tu análisis. "
      ]
    },
    {
      "cell_type": "markdown",
      "metadata": {
        "id": "nOsqaDpPZOsW"
      },
      "source": [
        "Una tercera forma es montar tu unidad de Google Drive en tu entorno de trabajo. Tendrás que dar permiso para que Colab pueda acceder a tu unidad de almacenamiento de Drive.\n",
        "\n",
        "Debes ejecutar los siguientes comandos en una celda de código\n",
        "\n",
        "\n",
        "```\n",
        "from google.colab import drive\n",
        "drive.mount('/content/drive')\n",
        "```\n",
        "\n"
      ]
    },
    {
      "cell_type": "markdown",
      "metadata": {
        "id": "OC2B8QmZ2hIA"
      },
      "source": [
        "### Explorando el archivo con los datos\n",
        "Hay varias formas de explorar un archivo. Una de las más comunes es revisando las primeras filas. \n",
        "Por ejemplo, para mirar las primeras cincoo filas del archivo guardado en la variable \"df\" tenemos que ejecutar lo siguiente: \n"
      ]
    },
    {
      "cell_type": "code",
      "metadata": {
        "id": "Cqjr76w52hIA",
        "colab": {
          "base_uri": "https://localhost:8080/",
          "height": 323
        },
        "outputId": "ce6c2b40-3759-437f-c564-ae4a1481ba1d"
      },
      "source": [
        "df.head(5)"
      ],
      "execution_count": null,
      "outputs": [
        {
          "output_type": "execute_result",
          "data": {
            "text/html": [
              "<div>\n",
              "<style scoped>\n",
              "    .dataframe tbody tr th:only-of-type {\n",
              "        vertical-align: middle;\n",
              "    }\n",
              "\n",
              "    .dataframe tbody tr th {\n",
              "        vertical-align: top;\n",
              "    }\n",
              "\n",
              "    .dataframe thead th {\n",
              "        text-align: right;\n",
              "    }\n",
              "</style>\n",
              "<table border=\"1\" class=\"dataframe\">\n",
              "  <thead>\n",
              "    <tr style=\"text-align: right;\">\n",
              "      <th></th>\n",
              "      <th>alpha_2</th>\n",
              "      <th>alpha_3</th>\n",
              "      <th>area</th>\n",
              "      <th>capital</th>\n",
              "      <th>continent</th>\n",
              "      <th>currency_code</th>\n",
              "      <th>currency_name</th>\n",
              "      <th>eqivalent_fips_code</th>\n",
              "      <th>fips</th>\n",
              "      <th>geoname_id</th>\n",
              "      <th>languages</th>\n",
              "      <th>name</th>\n",
              "      <th>neighbours</th>\n",
              "      <th>numeric</th>\n",
              "      <th>phone</th>\n",
              "      <th>population</th>\n",
              "      <th>postal_code_format</th>\n",
              "      <th>postal_code_regex</th>\n",
              "      <th>tld</th>\n",
              "    </tr>\n",
              "  </thead>\n",
              "  <tbody>\n",
              "    <tr>\n",
              "      <th>0</th>\n",
              "      <td>AD</td>\n",
              "      <td>AND</td>\n",
              "      <td>468.0</td>\n",
              "      <td>Andorra la Vella</td>\n",
              "      <td>EU</td>\n",
              "      <td>EUR</td>\n",
              "      <td>Euro</td>\n",
              "      <td>NaN</td>\n",
              "      <td>AN</td>\n",
              "      <td>3041565</td>\n",
              "      <td>ca</td>\n",
              "      <td>Andorra</td>\n",
              "      <td>ES,FR</td>\n",
              "      <td>20</td>\n",
              "      <td>376</td>\n",
              "      <td>84000</td>\n",
              "      <td>AD###</td>\n",
              "      <td>^(?:AD)*(\\d{3})$</td>\n",
              "      <td>.ad</td>\n",
              "    </tr>\n",
              "    <tr>\n",
              "      <th>1</th>\n",
              "      <td>AE</td>\n",
              "      <td>ARE</td>\n",
              "      <td>82880.0</td>\n",
              "      <td>Abu Dhabi</td>\n",
              "      <td>AS</td>\n",
              "      <td>AED</td>\n",
              "      <td>Dirham</td>\n",
              "      <td>NaN</td>\n",
              "      <td>AE</td>\n",
              "      <td>290557</td>\n",
              "      <td>ar-AE,fa,en,hi,ur</td>\n",
              "      <td>United Arab Emirates</td>\n",
              "      <td>SA,OM</td>\n",
              "      <td>784</td>\n",
              "      <td>971</td>\n",
              "      <td>4975593</td>\n",
              "      <td>NaN</td>\n",
              "      <td>NaN</td>\n",
              "      <td>.ae</td>\n",
              "    </tr>\n",
              "    <tr>\n",
              "      <th>2</th>\n",
              "      <td>AF</td>\n",
              "      <td>AFG</td>\n",
              "      <td>647500.0</td>\n",
              "      <td>Kabul</td>\n",
              "      <td>AS</td>\n",
              "      <td>AFN</td>\n",
              "      <td>Afghani</td>\n",
              "      <td>NaN</td>\n",
              "      <td>AF</td>\n",
              "      <td>1149361</td>\n",
              "      <td>fa-AF,ps,uz-AF,tk</td>\n",
              "      <td>Afghanistan</td>\n",
              "      <td>TM,CN,IR,TJ,PK,UZ</td>\n",
              "      <td>4</td>\n",
              "      <td>93</td>\n",
              "      <td>29121286</td>\n",
              "      <td>NaN</td>\n",
              "      <td>NaN</td>\n",
              "      <td>.af</td>\n",
              "    </tr>\n",
              "    <tr>\n",
              "      <th>3</th>\n",
              "      <td>AG</td>\n",
              "      <td>ATG</td>\n",
              "      <td>443.0</td>\n",
              "      <td>St. John's</td>\n",
              "      <td>NaN</td>\n",
              "      <td>XCD</td>\n",
              "      <td>Dollar</td>\n",
              "      <td>NaN</td>\n",
              "      <td>AC</td>\n",
              "      <td>3576396</td>\n",
              "      <td>en-AG</td>\n",
              "      <td>Antigua and Barbuda</td>\n",
              "      <td>NaN</td>\n",
              "      <td>28</td>\n",
              "      <td>+1-268</td>\n",
              "      <td>86754</td>\n",
              "      <td>NaN</td>\n",
              "      <td>NaN</td>\n",
              "      <td>.ag</td>\n",
              "    </tr>\n",
              "    <tr>\n",
              "      <th>4</th>\n",
              "      <td>AI</td>\n",
              "      <td>AIA</td>\n",
              "      <td>102.0</td>\n",
              "      <td>The Valley</td>\n",
              "      <td>NaN</td>\n",
              "      <td>XCD</td>\n",
              "      <td>Dollar</td>\n",
              "      <td>NaN</td>\n",
              "      <td>AV</td>\n",
              "      <td>3573511</td>\n",
              "      <td>en-AI</td>\n",
              "      <td>Anguilla</td>\n",
              "      <td>NaN</td>\n",
              "      <td>660</td>\n",
              "      <td>+1-264</td>\n",
              "      <td>13254</td>\n",
              "      <td>NaN</td>\n",
              "      <td>NaN</td>\n",
              "      <td>.ai</td>\n",
              "    </tr>\n",
              "  </tbody>\n",
              "</table>\n",
              "</div>"
            ],
            "text/plain": [
              "  alpha_2 alpha_3      area  ... postal_code_format postal_code_regex  tld\n",
              "0      AD     AND     468.0  ...              AD###  ^(?:AD)*(\\d{3})$  .ad\n",
              "1      AE     ARE   82880.0  ...                NaN               NaN  .ae\n",
              "2      AF     AFG  647500.0  ...                NaN               NaN  .af\n",
              "3      AG     ATG     443.0  ...                NaN               NaN  .ag\n",
              "4      AI     AIA     102.0  ...                NaN               NaN  .ai\n",
              "\n",
              "[5 rows x 19 columns]"
            ]
          },
          "metadata": {
            "tags": []
          },
          "execution_count": 9
        }
      ]
    },
    {
      "cell_type": "markdown",
      "metadata": {
        "id": "tL0aAlRO2hIE"
      },
      "source": [
        "En caso de que queramos observar una muestra aleatoria de siete filas extraídas desde el *dataframe* tenemos que ejecutar lo siguiente: "
      ]
    },
    {
      "cell_type": "code",
      "metadata": {
        "id": "T7VY4mEr2hIF",
        "colab": {
          "base_uri": "https://localhost:8080/",
          "height": 350
        },
        "outputId": "85b2ade7-8f02-4755-e84f-a511067eada7"
      },
      "source": [
        "df.sample(7)"
      ],
      "execution_count": null,
      "outputs": [
        {
          "output_type": "execute_result",
          "data": {
            "text/html": [
              "<div>\n",
              "<style scoped>\n",
              "    .dataframe tbody tr th:only-of-type {\n",
              "        vertical-align: middle;\n",
              "    }\n",
              "\n",
              "    .dataframe tbody tr th {\n",
              "        vertical-align: top;\n",
              "    }\n",
              "\n",
              "    .dataframe thead th {\n",
              "        text-align: right;\n",
              "    }\n",
              "</style>\n",
              "<table border=\"1\" class=\"dataframe\">\n",
              "  <thead>\n",
              "    <tr style=\"text-align: right;\">\n",
              "      <th></th>\n",
              "      <th>alpha_2</th>\n",
              "      <th>alpha_3</th>\n",
              "      <th>area</th>\n",
              "      <th>capital</th>\n",
              "      <th>continent</th>\n",
              "      <th>currency_code</th>\n",
              "      <th>currency_name</th>\n",
              "      <th>eqivalent_fips_code</th>\n",
              "      <th>fips</th>\n",
              "      <th>geoname_id</th>\n",
              "      <th>languages</th>\n",
              "      <th>name</th>\n",
              "      <th>neighbours</th>\n",
              "      <th>numeric</th>\n",
              "      <th>phone</th>\n",
              "      <th>population</th>\n",
              "      <th>postal_code_format</th>\n",
              "      <th>postal_code_regex</th>\n",
              "      <th>tld</th>\n",
              "    </tr>\n",
              "  </thead>\n",
              "  <tbody>\n",
              "    <tr>\n",
              "      <th>231</th>\n",
              "      <td>UG</td>\n",
              "      <td>UGA</td>\n",
              "      <td>236040.0</td>\n",
              "      <td>Kampala</td>\n",
              "      <td>AF</td>\n",
              "      <td>UGX</td>\n",
              "      <td>Shilling</td>\n",
              "      <td>NaN</td>\n",
              "      <td>UG</td>\n",
              "      <td>226074</td>\n",
              "      <td>en-UG,lg,sw,ar</td>\n",
              "      <td>Uganda</td>\n",
              "      <td>TZ,KE,SS,CD,RW</td>\n",
              "      <td>800</td>\n",
              "      <td>256</td>\n",
              "      <td>33398682</td>\n",
              "      <td>NaN</td>\n",
              "      <td>NaN</td>\n",
              "      <td>.ug</td>\n",
              "    </tr>\n",
              "    <tr>\n",
              "      <th>41</th>\n",
              "      <td>CG</td>\n",
              "      <td>COG</td>\n",
              "      <td>342000.0</td>\n",
              "      <td>Brazzaville</td>\n",
              "      <td>AF</td>\n",
              "      <td>XAF</td>\n",
              "      <td>Franc</td>\n",
              "      <td>NaN</td>\n",
              "      <td>CF</td>\n",
              "      <td>2260494</td>\n",
              "      <td>fr-CG,kg,ln-CG</td>\n",
              "      <td>Republic of the Congo</td>\n",
              "      <td>CF,GA,CD,CM,AO</td>\n",
              "      <td>178</td>\n",
              "      <td>242</td>\n",
              "      <td>3039126</td>\n",
              "      <td>NaN</td>\n",
              "      <td>NaN</td>\n",
              "      <td>.cg</td>\n",
              "    </tr>\n",
              "    <tr>\n",
              "      <th>134</th>\n",
              "      <td>LU</td>\n",
              "      <td>LUX</td>\n",
              "      <td>2586.0</td>\n",
              "      <td>Luxembourg</td>\n",
              "      <td>EU</td>\n",
              "      <td>EUR</td>\n",
              "      <td>Euro</td>\n",
              "      <td>NaN</td>\n",
              "      <td>LU</td>\n",
              "      <td>2960313</td>\n",
              "      <td>lb,de-LU,fr-LU</td>\n",
              "      <td>Luxembourg</td>\n",
              "      <td>DE,BE,FR</td>\n",
              "      <td>442</td>\n",
              "      <td>352</td>\n",
              "      <td>497538</td>\n",
              "      <td>L-####</td>\n",
              "      <td>^(?:L-)?\\d{4}$</td>\n",
              "      <td>.lu</td>\n",
              "    </tr>\n",
              "    <tr>\n",
              "      <th>202</th>\n",
              "      <td>SJ</td>\n",
              "      <td>SJM</td>\n",
              "      <td>62049.0</td>\n",
              "      <td>Longyearbyen</td>\n",
              "      <td>EU</td>\n",
              "      <td>NOK</td>\n",
              "      <td>Krone</td>\n",
              "      <td>NaN</td>\n",
              "      <td>SV</td>\n",
              "      <td>607072</td>\n",
              "      <td>no,ru</td>\n",
              "      <td>Svalbard and Jan Mayen</td>\n",
              "      <td>NaN</td>\n",
              "      <td>744</td>\n",
              "      <td>47</td>\n",
              "      <td>2550</td>\n",
              "      <td>NaN</td>\n",
              "      <td>NaN</td>\n",
              "      <td>.sj</td>\n",
              "    </tr>\n",
              "    <tr>\n",
              "      <th>247</th>\n",
              "      <td>ZA</td>\n",
              "      <td>ZAF</td>\n",
              "      <td>1219912.0</td>\n",
              "      <td>Pretoria</td>\n",
              "      <td>AF</td>\n",
              "      <td>ZAR</td>\n",
              "      <td>Rand</td>\n",
              "      <td>NaN</td>\n",
              "      <td>SF</td>\n",
              "      <td>953987</td>\n",
              "      <td>zu,xh,af,nso,en-ZA,tn,st,ts,ss,ve,nr</td>\n",
              "      <td>South Africa</td>\n",
              "      <td>ZW,SZ,MZ,BW,NA,LS</td>\n",
              "      <td>710</td>\n",
              "      <td>27</td>\n",
              "      <td>49000000</td>\n",
              "      <td>####</td>\n",
              "      <td>^(\\d{4})$</td>\n",
              "      <td>.za</td>\n",
              "    </tr>\n",
              "    <tr>\n",
              "      <th>32</th>\n",
              "      <td>BT</td>\n",
              "      <td>BTN</td>\n",
              "      <td>47000.0</td>\n",
              "      <td>Thimphu</td>\n",
              "      <td>AS</td>\n",
              "      <td>BTN</td>\n",
              "      <td>Ngultrum</td>\n",
              "      <td>NaN</td>\n",
              "      <td>BT</td>\n",
              "      <td>1252634</td>\n",
              "      <td>dz</td>\n",
              "      <td>Bhutan</td>\n",
              "      <td>CN,IN</td>\n",
              "      <td>64</td>\n",
              "      <td>975</td>\n",
              "      <td>699847</td>\n",
              "      <td>NaN</td>\n",
              "      <td>NaN</td>\n",
              "      <td>.bt</td>\n",
              "    </tr>\n",
              "    <tr>\n",
              "      <th>170</th>\n",
              "      <td>NU</td>\n",
              "      <td>NIU</td>\n",
              "      <td>260.0</td>\n",
              "      <td>Alofi</td>\n",
              "      <td>OC</td>\n",
              "      <td>NZD</td>\n",
              "      <td>Dollar</td>\n",
              "      <td>NaN</td>\n",
              "      <td>NE</td>\n",
              "      <td>4036232</td>\n",
              "      <td>niu,en-NU</td>\n",
              "      <td>Niue</td>\n",
              "      <td>NaN</td>\n",
              "      <td>570</td>\n",
              "      <td>683</td>\n",
              "      <td>2166</td>\n",
              "      <td>NaN</td>\n",
              "      <td>NaN</td>\n",
              "      <td>.nu</td>\n",
              "    </tr>\n",
              "  </tbody>\n",
              "</table>\n",
              "</div>"
            ],
            "text/plain": [
              "    alpha_2 alpha_3       area  ... postal_code_format postal_code_regex  tld\n",
              "231      UG     UGA   236040.0  ...                NaN               NaN  .ug\n",
              "41       CG     COG   342000.0  ...                NaN               NaN  .cg\n",
              "134      LU     LUX     2586.0  ...             L-####    ^(?:L-)?\\d{4}$  .lu\n",
              "202      SJ     SJM    62049.0  ...                NaN               NaN  .sj\n",
              "247      ZA     ZAF  1219912.0  ...               ####         ^(\\d{4})$  .za\n",
              "32       BT     BTN    47000.0  ...                NaN               NaN  .bt\n",
              "170      NU     NIU      260.0  ...                NaN               NaN  .nu\n",
              "\n",
              "[7 rows x 19 columns]"
            ]
          },
          "metadata": {
            "tags": []
          },
          "execution_count": 10
        }
      ]
    },
    {
      "cell_type": "markdown",
      "metadata": {
        "id": "To0R04j-9tXK"
      },
      "source": [
        "## Importando archivo de datos\n",
        "Se utilizará ***weatherAUS.csv*** originalmente encontrado en [Kaggle](https://www.kaggle.com/jsphyg/weather-dataset-rattle-package).\n",
        "Con fines didácticos, se trasladó a GitHub y se cargará desde ahí:"
      ]
    },
    {
      "cell_type": "code",
      "metadata": {
        "id": "GnT8KfWS-24O"
      },
      "source": [
        "url = 'https://raw.githubusercontent.com/Maxibrionest/FMY-Fundamentos-Machine-Learning/main/Actividad_1_2_3/weatherAUS.csv'\n",
        "df = pd.read_csv(url, sep=\",\")"
      ],
      "execution_count": null,
      "outputs": []
    },
    {
      "cell_type": "markdown",
      "metadata": {
        "id": "TdGCfyLAAmoo"
      },
      "source": [
        "### Vista preliminar de datos"
      ]
    },
    {
      "cell_type": "code",
      "metadata": {
        "colab": {
          "base_uri": "https://localhost:8080/",
          "height": 309
        },
        "id": "Pl3YWq3H__wv",
        "outputId": "5c21da5a-490a-425a-f643-b67d88d0e350"
      },
      "source": [
        "df.head(5)"
      ],
      "execution_count": null,
      "outputs": [
        {
          "output_type": "execute_result",
          "data": {
            "text/html": [
              "<div>\n",
              "<style scoped>\n",
              "    .dataframe tbody tr th:only-of-type {\n",
              "        vertical-align: middle;\n",
              "    }\n",
              "\n",
              "    .dataframe tbody tr th {\n",
              "        vertical-align: top;\n",
              "    }\n",
              "\n",
              "    .dataframe thead th {\n",
              "        text-align: right;\n",
              "    }\n",
              "</style>\n",
              "<table border=\"1\" class=\"dataframe\">\n",
              "  <thead>\n",
              "    <tr style=\"text-align: right;\">\n",
              "      <th></th>\n",
              "      <th>Date</th>\n",
              "      <th>Location</th>\n",
              "      <th>MinTemp</th>\n",
              "      <th>MaxTemp</th>\n",
              "      <th>Rainfall</th>\n",
              "      <th>Evaporation</th>\n",
              "      <th>Sunshine</th>\n",
              "      <th>WindGustDir</th>\n",
              "      <th>WindGustSpeed</th>\n",
              "      <th>WindDir9am</th>\n",
              "      <th>WindDir3pm</th>\n",
              "      <th>WindSpeed9am</th>\n",
              "      <th>WindSpeed3pm</th>\n",
              "      <th>Humidity9am</th>\n",
              "      <th>Humidity3pm</th>\n",
              "      <th>Pressure9am</th>\n",
              "      <th>Pressure3pm</th>\n",
              "      <th>Cloud9am</th>\n",
              "      <th>Cloud3pm</th>\n",
              "      <th>Temp9am</th>\n",
              "      <th>Temp3pm</th>\n",
              "      <th>RainToday</th>\n",
              "      <th>RainTomorrow</th>\n",
              "    </tr>\n",
              "  </thead>\n",
              "  <tbody>\n",
              "    <tr>\n",
              "      <th>0</th>\n",
              "      <td>2008-12-01</td>\n",
              "      <td>Albury</td>\n",
              "      <td>13.4</td>\n",
              "      <td>22.9</td>\n",
              "      <td>0.6</td>\n",
              "      <td>NaN</td>\n",
              "      <td>NaN</td>\n",
              "      <td>W</td>\n",
              "      <td>44.0</td>\n",
              "      <td>W</td>\n",
              "      <td>WNW</td>\n",
              "      <td>20.0</td>\n",
              "      <td>24.0</td>\n",
              "      <td>71.0</td>\n",
              "      <td>22.0</td>\n",
              "      <td>1007.7</td>\n",
              "      <td>1007.1</td>\n",
              "      <td>8.0</td>\n",
              "      <td>NaN</td>\n",
              "      <td>16.9</td>\n",
              "      <td>21.8</td>\n",
              "      <td>No</td>\n",
              "      <td>No</td>\n",
              "    </tr>\n",
              "    <tr>\n",
              "      <th>1</th>\n",
              "      <td>2008-12-02</td>\n",
              "      <td>Albury</td>\n",
              "      <td>7.4</td>\n",
              "      <td>25.1</td>\n",
              "      <td>0.0</td>\n",
              "      <td>NaN</td>\n",
              "      <td>NaN</td>\n",
              "      <td>WNW</td>\n",
              "      <td>44.0</td>\n",
              "      <td>NNW</td>\n",
              "      <td>WSW</td>\n",
              "      <td>4.0</td>\n",
              "      <td>22.0</td>\n",
              "      <td>44.0</td>\n",
              "      <td>25.0</td>\n",
              "      <td>1010.6</td>\n",
              "      <td>1007.8</td>\n",
              "      <td>NaN</td>\n",
              "      <td>NaN</td>\n",
              "      <td>17.2</td>\n",
              "      <td>24.3</td>\n",
              "      <td>No</td>\n",
              "      <td>No</td>\n",
              "    </tr>\n",
              "    <tr>\n",
              "      <th>2</th>\n",
              "      <td>2008-12-03</td>\n",
              "      <td>Albury</td>\n",
              "      <td>12.9</td>\n",
              "      <td>25.7</td>\n",
              "      <td>0.0</td>\n",
              "      <td>NaN</td>\n",
              "      <td>NaN</td>\n",
              "      <td>WSW</td>\n",
              "      <td>46.0</td>\n",
              "      <td>W</td>\n",
              "      <td>WSW</td>\n",
              "      <td>19.0</td>\n",
              "      <td>26.0</td>\n",
              "      <td>38.0</td>\n",
              "      <td>30.0</td>\n",
              "      <td>1007.6</td>\n",
              "      <td>1008.7</td>\n",
              "      <td>NaN</td>\n",
              "      <td>2.0</td>\n",
              "      <td>21.0</td>\n",
              "      <td>23.2</td>\n",
              "      <td>No</td>\n",
              "      <td>No</td>\n",
              "    </tr>\n",
              "    <tr>\n",
              "      <th>3</th>\n",
              "      <td>2008-12-04</td>\n",
              "      <td>Albury</td>\n",
              "      <td>9.2</td>\n",
              "      <td>28.0</td>\n",
              "      <td>0.0</td>\n",
              "      <td>NaN</td>\n",
              "      <td>NaN</td>\n",
              "      <td>NE</td>\n",
              "      <td>24.0</td>\n",
              "      <td>SE</td>\n",
              "      <td>E</td>\n",
              "      <td>11.0</td>\n",
              "      <td>9.0</td>\n",
              "      <td>45.0</td>\n",
              "      <td>16.0</td>\n",
              "      <td>1017.6</td>\n",
              "      <td>1012.8</td>\n",
              "      <td>NaN</td>\n",
              "      <td>NaN</td>\n",
              "      <td>18.1</td>\n",
              "      <td>26.5</td>\n",
              "      <td>No</td>\n",
              "      <td>No</td>\n",
              "    </tr>\n",
              "    <tr>\n",
              "      <th>4</th>\n",
              "      <td>2008-12-05</td>\n",
              "      <td>Albury</td>\n",
              "      <td>17.5</td>\n",
              "      <td>32.3</td>\n",
              "      <td>1.0</td>\n",
              "      <td>NaN</td>\n",
              "      <td>NaN</td>\n",
              "      <td>W</td>\n",
              "      <td>41.0</td>\n",
              "      <td>ENE</td>\n",
              "      <td>NW</td>\n",
              "      <td>7.0</td>\n",
              "      <td>20.0</td>\n",
              "      <td>82.0</td>\n",
              "      <td>33.0</td>\n",
              "      <td>1010.8</td>\n",
              "      <td>1006.0</td>\n",
              "      <td>7.0</td>\n",
              "      <td>8.0</td>\n",
              "      <td>17.8</td>\n",
              "      <td>29.7</td>\n",
              "      <td>No</td>\n",
              "      <td>No</td>\n",
              "    </tr>\n",
              "  </tbody>\n",
              "</table>\n",
              "</div>"
            ],
            "text/plain": [
              "         Date Location  MinTemp  ...  Temp3pm  RainToday  RainTomorrow\n",
              "0  2008-12-01   Albury     13.4  ...     21.8         No            No\n",
              "1  2008-12-02   Albury      7.4  ...     24.3         No            No\n",
              "2  2008-12-03   Albury     12.9  ...     23.2         No            No\n",
              "3  2008-12-04   Albury      9.2  ...     26.5         No            No\n",
              "4  2008-12-05   Albury     17.5  ...     29.7         No            No\n",
              "\n",
              "[5 rows x 23 columns]"
            ]
          },
          "metadata": {
            "tags": []
          },
          "execution_count": 11
        }
      ]
    },
    {
      "cell_type": "code",
      "metadata": {
        "colab": {
          "base_uri": "https://localhost:8080/",
          "height": 309
        },
        "id": "uY_zSjLCAKc1",
        "outputId": "5a6212eb-1b88-463f-cd48-0e2e73f6aab8"
      },
      "source": [
        "df.tail(5)"
      ],
      "execution_count": null,
      "outputs": [
        {
          "output_type": "execute_result",
          "data": {
            "text/html": [
              "<div>\n",
              "<style scoped>\n",
              "    .dataframe tbody tr th:only-of-type {\n",
              "        vertical-align: middle;\n",
              "    }\n",
              "\n",
              "    .dataframe tbody tr th {\n",
              "        vertical-align: top;\n",
              "    }\n",
              "\n",
              "    .dataframe thead th {\n",
              "        text-align: right;\n",
              "    }\n",
              "</style>\n",
              "<table border=\"1\" class=\"dataframe\">\n",
              "  <thead>\n",
              "    <tr style=\"text-align: right;\">\n",
              "      <th></th>\n",
              "      <th>Date</th>\n",
              "      <th>Location</th>\n",
              "      <th>MinTemp</th>\n",
              "      <th>MaxTemp</th>\n",
              "      <th>Rainfall</th>\n",
              "      <th>Evaporation</th>\n",
              "      <th>Sunshine</th>\n",
              "      <th>WindGustDir</th>\n",
              "      <th>WindGustSpeed</th>\n",
              "      <th>WindDir9am</th>\n",
              "      <th>WindDir3pm</th>\n",
              "      <th>WindSpeed9am</th>\n",
              "      <th>WindSpeed3pm</th>\n",
              "      <th>Humidity9am</th>\n",
              "      <th>Humidity3pm</th>\n",
              "      <th>Pressure9am</th>\n",
              "      <th>Pressure3pm</th>\n",
              "      <th>Cloud9am</th>\n",
              "      <th>Cloud3pm</th>\n",
              "      <th>Temp9am</th>\n",
              "      <th>Temp3pm</th>\n",
              "      <th>RainToday</th>\n",
              "      <th>RainTomorrow</th>\n",
              "    </tr>\n",
              "  </thead>\n",
              "  <tbody>\n",
              "    <tr>\n",
              "      <th>145455</th>\n",
              "      <td>2017-06-21</td>\n",
              "      <td>Uluru</td>\n",
              "      <td>2.8</td>\n",
              "      <td>23.4</td>\n",
              "      <td>0.0</td>\n",
              "      <td>NaN</td>\n",
              "      <td>NaN</td>\n",
              "      <td>E</td>\n",
              "      <td>31.0</td>\n",
              "      <td>SE</td>\n",
              "      <td>ENE</td>\n",
              "      <td>13.0</td>\n",
              "      <td>11.0</td>\n",
              "      <td>51.0</td>\n",
              "      <td>24.0</td>\n",
              "      <td>1024.6</td>\n",
              "      <td>1020.3</td>\n",
              "      <td>NaN</td>\n",
              "      <td>NaN</td>\n",
              "      <td>10.1</td>\n",
              "      <td>22.4</td>\n",
              "      <td>No</td>\n",
              "      <td>No</td>\n",
              "    </tr>\n",
              "    <tr>\n",
              "      <th>145456</th>\n",
              "      <td>2017-06-22</td>\n",
              "      <td>Uluru</td>\n",
              "      <td>3.6</td>\n",
              "      <td>25.3</td>\n",
              "      <td>0.0</td>\n",
              "      <td>NaN</td>\n",
              "      <td>NaN</td>\n",
              "      <td>NNW</td>\n",
              "      <td>22.0</td>\n",
              "      <td>SE</td>\n",
              "      <td>N</td>\n",
              "      <td>13.0</td>\n",
              "      <td>9.0</td>\n",
              "      <td>56.0</td>\n",
              "      <td>21.0</td>\n",
              "      <td>1023.5</td>\n",
              "      <td>1019.1</td>\n",
              "      <td>NaN</td>\n",
              "      <td>NaN</td>\n",
              "      <td>10.9</td>\n",
              "      <td>24.5</td>\n",
              "      <td>No</td>\n",
              "      <td>No</td>\n",
              "    </tr>\n",
              "    <tr>\n",
              "      <th>145457</th>\n",
              "      <td>2017-06-23</td>\n",
              "      <td>Uluru</td>\n",
              "      <td>5.4</td>\n",
              "      <td>26.9</td>\n",
              "      <td>0.0</td>\n",
              "      <td>NaN</td>\n",
              "      <td>NaN</td>\n",
              "      <td>N</td>\n",
              "      <td>37.0</td>\n",
              "      <td>SE</td>\n",
              "      <td>WNW</td>\n",
              "      <td>9.0</td>\n",
              "      <td>9.0</td>\n",
              "      <td>53.0</td>\n",
              "      <td>24.0</td>\n",
              "      <td>1021.0</td>\n",
              "      <td>1016.8</td>\n",
              "      <td>NaN</td>\n",
              "      <td>NaN</td>\n",
              "      <td>12.5</td>\n",
              "      <td>26.1</td>\n",
              "      <td>No</td>\n",
              "      <td>No</td>\n",
              "    </tr>\n",
              "    <tr>\n",
              "      <th>145458</th>\n",
              "      <td>2017-06-24</td>\n",
              "      <td>Uluru</td>\n",
              "      <td>7.8</td>\n",
              "      <td>27.0</td>\n",
              "      <td>0.0</td>\n",
              "      <td>NaN</td>\n",
              "      <td>NaN</td>\n",
              "      <td>SE</td>\n",
              "      <td>28.0</td>\n",
              "      <td>SSE</td>\n",
              "      <td>N</td>\n",
              "      <td>13.0</td>\n",
              "      <td>7.0</td>\n",
              "      <td>51.0</td>\n",
              "      <td>24.0</td>\n",
              "      <td>1019.4</td>\n",
              "      <td>1016.5</td>\n",
              "      <td>3.0</td>\n",
              "      <td>2.0</td>\n",
              "      <td>15.1</td>\n",
              "      <td>26.0</td>\n",
              "      <td>No</td>\n",
              "      <td>No</td>\n",
              "    </tr>\n",
              "    <tr>\n",
              "      <th>145459</th>\n",
              "      <td>2017-06-25</td>\n",
              "      <td>Uluru</td>\n",
              "      <td>14.9</td>\n",
              "      <td>NaN</td>\n",
              "      <td>0.0</td>\n",
              "      <td>NaN</td>\n",
              "      <td>NaN</td>\n",
              "      <td>NaN</td>\n",
              "      <td>NaN</td>\n",
              "      <td>ESE</td>\n",
              "      <td>ESE</td>\n",
              "      <td>17.0</td>\n",
              "      <td>17.0</td>\n",
              "      <td>62.0</td>\n",
              "      <td>36.0</td>\n",
              "      <td>1020.2</td>\n",
              "      <td>1017.9</td>\n",
              "      <td>8.0</td>\n",
              "      <td>8.0</td>\n",
              "      <td>15.0</td>\n",
              "      <td>20.9</td>\n",
              "      <td>No</td>\n",
              "      <td>NaN</td>\n",
              "    </tr>\n",
              "  </tbody>\n",
              "</table>\n",
              "</div>"
            ],
            "text/plain": [
              "              Date Location  MinTemp  ...  Temp3pm  RainToday  RainTomorrow\n",
              "145455  2017-06-21    Uluru      2.8  ...     22.4         No            No\n",
              "145456  2017-06-22    Uluru      3.6  ...     24.5         No            No\n",
              "145457  2017-06-23    Uluru      5.4  ...     26.1         No            No\n",
              "145458  2017-06-24    Uluru      7.8  ...     26.0         No            No\n",
              "145459  2017-06-25    Uluru     14.9  ...     20.9         No           NaN\n",
              "\n",
              "[5 rows x 23 columns]"
            ]
          },
          "metadata": {
            "tags": []
          },
          "execution_count": 12
        }
      ]
    },
    {
      "cell_type": "code",
      "metadata": {
        "colab": {
          "base_uri": "https://localhost:8080/",
          "height": 309
        },
        "id": "GT7UeeVOANkF",
        "outputId": "bc051a9c-6650-46d9-eb4f-d991938bdb8a"
      },
      "source": [
        "df.sample(5)"
      ],
      "execution_count": null,
      "outputs": [
        {
          "output_type": "execute_result",
          "data": {
            "text/html": [
              "<div>\n",
              "<style scoped>\n",
              "    .dataframe tbody tr th:only-of-type {\n",
              "        vertical-align: middle;\n",
              "    }\n",
              "\n",
              "    .dataframe tbody tr th {\n",
              "        vertical-align: top;\n",
              "    }\n",
              "\n",
              "    .dataframe thead th {\n",
              "        text-align: right;\n",
              "    }\n",
              "</style>\n",
              "<table border=\"1\" class=\"dataframe\">\n",
              "  <thead>\n",
              "    <tr style=\"text-align: right;\">\n",
              "      <th></th>\n",
              "      <th>Date</th>\n",
              "      <th>Location</th>\n",
              "      <th>MinTemp</th>\n",
              "      <th>MaxTemp</th>\n",
              "      <th>Rainfall</th>\n",
              "      <th>Evaporation</th>\n",
              "      <th>Sunshine</th>\n",
              "      <th>WindGustDir</th>\n",
              "      <th>WindGustSpeed</th>\n",
              "      <th>WindDir9am</th>\n",
              "      <th>WindDir3pm</th>\n",
              "      <th>WindSpeed9am</th>\n",
              "      <th>WindSpeed3pm</th>\n",
              "      <th>Humidity9am</th>\n",
              "      <th>Humidity3pm</th>\n",
              "      <th>Pressure9am</th>\n",
              "      <th>Pressure3pm</th>\n",
              "      <th>Cloud9am</th>\n",
              "      <th>Cloud3pm</th>\n",
              "      <th>Temp9am</th>\n",
              "      <th>Temp3pm</th>\n",
              "      <th>RainToday</th>\n",
              "      <th>RainTomorrow</th>\n",
              "    </tr>\n",
              "  </thead>\n",
              "  <tbody>\n",
              "    <tr>\n",
              "      <th>83726</th>\n",
              "      <td>2016-09-18</td>\n",
              "      <td>Dartmoor</td>\n",
              "      <td>6.9</td>\n",
              "      <td>12.8</td>\n",
              "      <td>3.2</td>\n",
              "      <td>NaN</td>\n",
              "      <td>NaN</td>\n",
              "      <td>S</td>\n",
              "      <td>39.0</td>\n",
              "      <td>SW</td>\n",
              "      <td>SSW</td>\n",
              "      <td>20.0</td>\n",
              "      <td>20.0</td>\n",
              "      <td>74.0</td>\n",
              "      <td>66.0</td>\n",
              "      <td>1014.5</td>\n",
              "      <td>1013.3</td>\n",
              "      <td>NaN</td>\n",
              "      <td>NaN</td>\n",
              "      <td>9.3</td>\n",
              "      <td>11.5</td>\n",
              "      <td>Yes</td>\n",
              "      <td>No</td>\n",
              "    </tr>\n",
              "    <tr>\n",
              "      <th>132555</th>\n",
              "      <td>2016-03-07</td>\n",
              "      <td>Hobart</td>\n",
              "      <td>15.9</td>\n",
              "      <td>22.4</td>\n",
              "      <td>2.6</td>\n",
              "      <td>4.2</td>\n",
              "      <td>3.7</td>\n",
              "      <td>SE</td>\n",
              "      <td>41.0</td>\n",
              "      <td>SSE</td>\n",
              "      <td>SSE</td>\n",
              "      <td>7.0</td>\n",
              "      <td>26.0</td>\n",
              "      <td>85.0</td>\n",
              "      <td>63.0</td>\n",
              "      <td>1021.2</td>\n",
              "      <td>1022.6</td>\n",
              "      <td>7.0</td>\n",
              "      <td>7.0</td>\n",
              "      <td>17.1</td>\n",
              "      <td>19.0</td>\n",
              "      <td>Yes</td>\n",
              "      <td>No</td>\n",
              "    </tr>\n",
              "    <tr>\n",
              "      <th>72578</th>\n",
              "      <td>2015-03-25</td>\n",
              "      <td>Mildura</td>\n",
              "      <td>6.4</td>\n",
              "      <td>21.7</td>\n",
              "      <td>0.0</td>\n",
              "      <td>NaN</td>\n",
              "      <td>8.9</td>\n",
              "      <td>WNW</td>\n",
              "      <td>50.0</td>\n",
              "      <td>S</td>\n",
              "      <td>W</td>\n",
              "      <td>7.0</td>\n",
              "      <td>20.0</td>\n",
              "      <td>58.0</td>\n",
              "      <td>30.0</td>\n",
              "      <td>1020.6</td>\n",
              "      <td>1017.6</td>\n",
              "      <td>NaN</td>\n",
              "      <td>NaN</td>\n",
              "      <td>9.7</td>\n",
              "      <td>19.9</td>\n",
              "      <td>No</td>\n",
              "      <td>No</td>\n",
              "    </tr>\n",
              "    <tr>\n",
              "      <th>127324</th>\n",
              "      <td>2010-05-08</td>\n",
              "      <td>Walpole</td>\n",
              "      <td>9.7</td>\n",
              "      <td>20.6</td>\n",
              "      <td>0.2</td>\n",
              "      <td>NaN</td>\n",
              "      <td>NaN</td>\n",
              "      <td>SSW</td>\n",
              "      <td>26.0</td>\n",
              "      <td>NW</td>\n",
              "      <td>SW</td>\n",
              "      <td>7.0</td>\n",
              "      <td>11.0</td>\n",
              "      <td>99.0</td>\n",
              "      <td>67.0</td>\n",
              "      <td>1019.6</td>\n",
              "      <td>1017.5</td>\n",
              "      <td>NaN</td>\n",
              "      <td>NaN</td>\n",
              "      <td>14.8</td>\n",
              "      <td>20.2</td>\n",
              "      <td>No</td>\n",
              "      <td>Yes</td>\n",
              "    </tr>\n",
              "    <tr>\n",
              "      <th>138407</th>\n",
              "      <td>2015-07-23</td>\n",
              "      <td>AliceSprings</td>\n",
              "      <td>12.2</td>\n",
              "      <td>28.6</td>\n",
              "      <td>0.0</td>\n",
              "      <td>6.2</td>\n",
              "      <td>3.7</td>\n",
              "      <td>N</td>\n",
              "      <td>52.0</td>\n",
              "      <td>N</td>\n",
              "      <td>NW</td>\n",
              "      <td>15.0</td>\n",
              "      <td>26.0</td>\n",
              "      <td>8.0</td>\n",
              "      <td>8.0</td>\n",
              "      <td>1020.4</td>\n",
              "      <td>1016.7</td>\n",
              "      <td>7.0</td>\n",
              "      <td>7.0</td>\n",
              "      <td>19.6</td>\n",
              "      <td>26.5</td>\n",
              "      <td>No</td>\n",
              "      <td>No</td>\n",
              "    </tr>\n",
              "  </tbody>\n",
              "</table>\n",
              "</div>"
            ],
            "text/plain": [
              "              Date      Location  MinTemp  ...  Temp3pm  RainToday  RainTomorrow\n",
              "83726   2016-09-18      Dartmoor      6.9  ...     11.5        Yes            No\n",
              "132555  2016-03-07        Hobart     15.9  ...     19.0        Yes            No\n",
              "72578   2015-03-25       Mildura      6.4  ...     19.9         No            No\n",
              "127324  2010-05-08       Walpole      9.7  ...     20.2         No           Yes\n",
              "138407  2015-07-23  AliceSprings     12.2  ...     26.5         No            No\n",
              "\n",
              "[5 rows x 23 columns]"
            ]
          },
          "metadata": {
            "tags": []
          },
          "execution_count": 13
        }
      ]
    },
    {
      "cell_type": "markdown",
      "metadata": {
        "id": "OSIP2F-lxbnL"
      },
      "source": [
        "## Crear gráficos"
      ]
    },
    {
      "cell_type": "markdown",
      "metadata": {
        "id": "zEliglAu1kDm"
      },
      "source": [
        "### Pie chart"
      ]
    },
    {
      "cell_type": "markdown",
      "metadata": {
        "id": "u3F3T9R5zWtX"
      },
      "source": [
        "Crear un *pie chart* o gráfico de torta es muy sencillo con Python. Para esto debemos ejecutar los siguientes pasos\n",
        "\n",
        "1. Importar la librería matplotlib\n",
        "2. Guardar o cargar los datos que se quieren representar en una variable \n",
        "3. Dibujar el gráfico a través de la instrucción \"plt.pie()\"\n",
        "4. Agregar elementos que permiten visualizar mejor los datos (opcional)\n"
      ]
    },
    {
      "cell_type": "code",
      "metadata": {
        "id": "zjlftFYBxogT",
        "colab": {
          "base_uri": "https://localhost:8080/",
          "height": 456
        },
        "outputId": "a33e24db-88dd-44fe-a581-349e34b6a077"
      },
      "source": [
        "import matplotlib.pyplot as plt\n",
        "fruits = [15, 20, 50, 30]\n",
        "names = [\"apples\", \"bananas\", \"pineapples\", \"oranges\"]\n",
        "plt.pie(fruits, labels = names, autopct=\"%0.2f %%\")"
      ],
      "execution_count": null,
      "outputs": [
        {
          "output_type": "execute_result",
          "data": {
            "text/plain": [
              "([<matplotlib.patches.Wedge at 0x7f6e4eaa11d0>,\n",
              "  <matplotlib.patches.Wedge at 0x7f6e4eaa1978>,\n",
              "  <matplotlib.patches.Wedge at 0x7f6e4ea31128>,\n",
              "  <matplotlib.patches.Wedge at 0x7f6e4ea31898>],\n",
              " [Text(1.0089324334399594, 0.43824119472377554, 'apples'),\n",
              "  Text(0.22380161216582528, 1.0769924969060731, 'bananas'),\n",
              "  Text(-1.089754545517781, -0.1497832785171113, 'pineapples'),\n",
              "  Text(0.7508083888172116, -0.8039196248890201, 'oranges')],\n",
              " [Text(0.5503267818763414, 0.2390406516675139, '13.04 %'),\n",
              "  Text(0.12207360663590469, 0.587450452857858, '17.39 %'),\n",
              "  Text(-0.594411570282426, -0.0816999701002425, '43.48 %'),\n",
              "  Text(0.4095318484457517, -0.4385016135758291, '26.09 %')])"
            ]
          },
          "metadata": {
            "tags": []
          },
          "execution_count": 12
        },
        {
          "output_type": "display_data",
          "data": {
            "image/png": "[encoded data removed]",
            "text/plain": [
              "<Figure size 432x288 with 1 Axes>"
            ]
          },
          "metadata": {
            "tags": []
          }
        }
      ]
    },
    {
      "cell_type": "markdown",
      "metadata": {
        "id": "Pitu-x552QrF"
      },
      "source": [
        "También es posible cambiar el color del gráfico o extraer una porción. Hay muchas más opciones. \n",
        "\n",
        "Te invitamos a revisar este [artículo](https://numython.github.io/posts/graficas-de-pastel-con-matplotlib/) donde podrás encontrar más opciones para crear tus *pie charts*"
      ]
    },
    {
      "cell_type": "markdown",
      "metadata": {
        "id": "z6njc2jgAbiB"
      },
      "source": [
        "### Creando pie chart"
      ]
    },
    {
      "cell_type": "markdown",
      "metadata": {
        "id": "5s_Uet4QFeAQ"
      },
      "source": [
        "Gráfico de pie agrupando las entradas según dirección del viento a las 9 am:"
      ]
    },
    {
      "cell_type": "code",
      "metadata": {
        "colab": {
          "base_uri": "https://localhost:8080/",
          "height": 592
        },
        "id": "6n4hRq2SAhYn",
        "outputId": "4f18be1e-d635-4648-bae2-bfde869cb516"
      },
      "source": [
        "df.groupby('WindDir9am').size().plot.pie(label='', autopct=\"%0.1f %%\", figsize=(10,10))"
      ],
      "execution_count": null,
      "outputs": [
        {
          "output_type": "execute_result",
          "data": {
            "text/plain": [
              "<matplotlib.axes._subplots.AxesSubplot at 0x7f5155505550>"
            ]
          },
          "metadata": {
            "tags": []
          },
          "execution_count": 53
        },
        {
          "output_type": "display_data",
          "data": {
            "image/png": "[encoded data removed]",
            "text/plain": [
              "<Figure size 720x720 with 1 Axes>"
            ]
          },
          "metadata": {
            "tags": []
          }
        }
      ]
    },
    {
      "cell_type": "markdown",
      "metadata": {
        "id": "vn8rPwLM78sB"
      },
      "source": [
        "### Gráfico de dispersión (de puntos)\n"
      ]
    },
    {
      "cell_type": "code",
      "metadata": {
        "id": "-xWT5Bvq8Mk9",
        "colab": {
          "base_uri": "https://localhost:8080/",
          "height": 265
        },
        "outputId": "86e19109-3493-45b6-b963-bf2e39ca09a4"
      },
      "source": [
        "x = np.arange(1, 11)\n",
        "y = np.random.randint(10, size=10)\n",
        "\n",
        "plt.scatter(x, y)\n",
        "plt.show()"
      ],
      "execution_count": null,
      "outputs": [
        {
          "output_type": "display_data",
          "data": {
            "image/png": "[encoded data removed]",
            "text/plain": [
              "<Figure size 432x288 with 1 Axes>"
            ]
          },
          "metadata": {
            "tags": [],
            "needs_background": "light"
          }
        }
      ]
    },
    {
      "cell_type": "markdown",
      "metadata": {
        "id": "MvBck4e4CQ9M"
      },
      "source": [
        "### Creando gráfico de dispersión (scatter plot)"
      ]
    },
    {
      "cell_type": "markdown",
      "metadata": {
        "id": "OafuQIlAFuh4"
      },
      "source": [
        "Gráfico de puntos señalando la temperatura mínima en °C según la fecha de observación:"
      ]
    },
    {
      "cell_type": "code",
      "metadata": {
        "colab": {
          "base_uri": "https://localhost:8080/",
          "height": 518
        },
        "id": "gVm519nTCaSr",
        "outputId": "54ce83eb-154a-4637-be91-81e6b75bb854"
      },
      "source": [
        "x = df['Date']\n",
        "y = df['MinTemp']\n",
        "plt.figure(figsize=(30,10))\n",
        "plt.scatter(x, y)\n",
        "plt.title(\"Temperatura minima [°C] vs fecha\")\n",
        "plt.show()"
      ],
      "execution_count": null,
      "outputs": [
        {
          "output_type": "display_data",
          "data": {
            "image/png": "[encoded data removed]",
            "text/plain": [
              "<Figure size 2160x720 with 1 Axes>"
            ]
          },
          "metadata": {
            "tags": [],
            "needs_background": "light"
          }
        }
      ]
    },
    {
      "cell_type": "markdown",
      "metadata": {
        "id": "QzcBEdBw7QdG"
      },
      "source": [
        "### Histograma\n"
      ]
    },
    {
      "cell_type": "code",
      "metadata": {
        "id": "PlRowh3B7XGD",
        "colab": {
          "base_uri": "https://localhost:8080/",
          "height": 354
        },
        "outputId": "716ba7db-53ac-4aa0-af6b-0e95e76bd511"
      },
      "source": [
        "alturas = np.random.uniform(170, 180, 1000)\n",
        "plt.hist(alturas, bins=10, edgecolor='black')"
      ],
      "execution_count": null,
      "outputs": [
        {
          "output_type": "execute_result",
          "data": {
            "text/plain": [
              "(array([102.,  88., 105.,  96.,  95., 115., 101., 111.,  96.,  91.]),\n",
              " array([170.01946573, 171.01638636, 172.013307  , 173.01022763,\n",
              "        174.00714827, 175.00406891, 176.00098954, 176.99791018,\n",
              "        177.99483081, 178.99175145, 179.98867208]),\n",
              " <a list of 10 Patch objects>)"
            ]
          },
          "metadata": {
            "tags": []
          },
          "execution_count": 17
        },
        {
          "output_type": "display_data",
          "data": {
            "image/png": "[encoded data removed]",
            "text/plain": [
              "<Figure size 432x288 with 1 Axes>"
            ]
          },
          "metadata": {
            "tags": [],
            "needs_background": "light"
          }
        }
      ]
    },
    {
      "cell_type": "markdown",
      "metadata": {
        "id": "TBPa21rXF8JW"
      },
      "source": [
        "### Creando histograma"
      ]
    },
    {
      "cell_type": "markdown",
      "metadata": {
        "id": "cVxFGqeEGA9l"
      },
      "source": [
        "Histograma señalando la velocidad del viento medida en km/h:"
      ]
    },
    {
      "cell_type": "code",
      "metadata": {
        "colab": {
          "base_uri": "https://localhost:8080/",
          "height": 530
        },
        "id": "bVZN3gXiGBrx",
        "outputId": "fa13f925-22a9-4ea7-806a-ecd6aeef6491"
      },
      "source": [
        "fig, ax = plt.subplots(figsize=(20,8))\n",
        "ax.tick_params(axis='x', rotation=45)\n",
        "counts, bins, patches = ax.hist(df[\"WindSpeed9am\"], edgecolor='gray', bins=40)\n",
        "ax.set_xticks(bins)\n",
        "plt.title(\"Histograma de Velocidad del viento [km/h] a las 9 am\")\n",
        "plt.xlabel(\"Velocidad del viento [km/h] a las 9 am\")\n",
        "plt.ylabel(\"Cantidad\")\n",
        "plt.show()"
      ],
      "execution_count": null,
      "outputs": [
        {
          "output_type": "display_data",
          "data": {
            "image/png": "[encoded data removed]",
            "text/plain": [
              "<Figure size 1440x576 with 1 Axes>"
            ]
          },
          "metadata": {
            "tags": [],
            "needs_background": "light"
          }
        }
      ]
    },
    {
      "cell_type": "markdown",
      "metadata": {
        "id": "mf2DHJvHygCn"
      },
      "source": [
        "## Referencias\n",
        "\n",
        "\n",
        "1.   [Matplotlib: Gráficas usando pylab¶](https://claudiovz.github.io/scipy-lecture-notes-ES/intro/matplotlib/matplotlib.html#otros-tipos-de-graficos-ejemplos-y-ejercicios)\n",
        "\n",
        "2. [Introducción a los gráficos de datos en Python con Matplotlib\n",
        "](https://www.hektorprofe.net/curso/visualizacion-graficos-matplotlib-python/tipos-de-graficos)\n",
        "\n"
      ]
    }
  ]
}