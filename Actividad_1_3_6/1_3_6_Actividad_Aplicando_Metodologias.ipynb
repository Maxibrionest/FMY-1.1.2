{
  "nbformat": 4,
  "nbformat_minor": 0,
  "metadata": {
    "colab": {
      "name": "1_3_6_Actividad_Aplicando_Metodologias.ipynb",
      "provenance": [],
      "collapsed_sections": [],
      "authorship_tag": "ABX9TyMw9h6+5iPVn1Gqc2Ougjjn",
      "include_colab_link": true
    },
    "kernelspec": {
      "name": "python3",
      "display_name": "Python 3"
    },
    "language_info": {
      "name": "python"
    }
  },
  "cells": [
    {
      "cell_type": "markdown",
      "metadata": {
        "id": "view-in-github",
        "colab_type": "text"
      },
      "source": [
        "<a href=\"https://colab.research.google.com/github/Maxibrionest/FMY-Fundamentos-Machine-Learning/blob/main/Actividad_1_3_6/1_3_6_Actividad_Aplicando_Metodologias.ipynb\" target=\"_parent\"><img src=\"https://colab.research.google.com/assets/colab-badge.svg\" alt=\"Open In Colab\"/></a>"
      ]
    },
    {
      "cell_type": "markdown",
      "metadata": {
        "id": "oKKWVKhKZ7cD"
      },
      "source": [
        "# Importar librerias"
      ]
    },
    {
      "cell_type": "code",
      "metadata": {
        "id": "qwLkn8AKaAMV"
      },
      "source": [
        "import pandas as pd\n",
        "import numpy as np \n",
        "import matplotlib.pyplot as plt\n"
      ],
      "execution_count": 1,
      "outputs": []
    },
    {
      "cell_type": "markdown",
      "metadata": {
        "id": "T_DetJfjaa4Q"
      },
      "source": [
        "#Importar data"
      ]
    },
    {
      "cell_type": "code",
      "metadata": {
        "id": "78XcU3Oyac1e"
      },
      "source": [
        "url = 'https://raw.githubusercontent.com/Maxibrionest/FMY-Fundamentos-Machine-Learning/main/Actividad_1_3_6/adults-with-diabetes-per-100-lghc-indicator-23.csv'\n",
        "df = pd.read_csv(url, sep=\",\")"
      ],
      "execution_count": 2,
      "outputs": []
    },
    {
      "cell_type": "markdown",
      "metadata": {
        "id": "NA14RIBWa9U5"
      },
      "source": [
        "## Información previa\n",
        "Muestra de la prevalencia de diabetes en California, EE.UU."
      ]
    },
    {
      "cell_type": "markdown",
      "metadata": {
        "id": "582Sx7kVbtnk"
      },
      "source": [
        "# Exploración de data"
      ]
    },
    {
      "cell_type": "code",
      "metadata": {
        "colab": {
          "base_uri": "https://localhost:8080/",
          "height": 419
        },
        "id": "G8nxL-lNdNdz",
        "outputId": "ea668078-9dc9-4fdb-cb0d-3b1ffb531bbd"
      },
      "source": [
        "df"
      ],
      "execution_count": 3,
      "outputs": [
        {
          "output_type": "execute_result",
          "data": {
            "text/html": [
              "<div>\n",
              "<style scoped>\n",
              "    .dataframe tbody tr th:only-of-type {\n",
              "        vertical-align: middle;\n",
              "    }\n",
              "\n",
              "    .dataframe tbody tr th {\n",
              "        vertical-align: top;\n",
              "    }\n",
              "\n",
              "    .dataframe thead th {\n",
              "        text-align: right;\n",
              "    }\n",
              "</style>\n",
              "<table border=\"1\" class=\"dataframe\">\n",
              "  <thead>\n",
              "    <tr style=\"text-align: right;\">\n",
              "      <th></th>\n",
              "      <th>Geography</th>\n",
              "      <th>Year</th>\n",
              "      <th>Strata</th>\n",
              "      <th>Strata Name</th>\n",
              "      <th>Percent</th>\n",
              "      <th>Lower 95% CL</th>\n",
              "      <th>Upper 95% CL</th>\n",
              "      <th>Standard Error</th>\n",
              "    </tr>\n",
              "  </thead>\n",
              "  <tbody>\n",
              "    <tr>\n",
              "      <th>0</th>\n",
              "      <td>California</td>\n",
              "      <td>2018</td>\n",
              "      <td>Total population</td>\n",
              "      <td>Total population</td>\n",
              "      <td>10.4</td>\n",
              "      <td>8.9</td>\n",
              "      <td>11.9</td>\n",
              "      <td>0.8</td>\n",
              "    </tr>\n",
              "    <tr>\n",
              "      <th>1</th>\n",
              "      <td>California</td>\n",
              "      <td>2018</td>\n",
              "      <td>Race-Ethnicity</td>\n",
              "      <td>White</td>\n",
              "      <td>8.4</td>\n",
              "      <td>6.9</td>\n",
              "      <td>9.9</td>\n",
              "      <td>0.8</td>\n",
              "    </tr>\n",
              "    <tr>\n",
              "      <th>2</th>\n",
              "      <td>California</td>\n",
              "      <td>2018</td>\n",
              "      <td>Race-Ethnicity</td>\n",
              "      <td>African-American</td>\n",
              "      <td>12.3</td>\n",
              "      <td>6.0</td>\n",
              "      <td>18.6</td>\n",
              "      <td>3.2</td>\n",
              "    </tr>\n",
              "    <tr>\n",
              "      <th>3</th>\n",
              "      <td>California</td>\n",
              "      <td>2018</td>\n",
              "      <td>Race-Ethnicity</td>\n",
              "      <td>Asian</td>\n",
              "      <td>8.5</td>\n",
              "      <td>3.2</td>\n",
              "      <td>13.9</td>\n",
              "      <td>2.7</td>\n",
              "    </tr>\n",
              "    <tr>\n",
              "      <th>4</th>\n",
              "      <td>California</td>\n",
              "      <td>2018</td>\n",
              "      <td>Race-Ethnicity</td>\n",
              "      <td>Hispanic</td>\n",
              "      <td>12.1</td>\n",
              "      <td>9.0</td>\n",
              "      <td>15.1</td>\n",
              "      <td>1.6</td>\n",
              "    </tr>\n",
              "    <tr>\n",
              "      <th>...</th>\n",
              "      <td>...</td>\n",
              "      <td>...</td>\n",
              "      <td>...</td>\n",
              "      <td>...</td>\n",
              "      <td>...</td>\n",
              "      <td>...</td>\n",
              "      <td>...</td>\n",
              "      <td>...</td>\n",
              "    </tr>\n",
              "    <tr>\n",
              "      <th>142</th>\n",
              "      <td>California</td>\n",
              "      <td>2012</td>\n",
              "      <td>Income</td>\n",
              "      <td>$25,000 to $34,999</td>\n",
              "      <td>11.9</td>\n",
              "      <td>9.8</td>\n",
              "      <td>14.1</td>\n",
              "      <td>1.1</td>\n",
              "    </tr>\n",
              "    <tr>\n",
              "      <th>143</th>\n",
              "      <td>California</td>\n",
              "      <td>2012</td>\n",
              "      <td>Income</td>\n",
              "      <td>$35,000 to $49,999</td>\n",
              "      <td>9.5</td>\n",
              "      <td>7.9</td>\n",
              "      <td>11.0</td>\n",
              "      <td>0.8</td>\n",
              "    </tr>\n",
              "    <tr>\n",
              "      <th>144</th>\n",
              "      <td>California</td>\n",
              "      <td>2012</td>\n",
              "      <td>Income</td>\n",
              "      <td>$50,000 and above</td>\n",
              "      <td>6.3</td>\n",
              "      <td>5.6</td>\n",
              "      <td>7.0</td>\n",
              "      <td>0.4</td>\n",
              "    </tr>\n",
              "    <tr>\n",
              "      <th>145</th>\n",
              "      <td>California</td>\n",
              "      <td>2012</td>\n",
              "      <td>Sex</td>\n",
              "      <td>Male</td>\n",
              "      <td>9.7</td>\n",
              "      <td>8.9</td>\n",
              "      <td>10.5</td>\n",
              "      <td>0.4</td>\n",
              "    </tr>\n",
              "    <tr>\n",
              "      <th>146</th>\n",
              "      <td>California</td>\n",
              "      <td>2012</td>\n",
              "      <td>Sex</td>\n",
              "      <td>Female</td>\n",
              "      <td>8.7</td>\n",
              "      <td>8.0</td>\n",
              "      <td>9.4</td>\n",
              "      <td>0.4</td>\n",
              "    </tr>\n",
              "  </tbody>\n",
              "</table>\n",
              "<p>147 rows × 8 columns</p>\n",
              "</div>"
            ],
            "text/plain": [
              "      Geography  Year  ... Upper 95% CL Standard Error\n",
              "0    California  2018  ...         11.9            0.8\n",
              "1    California  2018  ...          9.9            0.8\n",
              "2    California  2018  ...         18.6            3.2\n",
              "3    California  2018  ...         13.9            2.7\n",
              "4    California  2018  ...         15.1            1.6\n",
              "..          ...   ...  ...          ...            ...\n",
              "142  California  2012  ...         14.1            1.1\n",
              "143  California  2012  ...         11.0            0.8\n",
              "144  California  2012  ...          7.0            0.4\n",
              "145  California  2012  ...         10.5            0.4\n",
              "146  California  2012  ...          9.4            0.4\n",
              "\n",
              "[147 rows x 8 columns]"
            ]
          },
          "metadata": {
            "tags": []
          },
          "execution_count": 3
        }
      ]
    },
    {
      "cell_type": "code",
      "metadata": {
        "colab": {
          "base_uri": "https://localhost:8080/",
          "height": 359
        },
        "id": "gsSmiROzalOO",
        "outputId": "863d991e-5545-4f6b-b93e-169c77e19330"
      },
      "source": [
        "df.head(10)"
      ],
      "execution_count": 4,
      "outputs": [
        {
          "output_type": "execute_result",
          "data": {
            "text/html": [
              "<div>\n",
              "<style scoped>\n",
              "    .dataframe tbody tr th:only-of-type {\n",
              "        vertical-align: middle;\n",
              "    }\n",
              "\n",
              "    .dataframe tbody tr th {\n",
              "        vertical-align: top;\n",
              "    }\n",
              "\n",
              "    .dataframe thead th {\n",
              "        text-align: right;\n",
              "    }\n",
              "</style>\n",
              "<table border=\"1\" class=\"dataframe\">\n",
              "  <thead>\n",
              "    <tr style=\"text-align: right;\">\n",
              "      <th></th>\n",
              "      <th>Geography</th>\n",
              "      <th>Year</th>\n",
              "      <th>Strata</th>\n",
              "      <th>Strata Name</th>\n",
              "      <th>Percent</th>\n",
              "      <th>Lower 95% CL</th>\n",
              "      <th>Upper 95% CL</th>\n",
              "      <th>Standard Error</th>\n",
              "    </tr>\n",
              "  </thead>\n",
              "  <tbody>\n",
              "    <tr>\n",
              "      <th>0</th>\n",
              "      <td>California</td>\n",
              "      <td>2018</td>\n",
              "      <td>Total population</td>\n",
              "      <td>Total population</td>\n",
              "      <td>10.4</td>\n",
              "      <td>8.9</td>\n",
              "      <td>11.9</td>\n",
              "      <td>0.8</td>\n",
              "    </tr>\n",
              "    <tr>\n",
              "      <th>1</th>\n",
              "      <td>California</td>\n",
              "      <td>2018</td>\n",
              "      <td>Race-Ethnicity</td>\n",
              "      <td>White</td>\n",
              "      <td>8.4</td>\n",
              "      <td>6.9</td>\n",
              "      <td>9.9</td>\n",
              "      <td>0.8</td>\n",
              "    </tr>\n",
              "    <tr>\n",
              "      <th>2</th>\n",
              "      <td>California</td>\n",
              "      <td>2018</td>\n",
              "      <td>Race-Ethnicity</td>\n",
              "      <td>African-American</td>\n",
              "      <td>12.3</td>\n",
              "      <td>6.0</td>\n",
              "      <td>18.6</td>\n",
              "      <td>3.2</td>\n",
              "    </tr>\n",
              "    <tr>\n",
              "      <th>3</th>\n",
              "      <td>California</td>\n",
              "      <td>2018</td>\n",
              "      <td>Race-Ethnicity</td>\n",
              "      <td>Asian</td>\n",
              "      <td>8.5</td>\n",
              "      <td>3.2</td>\n",
              "      <td>13.9</td>\n",
              "      <td>2.7</td>\n",
              "    </tr>\n",
              "    <tr>\n",
              "      <th>4</th>\n",
              "      <td>California</td>\n",
              "      <td>2018</td>\n",
              "      <td>Race-Ethnicity</td>\n",
              "      <td>Hispanic</td>\n",
              "      <td>12.1</td>\n",
              "      <td>9.0</td>\n",
              "      <td>15.1</td>\n",
              "      <td>1.6</td>\n",
              "    </tr>\n",
              "    <tr>\n",
              "      <th>5</th>\n",
              "      <td>California</td>\n",
              "      <td>2018</td>\n",
              "      <td>Age</td>\n",
              "      <td>18 to 34 years</td>\n",
              "      <td>4.0</td>\n",
              "      <td>0.8</td>\n",
              "      <td>7.2</td>\n",
              "      <td>1.6</td>\n",
              "    </tr>\n",
              "    <tr>\n",
              "      <th>6</th>\n",
              "      <td>California</td>\n",
              "      <td>2018</td>\n",
              "      <td>Age</td>\n",
              "      <td>35 to 44 years</td>\n",
              "      <td>5.1</td>\n",
              "      <td>1.9</td>\n",
              "      <td>8.3</td>\n",
              "      <td>1.6</td>\n",
              "    </tr>\n",
              "    <tr>\n",
              "      <th>7</th>\n",
              "      <td>California</td>\n",
              "      <td>2018</td>\n",
              "      <td>Age</td>\n",
              "      <td>45 to 54 years</td>\n",
              "      <td>11.6</td>\n",
              "      <td>8.2</td>\n",
              "      <td>15.0</td>\n",
              "      <td>1.7</td>\n",
              "    </tr>\n",
              "    <tr>\n",
              "      <th>8</th>\n",
              "      <td>California</td>\n",
              "      <td>2018</td>\n",
              "      <td>Age</td>\n",
              "      <td>55 to 64 years</td>\n",
              "      <td>17.7</td>\n",
              "      <td>14.2</td>\n",
              "      <td>21.2</td>\n",
              "      <td>1.8</td>\n",
              "    </tr>\n",
              "    <tr>\n",
              "      <th>9</th>\n",
              "      <td>California</td>\n",
              "      <td>2018</td>\n",
              "      <td>Age</td>\n",
              "      <td>65 years and above</td>\n",
              "      <td>22.4</td>\n",
              "      <td>19.5</td>\n",
              "      <td>25.3</td>\n",
              "      <td>1.5</td>\n",
              "    </tr>\n",
              "  </tbody>\n",
              "</table>\n",
              "</div>"
            ],
            "text/plain": [
              "    Geography  Year  ... Upper 95% CL Standard Error\n",
              "0  California  2018  ...         11.9            0.8\n",
              "1  California  2018  ...          9.9            0.8\n",
              "2  California  2018  ...         18.6            3.2\n",
              "3  California  2018  ...         13.9            2.7\n",
              "4  California  2018  ...         15.1            1.6\n",
              "5  California  2018  ...          7.2            1.6\n",
              "6  California  2018  ...          8.3            1.6\n",
              "7  California  2018  ...         15.0            1.7\n",
              "8  California  2018  ...         21.2            1.8\n",
              "9  California  2018  ...         25.3            1.5\n",
              "\n",
              "[10 rows x 8 columns]"
            ]
          },
          "metadata": {
            "tags": []
          },
          "execution_count": 4
        }
      ]
    },
    {
      "cell_type": "code",
      "metadata": {
        "colab": {
          "base_uri": "https://localhost:8080/",
          "height": 359
        },
        "id": "N_jGTTYzarmS",
        "outputId": "b600f2b7-7831-4c48-b11f-f31b4b605dca"
      },
      "source": [
        "df.tail(10)"
      ],
      "execution_count": 5,
      "outputs": [
        {
          "output_type": "execute_result",
          "data": {
            "text/html": [
              "<div>\n",
              "<style scoped>\n",
              "    .dataframe tbody tr th:only-of-type {\n",
              "        vertical-align: middle;\n",
              "    }\n",
              "\n",
              "    .dataframe tbody tr th {\n",
              "        vertical-align: top;\n",
              "    }\n",
              "\n",
              "    .dataframe thead th {\n",
              "        text-align: right;\n",
              "    }\n",
              "</style>\n",
              "<table border=\"1\" class=\"dataframe\">\n",
              "  <thead>\n",
              "    <tr style=\"text-align: right;\">\n",
              "      <th></th>\n",
              "      <th>Geography</th>\n",
              "      <th>Year</th>\n",
              "      <th>Strata</th>\n",
              "      <th>Strata Name</th>\n",
              "      <th>Percent</th>\n",
              "      <th>Lower 95% CL</th>\n",
              "      <th>Upper 95% CL</th>\n",
              "      <th>Standard Error</th>\n",
              "    </tr>\n",
              "  </thead>\n",
              "  <tbody>\n",
              "    <tr>\n",
              "      <th>137</th>\n",
              "      <td>California</td>\n",
              "      <td>2012</td>\n",
              "      <td>Education</td>\n",
              "      <td>High school graduate</td>\n",
              "      <td>9.1</td>\n",
              "      <td>7.9</td>\n",
              "      <td>10.3</td>\n",
              "      <td>0.6</td>\n",
              "    </tr>\n",
              "    <tr>\n",
              "      <th>138</th>\n",
              "      <td>California</td>\n",
              "      <td>2012</td>\n",
              "      <td>Education</td>\n",
              "      <td>Some college</td>\n",
              "      <td>9.5</td>\n",
              "      <td>8.5</td>\n",
              "      <td>10.6</td>\n",
              "      <td>0.5</td>\n",
              "    </tr>\n",
              "    <tr>\n",
              "      <th>139</th>\n",
              "      <td>California</td>\n",
              "      <td>2012</td>\n",
              "      <td>Education</td>\n",
              "      <td>College graduate</td>\n",
              "      <td>6.2</td>\n",
              "      <td>5.5</td>\n",
              "      <td>6.9</td>\n",
              "      <td>0.4</td>\n",
              "    </tr>\n",
              "    <tr>\n",
              "      <th>140</th>\n",
              "      <td>California</td>\n",
              "      <td>2012</td>\n",
              "      <td>Income</td>\n",
              "      <td>Less than $15,000</td>\n",
              "      <td>12.9</td>\n",
              "      <td>11.3</td>\n",
              "      <td>14.4</td>\n",
              "      <td>0.8</td>\n",
              "    </tr>\n",
              "    <tr>\n",
              "      <th>141</th>\n",
              "      <td>California</td>\n",
              "      <td>2012</td>\n",
              "      <td>Income</td>\n",
              "      <td>$15,000 to $24,999</td>\n",
              "      <td>12.3</td>\n",
              "      <td>10.5</td>\n",
              "      <td>14.1</td>\n",
              "      <td>0.9</td>\n",
              "    </tr>\n",
              "    <tr>\n",
              "      <th>142</th>\n",
              "      <td>California</td>\n",
              "      <td>2012</td>\n",
              "      <td>Income</td>\n",
              "      <td>$25,000 to $34,999</td>\n",
              "      <td>11.9</td>\n",
              "      <td>9.8</td>\n",
              "      <td>14.1</td>\n",
              "      <td>1.1</td>\n",
              "    </tr>\n",
              "    <tr>\n",
              "      <th>143</th>\n",
              "      <td>California</td>\n",
              "      <td>2012</td>\n",
              "      <td>Income</td>\n",
              "      <td>$35,000 to $49,999</td>\n",
              "      <td>9.5</td>\n",
              "      <td>7.9</td>\n",
              "      <td>11.0</td>\n",
              "      <td>0.8</td>\n",
              "    </tr>\n",
              "    <tr>\n",
              "      <th>144</th>\n",
              "      <td>California</td>\n",
              "      <td>2012</td>\n",
              "      <td>Income</td>\n",
              "      <td>$50,000 and above</td>\n",
              "      <td>6.3</td>\n",
              "      <td>5.6</td>\n",
              "      <td>7.0</td>\n",
              "      <td>0.4</td>\n",
              "    </tr>\n",
              "    <tr>\n",
              "      <th>145</th>\n",
              "      <td>California</td>\n",
              "      <td>2012</td>\n",
              "      <td>Sex</td>\n",
              "      <td>Male</td>\n",
              "      <td>9.7</td>\n",
              "      <td>8.9</td>\n",
              "      <td>10.5</td>\n",
              "      <td>0.4</td>\n",
              "    </tr>\n",
              "    <tr>\n",
              "      <th>146</th>\n",
              "      <td>California</td>\n",
              "      <td>2012</td>\n",
              "      <td>Sex</td>\n",
              "      <td>Female</td>\n",
              "      <td>8.7</td>\n",
              "      <td>8.0</td>\n",
              "      <td>9.4</td>\n",
              "      <td>0.4</td>\n",
              "    </tr>\n",
              "  </tbody>\n",
              "</table>\n",
              "</div>"
            ],
            "text/plain": [
              "      Geography  Year     Strata  ... Lower 95% CL  Upper 95% CL  Standard Error\n",
              "137  California  2012  Education  ...          7.9          10.3             0.6\n",
              "138  California  2012  Education  ...          8.5          10.6             0.5\n",
              "139  California  2012  Education  ...          5.5           6.9             0.4\n",
              "140  California  2012     Income  ...         11.3          14.4             0.8\n",
              "141  California  2012     Income  ...         10.5          14.1             0.9\n",
              "142  California  2012     Income  ...          9.8          14.1             1.1\n",
              "143  California  2012     Income  ...          7.9          11.0             0.8\n",
              "144  California  2012     Income  ...          5.6           7.0             0.4\n",
              "145  California  2012        Sex  ...          8.9          10.5             0.4\n",
              "146  California  2012        Sex  ...          8.0           9.4             0.4\n",
              "\n",
              "[10 rows x 8 columns]"
            ]
          },
          "metadata": {
            "tags": []
          },
          "execution_count": 5
        }
      ]
    },
    {
      "cell_type": "code",
      "metadata": {
        "colab": {
          "base_uri": "https://localhost:8080/",
          "height": 359
        },
        "id": "pFAJeVW_a1P2",
        "outputId": "b2365ca2-36c8-4cff-d57b-1eb3fcf4af55"
      },
      "source": [
        "df.sample(10)"
      ],
      "execution_count": 6,
      "outputs": [
        {
          "output_type": "execute_result",
          "data": {
            "text/html": [
              "<div>\n",
              "<style scoped>\n",
              "    .dataframe tbody tr th:only-of-type {\n",
              "        vertical-align: middle;\n",
              "    }\n",
              "\n",
              "    .dataframe tbody tr th {\n",
              "        vertical-align: top;\n",
              "    }\n",
              "\n",
              "    .dataframe thead th {\n",
              "        text-align: right;\n",
              "    }\n",
              "</style>\n",
              "<table border=\"1\" class=\"dataframe\">\n",
              "  <thead>\n",
              "    <tr style=\"text-align: right;\">\n",
              "      <th></th>\n",
              "      <th>Geography</th>\n",
              "      <th>Year</th>\n",
              "      <th>Strata</th>\n",
              "      <th>Strata Name</th>\n",
              "      <th>Percent</th>\n",
              "      <th>Lower 95% CL</th>\n",
              "      <th>Upper 95% CL</th>\n",
              "      <th>Standard Error</th>\n",
              "    </tr>\n",
              "  </thead>\n",
              "  <tbody>\n",
              "    <tr>\n",
              "      <th>76</th>\n",
              "      <td>California</td>\n",
              "      <td>2015</td>\n",
              "      <td>Education</td>\n",
              "      <td>College graduate</td>\n",
              "      <td>8.3</td>\n",
              "      <td>6.9</td>\n",
              "      <td>9.6</td>\n",
              "      <td>0.7</td>\n",
              "    </tr>\n",
              "    <tr>\n",
              "      <th>134</th>\n",
              "      <td>California</td>\n",
              "      <td>2012</td>\n",
              "      <td>Age</td>\n",
              "      <td>55 to 64 years</td>\n",
              "      <td>17.9</td>\n",
              "      <td>16.1</td>\n",
              "      <td>19.7</td>\n",
              "      <td>0.9</td>\n",
              "    </tr>\n",
              "    <tr>\n",
              "      <th>71</th>\n",
              "      <td>California</td>\n",
              "      <td>2015</td>\n",
              "      <td>Age</td>\n",
              "      <td>55 to 64 years</td>\n",
              "      <td>17.3</td>\n",
              "      <td>14.7</td>\n",
              "      <td>19.9</td>\n",
              "      <td>1.3</td>\n",
              "    </tr>\n",
              "    <tr>\n",
              "      <th>119</th>\n",
              "      <td>California</td>\n",
              "      <td>2013</td>\n",
              "      <td>Income</td>\n",
              "      <td>Less than $15,000</td>\n",
              "      <td>15.0</td>\n",
              "      <td>13.1</td>\n",
              "      <td>17.0</td>\n",
              "      <td>1.0</td>\n",
              "    </tr>\n",
              "    <tr>\n",
              "      <th>39</th>\n",
              "      <td>California</td>\n",
              "      <td>2017</td>\n",
              "      <td>Income</td>\n",
              "      <td>$50,000 and above</td>\n",
              "      <td>5.1</td>\n",
              "      <td>4.1</td>\n",
              "      <td>6.2</td>\n",
              "      <td>0.5</td>\n",
              "    </tr>\n",
              "    <tr>\n",
              "      <th>109</th>\n",
              "      <td>California</td>\n",
              "      <td>2013</td>\n",
              "      <td>Race-Ethnicity</td>\n",
              "      <td>Hispanic</td>\n",
              "      <td>11.3</td>\n",
              "      <td>10.1</td>\n",
              "      <td>12.6</td>\n",
              "      <td>0.6</td>\n",
              "    </tr>\n",
              "    <tr>\n",
              "      <th>138</th>\n",
              "      <td>California</td>\n",
              "      <td>2012</td>\n",
              "      <td>Education</td>\n",
              "      <td>Some college</td>\n",
              "      <td>9.5</td>\n",
              "      <td>8.5</td>\n",
              "      <td>10.6</td>\n",
              "      <td>0.5</td>\n",
              "    </tr>\n",
              "    <tr>\n",
              "      <th>56</th>\n",
              "      <td>California</td>\n",
              "      <td>2016</td>\n",
              "      <td>Income</td>\n",
              "      <td>Less than $15,000</td>\n",
              "      <td>15.6</td>\n",
              "      <td>13.9</td>\n",
              "      <td>17.2</td>\n",
              "      <td>0.2</td>\n",
              "    </tr>\n",
              "    <tr>\n",
              "      <th>26</th>\n",
              "      <td>California</td>\n",
              "      <td>2017</td>\n",
              "      <td>Age</td>\n",
              "      <td>18 to 34 years</td>\n",
              "      <td>1.2</td>\n",
              "      <td>0.6</td>\n",
              "      <td>1.9</td>\n",
              "      <td>0.3</td>\n",
              "    </tr>\n",
              "    <tr>\n",
              "      <th>108</th>\n",
              "      <td>California</td>\n",
              "      <td>2013</td>\n",
              "      <td>Race-Ethnicity</td>\n",
              "      <td>Asian</td>\n",
              "      <td>7.4</td>\n",
              "      <td>5.4</td>\n",
              "      <td>9.4</td>\n",
              "      <td>1.0</td>\n",
              "    </tr>\n",
              "  </tbody>\n",
              "</table>\n",
              "</div>"
            ],
            "text/plain": [
              "      Geography  Year  ... Upper 95% CL Standard Error\n",
              "76   California  2015  ...          9.6            0.7\n",
              "134  California  2012  ...         19.7            0.9\n",
              "71   California  2015  ...         19.9            1.3\n",
              "119  California  2013  ...         17.0            1.0\n",
              "39   California  2017  ...          6.2            0.5\n",
              "109  California  2013  ...         12.6            0.6\n",
              "138  California  2012  ...         10.6            0.5\n",
              "56   California  2016  ...         17.2            0.2\n",
              "26   California  2017  ...          1.9            0.3\n",
              "108  California  2013  ...          9.4            1.0\n",
              "\n",
              "[10 rows x 8 columns]"
            ]
          },
          "metadata": {
            "tags": []
          },
          "execution_count": 6
        }
      ]
    },
    {
      "cell_type": "code",
      "metadata": {
        "colab": {
          "base_uri": "https://localhost:8080/"
        },
        "id": "EUskGx2Na23Q",
        "outputId": "4656987f-9a96-4b25-a474-1fe4224051d1"
      },
      "source": [
        "df.groupby('Geography').size()"
      ],
      "execution_count": 7,
      "outputs": [
        {
          "output_type": "execute_result",
          "data": {
            "text/plain": [
              "Geography\n",
              "California    147\n",
              "dtype: int64"
            ]
          },
          "metadata": {
            "tags": []
          },
          "execution_count": 7
        }
      ]
    },
    {
      "cell_type": "markdown",
      "metadata": {
        "id": "IqrW6_oSdUgN"
      },
      "source": [
        "Todos los datos en el dataset pertenecen a ***California***."
      ]
    },
    {
      "cell_type": "code",
      "metadata": {
        "colab": {
          "base_uri": "https://localhost:8080/"
        },
        "id": "-IgBXkOxdKM2",
        "outputId": "bdf146dd-cee7-4215-dbff-3b0a8d9b5daf"
      },
      "source": [
        "df.groupby('Year').size()"
      ],
      "execution_count": 8,
      "outputs": [
        {
          "output_type": "execute_result",
          "data": {
            "text/plain": [
              "Year\n",
              "2012    21\n",
              "2013    21\n",
              "2014    21\n",
              "2015    21\n",
              "2016    21\n",
              "2017    21\n",
              "2018    21\n",
              "dtype: int64"
            ]
          },
          "metadata": {
            "tags": []
          },
          "execution_count": 8
        }
      ]
    },
    {
      "cell_type": "markdown",
      "metadata": {
        "id": "1F66PvOwdmhm"
      },
      "source": [
        "El rango de años va desde ***2012*** a ***2018***."
      ]
    },
    {
      "cell_type": "code",
      "metadata": {
        "colab": {
          "base_uri": "https://localhost:8080/",
          "height": 700
        },
        "id": "scL-L0-ufBvQ",
        "outputId": "d45ab8b7-a85e-41ca-f9fb-922a36b4ccdf"
      },
      "source": [
        "df[df['Year'] == 2015]"
      ],
      "execution_count": 9,
      "outputs": [
        {
          "output_type": "execute_result",
          "data": {
            "text/html": [
              "<div>\n",
              "<style scoped>\n",
              "    .dataframe tbody tr th:only-of-type {\n",
              "        vertical-align: middle;\n",
              "    }\n",
              "\n",
              "    .dataframe tbody tr th {\n",
              "        vertical-align: top;\n",
              "    }\n",
              "\n",
              "    .dataframe thead th {\n",
              "        text-align: right;\n",
              "    }\n",
              "</style>\n",
              "<table border=\"1\" class=\"dataframe\">\n",
              "  <thead>\n",
              "    <tr style=\"text-align: right;\">\n",
              "      <th></th>\n",
              "      <th>Geography</th>\n",
              "      <th>Year</th>\n",
              "      <th>Strata</th>\n",
              "      <th>Strata Name</th>\n",
              "      <th>Percent</th>\n",
              "      <th>Lower 95% CL</th>\n",
              "      <th>Upper 95% CL</th>\n",
              "      <th>Standard Error</th>\n",
              "    </tr>\n",
              "  </thead>\n",
              "  <tbody>\n",
              "    <tr>\n",
              "      <th>63</th>\n",
              "      <td>California</td>\n",
              "      <td>2015</td>\n",
              "      <td>Total population</td>\n",
              "      <td>Total population</td>\n",
              "      <td>9.0</td>\n",
              "      <td>8.2</td>\n",
              "      <td>9.8</td>\n",
              "      <td>0.4</td>\n",
              "    </tr>\n",
              "    <tr>\n",
              "      <th>64</th>\n",
              "      <td>California</td>\n",
              "      <td>2015</td>\n",
              "      <td>Race-Ethnicity</td>\n",
              "      <td>White</td>\n",
              "      <td>7.4</td>\n",
              "      <td>6.4</td>\n",
              "      <td>8.3</td>\n",
              "      <td>0.5</td>\n",
              "    </tr>\n",
              "    <tr>\n",
              "      <th>65</th>\n",
              "      <td>California</td>\n",
              "      <td>2015</td>\n",
              "      <td>Race-Ethnicity</td>\n",
              "      <td>African-American</td>\n",
              "      <td>13.0</td>\n",
              "      <td>9.2</td>\n",
              "      <td>16.7</td>\n",
              "      <td>1.9</td>\n",
              "    </tr>\n",
              "    <tr>\n",
              "      <th>66</th>\n",
              "      <td>California</td>\n",
              "      <td>2015</td>\n",
              "      <td>Race-Ethnicity</td>\n",
              "      <td>Asian</td>\n",
              "      <td>9.7</td>\n",
              "      <td>6.8</td>\n",
              "      <td>12.7</td>\n",
              "      <td>1.5</td>\n",
              "    </tr>\n",
              "    <tr>\n",
              "      <th>67</th>\n",
              "      <td>California</td>\n",
              "      <td>2015</td>\n",
              "      <td>Race-Ethnicity</td>\n",
              "      <td>Hispanic</td>\n",
              "      <td>10.5</td>\n",
              "      <td>8.9</td>\n",
              "      <td>12.0</td>\n",
              "      <td>0.8</td>\n",
              "    </tr>\n",
              "    <tr>\n",
              "      <th>68</th>\n",
              "      <td>California</td>\n",
              "      <td>2015</td>\n",
              "      <td>Age</td>\n",
              "      <td>18 to 34 years</td>\n",
              "      <td>1.6</td>\n",
              "      <td>0.7</td>\n",
              "      <td>2.4</td>\n",
              "      <td>0.4</td>\n",
              "    </tr>\n",
              "    <tr>\n",
              "      <th>69</th>\n",
              "      <td>California</td>\n",
              "      <td>2015</td>\n",
              "      <td>Age</td>\n",
              "      <td>35 to 44 years</td>\n",
              "      <td>5.5</td>\n",
              "      <td>3.7</td>\n",
              "      <td>7.2</td>\n",
              "      <td>0.9</td>\n",
              "    </tr>\n",
              "    <tr>\n",
              "      <th>70</th>\n",
              "      <td>California</td>\n",
              "      <td>2015</td>\n",
              "      <td>Age</td>\n",
              "      <td>45 to 54 years</td>\n",
              "      <td>10.0</td>\n",
              "      <td>7.9</td>\n",
              "      <td>12.2</td>\n",
              "      <td>1.1</td>\n",
              "    </tr>\n",
              "    <tr>\n",
              "      <th>71</th>\n",
              "      <td>California</td>\n",
              "      <td>2015</td>\n",
              "      <td>Age</td>\n",
              "      <td>55 to 64 years</td>\n",
              "      <td>17.3</td>\n",
              "      <td>14.7</td>\n",
              "      <td>19.9</td>\n",
              "      <td>1.3</td>\n",
              "    </tr>\n",
              "    <tr>\n",
              "      <th>72</th>\n",
              "      <td>California</td>\n",
              "      <td>2015</td>\n",
              "      <td>Age</td>\n",
              "      <td>65 years and above</td>\n",
              "      <td>20.5</td>\n",
              "      <td>18.3</td>\n",
              "      <td>22.7</td>\n",
              "      <td>1.1</td>\n",
              "    </tr>\n",
              "    <tr>\n",
              "      <th>73</th>\n",
              "      <td>California</td>\n",
              "      <td>2015</td>\n",
              "      <td>Education</td>\n",
              "      <td>Less than high school</td>\n",
              "      <td>15.7</td>\n",
              "      <td>12.8</td>\n",
              "      <td>18.6</td>\n",
              "      <td>1.5</td>\n",
              "    </tr>\n",
              "    <tr>\n",
              "      <th>74</th>\n",
              "      <td>California</td>\n",
              "      <td>2015</td>\n",
              "      <td>Education</td>\n",
              "      <td>High school graduate</td>\n",
              "      <td>8.6</td>\n",
              "      <td>7.1</td>\n",
              "      <td>10.6</td>\n",
              "      <td>0.9</td>\n",
              "    </tr>\n",
              "    <tr>\n",
              "      <th>75</th>\n",
              "      <td>California</td>\n",
              "      <td>2015</td>\n",
              "      <td>Education</td>\n",
              "      <td>Some college</td>\n",
              "      <td>7.7</td>\n",
              "      <td>6.4</td>\n",
              "      <td>8.9</td>\n",
              "      <td>0.6</td>\n",
              "    </tr>\n",
              "    <tr>\n",
              "      <th>76</th>\n",
              "      <td>California</td>\n",
              "      <td>2015</td>\n",
              "      <td>Education</td>\n",
              "      <td>College graduate</td>\n",
              "      <td>8.3</td>\n",
              "      <td>6.9</td>\n",
              "      <td>9.6</td>\n",
              "      <td>0.7</td>\n",
              "    </tr>\n",
              "    <tr>\n",
              "      <th>77</th>\n",
              "      <td>California</td>\n",
              "      <td>2015</td>\n",
              "      <td>Income</td>\n",
              "      <td>Less than $15,000</td>\n",
              "      <td>14.8</td>\n",
              "      <td>11.9</td>\n",
              "      <td>17.7</td>\n",
              "      <td>1.5</td>\n",
              "    </tr>\n",
              "    <tr>\n",
              "      <th>78</th>\n",
              "      <td>California</td>\n",
              "      <td>2015</td>\n",
              "      <td>Income</td>\n",
              "      <td>$15,000 to $24,999</td>\n",
              "      <td>10.5</td>\n",
              "      <td>8.0</td>\n",
              "      <td>13.0</td>\n",
              "      <td>1.3</td>\n",
              "    </tr>\n",
              "    <tr>\n",
              "      <th>79</th>\n",
              "      <td>California</td>\n",
              "      <td>2015</td>\n",
              "      <td>Income</td>\n",
              "      <td>$25,000 to $34,999</td>\n",
              "      <td>9.6</td>\n",
              "      <td>7.0</td>\n",
              "      <td>12.2</td>\n",
              "      <td>1.3</td>\n",
              "    </tr>\n",
              "    <tr>\n",
              "      <th>80</th>\n",
              "      <td>California</td>\n",
              "      <td>2015</td>\n",
              "      <td>Income</td>\n",
              "      <td>$35,000 to $49,999</td>\n",
              "      <td>8.6</td>\n",
              "      <td>6.1</td>\n",
              "      <td>11.1</td>\n",
              "      <td>1.3</td>\n",
              "    </tr>\n",
              "    <tr>\n",
              "      <th>81</th>\n",
              "      <td>California</td>\n",
              "      <td>2015</td>\n",
              "      <td>Income</td>\n",
              "      <td>$50,000 and above</td>\n",
              "      <td>7.7</td>\n",
              "      <td>6.5</td>\n",
              "      <td>9.0</td>\n",
              "      <td>0.6</td>\n",
              "    </tr>\n",
              "    <tr>\n",
              "      <th>82</th>\n",
              "      <td>California</td>\n",
              "      <td>2015</td>\n",
              "      <td>Sex</td>\n",
              "      <td>Male</td>\n",
              "      <td>9.4</td>\n",
              "      <td>8.2</td>\n",
              "      <td>10.5</td>\n",
              "      <td>0.6</td>\n",
              "    </tr>\n",
              "    <tr>\n",
              "      <th>83</th>\n",
              "      <td>California</td>\n",
              "      <td>2015</td>\n",
              "      <td>Sex</td>\n",
              "      <td>Female</td>\n",
              "      <td>8.7</td>\n",
              "      <td>7.6</td>\n",
              "      <td>9.8</td>\n",
              "      <td>0.6</td>\n",
              "    </tr>\n",
              "  </tbody>\n",
              "</table>\n",
              "</div>"
            ],
            "text/plain": [
              "     Geography  Year  ... Upper 95% CL Standard Error\n",
              "63  California  2015  ...          9.8            0.4\n",
              "64  California  2015  ...          8.3            0.5\n",
              "65  California  2015  ...         16.7            1.9\n",
              "66  California  2015  ...         12.7            1.5\n",
              "67  California  2015  ...         12.0            0.8\n",
              "68  California  2015  ...          2.4            0.4\n",
              "69  California  2015  ...          7.2            0.9\n",
              "70  California  2015  ...         12.2            1.1\n",
              "71  California  2015  ...         19.9            1.3\n",
              "72  California  2015  ...         22.7            1.1\n",
              "73  California  2015  ...         18.6            1.5\n",
              "74  California  2015  ...         10.6            0.9\n",
              "75  California  2015  ...          8.9            0.6\n",
              "76  California  2015  ...          9.6            0.7\n",
              "77  California  2015  ...         17.7            1.5\n",
              "78  California  2015  ...         13.0            1.3\n",
              "79  California  2015  ...         12.2            1.3\n",
              "80  California  2015  ...         11.1            1.3\n",
              "81  California  2015  ...          9.0            0.6\n",
              "82  California  2015  ...         10.5            0.6\n",
              "83  California  2015  ...          9.8            0.6\n",
              "\n",
              "[21 rows x 8 columns]"
            ]
          },
          "metadata": {
            "tags": []
          },
          "execution_count": 9
        }
      ]
    },
    {
      "cell_type": "code",
      "metadata": {
        "colab": {
          "base_uri": "https://localhost:8080/"
        },
        "id": "cveJc3vIdgqG",
        "outputId": "060d57b5-d5fd-4043-cd14-fd5bc97f3e53"
      },
      "source": [
        "df.groupby('Strata').size()"
      ],
      "execution_count": 10,
      "outputs": [
        {
          "output_type": "execute_result",
          "data": {
            "text/plain": [
              "Strata\n",
              "Age                 35\n",
              "Education           28\n",
              "Income              35\n",
              "Race-Ethnicity      28\n",
              "Sex                 14\n",
              "Total population     7\n",
              "dtype: int64"
            ]
          },
          "metadata": {
            "tags": []
          },
          "execution_count": 10
        }
      ]
    },
    {
      "cell_type": "markdown",
      "metadata": {
        "id": "8QeUZEpSd4jJ"
      },
      "source": [
        "Hay 6 estratos evaluados."
      ]
    },
    {
      "cell_type": "code",
      "metadata": {
        "colab": {
          "base_uri": "https://localhost:8080/"
        },
        "id": "3pg-x9JDdvHY",
        "outputId": "88a9b010-9aeb-42bc-b22f-d41f1bb8ff01"
      },
      "source": [
        "df.groupby('Strata Name').size()"
      ],
      "execution_count": 11,
      "outputs": [
        {
          "output_type": "execute_result",
          "data": {
            "text/plain": [
              "Strata Name\n",
              "$15,000 to $24,999       7\n",
              "$25,000 to $34,999       7\n",
              "$35,000 to $49,999       7\n",
              "$50,000 and above        7\n",
              "18 to 34 years           7\n",
              "35 to 44 years           7\n",
              "45 to 54 years           7\n",
              "55 to 64 years           7\n",
              "65 years and above       7\n",
              "African-American         7\n",
              "Asian                    7\n",
              "College graduate         7\n",
              "Female                   7\n",
              "High school graduate     7\n",
              "Hispanic                 7\n",
              "Less than $15,000        7\n",
              "Less than high school    7\n",
              "Male                     7\n",
              "Some college             7\n",
              "Total population         7\n",
              "White                    7\n",
              "dtype: int64"
            ]
          },
          "metadata": {
            "tags": []
          },
          "execution_count": 11
        }
      ]
    },
    {
      "cell_type": "code",
      "metadata": {
        "colab": {
          "base_uri": "https://localhost:8080/"
        },
        "id": "A6AbKwcieOgo",
        "outputId": "6199770c-1dd6-4970-9d1e-dd8de0ac54a5"
      },
      "source": [
        "df.groupby('Strata Name').size().count()"
      ],
      "execution_count": 12,
      "outputs": [
        {
          "output_type": "execute_result",
          "data": {
            "text/plain": [
              "21"
            ]
          },
          "metadata": {
            "tags": []
          },
          "execution_count": 12
        }
      ]
    },
    {
      "cell_type": "markdown",
      "metadata": {
        "id": "VmzYeAt3eCzy"
      },
      "source": [
        "Hay 21 subgrupos en los estratos."
      ]
    },
    {
      "cell_type": "code",
      "metadata": {
        "colab": {
          "base_uri": "https://localhost:8080/"
        },
        "id": "p5qeVFoxd2uD",
        "outputId": "ec11e22f-3e08-42da-9239-7c73c8c38f20"
      },
      "source": [
        "df.groupby('Strata').size()"
      ],
      "execution_count": 13,
      "outputs": [
        {
          "output_type": "execute_result",
          "data": {
            "text/plain": [
              "Strata\n",
              "Age                 35\n",
              "Education           28\n",
              "Income              35\n",
              "Race-Ethnicity      28\n",
              "Sex                 14\n",
              "Total population     7\n",
              "dtype: int64"
            ]
          },
          "metadata": {
            "tags": []
          },
          "execution_count": 13
        }
      ]
    },
    {
      "cell_type": "code",
      "metadata": {
        "colab": {
          "base_uri": "https://localhost:8080/",
          "height": 700
        },
        "id": "4XKXj72le0FD",
        "outputId": "19f5b24b-3bf3-4b8b-98f3-e9627d79fd59"
      },
      "source": [
        "df.loc[df['Year'] == 2016]"
      ],
      "execution_count": 14,
      "outputs": [
        {
          "output_type": "execute_result",
          "data": {
            "text/html": [
              "<div>\n",
              "<style scoped>\n",
              "    .dataframe tbody tr th:only-of-type {\n",
              "        vertical-align: middle;\n",
              "    }\n",
              "\n",
              "    .dataframe tbody tr th {\n",
              "        vertical-align: top;\n",
              "    }\n",
              "\n",
              "    .dataframe thead th {\n",
              "        text-align: right;\n",
              "    }\n",
              "</style>\n",
              "<table border=\"1\" class=\"dataframe\">\n",
              "  <thead>\n",
              "    <tr style=\"text-align: right;\">\n",
              "      <th></th>\n",
              "      <th>Geography</th>\n",
              "      <th>Year</th>\n",
              "      <th>Strata</th>\n",
              "      <th>Strata Name</th>\n",
              "      <th>Percent</th>\n",
              "      <th>Lower 95% CL</th>\n",
              "      <th>Upper 95% CL</th>\n",
              "      <th>Standard Error</th>\n",
              "    </tr>\n",
              "  </thead>\n",
              "  <tbody>\n",
              "    <tr>\n",
              "      <th>42</th>\n",
              "      <td>California</td>\n",
              "      <td>2016</td>\n",
              "      <td>Total population</td>\n",
              "      <td>Total population</td>\n",
              "      <td>10.2</td>\n",
              "      <td>9.6</td>\n",
              "      <td>10.8</td>\n",
              "      <td>0.4</td>\n",
              "    </tr>\n",
              "    <tr>\n",
              "      <th>43</th>\n",
              "      <td>California</td>\n",
              "      <td>2016</td>\n",
              "      <td>Race-Ethnicity</td>\n",
              "      <td>White</td>\n",
              "      <td>9.0</td>\n",
              "      <td>8.3</td>\n",
              "      <td>9.7</td>\n",
              "      <td>0.2</td>\n",
              "    </tr>\n",
              "    <tr>\n",
              "      <th>44</th>\n",
              "      <td>California</td>\n",
              "      <td>2016</td>\n",
              "      <td>Race-Ethnicity</td>\n",
              "      <td>African-American</td>\n",
              "      <td>10.7</td>\n",
              "      <td>8.7</td>\n",
              "      <td>12.4</td>\n",
              "      <td>0.1</td>\n",
              "    </tr>\n",
              "    <tr>\n",
              "      <th>45</th>\n",
              "      <td>California</td>\n",
              "      <td>2016</td>\n",
              "      <td>Race-Ethnicity</td>\n",
              "      <td>Asian</td>\n",
              "      <td>11.8</td>\n",
              "      <td>9.4</td>\n",
              "      <td>13.9</td>\n",
              "      <td>0.2</td>\n",
              "    </tr>\n",
              "    <tr>\n",
              "      <th>46</th>\n",
              "      <td>California</td>\n",
              "      <td>2016</td>\n",
              "      <td>Race-Ethnicity</td>\n",
              "      <td>Hispanic</td>\n",
              "      <td>10.3</td>\n",
              "      <td>9.3</td>\n",
              "      <td>11.2</td>\n",
              "      <td>0.2</td>\n",
              "    </tr>\n",
              "    <tr>\n",
              "      <th>47</th>\n",
              "      <td>California</td>\n",
              "      <td>2016</td>\n",
              "      <td>Age</td>\n",
              "      <td>18 to 34 years</td>\n",
              "      <td>1.5</td>\n",
              "      <td>1.0</td>\n",
              "      <td>2.0</td>\n",
              "      <td>0.1</td>\n",
              "    </tr>\n",
              "    <tr>\n",
              "      <th>48</th>\n",
              "      <td>California</td>\n",
              "      <td>2016</td>\n",
              "      <td>Age</td>\n",
              "      <td>35 to 44 years</td>\n",
              "      <td>4.3</td>\n",
              "      <td>3.4</td>\n",
              "      <td>5.2</td>\n",
              "      <td>0.1</td>\n",
              "    </tr>\n",
              "    <tr>\n",
              "      <th>49</th>\n",
              "      <td>California</td>\n",
              "      <td>2016</td>\n",
              "      <td>Age</td>\n",
              "      <td>45 to 54 years</td>\n",
              "      <td>10.9</td>\n",
              "      <td>9.6</td>\n",
              "      <td>12.1</td>\n",
              "      <td>0.2</td>\n",
              "    </tr>\n",
              "    <tr>\n",
              "      <th>50</th>\n",
              "      <td>California</td>\n",
              "      <td>2016</td>\n",
              "      <td>Age</td>\n",
              "      <td>55 to 64 years</td>\n",
              "      <td>17.3</td>\n",
              "      <td>15.6</td>\n",
              "      <td>18.8</td>\n",
              "      <td>0.2</td>\n",
              "    </tr>\n",
              "    <tr>\n",
              "      <th>51</th>\n",
              "      <td>California</td>\n",
              "      <td>2016</td>\n",
              "      <td>Age</td>\n",
              "      <td>65 years and above</td>\n",
              "      <td>24.2</td>\n",
              "      <td>22.5</td>\n",
              "      <td>25.9</td>\n",
              "      <td>0.3</td>\n",
              "    </tr>\n",
              "    <tr>\n",
              "      <th>52</th>\n",
              "      <td>California</td>\n",
              "      <td>2016</td>\n",
              "      <td>Education</td>\n",
              "      <td>Less than high school</td>\n",
              "      <td>16.3</td>\n",
              "      <td>14.8</td>\n",
              "      <td>17.6</td>\n",
              "      <td>0.2</td>\n",
              "    </tr>\n",
              "    <tr>\n",
              "      <th>53</th>\n",
              "      <td>California</td>\n",
              "      <td>2016</td>\n",
              "      <td>Education</td>\n",
              "      <td>High school graduate</td>\n",
              "      <td>9.1</td>\n",
              "      <td>7.9</td>\n",
              "      <td>10.1</td>\n",
              "      <td>0.2</td>\n",
              "    </tr>\n",
              "    <tr>\n",
              "      <th>54</th>\n",
              "      <td>California</td>\n",
              "      <td>2016</td>\n",
              "      <td>Education</td>\n",
              "      <td>Some college</td>\n",
              "      <td>10.2</td>\n",
              "      <td>9.1</td>\n",
              "      <td>11.3</td>\n",
              "      <td>0.3</td>\n",
              "    </tr>\n",
              "    <tr>\n",
              "      <th>55</th>\n",
              "      <td>California</td>\n",
              "      <td>2016</td>\n",
              "      <td>Education</td>\n",
              "      <td>College graduate</td>\n",
              "      <td>7.1</td>\n",
              "      <td>6.3</td>\n",
              "      <td>7.9</td>\n",
              "      <td>0.1</td>\n",
              "    </tr>\n",
              "    <tr>\n",
              "      <th>56</th>\n",
              "      <td>California</td>\n",
              "      <td>2016</td>\n",
              "      <td>Income</td>\n",
              "      <td>Less than $15,000</td>\n",
              "      <td>15.6</td>\n",
              "      <td>13.9</td>\n",
              "      <td>17.2</td>\n",
              "      <td>0.2</td>\n",
              "    </tr>\n",
              "    <tr>\n",
              "      <th>57</th>\n",
              "      <td>California</td>\n",
              "      <td>2016</td>\n",
              "      <td>Income</td>\n",
              "      <td>$15,000 to $24,999</td>\n",
              "      <td>14.1</td>\n",
              "      <td>12.1</td>\n",
              "      <td>15.8</td>\n",
              "      <td>0.2</td>\n",
              "    </tr>\n",
              "    <tr>\n",
              "      <th>58</th>\n",
              "      <td>California</td>\n",
              "      <td>2016</td>\n",
              "      <td>Income</td>\n",
              "      <td>$25,000 to $34,999</td>\n",
              "      <td>11.8</td>\n",
              "      <td>8.9</td>\n",
              "      <td>14.2</td>\n",
              "      <td>0.2</td>\n",
              "    </tr>\n",
              "    <tr>\n",
              "      <th>59</th>\n",
              "      <td>California</td>\n",
              "      <td>2016</td>\n",
              "      <td>Income</td>\n",
              "      <td>$35,000 to $49,999</td>\n",
              "      <td>9.6</td>\n",
              "      <td>8.2</td>\n",
              "      <td>10.8</td>\n",
              "      <td>0.1</td>\n",
              "    </tr>\n",
              "    <tr>\n",
              "      <th>60</th>\n",
              "      <td>California</td>\n",
              "      <td>2016</td>\n",
              "      <td>Income</td>\n",
              "      <td>$50,000 and above</td>\n",
              "      <td>7.7</td>\n",
              "      <td>6.8</td>\n",
              "      <td>8.5</td>\n",
              "      <td>0.3</td>\n",
              "    </tr>\n",
              "    <tr>\n",
              "      <th>61</th>\n",
              "      <td>California</td>\n",
              "      <td>2016</td>\n",
              "      <td>Sex</td>\n",
              "      <td>Male</td>\n",
              "      <td>10.5</td>\n",
              "      <td>9.6</td>\n",
              "      <td>11.2</td>\n",
              "      <td>0.3</td>\n",
              "    </tr>\n",
              "    <tr>\n",
              "      <th>62</th>\n",
              "      <td>California</td>\n",
              "      <td>2016</td>\n",
              "      <td>Sex</td>\n",
              "      <td>Female</td>\n",
              "      <td>9.9</td>\n",
              "      <td>9.0</td>\n",
              "      <td>10.7</td>\n",
              "      <td>0.3</td>\n",
              "    </tr>\n",
              "  </tbody>\n",
              "</table>\n",
              "</div>"
            ],
            "text/plain": [
              "     Geography  Year  ... Upper 95% CL Standard Error\n",
              "42  California  2016  ...         10.8            0.4\n",
              "43  California  2016  ...          9.7            0.2\n",
              "44  California  2016  ...         12.4            0.1\n",
              "45  California  2016  ...         13.9            0.2\n",
              "46  California  2016  ...         11.2            0.2\n",
              "47  California  2016  ...          2.0            0.1\n",
              "48  California  2016  ...          5.2            0.1\n",
              "49  California  2016  ...         12.1            0.2\n",
              "50  California  2016  ...         18.8            0.2\n",
              "51  California  2016  ...         25.9            0.3\n",
              "52  California  2016  ...         17.6            0.2\n",
              "53  California  2016  ...         10.1            0.2\n",
              "54  California  2016  ...         11.3            0.3\n",
              "55  California  2016  ...          7.9            0.1\n",
              "56  California  2016  ...         17.2            0.2\n",
              "57  California  2016  ...         15.8            0.2\n",
              "58  California  2016  ...         14.2            0.2\n",
              "59  California  2016  ...         10.8            0.1\n",
              "60  California  2016  ...          8.5            0.3\n",
              "61  California  2016  ...         11.2            0.3\n",
              "62  California  2016  ...         10.7            0.3\n",
              "\n",
              "[21 rows x 8 columns]"
            ]
          },
          "metadata": {
            "tags": []
          },
          "execution_count": 14
        }
      ]
    },
    {
      "cell_type": "code",
      "metadata": {
        "colab": {
          "base_uri": "https://localhost:8080/",
          "height": 283
        },
        "id": "MhnYc8GQzd7m",
        "outputId": "a7f03d52-0412-4ba8-ef34-93a6e4f8385c"
      },
      "source": [
        "plt.scatter(df[\"Year\"], df[\"Percent\"])"
      ],
      "execution_count": 15,
      "outputs": [
        {
          "output_type": "execute_result",
          "data": {
            "text/plain": [
              "<matplotlib.collections.PathCollection at 0x7f05ac5f4f90>"
            ]
          },
          "metadata": {
            "tags": []
          },
          "execution_count": 15
        },
        {
          "output_type": "display_data",
          "data": {
            "image/png": "[encoded data removed]",
            "text/plain": [
              "<Figure size 432x288 with 1 Axes>"
            ]
          },
          "metadata": {
            "tags": [],
            "needs_background": "light"
          }
        }
      ]
    },
    {
      "cell_type": "code",
      "metadata": {
        "colab": {
          "base_uri": "https://localhost:8080/"
        },
        "id": "FvcgR6M4_EUJ",
        "outputId": "f635a34a-9f37-43cf-9725-8a55acab92a5"
      },
      "source": [
        "df[\"Geography\"].describe()"
      ],
      "execution_count": 16,
      "outputs": [
        {
          "output_type": "execute_result",
          "data": {
            "text/plain": [
              "count            147\n",
              "unique             1\n",
              "top       California\n",
              "freq             147\n",
              "Name: Geography, dtype: object"
            ]
          },
          "metadata": {
            "tags": []
          },
          "execution_count": 16
        }
      ]
    },
    {
      "cell_type": "code",
      "metadata": {
        "colab": {
          "base_uri": "https://localhost:8080/"
        },
        "id": "e00RJCilBr2f",
        "outputId": "0c1496b5-fbd6-4fd6-a866-b8fe60851b6a"
      },
      "source": [
        "df[\"Year\"].describe()"
      ],
      "execution_count": 17,
      "outputs": [
        {
          "output_type": "execute_result",
          "data": {
            "text/plain": [
              "count     147.000000\n",
              "mean     2015.000000\n",
              "std         2.006838\n",
              "min      2012.000000\n",
              "25%      2013.000000\n",
              "50%      2015.000000\n",
              "75%      2017.000000\n",
              "max      2018.000000\n",
              "Name: Year, dtype: float64"
            ]
          },
          "metadata": {
            "tags": []
          },
          "execution_count": 17
        }
      ]
    },
    {
      "cell_type": "code",
      "metadata": {
        "colab": {
          "base_uri": "https://localhost:8080/"
        },
        "id": "F02RBBk9Br0Y",
        "outputId": "1fc3dc41-b1d8-40d8-be5d-751503c5bf2a"
      },
      "source": [
        "df[\"Strata\"].describe()"
      ],
      "execution_count": 18,
      "outputs": [
        {
          "output_type": "execute_result",
          "data": {
            "text/plain": [
              "count        147\n",
              "unique         6\n",
              "top       Income\n",
              "freq          35\n",
              "Name: Strata, dtype: object"
            ]
          },
          "metadata": {
            "tags": []
          },
          "execution_count": 18
        }
      ]
    },
    {
      "cell_type": "code",
      "metadata": {
        "colab": {
          "base_uri": "https://localhost:8080/"
        },
        "id": "Nh0PpxiEBrx8",
        "outputId": "4444c53b-b465-476d-a7c5-5d37aaddf56d"
      },
      "source": [
        "df[\"Strata Name\"].describe()"
      ],
      "execution_count": 19,
      "outputs": [
        {
          "output_type": "execute_result",
          "data": {
            "text/plain": [
              "count                147\n",
              "unique                21\n",
              "top       35 to 44 years\n",
              "freq                   7\n",
              "Name: Strata Name, dtype: object"
            ]
          },
          "metadata": {
            "tags": []
          },
          "execution_count": 19
        }
      ]
    },
    {
      "cell_type": "code",
      "metadata": {
        "colab": {
          "base_uri": "https://localhost:8080/"
        },
        "id": "WCSDEEYPBrvG",
        "outputId": "91551594-a6f7-46f1-9f36-7b69aaf97b2e"
      },
      "source": [
        "df[\"Percent\"].describe()"
      ],
      "execution_count": 20,
      "outputs": [
        {
          "output_type": "execute_result",
          "data": {
            "text/plain": [
              "count    147.000000\n",
              "mean      10.593197\n",
              "std        4.551722\n",
              "min        1.200000\n",
              "25%        8.000000\n",
              "50%        9.700000\n",
              "75%       12.300000\n",
              "max       24.200000\n",
              "Name: Percent, dtype: float64"
            ]
          },
          "metadata": {
            "tags": []
          },
          "execution_count": 20
        }
      ]
    },
    {
      "cell_type": "code",
      "metadata": {
        "colab": {
          "base_uri": "https://localhost:8080/"
        },
        "id": "uUr5s1XlBq-7",
        "outputId": "b39de643-b80d-4f00-ba4a-07787917b676"
      },
      "source": [
        "df[\"Lower 95% CL\"].describe()"
      ],
      "execution_count": 21,
      "outputs": [
        {
          "output_type": "execute_result",
          "data": {
            "text/plain": [
              "count    147.000000\n",
              "mean       8.602041\n",
              "std        4.130615\n",
              "min        0.600000\n",
              "25%        6.400000\n",
              "50%        8.200000\n",
              "75%        9.800000\n",
              "max       22.500000\n",
              "Name: Lower 95% CL, dtype: float64"
            ]
          },
          "metadata": {
            "tags": []
          },
          "execution_count": 21
        }
      ]
    },
    {
      "cell_type": "code",
      "metadata": {
        "colab": {
          "base_uri": "https://localhost:8080/"
        },
        "id": "HMlkFxV4BuWt",
        "outputId": "ce96a03b-0215-4ebc-d44c-cfb6ac1d50a3"
      },
      "source": [
        "df[\"Upper 95% CL\"].describe()"
      ],
      "execution_count": 22,
      "outputs": [
        {
          "output_type": "execute_result",
          "data": {
            "text/plain": [
              "count    147.000000\n",
              "mean      12.634694\n",
              "std        5.231407\n",
              "min        1.900000\n",
              "25%        9.500000\n",
              "50%       11.300000\n",
              "75%       15.700000\n",
              "max       25.900000\n",
              "Name: Upper 95% CL, dtype: float64"
            ]
          },
          "metadata": {
            "tags": []
          },
          "execution_count": 22
        }
      ]
    },
    {
      "cell_type": "code",
      "metadata": {
        "colab": {
          "base_uri": "https://localhost:8080/"
        },
        "id": "kmVOilywBuO9",
        "outputId": "965e1403-77c0-4331-c84b-89d7cdc35fb4"
      },
      "source": [
        "df[\"Standard Error\"].describe()"
      ],
      "execution_count": 23,
      "outputs": [
        {
          "output_type": "execute_result",
          "data": {
            "text/plain": [
              "count    147.000000\n",
              "mean       0.968707\n",
              "std        0.705633\n",
              "min        0.100000\n",
              "25%        0.400000\n",
              "50%        0.800000\n",
              "75%        1.300000\n",
              "max        4.500000\n",
              "Name: Standard Error, dtype: float64"
            ]
          },
          "metadata": {
            "tags": []
          },
          "execution_count": 23
        }
      ]
    },
    {
      "cell_type": "code",
      "metadata": {
        "colab": {
          "base_uri": "https://localhost:8080/"
        },
        "id": "h1K6Sm1JDslR",
        "outputId": "9e2b2ea4-d0ca-4906-f523-4ff8556504f2"
      },
      "source": [
        "df[\"Percent\"]"
      ],
      "execution_count": 24,
      "outputs": [
        {
          "output_type": "execute_result",
          "data": {
            "text/plain": [
              "0      10.4\n",
              "1       8.4\n",
              "2      12.3\n",
              "3       8.5\n",
              "4      12.1\n",
              "       ... \n",
              "142    11.9\n",
              "143     9.5\n",
              "144     6.3\n",
              "145     9.7\n",
              "146     8.7\n",
              "Name: Percent, Length: 147, dtype: float64"
            ]
          },
          "metadata": {
            "tags": []
          },
          "execution_count": 24
        }
      ]
    },
    {
      "cell_type": "markdown",
      "metadata": {
        "id": "GulP-10dfWPl"
      },
      "source": [
        "# Paso 2"
      ]
    },
    {
      "cell_type": "markdown",
      "metadata": {
        "id": "1oDptQcSfayM"
      },
      "source": [
        "## 1. ¿Qué muestran en cada columna?\n",
        "* **Geography**: Lugar de la persona a quien se le tomaron los datos\n",
        "* **Year**: Año de toma de datos\n",
        "* **Strata**: Estrato, tipos de categorización de personas, corresponde a: Total de población, Edad, Nivel Educacional, Ingresos, Raza-Etnia, Sexo.\n",
        "* **Strata Name**: Nombre de estrato, subgrupos de estratos\n",
        "* **Percent**: Porcentaje de prevalencia de diabetes\n",
        "* **Lower 95% CL**: Cota inferior de intervalo de confianza de 95%. Corresponde a promedio - desviación estándar\n",
        "* **Upper 95% CL**: Cota superior del intervalo de confianza de 95%. Corresponde a promedio + desviación estándar.\n",
        "* **Standar Error**: Error estándar\n",
        "\n",
        "## 2. ¿Cuántos años de información muestran?\n",
        "Desde 2012 a 2018 ambos inclusives. 7 años.\n",
        "\n",
        "## 3. Por cada año ¿qué datos se muestran?\n",
        "Los valores correspondientes a cada columna y su grupos.\n",
        "\n",
        "## 4. ¿Podrías indicar cuál sería un posible objetivo de minería de datos en este caso?\n",
        "Identificar la preponderancia de cierto grupo de personas a presentar diabetes, lo que indicaría el riesgo del mismo.\n",
        "\n",
        "## 5. Indica para cada metodología (KDD, SEMMA y CRISP-DM) que fase estás ejecutando en este paso\n",
        "\n",
        "--\n",
        "\n"
      ]
    },
    {
      "cell_type": "markdown",
      "metadata": {
        "id": "ZXEPMrGBkYSE"
      },
      "source": [
        "# Paso 3"
      ]
    },
    {
      "cell_type": "markdown",
      "metadata": {
        "id": "3PFzj0sijZvq"
      },
      "source": [
        "## 6. Si tuvieras que eliminar algún dato a nivel año, ¿cuál elegirías? ¿por qué?\n",
        "Ambas cotas superior e inferior no son a priori necesarias. Ambas pueden ser calculadas del resto de datos, por lo que eliminarlas no perjudicaría en la visualización o obtención de datos.\n",
        "\n",
        "## 7. ¿Se puede decir que existen datos irrelevantes?\n",
        "Sí. Ambas cotas por lo expuesto anteriormente.\n",
        "\n",
        "## 8. Haz un resumen de los datos por año e indica si existen “outliers”\n",
        "Sí. Gracias al gráfico anterior se puede notar que en el año 2016 se presentó un valor de ***Percent*** de 24.2\n",
        "\n",
        "## 9. Busca si hay “missing values”. ¿A qué año corresponden?\n",
        "Usando .describe() para cada columna y analizando los outputs, no se encontraron valores vacíos\n",
        "\n",
        "## 10. Indica para cada metodología (KDD, SEMMA y CRISP-DM) que fase estás ejecutando en este paso\n",
        "--\n",
        "\n",
        "## 11. ¿Qué fase vendría a continuación?\n",
        "--\n"
      ]
    }
  ]
}